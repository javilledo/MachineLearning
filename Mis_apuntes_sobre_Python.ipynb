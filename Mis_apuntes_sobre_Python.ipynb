{
  "nbformat": 4,
  "nbformat_minor": 0,
  "metadata": {
    "colab": {
      "name": "Mis apuntes sobre Python.ipynb",
      "provenance": [],
      "authorship_tag": "ABX9TyPIG9BafdYl5uwBPLbUiVec",
      "include_colab_link": true
    },
    "kernelspec": {
      "name": "python3",
      "display_name": "Python 3"
    }
  },
  "cells": [
    {
      "cell_type": "markdown",
      "metadata": {
        "id": "view-in-github",
        "colab_type": "text"
      },
      "source": [
        "<a href=\"https://colab.research.google.com/github/javilledo/MachineLearning/blob/master/Mis_apuntes_sobre_Python.ipynb\" target=\"_parent\"><img src=\"https://colab.research.google.com/assets/colab-badge.svg\" alt=\"Open In Colab\"/></a>"
      ]
    },
    {
      "cell_type": "markdown",
      "metadata": {
        "id": "kw5rar-BKIl3",
        "colab_type": "text"
      },
      "source": [
        "# **Mis apuntes sobre Python**\n",
        "En este cuaderno recojo algunos apuntes sobre Python"
      ]
    },
    {
      "cell_type": "markdown",
      "metadata": {
        "id": "4bMifEzAMIcU",
        "colab_type": "text"
      },
      "source": [
        "**Variables**\n",
        "\n",
        "La definición de las variables no lleva ninguna palabra reservada, simplemente se define la variable y se le da un valor. Si simplemente queremos declararla, deberemos darle un valor de referencia para que infiera el tipo."
      ]
    },
    {
      "cell_type": "code",
      "metadata": {
        "id": "rSEMCs19MXDr",
        "colab_type": "code",
        "colab": {
          "base_uri": "https://localhost:8080/",
          "height": 34
        },
        "outputId": "e982b6fc-b5a6-489c-cd32-d51f0e828165"
      },
      "source": [
        "variable = 3\n",
        "variable"
      ],
      "execution_count": 8,
      "outputs": [
        {
          "output_type": "execute_result",
          "data": {
            "text/plain": [
              "3"
            ]
          },
          "metadata": {
            "tags": []
          },
          "execution_count": 8
        }
      ]
    },
    {
      "cell_type": "markdown",
      "metadata": {
        "id": "hs9KrFqcL4DV",
        "colab_type": "text"
      },
      "source": [
        "**Listas**\n",
        "\n",
        "Las listas son los arrays en otros lenguajes, y funcionan de igual forma entre [ ]."
      ]
    },
    {
      "cell_type": "markdown",
      "metadata": {
        "id": "EXnDjN-RMBr4",
        "colab_type": "text"
      },
      "source": [
        "Para añadir un elemento en una lista se usa *append*."
      ]
    },
    {
      "cell_type": "code",
      "metadata": {
        "id": "mn6CDDEwMGoD",
        "colab_type": "code",
        "colab": {
          "base_uri": "https://localhost:8080/",
          "height": 34
        },
        "outputId": "c74dac03-7073-47b7-af51-22c9350a88a7"
      },
      "source": [
        "lista = [1,2,3,4,5,6,7]\n",
        "lista.append(8)\n",
        "lista"
      ],
      "execution_count": 10,
      "outputs": [
        {
          "output_type": "execute_result",
          "data": {
            "text/plain": [
              "[1, 2, 3, 4, 5, 6, 7, 8]"
            ]
          },
          "metadata": {
            "tags": []
          },
          "execution_count": 10
        }
      ]
    },
    {
      "cell_type": "markdown",
      "metadata": {
        "id": "brqyEgclMwSO",
        "colab_type": "text"
      },
      "source": [
        "Para obtener la longitud de la lista (número de elementos) se emplea *len*."
      ]
    },
    {
      "cell_type": "code",
      "metadata": {
        "id": "oRn4xFw2M2WH",
        "colab_type": "code",
        "colab": {
          "base_uri": "https://localhost:8080/",
          "height": 34
        },
        "outputId": "36003e92-704a-481f-8fc7-e51bd2df0e56"
      },
      "source": [
        "len(lista)"
      ],
      "execution_count": 11,
      "outputs": [
        {
          "output_type": "execute_result",
          "data": {
            "text/plain": [
              "8"
            ]
          },
          "metadata": {
            "tags": []
          },
          "execution_count": 11
        }
      ]
    },
    {
      "cell_type": "markdown",
      "metadata": {
        "id": "6UpylJYzNA5n",
        "colab_type": "text"
      },
      "source": [
        "Si queremos obtener un valor de la lista, se hace de la siguiente manera. También pueden obtenerse contando por el final si se ponen números negativos"
      ]
    },
    {
      "cell_type": "code",
      "metadata": {
        "id": "3aQP8HO8NJbO",
        "colab_type": "code",
        "colab": {
          "base_uri": "https://localhost:8080/",
          "height": 34
        },
        "outputId": "fcac8951-79cb-40d6-da8d-d7e1366d6042"
      },
      "source": [
        "lista[1]"
      ],
      "execution_count": 14,
      "outputs": [
        {
          "output_type": "execute_result",
          "data": {
            "text/plain": [
              "2"
            ]
          },
          "metadata": {
            "tags": []
          },
          "execution_count": 14
        }
      ]
    },
    {
      "cell_type": "code",
      "metadata": {
        "id": "N89-LykoNRte",
        "colab_type": "code",
        "colab": {
          "base_uri": "https://localhost:8080/",
          "height": 34
        },
        "outputId": "5df574ee-cded-4808-9488-e8598c196145"
      },
      "source": [
        "lista[-1]"
      ],
      "execution_count": 15,
      "outputs": [
        {
          "output_type": "execute_result",
          "data": {
            "text/plain": [
              "8"
            ]
          },
          "metadata": {
            "tags": []
          },
          "execution_count": 15
        }
      ]
    },
    {
      "cell_type": "markdown",
      "metadata": {
        "id": "RHkBJfCKNbOx",
        "colab_type": "text"
      },
      "source": [
        "**Diccionarios**\n",
        "\n",
        "Son conjuntos de pares clave valor. No puede haber claves repetidas pero sí valores. Si se asigna un nuevo valor a una clave que ya existe en el diccionario, ésta se sobreescribe. Van entre {}."
      ]
    },
    {
      "cell_type": "code",
      "metadata": {
        "id": "Cl5_m9W3NuvR",
        "colab_type": "code",
        "colab": {
          "base_uri": "https://localhost:8080/",
          "height": 84
        },
        "outputId": "e90c27cf-b55c-4731-ed53-bc16e8519913"
      },
      "source": [
        "diccionario = {'clave 01': 2,\n",
        "               'clave 02': 'prueba',\n",
        "               'clave 03': True,\n",
        "               'clave 04': [1,2,3,4]}\n",
        "diccionario"
      ],
      "execution_count": 16,
      "outputs": [
        {
          "output_type": "execute_result",
          "data": {
            "text/plain": [
              "{'clave 01': 2,\n",
              " 'clave 02': 'prueba',\n",
              " 'clave 03': True,\n",
              " 'clave 04': [1, 2, 3, 4]}"
            ]
          },
          "metadata": {
            "tags": []
          },
          "execution_count": 16
        }
      ]
    },
    {
      "cell_type": "markdown",
      "metadata": {
        "id": "GFk5FUUWOEpR",
        "colab_type": "text"
      },
      "source": [
        "Para conocer las claves se usa *keys()*."
      ]
    },
    {
      "cell_type": "code",
      "metadata": {
        "id": "ZMEyhGksOZfs",
        "colab_type": "code",
        "colab": {
          "base_uri": "https://localhost:8080/",
          "height": 34
        },
        "outputId": "96a0db8e-8183-4396-8b9e-1735beea99b5"
      },
      "source": [
        "diccionario.keys()"
      ],
      "execution_count": 18,
      "outputs": [
        {
          "output_type": "execute_result",
          "data": {
            "text/plain": [
              "dict_keys(['clave 01', 'clave 02', 'clave 03', 'clave 04'])"
            ]
          },
          "metadata": {
            "tags": []
          },
          "execution_count": 18
        }
      ]
    },
    {
      "cell_type": "markdown",
      "metadata": {
        "id": "VjBbAocDOdlg",
        "colab_type": "text"
      },
      "source": [
        "Para conocer los valores se usa *values()*."
      ]
    },
    {
      "cell_type": "code",
      "metadata": {
        "id": "8eHBIZdaOgql",
        "colab_type": "code",
        "colab": {
          "base_uri": "https://localhost:8080/",
          "height": 34
        },
        "outputId": "3bf8fbb7-5636-4695-b845-e473a4d26604"
      },
      "source": [
        "diccionario.values()"
      ],
      "execution_count": 19,
      "outputs": [
        {
          "output_type": "execute_result",
          "data": {
            "text/plain": [
              "dict_values([2, 'prueba', True, [1, 2, 3, 4]])"
            ]
          },
          "metadata": {
            "tags": []
          },
          "execution_count": 19
        }
      ]
    },
    {
      "cell_type": "markdown",
      "metadata": {
        "id": "KhIBpdK9OuSA",
        "colab_type": "text"
      },
      "source": [
        "Para conocer los elementos de un diccionario, se emplea *items()*."
      ]
    },
    {
      "cell_type": "code",
      "metadata": {
        "id": "SOsUQt9jOqfT",
        "colab_type": "code",
        "colab": {
          "base_uri": "https://localhost:8080/",
          "height": 34
        },
        "outputId": "cfd34f73-2e39-4cfc-e46e-d9e929fe0687"
      },
      "source": [
        "diccionario.items()"
      ],
      "execution_count": 20,
      "outputs": [
        {
          "output_type": "execute_result",
          "data": {
            "text/plain": [
              "dict_items([('clave 01', 2), ('clave 02', 'prueba'), ('clave 03', True), ('clave 04', [1, 2, 3, 4])])"
            ]
          },
          "metadata": {
            "tags": []
          },
          "execution_count": 20
        }
      ]
    },
    {
      "cell_type": "markdown",
      "metadata": {
        "id": "N4YBL-ZkKbh5",
        "colab_type": "text"
      },
      "source": [
        "**Funciones**\n",
        "\n",
        "Las funciones se definen con *def*:"
      ]
    },
    {
      "cell_type": "code",
      "metadata": {
        "id": "1t9HhBmmLDeP",
        "colab_type": "code",
        "colab": {
          "base_uri": "https://localhost:8080/",
          "height": 34
        },
        "outputId": "d75d30cb-bbe7-4c4b-ea8c-771fc3774f18"
      },
      "source": [
        "def nueva_funcion():\n",
        "  print('Este es el resultado de la función')\n",
        "\n",
        "nueva_funcion()"
      ],
      "execution_count": 4,
      "outputs": [
        {
          "output_type": "stream",
          "text": [
            "Este es el resultado de la función\n"
          ],
          "name": "stdout"
        }
      ]
    },
    {
      "cell_type": "markdown",
      "metadata": {
        "id": "XspAyo_ZK6z2",
        "colab_type": "text"
      },
      "source": [
        "Si queremos que una función no devuelva nada se le puede poner *pass*:"
      ]
    },
    {
      "cell_type": "code",
      "metadata": {
        "id": "pe46gZ2hLh_f",
        "colab_type": "code",
        "colab": {}
      },
      "source": [
        "def funcion_que_no_hace_nada():\n",
        "  pass\n",
        "\n",
        "funcion_que_no_hace_nada()"
      ],
      "execution_count": 7,
      "outputs": []
    }
  ]
}
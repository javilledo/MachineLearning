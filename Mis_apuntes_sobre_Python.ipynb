{
  "nbformat": 4,
  "nbformat_minor": 0,
  "metadata": {
    "colab": {
      "name": "Mis apuntes sobre Python.ipynb",
      "provenance": [],
      "authorship_tag": "ABX9TyMH7akBxE8/6UMlymsb3SVF",
      "include_colab_link": true
    },
    "kernelspec": {
      "name": "python3",
      "display_name": "Python 3"
    }
  },
  "cells": [
    {
      "cell_type": "markdown",
      "metadata": {
        "id": "view-in-github",
        "colab_type": "text"
      },
      "source": [
        "<a href=\"https://colab.research.google.com/github/javilledo/MachineLearning/blob/master/Mis_apuntes_sobre_Python.ipynb\" target=\"_parent\"><img src=\"https://colab.research.google.com/assets/colab-badge.svg\" alt=\"Open In Colab\"/></a>"
      ]
    },
    {
      "cell_type": "markdown",
      "metadata": {
        "id": "kw5rar-BKIl3",
        "colab_type": "text"
      },
      "source": [
        "# **Mis apuntes sobre Python**\n",
        "En este cuaderno recojo algunos apuntes sobre Python"
      ]
    },
    {
      "cell_type": "markdown",
      "metadata": {
        "id": "N4YBL-ZkKbh5",
        "colab_type": "text"
      },
      "source": [
        ""
      ]
    }
  ]
}
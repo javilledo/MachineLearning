{
  "nbformat": 4,
  "nbformat_minor": 0,
  "metadata": {
    "colab": {
      "name": "Mis apuntes sobre Python.ipynb",
      "provenance": [],
      "collapsed_sections": [],
      "authorship_tag": "ABX9TyPbtZTc/FLz57QBqqMkl/WO",
      "include_colab_link": true
    },
    "kernelspec": {
      "name": "python3",
      "display_name": "Python 3"
    }
  },
  "cells": [
    {
      "cell_type": "markdown",
      "metadata": {
        "id": "view-in-github",
        "colab_type": "text"
      },
      "source": [
        "<a href=\"https://colab.research.google.com/github/javilledo/MachineLearning/blob/master/Mis_apuntes_sobre_Python.ipynb\" target=\"_parent\"><img src=\"https://colab.research.google.com/assets/colab-badge.svg\" alt=\"Open In Colab\"/></a>"
      ]
    },
    {
      "cell_type": "markdown",
      "metadata": {
        "id": "kw5rar-BKIl3",
        "colab_type": "text"
      },
      "source": [
        "# **Mis apuntes sobre Python**\n",
        "En este cuaderno recojo algunos apuntes sobre Python"
      ]
    },
    {
      "cell_type": "markdown",
      "metadata": {
        "id": "4bMifEzAMIcU",
        "colab_type": "text"
      },
      "source": [
        "**Variables**\n",
        "\n",
        "La definición de las variables no lleva ninguna palabra reservada, simplemente se define la variable y se le da un valor. Si simplemente queremos declararla, deberemos darle un valor de referencia para que infiera el tipo."
      ]
    },
    {
      "cell_type": "code",
      "metadata": {
        "id": "rSEMCs19MXDr",
        "colab_type": "code",
        "colab": {
          "base_uri": "https://localhost:8080/",
          "height": 34
        },
        "outputId": "e982b6fc-b5a6-489c-cd32-d51f0e828165"
      },
      "source": [
        "variable = 3\n",
        "variable"
      ],
      "execution_count": null,
      "outputs": [
        {
          "output_type": "execute_result",
          "data": {
            "text/plain": [
              "3"
            ]
          },
          "metadata": {
            "tags": []
          },
          "execution_count": 8
        }
      ]
    },
    {
      "cell_type": "markdown",
      "metadata": {
        "id": "hs9KrFqcL4DV",
        "colab_type": "text"
      },
      "source": [
        "**Listas**\n",
        "\n",
        "Las listas son los arrays en otros lenguajes, y funcionan de igual forma entre [ ]."
      ]
    },
    {
      "cell_type": "markdown",
      "metadata": {
        "id": "EXnDjN-RMBr4",
        "colab_type": "text"
      },
      "source": [
        "Para añadir un elemento en una lista se usa *append*."
      ]
    },
    {
      "cell_type": "code",
      "metadata": {
        "id": "mn6CDDEwMGoD",
        "colab_type": "code",
        "colab": {
          "base_uri": "https://localhost:8080/",
          "height": 34
        },
        "outputId": "c74dac03-7073-47b7-af51-22c9350a88a7"
      },
      "source": [
        "lista = [1,2,3,4,5,6,7]\n",
        "lista.append(8)\n",
        "lista"
      ],
      "execution_count": null,
      "outputs": [
        {
          "output_type": "execute_result",
          "data": {
            "text/plain": [
              "[1, 2, 3, 4, 5, 6, 7, 8]"
            ]
          },
          "metadata": {
            "tags": []
          },
          "execution_count": 10
        }
      ]
    },
    {
      "cell_type": "markdown",
      "metadata": {
        "id": "brqyEgclMwSO",
        "colab_type": "text"
      },
      "source": [
        "Para obtener la longitud de la lista (número de elementos) se emplea *len*."
      ]
    },
    {
      "cell_type": "code",
      "metadata": {
        "id": "oRn4xFw2M2WH",
        "colab_type": "code",
        "colab": {
          "base_uri": "https://localhost:8080/",
          "height": 34
        },
        "outputId": "36003e92-704a-481f-8fc7-e51bd2df0e56"
      },
      "source": [
        "len(lista)"
      ],
      "execution_count": null,
      "outputs": [
        {
          "output_type": "execute_result",
          "data": {
            "text/plain": [
              "8"
            ]
          },
          "metadata": {
            "tags": []
          },
          "execution_count": 11
        }
      ]
    },
    {
      "cell_type": "markdown",
      "metadata": {
        "id": "6UpylJYzNA5n",
        "colab_type": "text"
      },
      "source": [
        "Si queremos obtener un valor de la lista, se hace de la siguiente manera. También pueden obtenerse contando por el final si se ponen números negativos"
      ]
    },
    {
      "cell_type": "code",
      "metadata": {
        "id": "3aQP8HO8NJbO",
        "colab_type": "code",
        "colab": {
          "base_uri": "https://localhost:8080/",
          "height": 34
        },
        "outputId": "fcac8951-79cb-40d6-da8d-d7e1366d6042"
      },
      "source": [
        "lista[1]"
      ],
      "execution_count": null,
      "outputs": [
        {
          "output_type": "execute_result",
          "data": {
            "text/plain": [
              "2"
            ]
          },
          "metadata": {
            "tags": []
          },
          "execution_count": 14
        }
      ]
    },
    {
      "cell_type": "code",
      "metadata": {
        "id": "N89-LykoNRte",
        "colab_type": "code",
        "colab": {
          "base_uri": "https://localhost:8080/",
          "height": 34
        },
        "outputId": "5df574ee-cded-4808-9488-e8598c196145"
      },
      "source": [
        "lista[-1]"
      ],
      "execution_count": null,
      "outputs": [
        {
          "output_type": "execute_result",
          "data": {
            "text/plain": [
              "8"
            ]
          },
          "metadata": {
            "tags": []
          },
          "execution_count": 15
        }
      ]
    },
    {
      "cell_type": "markdown",
      "metadata": {
        "id": "RHkBJfCKNbOx",
        "colab_type": "text"
      },
      "source": [
        "**Diccionarios**\n",
        "\n",
        "Son conjuntos de pares clave valor. No puede haber claves repetidas pero sí valores. Si se asigna un nuevo valor a una clave que ya existe en el diccionario, ésta se sobreescribe. Van entre {}."
      ]
    },
    {
      "cell_type": "code",
      "metadata": {
        "id": "Cl5_m9W3NuvR",
        "colab_type": "code",
        "colab": {
          "base_uri": "https://localhost:8080/",
          "height": 84
        },
        "outputId": "e90c27cf-b55c-4731-ed53-bc16e8519913"
      },
      "source": [
        "diccionario = {'clave 01': 2,\n",
        "               'clave 02': 'prueba',\n",
        "               'clave 03': True,\n",
        "               'clave 04': [1,2,3,4]}\n",
        "diccionario"
      ],
      "execution_count": null,
      "outputs": [
        {
          "output_type": "execute_result",
          "data": {
            "text/plain": [
              "{'clave 01': 2,\n",
              " 'clave 02': 'prueba',\n",
              " 'clave 03': True,\n",
              " 'clave 04': [1, 2, 3, 4]}"
            ]
          },
          "metadata": {
            "tags": []
          },
          "execution_count": 16
        }
      ]
    },
    {
      "cell_type": "markdown",
      "metadata": {
        "id": "GFk5FUUWOEpR",
        "colab_type": "text"
      },
      "source": [
        "Para conocer las claves se usa *keys()*."
      ]
    },
    {
      "cell_type": "code",
      "metadata": {
        "id": "ZMEyhGksOZfs",
        "colab_type": "code",
        "colab": {
          "base_uri": "https://localhost:8080/",
          "height": 34
        },
        "outputId": "96a0db8e-8183-4396-8b9e-1735beea99b5"
      },
      "source": [
        "diccionario.keys()"
      ],
      "execution_count": null,
      "outputs": [
        {
          "output_type": "execute_result",
          "data": {
            "text/plain": [
              "dict_keys(['clave 01', 'clave 02', 'clave 03', 'clave 04'])"
            ]
          },
          "metadata": {
            "tags": []
          },
          "execution_count": 18
        }
      ]
    },
    {
      "cell_type": "markdown",
      "metadata": {
        "id": "VjBbAocDOdlg",
        "colab_type": "text"
      },
      "source": [
        "Para conocer los valores se usa *values()*."
      ]
    },
    {
      "cell_type": "code",
      "metadata": {
        "id": "8eHBIZdaOgql",
        "colab_type": "code",
        "colab": {
          "base_uri": "https://localhost:8080/",
          "height": 34
        },
        "outputId": "3bf8fbb7-5636-4695-b845-e473a4d26604"
      },
      "source": [
        "diccionario.values()"
      ],
      "execution_count": null,
      "outputs": [
        {
          "output_type": "execute_result",
          "data": {
            "text/plain": [
              "dict_values([2, 'prueba', True, [1, 2, 3, 4]])"
            ]
          },
          "metadata": {
            "tags": []
          },
          "execution_count": 19
        }
      ]
    },
    {
      "cell_type": "markdown",
      "metadata": {
        "id": "KhIBpdK9OuSA",
        "colab_type": "text"
      },
      "source": [
        "Para conocer los elementos de un diccionario, se emplea *items()*."
      ]
    },
    {
      "cell_type": "code",
      "metadata": {
        "id": "SOsUQt9jOqfT",
        "colab_type": "code",
        "colab": {
          "base_uri": "https://localhost:8080/",
          "height": 34
        },
        "outputId": "cfd34f73-2e39-4cfc-e46e-d9e929fe0687"
      },
      "source": [
        "diccionario.items()"
      ],
      "execution_count": null,
      "outputs": [
        {
          "output_type": "execute_result",
          "data": {
            "text/plain": [
              "dict_items([('clave 01', 2), ('clave 02', 'prueba'), ('clave 03', True), ('clave 04', [1, 2, 3, 4])])"
            ]
          },
          "metadata": {
            "tags": []
          },
          "execution_count": 20
        }
      ]
    },
    {
      "cell_type": "markdown",
      "metadata": {
        "id": "ERlvCtpFQXcc",
        "colab_type": "text"
      },
      "source": [
        "**Bucles**"
      ]
    },
    {
      "cell_type": "code",
      "metadata": {
        "id": "3dOHSvLuQd8M",
        "colab_type": "code",
        "colab": {
          "base_uri": "https://localhost:8080/",
          "height": 34
        },
        "outputId": "9f6ac3fc-4b48-4205-ba19-205dcf21c0f3"
      },
      "source": [
        "lista"
      ],
      "execution_count": null,
      "outputs": [
        {
          "output_type": "execute_result",
          "data": {
            "text/plain": [
              "[1, 2, 3, 4, 5, 6, 7, 8]"
            ]
          },
          "metadata": {
            "tags": []
          },
          "execution_count": 24
        }
      ]
    },
    {
      "cell_type": "code",
      "metadata": {
        "id": "Ti_ZyF01QiIE",
        "colab_type": "code",
        "colab": {
          "base_uri": "https://localhost:8080/",
          "height": 151
        },
        "outputId": "a8a953f5-62a8-481d-daa7-8691c4a52161"
      },
      "source": [
        "for elemento in lista:\n",
        "  print(elemento)"
      ],
      "execution_count": null,
      "outputs": [
        {
          "output_type": "stream",
          "text": [
            "1\n",
            "2\n",
            "3\n",
            "4\n",
            "5\n",
            "6\n",
            "7\n",
            "8\n"
          ],
          "name": "stdout"
        }
      ]
    },
    {
      "cell_type": "code",
      "metadata": {
        "id": "baixrwUpQlxW",
        "colab_type": "code",
        "colab": {
          "base_uri": "https://localhost:8080/",
          "height": 34
        },
        "outputId": "2001f096-5edc-4b66-fa75-4b121c97648f"
      },
      "source": [
        "nueva_lista = []\n",
        "for elemento in lista:\n",
        "  nueva_lista.append(elemento+2)\n",
        "nueva_lista"
      ],
      "execution_count": null,
      "outputs": [
        {
          "output_type": "execute_result",
          "data": {
            "text/plain": [
              "[3, 4, 5, 6, 7, 8, 9, 10]"
            ]
          },
          "metadata": {
            "tags": []
          },
          "execution_count": 26
        }
      ]
    },
    {
      "cell_type": "markdown",
      "metadata": {
        "id": "jPNToBYKQyI4",
        "colab_type": "text"
      },
      "source": [
        "Es muy útil poder reducir el *for* anterior a una sola línea si se quiere operar sobre cada uno de los elementos"
      ]
    },
    {
      "cell_type": "code",
      "metadata": {
        "id": "KrT5kTruQ6yB",
        "colab_type": "code",
        "colab": {
          "base_uri": "https://localhost:8080/",
          "height": 34
        },
        "outputId": "d835e9f5-3b40-420b-aedc-f3bb33e191bf"
      },
      "source": [
        "nueva_lista_2 = [elemento + 2 for elemento in lista]\n",
        "nueva_lista_2"
      ],
      "execution_count": null,
      "outputs": [
        {
          "output_type": "execute_result",
          "data": {
            "text/plain": [
              "[3, 4, 5, 6, 7, 8, 9, 10]"
            ]
          },
          "metadata": {
            "tags": []
          },
          "execution_count": 27
        }
      ]
    },
    {
      "cell_type": "markdown",
      "metadata": {
        "id": "N4YBL-ZkKbh5",
        "colab_type": "text"
      },
      "source": [
        "**Funciones**\n",
        "\n",
        "Las funciones se definen con *def*:"
      ]
    },
    {
      "cell_type": "code",
      "metadata": {
        "id": "1t9HhBmmLDeP",
        "colab_type": "code",
        "colab": {
          "base_uri": "https://localhost:8080/",
          "height": 34
        },
        "outputId": "d75d30cb-bbe7-4c4b-ea8c-771fc3774f18"
      },
      "source": [
        "def nueva_funcion():\n",
        "  print('Este es el resultado de la función')\n",
        "\n",
        "nueva_funcion()"
      ],
      "execution_count": null,
      "outputs": [
        {
          "output_type": "stream",
          "text": [
            "Este es el resultado de la función\n"
          ],
          "name": "stdout"
        }
      ]
    },
    {
      "cell_type": "markdown",
      "metadata": {
        "id": "XspAyo_ZK6z2",
        "colab_type": "text"
      },
      "source": [
        "Si queremos que una función no devuelva nada se le puede poner *pass*:"
      ]
    },
    {
      "cell_type": "code",
      "metadata": {
        "id": "pe46gZ2hLh_f",
        "colab_type": "code",
        "colab": {}
      },
      "source": [
        "def funcion_que_no_hace_nada():\n",
        "  pass\n",
        "\n",
        "funcion_que_no_hace_nada()"
      ],
      "execution_count": null,
      "outputs": []
    },
    {
      "cell_type": "markdown",
      "metadata": {
        "id": "IcAY-IYuPOcQ",
        "colab_type": "text"
      },
      "source": [
        "También puede definirse la función para que devuelva algo"
      ]
    },
    {
      "cell_type": "code",
      "metadata": {
        "id": "EJkxI_tfPTlw",
        "colab_type": "code",
        "colab": {
          "base_uri": "https://localhost:8080/",
          "height": 34
        },
        "outputId": "e4547b05-1082-4311-b80b-39121733716d"
      },
      "source": [
        "def funcion_que_devuelve_algo():\n",
        "  return 'Hola'\n",
        "print(funcion_que_devuelve_algo())"
      ],
      "execution_count": null,
      "outputs": [
        {
          "output_type": "stream",
          "text": [
            "Hola\n"
          ],
          "name": "stdout"
        }
      ]
    },
    {
      "cell_type": "markdown",
      "metadata": {
        "id": "O-NfJ77QPjJV",
        "colab_type": "text"
      },
      "source": [
        "Se le pueden pasar parámetros a la función indicando los argumentos entre los paréntesis"
      ]
    },
    {
      "cell_type": "code",
      "metadata": {
        "id": "xgrrfZ9qPqCD",
        "colab_type": "code",
        "colab": {
          "base_uri": "https://localhost:8080/",
          "height": 34
        },
        "outputId": "41eda7b8-4b86-4bd8-afb4-cc8d2c005370"
      },
      "source": [
        "def suma(a,b):\n",
        "  print(a+b)\n",
        "suma(1,2)"
      ],
      "execution_count": null,
      "outputs": [
        {
          "output_type": "stream",
          "text": [
            "3\n"
          ],
          "name": "stdout"
        }
      ]
    },
    {
      "cell_type": "markdown",
      "metadata": {
        "id": "XiJvbAk6SSgN",
        "colab_type": "text"
      },
      "source": [
        "**Clases**\n",
        "\n",
        "Como en otros lenguajes de programación, las clases contienen propiedades y métodos. En este caso particular tiene una función de inicio (que se ejecuta al instanciar la clase) que se llama *__init__(self)* (self es para referirse a la clase en cuestión).\n",
        "Por convención, suelen nombrarse con la primera letra en mayúscula."
      ]
    },
    {
      "cell_type": "code",
      "metadata": {
        "id": "aFjRnW-uSY9h",
        "colab_type": "code",
        "colab": {
          "base_uri": "https://localhost:8080/",
          "height": 34
        },
        "outputId": "36aa23e8-0273-44f6-8f44-5e4d47871a29"
      },
      "source": [
        "class Persona():\n",
        "  \n",
        "  def __init__(self):\n",
        "    self.nombre = 'Javier'\n",
        "    self.apellido= 'Lledó'\n",
        "\n",
        "  def presentarse(self):\n",
        "    print('Hola, me llamo', self.nombre, self.apellido)"
      ],
      "execution_count": null,
      "outputs": [
        {
          "output_type": "stream",
          "text": [
            "Hola, me llamo Javier Lledó\n"
          ],
          "name": "stdout"
        }
      ]
    },
    {
      "cell_type": "markdown",
      "metadata": {
        "id": "tUA9JVO4T_AQ",
        "colab_type": "text"
      },
      "source": [
        "Para instanciarla simplemente se hace de la siguiente manera:"
      ]
    },
    {
      "cell_type": "code",
      "metadata": {
        "id": "M_40IAeeUCEj",
        "colab_type": "code",
        "colab": {
          "base_uri": "https://localhost:8080/",
          "height": 34
        },
        "outputId": "a5c7fd51-85c7-4fba-a70e-bb3cc6b216b1"
      },
      "source": [
        "persona = Persona()\n",
        "persona.presentarse()"
      ],
      "execution_count": null,
      "outputs": [
        {
          "output_type": "stream",
          "text": [
            "Hola, me llamo Javier Lledó\n"
          ],
          "name": "stdout"
        }
      ]
    },
    {
      "cell_type": "markdown",
      "metadata": {
        "id": "rJeXZv86UxDW",
        "colab_type": "text"
      },
      "source": [
        "También puede usarse __init__ como constructor, y a la hora de instanciarlo pasarle esos parámetros"
      ]
    },
    {
      "cell_type": "code",
      "metadata": {
        "id": "K1QxuZA6U1Ne",
        "colab_type": "code",
        "colab": {
          "base_uri": "https://localhost:8080/",
          "height": 34
        },
        "outputId": "f981bb40-b4d2-49ad-a774-fea56c33fb2a"
      },
      "source": [
        "class Persona02():\n",
        "\n",
        "  def __init__(self, nombre, apellido):\n",
        "    self.nombre = nombre\n",
        "    self.apellido= apellido\n",
        "\n",
        "  def presentarse(self):\n",
        "    print('Hola, me llamo', self.nombre, self.apellido)\n",
        "\n",
        "persona02 = Persona02(nombre='Javier', apellido = 'Lledó')\n",
        "persona02.presentarse()"
      ],
      "execution_count": null,
      "outputs": [
        {
          "output_type": "stream",
          "text": [
            "Hola, me llamo Javier Lledó\n"
          ],
          "name": "stdout"
        }
      ]
    },
    {
      "cell_type": "markdown",
      "metadata": {
        "id": "BgYsAghnW9bm",
        "colab_type": "text"
      },
      "source": [
        "**Librerías**\n",
        "\n",
        "Pueden importarse librerías para poder usar sus funciones con *import*, y puede indicarse de qué manera hacer referencia a ellas."
      ]
    },
    {
      "cell_type": "code",
      "metadata": {
        "id": "oZD6Ek69XH7t",
        "colab_type": "code",
        "colab": {
          "base_uri": "https://localhost:8080/",
          "height": 34
        },
        "outputId": "dfc3b212-4c6b-4ddc-d207-bf219399ab2d"
      },
      "source": [
        "import random\n",
        "random.random()"
      ],
      "execution_count": null,
      "outputs": [
        {
          "output_type": "execute_result",
          "data": {
            "text/plain": [
              "0.46818641822142293"
            ]
          },
          "metadata": {
            "tags": []
          },
          "execution_count": 46
        }
      ]
    },
    {
      "cell_type": "markdown",
      "metadata": {
        "id": "xwX1M7bnYFaX",
        "colab_type": "text"
      },
      "source": [
        "Algunas librerías interesantes son las siguientes (junto con los códigos que suelen usarse para referenciarse):\n",
        "\n",
        "*   random\n",
        "*   numpy (np)\n",
        "*   scipy (sc)\n",
        "*   sklearn (sk)\n",
        "*   matplotlib.pyplot (plt)\n",
        "\n",
        "\n",
        "\n",
        "\n"
      ]
    }
  ]
}
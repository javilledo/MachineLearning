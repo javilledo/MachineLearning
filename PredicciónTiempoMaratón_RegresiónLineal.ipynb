{
  "nbformat": 4,
  "nbformat_minor": 0,
  "metadata": {
    "colab": {
      "name": "PredicciónTiempoMaratón_RegresiónLineal.ipynb",
      "provenance": [],
      "collapsed_sections": [],
      "authorship_tag": "ABX9TyNwn+diF4FFqPK9o1fGMoWF",
      "include_colab_link": true
    },
    "kernelspec": {
      "name": "python3",
      "display_name": "Python 3"
    }
  },
  "cells": [
    {
      "cell_type": "markdown",
      "metadata": {
        "id": "view-in-github",
        "colab_type": "text"
      },
      "source": [
        "<a href=\"https://colab.research.google.com/github/javilledo/MachineLearning/blob/master/Predicci%C3%B3nTiempoMarat%C3%B3n_Regresi%C3%B3nLineal.ipynb\" target=\"_parent\"><img src=\"https://colab.research.google.com/assets/colab-badge.svg\" alt=\"Open In Colab\"/></a>"
      ]
    },
    {
      "cell_type": "markdown",
      "metadata": {
        "id": "z5vNzgJzSfiH",
        "colab_type": "text"
      },
      "source": [
        "**Modelo para estimar el tiempo en Maratón**\n"
      ]
    }
  ]
}
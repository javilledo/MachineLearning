{
  "nbformat": 4,
  "nbformat_minor": 0,
  "metadata": {
    "colab": {
      "name": "t04-05-linear-regression-problemas-con-regresión-lineal.ipynb",
      "provenance": [],
      "collapsed_sections": [],
      "authorship_tag": "ABX9TyNNSgxWScmVnxqRPE8qN0Hw",
      "include_colab_link": true
    },
    "kernelspec": {
      "name": "python3",
      "display_name": "Python 3"
    }
  },
  "cells": [
    {
      "cell_type": "markdown",
      "metadata": {
        "id": "view-in-github",
        "colab_type": "text"
      },
      "source": [
        "<a href=\"https://colab.research.google.com/github/javilledo/machine-learning/blob/master/notebooks/t04_05_linear_regression_problemas_con_regresi%C3%B3n_lineal.ipynb\" target=\"_parent\"><img src=\"https://colab.research.google.com/assets/colab-badge.svg\" alt=\"Open In Colab\"/></a>"
      ]
    },
    {
      "cell_type": "markdown",
      "metadata": {
        "id": "5btl9jMzQHDg",
        "colab_type": "text"
      },
      "source": [
        "#TRATAMIENTO DE VARIABLES CATEGÓRICAS"
      ]
    },
    {
      "cell_type": "code",
      "metadata": {
        "id": "zQHcAO7eP5aU",
        "colab_type": "code",
        "colab": {}
      },
      "source": [
        "import pandas as pd\n",
        "import numpy as np\n",
        "import matplotlib.pyplot as plt\n",
        "from sklearn.linear_model import LinearRegression"
      ],
      "execution_count": 157,
      "outputs": []
    },
    {
      "cell_type": "code",
      "metadata": {
        "id": "Bc3WWr47XWx5",
        "colab_type": "code",
        "colab": {
          "base_uri": "https://localhost:8080/",
          "height": 195
        },
        "outputId": "7caaee97-362e-4558-9a9d-b482fcd4ddc0"
      },
      "source": [
        "url = 'https://raw.githubusercontent.com/javilledo/python-ml-course/master/datasets/ecom-expense/Ecom%20Expense.csv'\n",
        "data = pd.read_csv(url)\n",
        "data.head()"
      ],
      "execution_count": 158,
      "outputs": [
        {
          "output_type": "execute_result",
          "data": {
            "text/html": [
              "<div>\n",
              "<style scoped>\n",
              "    .dataframe tbody tr th:only-of-type {\n",
              "        vertical-align: middle;\n",
              "    }\n",
              "\n",
              "    .dataframe tbody tr th {\n",
              "        vertical-align: top;\n",
              "    }\n",
              "\n",
              "    .dataframe thead th {\n",
              "        text-align: right;\n",
              "    }\n",
              "</style>\n",
              "<table border=\"1\" class=\"dataframe\">\n",
              "  <thead>\n",
              "    <tr style=\"text-align: right;\">\n",
              "      <th></th>\n",
              "      <th>Transaction ID</th>\n",
              "      <th>Age</th>\n",
              "      <th>Items</th>\n",
              "      <th>Monthly Income</th>\n",
              "      <th>Transaction Time</th>\n",
              "      <th>Record</th>\n",
              "      <th>Gender</th>\n",
              "      <th>City Tier</th>\n",
              "      <th>Total Spend</th>\n",
              "    </tr>\n",
              "  </thead>\n",
              "  <tbody>\n",
              "    <tr>\n",
              "      <th>0</th>\n",
              "      <td>TXN001</td>\n",
              "      <td>42</td>\n",
              "      <td>10</td>\n",
              "      <td>7313</td>\n",
              "      <td>627.668127</td>\n",
              "      <td>5</td>\n",
              "      <td>Female</td>\n",
              "      <td>Tier 1</td>\n",
              "      <td>4198.385084</td>\n",
              "    </tr>\n",
              "    <tr>\n",
              "      <th>1</th>\n",
              "      <td>TXN002</td>\n",
              "      <td>24</td>\n",
              "      <td>8</td>\n",
              "      <td>17747</td>\n",
              "      <td>126.904567</td>\n",
              "      <td>3</td>\n",
              "      <td>Female</td>\n",
              "      <td>Tier 2</td>\n",
              "      <td>4134.976648</td>\n",
              "    </tr>\n",
              "    <tr>\n",
              "      <th>2</th>\n",
              "      <td>TXN003</td>\n",
              "      <td>47</td>\n",
              "      <td>11</td>\n",
              "      <td>22845</td>\n",
              "      <td>873.469701</td>\n",
              "      <td>2</td>\n",
              "      <td>Male</td>\n",
              "      <td>Tier 2</td>\n",
              "      <td>5166.614455</td>\n",
              "    </tr>\n",
              "    <tr>\n",
              "      <th>3</th>\n",
              "      <td>TXN004</td>\n",
              "      <td>50</td>\n",
              "      <td>11</td>\n",
              "      <td>18552</td>\n",
              "      <td>380.219428</td>\n",
              "      <td>7</td>\n",
              "      <td>Female</td>\n",
              "      <td>Tier 1</td>\n",
              "      <td>7784.447676</td>\n",
              "    </tr>\n",
              "    <tr>\n",
              "      <th>4</th>\n",
              "      <td>TXN005</td>\n",
              "      <td>60</td>\n",
              "      <td>2</td>\n",
              "      <td>14439</td>\n",
              "      <td>403.374223</td>\n",
              "      <td>2</td>\n",
              "      <td>Female</td>\n",
              "      <td>Tier 2</td>\n",
              "      <td>3254.160485</td>\n",
              "    </tr>\n",
              "  </tbody>\n",
              "</table>\n",
              "</div>"
            ],
            "text/plain": [
              "  Transaction ID  Age    Items   ...  Gender  City Tier  Total Spend\n",
              "0         TXN001    42       10  ...  Female     Tier 1  4198.385084\n",
              "1         TXN002    24        8  ...  Female     Tier 2  4134.976648\n",
              "2         TXN003    47       11  ...    Male     Tier 2  5166.614455\n",
              "3         TXN004    50       11  ...  Female     Tier 1  7784.447676\n",
              "4         TXN005    60        2  ...  Female     Tier 2  3254.160485\n",
              "\n",
              "[5 rows x 9 columns]"
            ]
          },
          "metadata": {
            "tags": []
          },
          "execution_count": 158
        }
      ]
    },
    {
      "cell_type": "code",
      "metadata": {
        "id": "Qz7PTpVRX0s4",
        "colab_type": "code",
        "colab": {}
      },
      "source": [
        "dummy_gender = pd.get_dummies(data['Gender'], prefix='Gender')\n",
        "dummy_city_tier = pd.get_dummies(data['City Tier'], prefix='City')"
      ],
      "execution_count": 159,
      "outputs": []
    },
    {
      "cell_type": "code",
      "metadata": {
        "id": "Xo4nPA0e_dS9",
        "colab_type": "code",
        "colab": {
          "base_uri": "https://localhost:8080/",
          "height": 195
        },
        "outputId": "a434ea80-7d4b-40b2-cd1a-cfc5ac9567d1"
      },
      "source": [
        "dummy_gender.head()"
      ],
      "execution_count": 160,
      "outputs": [
        {
          "output_type": "execute_result",
          "data": {
            "text/html": [
              "<div>\n",
              "<style scoped>\n",
              "    .dataframe tbody tr th:only-of-type {\n",
              "        vertical-align: middle;\n",
              "    }\n",
              "\n",
              "    .dataframe tbody tr th {\n",
              "        vertical-align: top;\n",
              "    }\n",
              "\n",
              "    .dataframe thead th {\n",
              "        text-align: right;\n",
              "    }\n",
              "</style>\n",
              "<table border=\"1\" class=\"dataframe\">\n",
              "  <thead>\n",
              "    <tr style=\"text-align: right;\">\n",
              "      <th></th>\n",
              "      <th>Gender_Female</th>\n",
              "      <th>Gender_Male</th>\n",
              "    </tr>\n",
              "  </thead>\n",
              "  <tbody>\n",
              "    <tr>\n",
              "      <th>0</th>\n",
              "      <td>1</td>\n",
              "      <td>0</td>\n",
              "    </tr>\n",
              "    <tr>\n",
              "      <th>1</th>\n",
              "      <td>1</td>\n",
              "      <td>0</td>\n",
              "    </tr>\n",
              "    <tr>\n",
              "      <th>2</th>\n",
              "      <td>0</td>\n",
              "      <td>1</td>\n",
              "    </tr>\n",
              "    <tr>\n",
              "      <th>3</th>\n",
              "      <td>1</td>\n",
              "      <td>0</td>\n",
              "    </tr>\n",
              "    <tr>\n",
              "      <th>4</th>\n",
              "      <td>1</td>\n",
              "      <td>0</td>\n",
              "    </tr>\n",
              "  </tbody>\n",
              "</table>\n",
              "</div>"
            ],
            "text/plain": [
              "   Gender_Female  Gender_Male\n",
              "0              1            0\n",
              "1              1            0\n",
              "2              0            1\n",
              "3              1            0\n",
              "4              1            0"
            ]
          },
          "metadata": {
            "tags": []
          },
          "execution_count": 160
        }
      ]
    },
    {
      "cell_type": "code",
      "metadata": {
        "id": "3fAwiWD7_fgy",
        "colab_type": "code",
        "colab": {
          "base_uri": "https://localhost:8080/",
          "height": 195
        },
        "outputId": "ee5f8742-6b5e-4357-9051-563589d8c097"
      },
      "source": [
        "dummy_city_tier.head()"
      ],
      "execution_count": 161,
      "outputs": [
        {
          "output_type": "execute_result",
          "data": {
            "text/html": [
              "<div>\n",
              "<style scoped>\n",
              "    .dataframe tbody tr th:only-of-type {\n",
              "        vertical-align: middle;\n",
              "    }\n",
              "\n",
              "    .dataframe tbody tr th {\n",
              "        vertical-align: top;\n",
              "    }\n",
              "\n",
              "    .dataframe thead th {\n",
              "        text-align: right;\n",
              "    }\n",
              "</style>\n",
              "<table border=\"1\" class=\"dataframe\">\n",
              "  <thead>\n",
              "    <tr style=\"text-align: right;\">\n",
              "      <th></th>\n",
              "      <th>City_Tier 1</th>\n",
              "      <th>City_Tier 2</th>\n",
              "      <th>City_Tier 3</th>\n",
              "    </tr>\n",
              "  </thead>\n",
              "  <tbody>\n",
              "    <tr>\n",
              "      <th>0</th>\n",
              "      <td>1</td>\n",
              "      <td>0</td>\n",
              "      <td>0</td>\n",
              "    </tr>\n",
              "    <tr>\n",
              "      <th>1</th>\n",
              "      <td>0</td>\n",
              "      <td>1</td>\n",
              "      <td>0</td>\n",
              "    </tr>\n",
              "    <tr>\n",
              "      <th>2</th>\n",
              "      <td>0</td>\n",
              "      <td>1</td>\n",
              "      <td>0</td>\n",
              "    </tr>\n",
              "    <tr>\n",
              "      <th>3</th>\n",
              "      <td>1</td>\n",
              "      <td>0</td>\n",
              "      <td>0</td>\n",
              "    </tr>\n",
              "    <tr>\n",
              "      <th>4</th>\n",
              "      <td>0</td>\n",
              "      <td>1</td>\n",
              "      <td>0</td>\n",
              "    </tr>\n",
              "  </tbody>\n",
              "</table>\n",
              "</div>"
            ],
            "text/plain": [
              "   City_Tier 1  City_Tier 2  City_Tier 3\n",
              "0            1            0            0\n",
              "1            0            1            0\n",
              "2            0            1            0\n",
              "3            1            0            0\n",
              "4            0            1            0"
            ]
          },
          "metadata": {
            "tags": []
          },
          "execution_count": 161
        }
      ]
    },
    {
      "cell_type": "code",
      "metadata": {
        "id": "GiNb19VB_oQ3",
        "colab_type": "code",
        "colab": {
          "base_uri": "https://localhost:8080/",
          "height": 195
        },
        "outputId": "bb376d64-59f4-4448-fae8-034b74ea31b9"
      },
      "source": [
        "data = data.join(dummy_gender).join(dummy_city_tier)\n",
        "data.head()"
      ],
      "execution_count": 162,
      "outputs": [
        {
          "output_type": "execute_result",
          "data": {
            "text/html": [
              "<div>\n",
              "<style scoped>\n",
              "    .dataframe tbody tr th:only-of-type {\n",
              "        vertical-align: middle;\n",
              "    }\n",
              "\n",
              "    .dataframe tbody tr th {\n",
              "        vertical-align: top;\n",
              "    }\n",
              "\n",
              "    .dataframe thead th {\n",
              "        text-align: right;\n",
              "    }\n",
              "</style>\n",
              "<table border=\"1\" class=\"dataframe\">\n",
              "  <thead>\n",
              "    <tr style=\"text-align: right;\">\n",
              "      <th></th>\n",
              "      <th>Transaction ID</th>\n",
              "      <th>Age</th>\n",
              "      <th>Items</th>\n",
              "      <th>Monthly Income</th>\n",
              "      <th>Transaction Time</th>\n",
              "      <th>Record</th>\n",
              "      <th>Gender</th>\n",
              "      <th>City Tier</th>\n",
              "      <th>Total Spend</th>\n",
              "      <th>Gender_Female</th>\n",
              "      <th>Gender_Male</th>\n",
              "      <th>City_Tier 1</th>\n",
              "      <th>City_Tier 2</th>\n",
              "      <th>City_Tier 3</th>\n",
              "    </tr>\n",
              "  </thead>\n",
              "  <tbody>\n",
              "    <tr>\n",
              "      <th>0</th>\n",
              "      <td>TXN001</td>\n",
              "      <td>42</td>\n",
              "      <td>10</td>\n",
              "      <td>7313</td>\n",
              "      <td>627.668127</td>\n",
              "      <td>5</td>\n",
              "      <td>Female</td>\n",
              "      <td>Tier 1</td>\n",
              "      <td>4198.385084</td>\n",
              "      <td>1</td>\n",
              "      <td>0</td>\n",
              "      <td>1</td>\n",
              "      <td>0</td>\n",
              "      <td>0</td>\n",
              "    </tr>\n",
              "    <tr>\n",
              "      <th>1</th>\n",
              "      <td>TXN002</td>\n",
              "      <td>24</td>\n",
              "      <td>8</td>\n",
              "      <td>17747</td>\n",
              "      <td>126.904567</td>\n",
              "      <td>3</td>\n",
              "      <td>Female</td>\n",
              "      <td>Tier 2</td>\n",
              "      <td>4134.976648</td>\n",
              "      <td>1</td>\n",
              "      <td>0</td>\n",
              "      <td>0</td>\n",
              "      <td>1</td>\n",
              "      <td>0</td>\n",
              "    </tr>\n",
              "    <tr>\n",
              "      <th>2</th>\n",
              "      <td>TXN003</td>\n",
              "      <td>47</td>\n",
              "      <td>11</td>\n",
              "      <td>22845</td>\n",
              "      <td>873.469701</td>\n",
              "      <td>2</td>\n",
              "      <td>Male</td>\n",
              "      <td>Tier 2</td>\n",
              "      <td>5166.614455</td>\n",
              "      <td>0</td>\n",
              "      <td>1</td>\n",
              "      <td>0</td>\n",
              "      <td>1</td>\n",
              "      <td>0</td>\n",
              "    </tr>\n",
              "    <tr>\n",
              "      <th>3</th>\n",
              "      <td>TXN004</td>\n",
              "      <td>50</td>\n",
              "      <td>11</td>\n",
              "      <td>18552</td>\n",
              "      <td>380.219428</td>\n",
              "      <td>7</td>\n",
              "      <td>Female</td>\n",
              "      <td>Tier 1</td>\n",
              "      <td>7784.447676</td>\n",
              "      <td>1</td>\n",
              "      <td>0</td>\n",
              "      <td>1</td>\n",
              "      <td>0</td>\n",
              "      <td>0</td>\n",
              "    </tr>\n",
              "    <tr>\n",
              "      <th>4</th>\n",
              "      <td>TXN005</td>\n",
              "      <td>60</td>\n",
              "      <td>2</td>\n",
              "      <td>14439</td>\n",
              "      <td>403.374223</td>\n",
              "      <td>2</td>\n",
              "      <td>Female</td>\n",
              "      <td>Tier 2</td>\n",
              "      <td>3254.160485</td>\n",
              "      <td>1</td>\n",
              "      <td>0</td>\n",
              "      <td>0</td>\n",
              "      <td>1</td>\n",
              "      <td>0</td>\n",
              "    </tr>\n",
              "  </tbody>\n",
              "</table>\n",
              "</div>"
            ],
            "text/plain": [
              "  Transaction ID  Age    Items   ...  City_Tier 1  City_Tier 2  City_Tier 3\n",
              "0         TXN001    42       10  ...            1            0            0\n",
              "1         TXN002    24        8  ...            0            1            0\n",
              "2         TXN003    47       11  ...            0            1            0\n",
              "3         TXN004    50       11  ...            1            0            0\n",
              "4         TXN005    60        2  ...            0            1            0\n",
              "\n",
              "[5 rows x 14 columns]"
            ]
          },
          "metadata": {
            "tags": []
          },
          "execution_count": 162
        }
      ]
    },
    {
      "cell_type": "code",
      "metadata": {
        "id": "Y2QIYT6ACNnH",
        "colab_type": "code",
        "colab": {}
      },
      "source": [
        "feature_cols = ['Monthly Income', 'Transaction Time', 'Gender_Female', 'Gender_Male', 'City_Tier 1', 'City_Tier 2', 'City_Tier 3']"
      ],
      "execution_count": 163,
      "outputs": []
    },
    {
      "cell_type": "code",
      "metadata": {
        "id": "dSdOVX0zC2B0",
        "colab_type": "code",
        "colab": {}
      },
      "source": [
        "X = data[feature_cols]\n",
        "Y = data['Total Spend']"
      ],
      "execution_count": 164,
      "outputs": []
    },
    {
      "cell_type": "code",
      "metadata": {
        "id": "XolDvajFkf2x",
        "colab_type": "code",
        "colab": {}
      },
      "source": [
        "lm = LinearRegression().fit(X,Y)"
      ],
      "execution_count": 165,
      "outputs": []
    },
    {
      "cell_type": "code",
      "metadata": {
        "id": "HGYPSmWqkqFl",
        "colab_type": "code",
        "colab": {
          "base_uri": "https://localhost:8080/",
          "height": 67
        },
        "outputId": "edc255d7-e753-43dc-b8f5-6721dac10b95"
      },
      "source": [
        "print(lm.intercept_)\n",
        "print(lm.coef_)"
      ],
      "execution_count": 166,
      "outputs": [
        {
          "output_type": "stream",
          "text": [
            "3655.729407690652\n",
            "[   0.15297825    0.12372609  -94.15779883   94.15779883  119.6632516\n",
            "  -16.67901801 -102.9842336 ]\n"
          ],
          "name": "stdout"
        }
      ]
    },
    {
      "cell_type": "code",
      "metadata": {
        "id": "UxiAqdX3lZ2_",
        "colab_type": "code",
        "colab": {
          "base_uri": "https://localhost:8080/",
          "height": 134
        },
        "outputId": "1df70a29-4d55-418b-e3af-fee21882206a"
      },
      "source": [
        "dict_coefs = zip(feature_cols,lm.coef_) #LOS ZIP CREAN UN ARRAY DE TUPLAS\n",
        "list(dict_coefs) #OJO QUE LOS ZIP SE LISTAN"
      ],
      "execution_count": 167,
      "outputs": [
        {
          "output_type": "execute_result",
          "data": {
            "text/plain": [
              "[('Monthly Income', 0.15297824609320523),\n",
              " ('Transaction Time', 0.1237260864262),\n",
              " ('Gender_Female', -94.15779883032013),\n",
              " ('Gender_Male', 94.1577988303201),\n",
              " ('City_Tier 1', 119.66325160390102),\n",
              " ('City_Tier 2', -16.679018007990496),\n",
              " ('City_Tier 3', -102.9842335959106)]"
            ]
          },
          "metadata": {
            "tags": []
          },
          "execution_count": 167
        }
      ]
    },
    {
      "cell_type": "code",
      "metadata": {
        "id": "rnWfnE9zl-PY",
        "colab_type": "code",
        "colab": {
          "base_uri": "https://localhost:8080/",
          "height": 34
        },
        "outputId": "c05276f3-01b9-4d5e-cf96-1503b81c5026"
      },
      "source": [
        "lm.score(X,Y)"
      ],
      "execution_count": 168,
      "outputs": [
        {
          "output_type": "execute_result",
          "data": {
            "text/plain": [
              "0.19478920552885381"
            ]
          },
          "metadata": {
            "tags": []
          },
          "execution_count": 168
        }
      ]
    },
    {
      "cell_type": "code",
      "metadata": {
        "id": "rfsjuC3KmvX3",
        "colab_type": "code",
        "colab": {
          "base_uri": "https://localhost:8080/",
          "height": 34
        },
        "outputId": "a67c10d2-3def-4d02-9d95-d5a3d0db5e4b"
      },
      "source": [
        "#como resulta un r2 (score) bastante bajo, vamos a incluir el campo 'Record' en el entrenamiento\n",
        "feature_cols = ['Monthly Income', 'Transaction Time', 'Gender_Female', 'Gender_Male', 'City_Tier 1', 'City_Tier 2', 'City_Tier 3', 'Record']\n",
        "X = data[feature_cols]\n",
        "Y = data['Total Spend']\n",
        "lm = LinearRegression().fit(X,Y)\n",
        "dict_coefs = zip(feature_cols,lm.coef_)\n",
        "list(dict_coefs)\n",
        "lm.score(X,Y)"
      ],
      "execution_count": 169,
      "outputs": [
        {
          "output_type": "execute_result",
          "data": {
            "text/plain": [
              "0.9179923586131016"
            ]
          },
          "metadata": {
            "tags": []
          },
          "execution_count": 169
        }
      ]
    },
    {
      "cell_type": "code",
      "metadata": {
        "id": "rDJ_KR-Kr78w",
        "colab_type": "code",
        "colab": {
          "base_uri": "https://localhost:8080/",
          "height": 195
        },
        "outputId": "1f6556df-b6ed-4900-f8a8-b6518b742b69"
      },
      "source": [
        "data['predict'] = lm.predict(data[feature_cols])\n",
        "data.head()"
      ],
      "execution_count": 170,
      "outputs": [
        {
          "output_type": "execute_result",
          "data": {
            "text/html": [
              "<div>\n",
              "<style scoped>\n",
              "    .dataframe tbody tr th:only-of-type {\n",
              "        vertical-align: middle;\n",
              "    }\n",
              "\n",
              "    .dataframe tbody tr th {\n",
              "        vertical-align: top;\n",
              "    }\n",
              "\n",
              "    .dataframe thead th {\n",
              "        text-align: right;\n",
              "    }\n",
              "</style>\n",
              "<table border=\"1\" class=\"dataframe\">\n",
              "  <thead>\n",
              "    <tr style=\"text-align: right;\">\n",
              "      <th></th>\n",
              "      <th>Transaction ID</th>\n",
              "      <th>Age</th>\n",
              "      <th>Items</th>\n",
              "      <th>Monthly Income</th>\n",
              "      <th>Transaction Time</th>\n",
              "      <th>Record</th>\n",
              "      <th>Gender</th>\n",
              "      <th>City Tier</th>\n",
              "      <th>Total Spend</th>\n",
              "      <th>Gender_Female</th>\n",
              "      <th>Gender_Male</th>\n",
              "      <th>City_Tier 1</th>\n",
              "      <th>City_Tier 2</th>\n",
              "      <th>City_Tier 3</th>\n",
              "      <th>predict</th>\n",
              "    </tr>\n",
              "  </thead>\n",
              "  <tbody>\n",
              "    <tr>\n",
              "      <th>0</th>\n",
              "      <td>TXN001</td>\n",
              "      <td>42</td>\n",
              "      <td>10</td>\n",
              "      <td>7313</td>\n",
              "      <td>627.668127</td>\n",
              "      <td>5</td>\n",
              "      <td>Female</td>\n",
              "      <td>Tier 1</td>\n",
              "      <td>4198.385084</td>\n",
              "      <td>1</td>\n",
              "      <td>0</td>\n",
              "      <td>1</td>\n",
              "      <td>0</td>\n",
              "      <td>0</td>\n",
              "      <td>4903.696720</td>\n",
              "    </tr>\n",
              "    <tr>\n",
              "      <th>1</th>\n",
              "      <td>TXN002</td>\n",
              "      <td>24</td>\n",
              "      <td>8</td>\n",
              "      <td>17747</td>\n",
              "      <td>126.904567</td>\n",
              "      <td>3</td>\n",
              "      <td>Female</td>\n",
              "      <td>Tier 2</td>\n",
              "      <td>4134.976648</td>\n",
              "      <td>1</td>\n",
              "      <td>0</td>\n",
              "      <td>0</td>\n",
              "      <td>1</td>\n",
              "      <td>0</td>\n",
              "      <td>4799.434826</td>\n",
              "    </tr>\n",
              "    <tr>\n",
              "      <th>2</th>\n",
              "      <td>TXN003</td>\n",
              "      <td>47</td>\n",
              "      <td>11</td>\n",
              "      <td>22845</td>\n",
              "      <td>873.469701</td>\n",
              "      <td>2</td>\n",
              "      <td>Male</td>\n",
              "      <td>Tier 2</td>\n",
              "      <td>5166.614455</td>\n",
              "      <td>0</td>\n",
              "      <td>1</td>\n",
              "      <td>0</td>\n",
              "      <td>1</td>\n",
              "      <td>0</td>\n",
              "      <td>5157.082504</td>\n",
              "    </tr>\n",
              "    <tr>\n",
              "      <th>3</th>\n",
              "      <td>TXN004</td>\n",
              "      <td>50</td>\n",
              "      <td>11</td>\n",
              "      <td>18552</td>\n",
              "      <td>380.219428</td>\n",
              "      <td>7</td>\n",
              "      <td>Female</td>\n",
              "      <td>Tier 1</td>\n",
              "      <td>7784.447676</td>\n",
              "      <td>1</td>\n",
              "      <td>0</td>\n",
              "      <td>1</td>\n",
              "      <td>0</td>\n",
              "      <td>0</td>\n",
              "      <td>8068.012996</td>\n",
              "    </tr>\n",
              "    <tr>\n",
              "      <th>4</th>\n",
              "      <td>TXN005</td>\n",
              "      <td>60</td>\n",
              "      <td>2</td>\n",
              "      <td>14439</td>\n",
              "      <td>403.374223</td>\n",
              "      <td>2</td>\n",
              "      <td>Female</td>\n",
              "      <td>Tier 2</td>\n",
              "      <td>3254.160485</td>\n",
              "      <td>1</td>\n",
              "      <td>0</td>\n",
              "      <td>0</td>\n",
              "      <td>1</td>\n",
              "      <td>0</td>\n",
              "      <td>3581.980335</td>\n",
              "    </tr>\n",
              "  </tbody>\n",
              "</table>\n",
              "</div>"
            ],
            "text/plain": [
              "  Transaction ID  Age    Items   ...  City_Tier 2  City_Tier 3      predict\n",
              "0         TXN001    42       10  ...            0            0  4903.696720\n",
              "1         TXN002    24        8  ...            1            0  4799.434826\n",
              "2         TXN003    47       11  ...            1            0  5157.082504\n",
              "3         TXN004    50       11  ...            0            0  8068.012996\n",
              "4         TXN005    60        2  ...            1            0  3581.980335\n",
              "\n",
              "[5 rows x 15 columns]"
            ]
          },
          "metadata": {
            "tags": []
          },
          "execution_count": 170
        }
      ]
    },
    {
      "cell_type": "code",
      "metadata": {
        "id": "0dr_BklOsX7u",
        "colab_type": "code",
        "colab": {
          "base_uri": "https://localhost:8080/",
          "height": 34
        },
        "outputId": "162af9fb-a0d8-4259-fc90-4eccb39ec0bb"
      },
      "source": [
        "SSD = np.sum((data['predict'] - data['Total Spend'])**2)\n",
        "SSD"
      ],
      "execution_count": 171,
      "outputs": [
        {
          "output_type": "execute_result",
          "data": {
            "text/plain": [
              "1517733985.3408163"
            ]
          },
          "metadata": {
            "tags": []
          },
          "execution_count": 171
        }
      ]
    },
    {
      "cell_type": "code",
      "metadata": {
        "id": "hSPHKWmassVG",
        "colab_type": "code",
        "colab": {
          "base_uri": "https://localhost:8080/",
          "height": 34
        },
        "outputId": "408d69f9-f5ca-416d-ed04-eaa7cb43431b"
      },
      "source": [
        "RSE = np.sqrt(SSD/(len(data) - len(feature_cols) - 1))\n",
        "RSE"
      ],
      "execution_count": 172,
      "outputs": [
        {
          "output_type": "execute_result",
          "data": {
            "text/plain": [
              "803.1318809818165"
            ]
          },
          "metadata": {
            "tags": []
          },
          "execution_count": 172
        }
      ]
    },
    {
      "cell_type": "code",
      "metadata": {
        "id": "TfADxINcs6u3",
        "colab_type": "code",
        "colab": {
          "base_uri": "https://localhost:8080/",
          "height": 34
        },
        "outputId": "80043bd8-8216-44b3-f289-76a4e0a521a2"
      },
      "source": [
        "error = RSE / np.mean(data['Total Spend'])\n",
        "error"
      ],
      "execution_count": 173,
      "outputs": [
        {
          "output_type": "execute_result",
          "data": {
            "text/plain": [
              "0.13031135680294162"
            ]
          },
          "metadata": {
            "tags": []
          },
          "execution_count": 173
        }
      ]
    }
  ]
}
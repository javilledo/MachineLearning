{
  "nbformat": 4,
  "nbformat_minor": 0,
  "metadata": {
    "colab": {
      "name": "t02-02-data-cleaning-funciones-de-probabilidad.ipynb",
      "provenance": [],
      "collapsed_sections": [],
      "authorship_tag": "ABX9TyO8DVzBsCRIia3iho94EN8Q",
      "include_colab_link": true
    },
    "kernelspec": {
      "name": "python3",
      "display_name": "Python 3"
    }
  },
  "cells": [
    {
      "cell_type": "markdown",
      "metadata": {
        "id": "view-in-github",
        "colab_type": "text"
      },
      "source": [
        "<a href=\"https://colab.research.google.com/github/javilledo/machine-learning/blob/master/notebooks/t02_02_data_cleaning_funciones_de_probabilidad.ipynb\" target=\"_parent\"><img src=\"https://colab.research.google.com/assets/colab-badge.svg\" alt=\"Open In Colab\"/></a>"
      ]
    },
    {
      "cell_type": "markdown",
      "metadata": {
        "id": "eHoZyTyUkrMc",
        "colab_type": "text"
      },
      "source": [
        "#FUNCIONES DE DISTRIBUCIÓN DE PROBABILIDADES"
      ]
    },
    {
      "cell_type": "markdown",
      "metadata": {
        "id": "Vlzjt81VlinL",
        "colab_type": "text"
      },
      "source": [
        "##DISTRIBUCIÓN UNIFORME"
      ]
    },
    {
      "cell_type": "code",
      "metadata": {
        "id": "HAndQgx0lmSM",
        "colab_type": "code",
        "colab": {}
      },
      "source": [
        "#importación de librerías\n",
        "import numpy as np\n",
        "import matplotlib.pyplot as plt"
      ],
      "execution_count": 8,
      "outputs": []
    },
    {
      "cell_type": "code",
      "metadata": {
        "id": "5JBTPy42lrON",
        "colab_type": "code",
        "colab": {}
      },
      "source": [
        "a = 1\n",
        "b = 100\n",
        "n = 1000000\n",
        "data = np.random.uniform(a,b,n)"
      ],
      "execution_count": 25,
      "outputs": []
    },
    {
      "cell_type": "code",
      "metadata": {
        "id": "Q3ubop09mLzl",
        "colab_type": "code",
        "colab": {
          "base_uri": "https://localhost:8080/",
          "height": 366
        },
        "outputId": "7bbf60d4-037d-4424-ec66-b315527e85b3"
      },
      "source": [
        "% matplotlib inline\n",
        "plt.hist(data)\n",
        "# conforme se va aumentando el valor n, va pareciendo más uniforme"
      ],
      "execution_count": 26,
      "outputs": [
        {
          "output_type": "execute_result",
          "data": {
            "text/plain": [
              "(array([ 99506.,  99716., 100092., 100432., 100407.,  99857., 100122.,\n",
              "        100288., 100114.,  99466.]),\n",
              " array([ 1.00003989, 10.90003337, 20.80002686, 30.70002034, 40.60001382,\n",
              "        50.50000731, 60.40000079, 70.29999428, 80.19998776, 90.09998125,\n",
              "        99.99997473]),\n",
              " <a list of 10 Patch objects>)"
            ]
          },
          "metadata": {
            "tags": []
          },
          "execution_count": 26
        },
        {
          "output_type": "display_data",
          "data": {
            "image/png": "[encoded data removed]",
            "text/plain": [
              "<Figure size 432x288 with 1 Axes>"
            ]
          },
          "metadata": {
            "tags": [],
            "needs_background": "light"
          }
        }
      ]
    },
    {
      "cell_type": "markdown",
      "metadata": {
        "id": "4uqg-tdopC2f",
        "colab_type": "text"
      },
      "source": [
        "#DISTRIBUCIÓN NORMAL"
      ]
    },
    {
      "cell_type": "code",
      "metadata": {
        "id": "hsn-Rix4pGbs",
        "colab_type": "code",
        "colab": {
          "base_uri": "https://localhost:8080/",
          "height": 295
        },
        "outputId": "5e36fc8a-e76d-44a6-8d20-4823931568e7"
      },
      "source": [
        "data_normal = np.random.randn(1000000) #distribución N(0,1)\n",
        "x = range(1,1000001)\n",
        "plt.plot(x,data_normal)"
      ],
      "execution_count": 37,
      "outputs": [
        {
          "output_type": "execute_result",
          "data": {
            "text/plain": [
              "[<matplotlib.lines.Line2D at 0x7f94f7c20748>]"
            ]
          },
          "metadata": {
            "tags": []
          },
          "execution_count": 37
        },
        {
          "output_type": "display_data",
          "data": {
            "image/png": "[encoded data removed]",
            "text/plain": [
              "<Figure size 432x288 with 1 Axes>"
            ]
          },
          "metadata": {
            "tags": [],
            "needs_background": "light"
          }
        }
      ]
    },
    {
      "cell_type": "code",
      "metadata": {
        "id": "DacnIaOHqX--",
        "colab_type": "code",
        "colab": {
          "base_uri": "https://localhost:8080/",
          "height": 366
        },
        "outputId": "fa5dd19f-5b74-4f37-8c0c-f57974a2bccd"
      },
      "source": [
        "plt.hist(data_normal)"
      ],
      "execution_count": 40,
      "outputs": [
        {
          "output_type": "execute_result",
          "data": {
            "text/plain": [
              "(array([2.90000e+01, 8.66000e+02, 1.35920e+04, 9.05770e+04, 2.69003e+05,\n",
              "        3.56030e+05, 2.08334e+05, 5.49910e+04, 6.21900e+03, 3.59000e+02]),\n",
              " array([-4.98470954, -4.0519203 , -3.11913106, -2.18634182, -1.25355258,\n",
              "        -0.32076334,  0.6120259 ,  1.54481514,  2.47760438,  3.41039362,\n",
              "         4.34318286]),\n",
              " <a list of 10 Patch objects>)"
            ]
          },
          "metadata": {
            "tags": []
          },
          "execution_count": 40
        },
        {
          "output_type": "display_data",
          "data": {
            "image/png": "[encoded data removed]",
            "text/plain": [
              "<Figure size 432x288 with 1 Axes>"
            ]
          },
          "metadata": {
            "tags": [],
            "needs_background": "light"
          }
        }
      ]
    },
    {
      "cell_type": "code",
      "metadata": {
        "id": "4jJoj8JBq2DJ",
        "colab_type": "code",
        "colab": {
          "base_uri": "https://localhost:8080/",
          "height": 970
        },
        "outputId": "b916bb07-911a-4ce1-c98d-40a2af07770b"
      },
      "source": [
        "plt.hist(data_normal, bins=100)"
      ],
      "execution_count": 41,
      "outputs": [
        {
          "output_type": "execute_result",
          "data": {
            "text/plain": [
              "(array([1.0000e+00, 0.0000e+00, 0.0000e+00, 0.0000e+00, 2.0000e+00,\n",
              "        2.0000e+00, 2.0000e+00, 3.0000e+00, 8.0000e+00, 1.1000e+01,\n",
              "        1.0000e+01, 2.1000e+01, 3.6000e+01, 3.5000e+01, 4.7000e+01,\n",
              "        6.8000e+01, 1.0100e+02, 1.3300e+02, 1.7300e+02, 2.4200e+02,\n",
              "        3.4000e+02, 4.4500e+02, 5.6300e+02, 7.7800e+02, 9.7700e+02,\n",
              "        1.2860e+03, 1.5600e+03, 2.0720e+03, 2.4420e+03, 3.1290e+03,\n",
              "        3.7350e+03, 4.7280e+03, 5.5930e+03, 6.6890e+03, 7.8580e+03,\n",
              "        9.1200e+03, 1.0625e+04, 1.2290e+04, 1.3960e+04, 1.5979e+04,\n",
              "        1.7882e+04, 2.0066e+04, 2.2100e+04, 2.4187e+04, 2.6336e+04,\n",
              "        2.8119e+04, 3.0429e+04, 3.1452e+04, 3.3602e+04, 3.4830e+04,\n",
              "        3.6011e+04, 3.6889e+04, 3.7172e+04, 3.7185e+04, 3.7210e+04,\n",
              "        3.6344e+04, 3.5573e+04, 3.4708e+04, 3.3355e+04, 3.1583e+04,\n",
              "        2.9917e+04, 2.8003e+04, 2.5720e+04, 2.3956e+04, 2.1870e+04,\n",
              "        1.9742e+04, 1.7685e+04, 1.5697e+04, 1.3665e+04, 1.2079e+04,\n",
              "        1.0749e+04, 8.9760e+03, 7.7860e+03, 6.5280e+03, 5.5150e+03,\n",
              "        4.4670e+03, 3.6530e+03, 2.9860e+03, 2.3790e+03, 1.9520e+03,\n",
              "        1.5450e+03, 1.2160e+03, 8.6300e+02, 7.3500e+02, 5.3300e+02,\n",
              "        4.5900e+02, 3.1300e+02, 2.4600e+02, 1.8500e+02, 1.2400e+02,\n",
              "        1.0700e+02, 8.1000e+01, 5.9000e+01, 3.1000e+01, 2.8000e+01,\n",
              "        2.1000e+01, 1.7000e+01, 5.0000e+00, 4.0000e+00, 6.0000e+00]),\n",
              " array([-4.98470954, -4.89143062, -4.79815169, -4.70487277, -4.61159384,\n",
              "        -4.51831492, -4.425036  , -4.33175707, -4.23847815, -4.14519922,\n",
              "        -4.0519203 , -3.95864138, -3.86536245, -3.77208353, -3.6788046 ,\n",
              "        -3.58552568, -3.49224676, -3.39896783, -3.30568891, -3.21240998,\n",
              "        -3.11913106, -3.02585214, -2.93257321, -2.83929429, -2.74601536,\n",
              "        -2.65273644, -2.55945751, -2.46617859, -2.37289967, -2.27962074,\n",
              "        -2.18634182, -2.09306289, -1.99978397, -1.90650505, -1.81322612,\n",
              "        -1.7199472 , -1.62666827, -1.53338935, -1.44011043, -1.3468315 ,\n",
              "        -1.25355258, -1.16027365, -1.06699473, -0.97371581, -0.88043688,\n",
              "        -0.78715796, -0.69387903, -0.60060011, -0.50732119, -0.41404226,\n",
              "        -0.32076334, -0.22748441, -0.13420549, -0.04092657,  0.05235236,\n",
              "         0.14563128,  0.23891021,  0.33218913,  0.42546805,  0.51874698,\n",
              "         0.6120259 ,  0.70530483,  0.79858375,  0.89186267,  0.9851416 ,\n",
              "         1.07842052,  1.17169945,  1.26497837,  1.3582573 ,  1.45153622,\n",
              "         1.54481514,  1.63809407,  1.73137299,  1.82465192,  1.91793084,\n",
              "         2.01120976,  2.10448869,  2.19776761,  2.29104654,  2.38432546,\n",
              "         2.47760438,  2.57088331,  2.66416223,  2.75744116,  2.85072008,\n",
              "         2.943999  ,  3.03727793,  3.13055685,  3.22383578,  3.3171147 ,\n",
              "         3.41039362,  3.50367255,  3.59695147,  3.6902304 ,  3.78350932,\n",
              "         3.87678824,  3.97006717,  4.06334609,  4.15662502,  4.24990394,\n",
              "         4.34318286]),\n",
              " <a list of 100 Patch objects>)"
            ]
          },
          "metadata": {
            "tags": []
          },
          "execution_count": 41
        },
        {
          "output_type": "display_data",
          "data": {
            "image/png": "[encoded data removed]",
            "text/plain": [
              "<Figure size 432x288 with 1 Axes>"
            ]
          },
          "metadata": {
            "tags": [],
            "needs_background": "light"
          }
        }
      ]
    },
    {
      "cell_type": "code",
      "metadata": {
        "id": "JpD0FGt5q5T8",
        "colab_type": "code",
        "colab": {
          "base_uri": "https://localhost:8080/",
          "height": 295
        },
        "outputId": "1336a176-4482-4896-d935-4b041c5c94d3"
      },
      "source": [
        "plt.plot(x,sorted(data_normal)) #con sorted se pueden ordenar los datos"
      ],
      "execution_count": 43,
      "outputs": [
        {
          "output_type": "execute_result",
          "data": {
            "text/plain": [
              "[<matplotlib.lines.Line2D at 0x7f94f60a54e0>]"
            ]
          },
          "metadata": {
            "tags": []
          },
          "execution_count": 43
        },
        {
          "output_type": "display_data",
          "data": {
            "image/png": "[encoded data removed]",
            "text/plain": [
              "<Figure size 432x288 with 1 Axes>"
            ]
          },
          "metadata": {
            "tags": [],
            "needs_background": "light"
          }
        }
      ]
    },
    {
      "cell_type": "code",
      "metadata": {
        "id": "zXnW2iVercPk",
        "colab_type": "code",
        "colab": {
          "base_uri": "https://localhost:8080/",
          "height": 366
        },
        "outputId": "9a4e35bc-7cfb-4472-86ae-516167915f1f"
      },
      "source": [
        "#Para crear una distribución normal pero no centrada en 0 ni con desviación típica de 1\n",
        "mu = 5.5\n",
        "sd = 2.5\n",
        "data_normal_mu_sd = sd * np.random.randn(1000000) + mu\n",
        "plt.hist(data_normal_mu_sd)"
      ],
      "execution_count": 45,
      "outputs": [
        {
          "output_type": "execute_result",
          "data": {
            "text/plain": [
              "(array([1.69000e+02, 4.13100e+03, 4.25640e+04, 1.88164e+05, 3.53972e+05,\n",
              "        2.91215e+05, 1.03094e+05, 1.56200e+04, 1.04600e+03, 2.50000e+01]),\n",
              " array([-5.82331837, -3.44621471, -1.06911105,  1.3079926 ,  3.68509626,\n",
              "         6.06219992,  8.43930358, 10.81640723, 13.19351089, 15.57061455,\n",
              "        17.9477182 ]),\n",
              " <a list of 10 Patch objects>)"
            ]
          },
          "metadata": {
            "tags": []
          },
          "execution_count": 45
        },
        {
          "output_type": "display_data",
          "data": {
            "image/png": "[encoded data removed]",
            "text/plain": [
              "<Figure size 432x288 with 1 Axes>"
            ]
          },
          "metadata": {
            "tags": [],
            "needs_background": "light"
          }
        }
      ]
    },
    {
      "cell_type": "markdown",
      "metadata": {
        "id": "cYKCCnWwtCex",
        "colab_type": "text"
      },
      "source": [
        "Esta formulación procede de que para normalizar una distribución normal a N(0,1) se realiza haciendo Z = (X - mu) / sd --> N(0,1), así X = mu + Z * sd. Esto se llama TEOREMA CENTRAL DEL LÍMITE"
      ]
    },
    {
      "cell_type": "code",
      "metadata": {
        "id": "r3rB-PKPtq0k",
        "colab_type": "code",
        "colab": {
          "base_uri": "https://localhost:8080/",
          "height": 50
        },
        "outputId": "c95b6245-2e26-4b1c-cf86-7eab3b7e5afb"
      },
      "source": [
        "data_arrays = np.random.randn(2,4) #dos arrays de 4 valores cada uno\n",
        "data_arrays"
      ],
      "execution_count": 46,
      "outputs": [
        {
          "output_type": "execute_result",
          "data": {
            "text/plain": [
              "array([[-0.82460316,  0.80749435, -0.51601231, -0.30128383],\n",
              "       [ 1.06980159,  1.35262234,  1.41967002,  0.42496807]])"
            ]
          },
          "metadata": {
            "tags": []
          },
          "execution_count": 46
        }
      ]
    }
  ]
}
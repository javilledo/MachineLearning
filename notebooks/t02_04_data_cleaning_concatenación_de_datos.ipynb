{
  "nbformat": 4,
  "nbformat_minor": 0,
  "metadata": {
    "colab": {
      "name": "t02-04-data-cleaning-concatenación-de-datos.ipynb",
      "provenance": [],
      "collapsed_sections": [],
      "authorship_tag": "ABX9TyO9KL3A7aRASSjYlUC7ty1p",
      "include_colab_link": true
    },
    "kernelspec": {
      "name": "python3",
      "display_name": "Python 3"
    }
  },
  "cells": [
    {
      "cell_type": "markdown",
      "metadata": {
        "id": "view-in-github",
        "colab_type": "text"
      },
      "source": [
        "<a href=\"https://colab.research.google.com/github/javilledo/machine-learning/blob/master/notebooks/t02_04_data_cleaning_concatenaci%C3%B3n_de_datos.ipynb\" target=\"_parent\"><img src=\"https://colab.research.google.com/assets/colab-badge.svg\" alt=\"Open In Colab\"/></a>"
      ]
    },
    {
      "cell_type": "markdown",
      "metadata": {
        "id": "7INHEcGv_XG4",
        "colab_type": "text"
      },
      "source": [
        "#CONCATENAR Y APENDIZAR DATASETS"
      ]
    },
    {
      "cell_type": "code",
      "metadata": {
        "id": "aFHKa-RG_InK",
        "colab_type": "code",
        "colab": {}
      },
      "source": [
        "import pandas as pd"
      ],
      "execution_count": 2,
      "outputs": []
    },
    {
      "cell_type": "code",
      "metadata": {
        "id": "7XAsgLeA_xqd",
        "colab_type": "code",
        "colab": {}
      },
      "source": [
        "url_white_wine = 'https://raw.githubusercontent.com/javilledo/python-ml-course/master/datasets/wine/winequality-white.csv'\n",
        "white_wine_data = pd.read_csv(url_white_wine,sep = ';')\n",
        "\n",
        "url_red_wine = 'https://raw.githubusercontent.com/javilledo/python-ml-course/master/datasets/wine/winequality-red.csv'\n",
        "red_wine_data = pd.read_csv(url_red_wine, sep = ';') "
      ],
      "execution_count": 3,
      "outputs": []
    },
    {
      "cell_type": "code",
      "metadata": {
        "id": "ughETpSVARF_",
        "colab_type": "code",
        "colab": {
          "base_uri": "https://localhost:8080/",
          "height": 50
        },
        "outputId": "c5cf5a04-7eba-4e99-81bc-0a33ffcf95a2"
      },
      "source": [
        "print('Hay un total de %s vinos tintos' % len(red_wine_data))\n",
        "print('Hay un total de %s vinos blancos' % len(white_wine_data))"
      ],
      "execution_count": 10,
      "outputs": [
        {
          "output_type": "stream",
          "text": [
            "Hay un total de 1599 vinos tintos\n",
            "Hay un total de 4898 vinos blancos\n"
          ],
          "name": "stdout"
        }
      ]
    },
    {
      "cell_type": "code",
      "metadata": {
        "id": "iDazP-wjAxXE",
        "colab_type": "code",
        "colab": {
          "base_uri": "https://localhost:8080/",
          "height": 84
        },
        "outputId": "890bd475-d4f5-4ff9-abde-6088ebcc8692"
      },
      "source": [
        "red_wine_data.columns.values"
      ],
      "execution_count": 11,
      "outputs": [
        {
          "output_type": "execute_result",
          "data": {
            "text/plain": [
              "array(['fixed acidity', 'volatile acidity', 'citric acid',\n",
              "       'residual sugar', 'chlorides', 'free sulfur dioxide',\n",
              "       'total sulfur dioxide', 'density', 'pH', 'sulphates', 'alcohol',\n",
              "       'quality'], dtype=object)"
            ]
          },
          "metadata": {
            "tags": []
          },
          "execution_count": 11
        }
      ]
    },
    {
      "cell_type": "code",
      "metadata": {
        "id": "BiVsVE1YA2kD",
        "colab_type": "code",
        "colab": {
          "base_uri": "https://localhost:8080/",
          "height": 84
        },
        "outputId": "5a301747-1227-476b-a65a-c8bc1fa2e89f"
      },
      "source": [
        "white_wine_data.columns.values"
      ],
      "execution_count": 12,
      "outputs": [
        {
          "output_type": "execute_result",
          "data": {
            "text/plain": [
              "array(['fixed acidity', 'volatile acidity', 'citric acid',\n",
              "       'residual sugar', 'chlorides', 'free sulfur dioxide',\n",
              "       'total sulfur dioxide', 'density', 'pH', 'sulphates', 'alcohol',\n",
              "       'quality'], dtype=object)"
            ]
          },
          "metadata": {
            "tags": []
          },
          "execution_count": 12
        }
      ]
    }
  ]
}
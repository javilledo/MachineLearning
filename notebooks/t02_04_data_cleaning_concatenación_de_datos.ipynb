{
  "nbformat": 4,
  "nbformat_minor": 0,
  "metadata": {
    "colab": {
      "name": "t02-04-data-cleaning-concatenación-de-datos.ipynb",
      "provenance": [],
      "collapsed_sections": [],
      "authorship_tag": "ABX9TyNYk5Fxh89tgvuhZhizJ3oW",
      "include_colab_link": true
    },
    "kernelspec": {
      "name": "python3",
      "display_name": "Python 3"
    }
  },
  "cells": [
    {
      "cell_type": "markdown",
      "metadata": {
        "id": "view-in-github",
        "colab_type": "text"
      },
      "source": [
        "<a href=\"https://colab.research.google.com/github/javilledo/machine-learning/blob/master/notebooks/t02_04_data_cleaning_concatenaci%C3%B3n_de_datos.ipynb\" target=\"_parent\"><img src=\"https://colab.research.google.com/assets/colab-badge.svg\" alt=\"Open In Colab\"/></a>"
      ]
    },
    {
      "cell_type": "markdown",
      "metadata": {
        "id": "7INHEcGv_XG4",
        "colab_type": "text"
      },
      "source": [
        "#CONCATENAR Y APENDIZAR DATASETS"
      ]
    },
    {
      "cell_type": "code",
      "metadata": {
        "id": "aFHKa-RG_InK",
        "colab_type": "code",
        "colab": {}
      },
      "source": [
        "import pandas as pd"
      ],
      "execution_count": 1,
      "outputs": []
    },
    {
      "cell_type": "code",
      "metadata": {
        "id": "7XAsgLeA_xqd",
        "colab_type": "code",
        "colab": {}
      },
      "source": [
        "url_white_wine = 'https://raw.githubusercontent.com/javilledo/python-ml-course/master/datasets/wine/winequality-white.csv'\n",
        "white_wine_data = pd.read_csv(url_white_wine,sep = ';')\n",
        "\n",
        "url_red_wine = 'https://raw.githubusercontent.com/javilledo/python-ml-course/master/datasets/wine/winequality-red.csv'\n",
        "red_wine_data = pd.read_csv(url_red_wine, sep = ';') "
      ],
      "execution_count": 2,
      "outputs": []
    },
    {
      "cell_type": "code",
      "metadata": {
        "id": "ughETpSVARF_",
        "colab_type": "code",
        "colab": {
          "base_uri": "https://localhost:8080/",
          "height": 50
        },
        "outputId": "89644685-3416-4bc4-c5f5-084afb725250"
      },
      "source": [
        "print('Hay un total de %s vinos tintos' % len(red_wine_data))\n",
        "print('Hay un total de %s vinos blancos' % len(white_wine_data))"
      ],
      "execution_count": 3,
      "outputs": [
        {
          "output_type": "stream",
          "text": [
            "Hay un total de 1599 vinos tintos\n",
            "Hay un total de 4898 vinos blancos\n"
          ],
          "name": "stdout"
        }
      ]
    },
    {
      "cell_type": "code",
      "metadata": {
        "id": "iDazP-wjAxXE",
        "colab_type": "code",
        "colab": {
          "base_uri": "https://localhost:8080/",
          "height": 84
        },
        "outputId": "05c7fc64-b4b0-4798-e7e0-c1674217d8f3"
      },
      "source": [
        "red_wine_data.columns.values"
      ],
      "execution_count": 4,
      "outputs": [
        {
          "output_type": "execute_result",
          "data": {
            "text/plain": [
              "array(['fixed acidity', 'volatile acidity', 'citric acid',\n",
              "       'residual sugar', 'chlorides', 'free sulfur dioxide',\n",
              "       'total sulfur dioxide', 'density', 'pH', 'sulphates', 'alcohol',\n",
              "       'quality'], dtype=object)"
            ]
          },
          "metadata": {
            "tags": []
          },
          "execution_count": 4
        }
      ]
    },
    {
      "cell_type": "code",
      "metadata": {
        "id": "BiVsVE1YA2kD",
        "colab_type": "code",
        "colab": {
          "base_uri": "https://localhost:8080/",
          "height": 84
        },
        "outputId": "9c63307b-18ce-4702-9587-ce74ff0d8a4b"
      },
      "source": [
        "white_wine_data.columns.values"
      ],
      "execution_count": 5,
      "outputs": [
        {
          "output_type": "execute_result",
          "data": {
            "text/plain": [
              "array(['fixed acidity', 'volatile acidity', 'citric acid',\n",
              "       'residual sugar', 'chlorides', 'free sulfur dioxide',\n",
              "       'total sulfur dioxide', 'density', 'pH', 'sulphates', 'alcohol',\n",
              "       'quality'], dtype=object)"
            ]
          },
          "metadata": {
            "tags": []
          },
          "execution_count": 5
        }
      ]
    },
    {
      "cell_type": "markdown",
      "metadata": {
        "id": "fnjD4B9gBCYw",
        "colab_type": "text"
      },
      "source": [
        "En python existen dos tipos de ejes:\n",
        "* Axis = 0 denota el eje horizontal\n",
        "* Axis = 1, denota el eje vertical"
      ]
    },
    {
      "cell_type": "code",
      "metadata": {
        "id": "tEth7X7hBK7W",
        "colab_type": "code",
        "colab": {
          "base_uri": "https://localhost:8080/",
          "height": 34
        },
        "outputId": "bcda6265-954c-4574-9930-5cf0c6686e20"
      },
      "source": [
        "wine_data = pd.concat([red_wine_data,white_wine_data], axis = 0)\n",
        "print('Hay un total de %s vinos' % len(wine_data))"
      ],
      "execution_count": 6,
      "outputs": [
        {
          "output_type": "stream",
          "text": [
            "Hay un total de 6497 vinos\n"
          ],
          "name": "stdout"
        }
      ]
    },
    {
      "cell_type": "markdown",
      "metadata": {
        "id": "vLUCBxf4CEvb",
        "colab_type": "text"
      },
      "source": [
        "Todo esto se llama scramblear, y a continuación se va a trabajar con ello extrayendo pequeños datasets y combinándolos. Es importante el orden con el que se incluyen en concat, ya que ese orden es el que va a usar"
      ]
    },
    {
      "cell_type": "code",
      "metadata": {
        "id": "AndmQOrECOzc",
        "colab_type": "code",
        "colab": {
          "base_uri": "https://localhost:8080/",
          "height": 935
        },
        "outputId": "810d6f8d-2461-44cc-ae00-be1e72e7b98f"
      },
      "source": [
        "data1 = wine_data.head(10)\n",
        "data2 = wine_data[300:310]\n",
        "data3 = wine_data.tail(10)\n",
        "wine_scramble = pd.concat([data1, data2, data3], axis = 0)\n",
        "wine_scramble"
      ],
      "execution_count": 7,
      "outputs": [
        {
          "output_type": "execute_result",
          "data": {
            "text/html": [
              "<div>\n",
              "<style scoped>\n",
              "    .dataframe tbody tr th:only-of-type {\n",
              "        vertical-align: middle;\n",
              "    }\n",
              "\n",
              "    .dataframe tbody tr th {\n",
              "        vertical-align: top;\n",
              "    }\n",
              "\n",
              "    .dataframe thead th {\n",
              "        text-align: right;\n",
              "    }\n",
              "</style>\n",
              "<table border=\"1\" class=\"dataframe\">\n",
              "  <thead>\n",
              "    <tr style=\"text-align: right;\">\n",
              "      <th></th>\n",
              "      <th>fixed acidity</th>\n",
              "      <th>volatile acidity</th>\n",
              "      <th>citric acid</th>\n",
              "      <th>residual sugar</th>\n",
              "      <th>chlorides</th>\n",
              "      <th>free sulfur dioxide</th>\n",
              "      <th>total sulfur dioxide</th>\n",
              "      <th>density</th>\n",
              "      <th>pH</th>\n",
              "      <th>sulphates</th>\n",
              "      <th>alcohol</th>\n",
              "      <th>quality</th>\n",
              "    </tr>\n",
              "  </thead>\n",
              "  <tbody>\n",
              "    <tr>\n",
              "      <th>0</th>\n",
              "      <td>7.4</td>\n",
              "      <td>0.700</td>\n",
              "      <td>0.00</td>\n",
              "      <td>1.90</td>\n",
              "      <td>0.076</td>\n",
              "      <td>11.0</td>\n",
              "      <td>34.0</td>\n",
              "      <td>0.99780</td>\n",
              "      <td>3.51</td>\n",
              "      <td>0.56</td>\n",
              "      <td>9.4</td>\n",
              "      <td>5</td>\n",
              "    </tr>\n",
              "    <tr>\n",
              "      <th>1</th>\n",
              "      <td>7.8</td>\n",
              "      <td>0.880</td>\n",
              "      <td>0.00</td>\n",
              "      <td>2.60</td>\n",
              "      <td>0.098</td>\n",
              "      <td>25.0</td>\n",
              "      <td>67.0</td>\n",
              "      <td>0.99680</td>\n",
              "      <td>3.20</td>\n",
              "      <td>0.68</td>\n",
              "      <td>9.8</td>\n",
              "      <td>5</td>\n",
              "    </tr>\n",
              "    <tr>\n",
              "      <th>2</th>\n",
              "      <td>7.8</td>\n",
              "      <td>0.760</td>\n",
              "      <td>0.04</td>\n",
              "      <td>2.30</td>\n",
              "      <td>0.092</td>\n",
              "      <td>15.0</td>\n",
              "      <td>54.0</td>\n",
              "      <td>0.99700</td>\n",
              "      <td>3.26</td>\n",
              "      <td>0.65</td>\n",
              "      <td>9.8</td>\n",
              "      <td>5</td>\n",
              "    </tr>\n",
              "    <tr>\n",
              "      <th>3</th>\n",
              "      <td>11.2</td>\n",
              "      <td>0.280</td>\n",
              "      <td>0.56</td>\n",
              "      <td>1.90</td>\n",
              "      <td>0.075</td>\n",
              "      <td>17.0</td>\n",
              "      <td>60.0</td>\n",
              "      <td>0.99800</td>\n",
              "      <td>3.16</td>\n",
              "      <td>0.58</td>\n",
              "      <td>9.8</td>\n",
              "      <td>6</td>\n",
              "    </tr>\n",
              "    <tr>\n",
              "      <th>4</th>\n",
              "      <td>7.4</td>\n",
              "      <td>0.700</td>\n",
              "      <td>0.00</td>\n",
              "      <td>1.90</td>\n",
              "      <td>0.076</td>\n",
              "      <td>11.0</td>\n",
              "      <td>34.0</td>\n",
              "      <td>0.99780</td>\n",
              "      <td>3.51</td>\n",
              "      <td>0.56</td>\n",
              "      <td>9.4</td>\n",
              "      <td>5</td>\n",
              "    </tr>\n",
              "    <tr>\n",
              "      <th>5</th>\n",
              "      <td>7.4</td>\n",
              "      <td>0.660</td>\n",
              "      <td>0.00</td>\n",
              "      <td>1.80</td>\n",
              "      <td>0.075</td>\n",
              "      <td>13.0</td>\n",
              "      <td>40.0</td>\n",
              "      <td>0.99780</td>\n",
              "      <td>3.51</td>\n",
              "      <td>0.56</td>\n",
              "      <td>9.4</td>\n",
              "      <td>5</td>\n",
              "    </tr>\n",
              "    <tr>\n",
              "      <th>6</th>\n",
              "      <td>7.9</td>\n",
              "      <td>0.600</td>\n",
              "      <td>0.06</td>\n",
              "      <td>1.60</td>\n",
              "      <td>0.069</td>\n",
              "      <td>15.0</td>\n",
              "      <td>59.0</td>\n",
              "      <td>0.99640</td>\n",
              "      <td>3.30</td>\n",
              "      <td>0.46</td>\n",
              "      <td>9.4</td>\n",
              "      <td>5</td>\n",
              "    </tr>\n",
              "    <tr>\n",
              "      <th>7</th>\n",
              "      <td>7.3</td>\n",
              "      <td>0.650</td>\n",
              "      <td>0.00</td>\n",
              "      <td>1.20</td>\n",
              "      <td>0.065</td>\n",
              "      <td>15.0</td>\n",
              "      <td>21.0</td>\n",
              "      <td>0.99460</td>\n",
              "      <td>3.39</td>\n",
              "      <td>0.47</td>\n",
              "      <td>10.0</td>\n",
              "      <td>7</td>\n",
              "    </tr>\n",
              "    <tr>\n",
              "      <th>8</th>\n",
              "      <td>7.8</td>\n",
              "      <td>0.580</td>\n",
              "      <td>0.02</td>\n",
              "      <td>2.00</td>\n",
              "      <td>0.073</td>\n",
              "      <td>9.0</td>\n",
              "      <td>18.0</td>\n",
              "      <td>0.99680</td>\n",
              "      <td>3.36</td>\n",
              "      <td>0.57</td>\n",
              "      <td>9.5</td>\n",
              "      <td>7</td>\n",
              "    </tr>\n",
              "    <tr>\n",
              "      <th>9</th>\n",
              "      <td>7.5</td>\n",
              "      <td>0.500</td>\n",
              "      <td>0.36</td>\n",
              "      <td>6.10</td>\n",
              "      <td>0.071</td>\n",
              "      <td>17.0</td>\n",
              "      <td>102.0</td>\n",
              "      <td>0.99780</td>\n",
              "      <td>3.35</td>\n",
              "      <td>0.80</td>\n",
              "      <td>10.5</td>\n",
              "      <td>5</td>\n",
              "    </tr>\n",
              "    <tr>\n",
              "      <th>300</th>\n",
              "      <td>7.5</td>\n",
              "      <td>0.530</td>\n",
              "      <td>0.06</td>\n",
              "      <td>2.60</td>\n",
              "      <td>0.086</td>\n",
              "      <td>20.0</td>\n",
              "      <td>44.0</td>\n",
              "      <td>0.99650</td>\n",
              "      <td>3.38</td>\n",
              "      <td>0.59</td>\n",
              "      <td>10.7</td>\n",
              "      <td>6</td>\n",
              "    </tr>\n",
              "    <tr>\n",
              "      <th>301</th>\n",
              "      <td>11.1</td>\n",
              "      <td>0.180</td>\n",
              "      <td>0.48</td>\n",
              "      <td>1.50</td>\n",
              "      <td>0.068</td>\n",
              "      <td>7.0</td>\n",
              "      <td>15.0</td>\n",
              "      <td>0.99730</td>\n",
              "      <td>3.22</td>\n",
              "      <td>0.64</td>\n",
              "      <td>10.1</td>\n",
              "      <td>6</td>\n",
              "    </tr>\n",
              "    <tr>\n",
              "      <th>302</th>\n",
              "      <td>8.3</td>\n",
              "      <td>0.705</td>\n",
              "      <td>0.12</td>\n",
              "      <td>2.60</td>\n",
              "      <td>0.092</td>\n",
              "      <td>12.0</td>\n",
              "      <td>28.0</td>\n",
              "      <td>0.99940</td>\n",
              "      <td>3.51</td>\n",
              "      <td>0.72</td>\n",
              "      <td>10.0</td>\n",
              "      <td>5</td>\n",
              "    </tr>\n",
              "    <tr>\n",
              "      <th>303</th>\n",
              "      <td>7.4</td>\n",
              "      <td>0.670</td>\n",
              "      <td>0.12</td>\n",
              "      <td>1.60</td>\n",
              "      <td>0.186</td>\n",
              "      <td>5.0</td>\n",
              "      <td>21.0</td>\n",
              "      <td>0.99600</td>\n",
              "      <td>3.39</td>\n",
              "      <td>0.54</td>\n",
              "      <td>9.5</td>\n",
              "      <td>5</td>\n",
              "    </tr>\n",
              "    <tr>\n",
              "      <th>304</th>\n",
              "      <td>8.4</td>\n",
              "      <td>0.650</td>\n",
              "      <td>0.60</td>\n",
              "      <td>2.10</td>\n",
              "      <td>0.112</td>\n",
              "      <td>12.0</td>\n",
              "      <td>90.0</td>\n",
              "      <td>0.99730</td>\n",
              "      <td>3.20</td>\n",
              "      <td>0.52</td>\n",
              "      <td>9.2</td>\n",
              "      <td>5</td>\n",
              "    </tr>\n",
              "    <tr>\n",
              "      <th>305</th>\n",
              "      <td>10.3</td>\n",
              "      <td>0.530</td>\n",
              "      <td>0.48</td>\n",
              "      <td>2.50</td>\n",
              "      <td>0.063</td>\n",
              "      <td>6.0</td>\n",
              "      <td>25.0</td>\n",
              "      <td>0.99980</td>\n",
              "      <td>3.12</td>\n",
              "      <td>0.59</td>\n",
              "      <td>9.3</td>\n",
              "      <td>6</td>\n",
              "    </tr>\n",
              "    <tr>\n",
              "      <th>306</th>\n",
              "      <td>7.6</td>\n",
              "      <td>0.620</td>\n",
              "      <td>0.32</td>\n",
              "      <td>2.20</td>\n",
              "      <td>0.082</td>\n",
              "      <td>7.0</td>\n",
              "      <td>54.0</td>\n",
              "      <td>0.99660</td>\n",
              "      <td>3.36</td>\n",
              "      <td>0.52</td>\n",
              "      <td>9.4</td>\n",
              "      <td>5</td>\n",
              "    </tr>\n",
              "    <tr>\n",
              "      <th>307</th>\n",
              "      <td>10.3</td>\n",
              "      <td>0.410</td>\n",
              "      <td>0.42</td>\n",
              "      <td>2.40</td>\n",
              "      <td>0.213</td>\n",
              "      <td>6.0</td>\n",
              "      <td>14.0</td>\n",
              "      <td>0.99940</td>\n",
              "      <td>3.19</td>\n",
              "      <td>0.62</td>\n",
              "      <td>9.5</td>\n",
              "      <td>6</td>\n",
              "    </tr>\n",
              "    <tr>\n",
              "      <th>308</th>\n",
              "      <td>10.3</td>\n",
              "      <td>0.430</td>\n",
              "      <td>0.44</td>\n",
              "      <td>2.40</td>\n",
              "      <td>0.214</td>\n",
              "      <td>5.0</td>\n",
              "      <td>12.0</td>\n",
              "      <td>0.99940</td>\n",
              "      <td>3.19</td>\n",
              "      <td>0.63</td>\n",
              "      <td>9.5</td>\n",
              "      <td>6</td>\n",
              "    </tr>\n",
              "    <tr>\n",
              "      <th>309</th>\n",
              "      <td>7.4</td>\n",
              "      <td>0.290</td>\n",
              "      <td>0.38</td>\n",
              "      <td>1.70</td>\n",
              "      <td>0.062</td>\n",
              "      <td>9.0</td>\n",
              "      <td>30.0</td>\n",
              "      <td>0.99680</td>\n",
              "      <td>3.41</td>\n",
              "      <td>0.53</td>\n",
              "      <td>9.5</td>\n",
              "      <td>6</td>\n",
              "    </tr>\n",
              "    <tr>\n",
              "      <th>4888</th>\n",
              "      <td>6.8</td>\n",
              "      <td>0.220</td>\n",
              "      <td>0.36</td>\n",
              "      <td>1.20</td>\n",
              "      <td>0.052</td>\n",
              "      <td>38.0</td>\n",
              "      <td>127.0</td>\n",
              "      <td>0.99330</td>\n",
              "      <td>3.04</td>\n",
              "      <td>0.54</td>\n",
              "      <td>9.2</td>\n",
              "      <td>5</td>\n",
              "    </tr>\n",
              "    <tr>\n",
              "      <th>4889</th>\n",
              "      <td>4.9</td>\n",
              "      <td>0.235</td>\n",
              "      <td>0.27</td>\n",
              "      <td>11.75</td>\n",
              "      <td>0.030</td>\n",
              "      <td>34.0</td>\n",
              "      <td>118.0</td>\n",
              "      <td>0.99540</td>\n",
              "      <td>3.07</td>\n",
              "      <td>0.50</td>\n",
              "      <td>9.4</td>\n",
              "      <td>6</td>\n",
              "    </tr>\n",
              "    <tr>\n",
              "      <th>4890</th>\n",
              "      <td>6.1</td>\n",
              "      <td>0.340</td>\n",
              "      <td>0.29</td>\n",
              "      <td>2.20</td>\n",
              "      <td>0.036</td>\n",
              "      <td>25.0</td>\n",
              "      <td>100.0</td>\n",
              "      <td>0.98938</td>\n",
              "      <td>3.06</td>\n",
              "      <td>0.44</td>\n",
              "      <td>11.8</td>\n",
              "      <td>6</td>\n",
              "    </tr>\n",
              "    <tr>\n",
              "      <th>4891</th>\n",
              "      <td>5.7</td>\n",
              "      <td>0.210</td>\n",
              "      <td>0.32</td>\n",
              "      <td>0.90</td>\n",
              "      <td>0.038</td>\n",
              "      <td>38.0</td>\n",
              "      <td>121.0</td>\n",
              "      <td>0.99074</td>\n",
              "      <td>3.24</td>\n",
              "      <td>0.46</td>\n",
              "      <td>10.6</td>\n",
              "      <td>6</td>\n",
              "    </tr>\n",
              "    <tr>\n",
              "      <th>4892</th>\n",
              "      <td>6.5</td>\n",
              "      <td>0.230</td>\n",
              "      <td>0.38</td>\n",
              "      <td>1.30</td>\n",
              "      <td>0.032</td>\n",
              "      <td>29.0</td>\n",
              "      <td>112.0</td>\n",
              "      <td>0.99298</td>\n",
              "      <td>3.29</td>\n",
              "      <td>0.54</td>\n",
              "      <td>9.7</td>\n",
              "      <td>5</td>\n",
              "    </tr>\n",
              "    <tr>\n",
              "      <th>4893</th>\n",
              "      <td>6.2</td>\n",
              "      <td>0.210</td>\n",
              "      <td>0.29</td>\n",
              "      <td>1.60</td>\n",
              "      <td>0.039</td>\n",
              "      <td>24.0</td>\n",
              "      <td>92.0</td>\n",
              "      <td>0.99114</td>\n",
              "      <td>3.27</td>\n",
              "      <td>0.50</td>\n",
              "      <td>11.2</td>\n",
              "      <td>6</td>\n",
              "    </tr>\n",
              "    <tr>\n",
              "      <th>4894</th>\n",
              "      <td>6.6</td>\n",
              "      <td>0.320</td>\n",
              "      <td>0.36</td>\n",
              "      <td>8.00</td>\n",
              "      <td>0.047</td>\n",
              "      <td>57.0</td>\n",
              "      <td>168.0</td>\n",
              "      <td>0.99490</td>\n",
              "      <td>3.15</td>\n",
              "      <td>0.46</td>\n",
              "      <td>9.6</td>\n",
              "      <td>5</td>\n",
              "    </tr>\n",
              "    <tr>\n",
              "      <th>4895</th>\n",
              "      <td>6.5</td>\n",
              "      <td>0.240</td>\n",
              "      <td>0.19</td>\n",
              "      <td>1.20</td>\n",
              "      <td>0.041</td>\n",
              "      <td>30.0</td>\n",
              "      <td>111.0</td>\n",
              "      <td>0.99254</td>\n",
              "      <td>2.99</td>\n",
              "      <td>0.46</td>\n",
              "      <td>9.4</td>\n",
              "      <td>6</td>\n",
              "    </tr>\n",
              "    <tr>\n",
              "      <th>4896</th>\n",
              "      <td>5.5</td>\n",
              "      <td>0.290</td>\n",
              "      <td>0.30</td>\n",
              "      <td>1.10</td>\n",
              "      <td>0.022</td>\n",
              "      <td>20.0</td>\n",
              "      <td>110.0</td>\n",
              "      <td>0.98869</td>\n",
              "      <td>3.34</td>\n",
              "      <td>0.38</td>\n",
              "      <td>12.8</td>\n",
              "      <td>7</td>\n",
              "    </tr>\n",
              "    <tr>\n",
              "      <th>4897</th>\n",
              "      <td>6.0</td>\n",
              "      <td>0.210</td>\n",
              "      <td>0.38</td>\n",
              "      <td>0.80</td>\n",
              "      <td>0.020</td>\n",
              "      <td>22.0</td>\n",
              "      <td>98.0</td>\n",
              "      <td>0.98941</td>\n",
              "      <td>3.26</td>\n",
              "      <td>0.32</td>\n",
              "      <td>11.8</td>\n",
              "      <td>6</td>\n",
              "    </tr>\n",
              "  </tbody>\n",
              "</table>\n",
              "</div>"
            ],
            "text/plain": [
              "      fixed acidity  volatile acidity  citric acid  ...  sulphates  alcohol  quality\n",
              "0               7.4             0.700         0.00  ...       0.56      9.4        5\n",
              "1               7.8             0.880         0.00  ...       0.68      9.8        5\n",
              "2               7.8             0.760         0.04  ...       0.65      9.8        5\n",
              "3              11.2             0.280         0.56  ...       0.58      9.8        6\n",
              "4               7.4             0.700         0.00  ...       0.56      9.4        5\n",
              "5               7.4             0.660         0.00  ...       0.56      9.4        5\n",
              "6               7.9             0.600         0.06  ...       0.46      9.4        5\n",
              "7               7.3             0.650         0.00  ...       0.47     10.0        7\n",
              "8               7.8             0.580         0.02  ...       0.57      9.5        7\n",
              "9               7.5             0.500         0.36  ...       0.80     10.5        5\n",
              "300             7.5             0.530         0.06  ...       0.59     10.7        6\n",
              "301            11.1             0.180         0.48  ...       0.64     10.1        6\n",
              "302             8.3             0.705         0.12  ...       0.72     10.0        5\n",
              "303             7.4             0.670         0.12  ...       0.54      9.5        5\n",
              "304             8.4             0.650         0.60  ...       0.52      9.2        5\n",
              "305            10.3             0.530         0.48  ...       0.59      9.3        6\n",
              "306             7.6             0.620         0.32  ...       0.52      9.4        5\n",
              "307            10.3             0.410         0.42  ...       0.62      9.5        6\n",
              "308            10.3             0.430         0.44  ...       0.63      9.5        6\n",
              "309             7.4             0.290         0.38  ...       0.53      9.5        6\n",
              "4888            6.8             0.220         0.36  ...       0.54      9.2        5\n",
              "4889            4.9             0.235         0.27  ...       0.50      9.4        6\n",
              "4890            6.1             0.340         0.29  ...       0.44     11.8        6\n",
              "4891            5.7             0.210         0.32  ...       0.46     10.6        6\n",
              "4892            6.5             0.230         0.38  ...       0.54      9.7        5\n",
              "4893            6.2             0.210         0.29  ...       0.50     11.2        6\n",
              "4894            6.6             0.320         0.36  ...       0.46      9.6        5\n",
              "4895            6.5             0.240         0.19  ...       0.46      9.4        6\n",
              "4896            5.5             0.290         0.30  ...       0.38     12.8        7\n",
              "4897            6.0             0.210         0.38  ...       0.32     11.8        6\n",
              "\n",
              "[30 rows x 12 columns]"
            ]
          },
          "metadata": {
            "tags": []
          },
          "execution_count": 7
        }
      ]
    },
    {
      "cell_type": "code",
      "metadata": {
        "id": "09bpaP4XCqdn",
        "colab_type": "code",
        "colab": {
          "base_uri": "https://localhost:8080/",
          "height": 935
        },
        "outputId": "3f22fb42-d6cf-4c02-a6af-f0ab19af49fb"
      },
      "source": [
        "wine_scramble = pd.concat ([data2, data1, data3], axis = 0)\n",
        "wine_scramble"
      ],
      "execution_count": 8,
      "outputs": [
        {
          "output_type": "execute_result",
          "data": {
            "text/html": [
              "<div>\n",
              "<style scoped>\n",
              "    .dataframe tbody tr th:only-of-type {\n",
              "        vertical-align: middle;\n",
              "    }\n",
              "\n",
              "    .dataframe tbody tr th {\n",
              "        vertical-align: top;\n",
              "    }\n",
              "\n",
              "    .dataframe thead th {\n",
              "        text-align: right;\n",
              "    }\n",
              "</style>\n",
              "<table border=\"1\" class=\"dataframe\">\n",
              "  <thead>\n",
              "    <tr style=\"text-align: right;\">\n",
              "      <th></th>\n",
              "      <th>fixed acidity</th>\n",
              "      <th>volatile acidity</th>\n",
              "      <th>citric acid</th>\n",
              "      <th>residual sugar</th>\n",
              "      <th>chlorides</th>\n",
              "      <th>free sulfur dioxide</th>\n",
              "      <th>total sulfur dioxide</th>\n",
              "      <th>density</th>\n",
              "      <th>pH</th>\n",
              "      <th>sulphates</th>\n",
              "      <th>alcohol</th>\n",
              "      <th>quality</th>\n",
              "    </tr>\n",
              "  </thead>\n",
              "  <tbody>\n",
              "    <tr>\n",
              "      <th>300</th>\n",
              "      <td>7.5</td>\n",
              "      <td>0.530</td>\n",
              "      <td>0.06</td>\n",
              "      <td>2.60</td>\n",
              "      <td>0.086</td>\n",
              "      <td>20.0</td>\n",
              "      <td>44.0</td>\n",
              "      <td>0.99650</td>\n",
              "      <td>3.38</td>\n",
              "      <td>0.59</td>\n",
              "      <td>10.7</td>\n",
              "      <td>6</td>\n",
              "    </tr>\n",
              "    <tr>\n",
              "      <th>301</th>\n",
              "      <td>11.1</td>\n",
              "      <td>0.180</td>\n",
              "      <td>0.48</td>\n",
              "      <td>1.50</td>\n",
              "      <td>0.068</td>\n",
              "      <td>7.0</td>\n",
              "      <td>15.0</td>\n",
              "      <td>0.99730</td>\n",
              "      <td>3.22</td>\n",
              "      <td>0.64</td>\n",
              "      <td>10.1</td>\n",
              "      <td>6</td>\n",
              "    </tr>\n",
              "    <tr>\n",
              "      <th>302</th>\n",
              "      <td>8.3</td>\n",
              "      <td>0.705</td>\n",
              "      <td>0.12</td>\n",
              "      <td>2.60</td>\n",
              "      <td>0.092</td>\n",
              "      <td>12.0</td>\n",
              "      <td>28.0</td>\n",
              "      <td>0.99940</td>\n",
              "      <td>3.51</td>\n",
              "      <td>0.72</td>\n",
              "      <td>10.0</td>\n",
              "      <td>5</td>\n",
              "    </tr>\n",
              "    <tr>\n",
              "      <th>303</th>\n",
              "      <td>7.4</td>\n",
              "      <td>0.670</td>\n",
              "      <td>0.12</td>\n",
              "      <td>1.60</td>\n",
              "      <td>0.186</td>\n",
              "      <td>5.0</td>\n",
              "      <td>21.0</td>\n",
              "      <td>0.99600</td>\n",
              "      <td>3.39</td>\n",
              "      <td>0.54</td>\n",
              "      <td>9.5</td>\n",
              "      <td>5</td>\n",
              "    </tr>\n",
              "    <tr>\n",
              "      <th>304</th>\n",
              "      <td>8.4</td>\n",
              "      <td>0.650</td>\n",
              "      <td>0.60</td>\n",
              "      <td>2.10</td>\n",
              "      <td>0.112</td>\n",
              "      <td>12.0</td>\n",
              "      <td>90.0</td>\n",
              "      <td>0.99730</td>\n",
              "      <td>3.20</td>\n",
              "      <td>0.52</td>\n",
              "      <td>9.2</td>\n",
              "      <td>5</td>\n",
              "    </tr>\n",
              "    <tr>\n",
              "      <th>305</th>\n",
              "      <td>10.3</td>\n",
              "      <td>0.530</td>\n",
              "      <td>0.48</td>\n",
              "      <td>2.50</td>\n",
              "      <td>0.063</td>\n",
              "      <td>6.0</td>\n",
              "      <td>25.0</td>\n",
              "      <td>0.99980</td>\n",
              "      <td>3.12</td>\n",
              "      <td>0.59</td>\n",
              "      <td>9.3</td>\n",
              "      <td>6</td>\n",
              "    </tr>\n",
              "    <tr>\n",
              "      <th>306</th>\n",
              "      <td>7.6</td>\n",
              "      <td>0.620</td>\n",
              "      <td>0.32</td>\n",
              "      <td>2.20</td>\n",
              "      <td>0.082</td>\n",
              "      <td>7.0</td>\n",
              "      <td>54.0</td>\n",
              "      <td>0.99660</td>\n",
              "      <td>3.36</td>\n",
              "      <td>0.52</td>\n",
              "      <td>9.4</td>\n",
              "      <td>5</td>\n",
              "    </tr>\n",
              "    <tr>\n",
              "      <th>307</th>\n",
              "      <td>10.3</td>\n",
              "      <td>0.410</td>\n",
              "      <td>0.42</td>\n",
              "      <td>2.40</td>\n",
              "      <td>0.213</td>\n",
              "      <td>6.0</td>\n",
              "      <td>14.0</td>\n",
              "      <td>0.99940</td>\n",
              "      <td>3.19</td>\n",
              "      <td>0.62</td>\n",
              "      <td>9.5</td>\n",
              "      <td>6</td>\n",
              "    </tr>\n",
              "    <tr>\n",
              "      <th>308</th>\n",
              "      <td>10.3</td>\n",
              "      <td>0.430</td>\n",
              "      <td>0.44</td>\n",
              "      <td>2.40</td>\n",
              "      <td>0.214</td>\n",
              "      <td>5.0</td>\n",
              "      <td>12.0</td>\n",
              "      <td>0.99940</td>\n",
              "      <td>3.19</td>\n",
              "      <td>0.63</td>\n",
              "      <td>9.5</td>\n",
              "      <td>6</td>\n",
              "    </tr>\n",
              "    <tr>\n",
              "      <th>309</th>\n",
              "      <td>7.4</td>\n",
              "      <td>0.290</td>\n",
              "      <td>0.38</td>\n",
              "      <td>1.70</td>\n",
              "      <td>0.062</td>\n",
              "      <td>9.0</td>\n",
              "      <td>30.0</td>\n",
              "      <td>0.99680</td>\n",
              "      <td>3.41</td>\n",
              "      <td>0.53</td>\n",
              "      <td>9.5</td>\n",
              "      <td>6</td>\n",
              "    </tr>\n",
              "    <tr>\n",
              "      <th>0</th>\n",
              "      <td>7.4</td>\n",
              "      <td>0.700</td>\n",
              "      <td>0.00</td>\n",
              "      <td>1.90</td>\n",
              "      <td>0.076</td>\n",
              "      <td>11.0</td>\n",
              "      <td>34.0</td>\n",
              "      <td>0.99780</td>\n",
              "      <td>3.51</td>\n",
              "      <td>0.56</td>\n",
              "      <td>9.4</td>\n",
              "      <td>5</td>\n",
              "    </tr>\n",
              "    <tr>\n",
              "      <th>1</th>\n",
              "      <td>7.8</td>\n",
              "      <td>0.880</td>\n",
              "      <td>0.00</td>\n",
              "      <td>2.60</td>\n",
              "      <td>0.098</td>\n",
              "      <td>25.0</td>\n",
              "      <td>67.0</td>\n",
              "      <td>0.99680</td>\n",
              "      <td>3.20</td>\n",
              "      <td>0.68</td>\n",
              "      <td>9.8</td>\n",
              "      <td>5</td>\n",
              "    </tr>\n",
              "    <tr>\n",
              "      <th>2</th>\n",
              "      <td>7.8</td>\n",
              "      <td>0.760</td>\n",
              "      <td>0.04</td>\n",
              "      <td>2.30</td>\n",
              "      <td>0.092</td>\n",
              "      <td>15.0</td>\n",
              "      <td>54.0</td>\n",
              "      <td>0.99700</td>\n",
              "      <td>3.26</td>\n",
              "      <td>0.65</td>\n",
              "      <td>9.8</td>\n",
              "      <td>5</td>\n",
              "    </tr>\n",
              "    <tr>\n",
              "      <th>3</th>\n",
              "      <td>11.2</td>\n",
              "      <td>0.280</td>\n",
              "      <td>0.56</td>\n",
              "      <td>1.90</td>\n",
              "      <td>0.075</td>\n",
              "      <td>17.0</td>\n",
              "      <td>60.0</td>\n",
              "      <td>0.99800</td>\n",
              "      <td>3.16</td>\n",
              "      <td>0.58</td>\n",
              "      <td>9.8</td>\n",
              "      <td>6</td>\n",
              "    </tr>\n",
              "    <tr>\n",
              "      <th>4</th>\n",
              "      <td>7.4</td>\n",
              "      <td>0.700</td>\n",
              "      <td>0.00</td>\n",
              "      <td>1.90</td>\n",
              "      <td>0.076</td>\n",
              "      <td>11.0</td>\n",
              "      <td>34.0</td>\n",
              "      <td>0.99780</td>\n",
              "      <td>3.51</td>\n",
              "      <td>0.56</td>\n",
              "      <td>9.4</td>\n",
              "      <td>5</td>\n",
              "    </tr>\n",
              "    <tr>\n",
              "      <th>5</th>\n",
              "      <td>7.4</td>\n",
              "      <td>0.660</td>\n",
              "      <td>0.00</td>\n",
              "      <td>1.80</td>\n",
              "      <td>0.075</td>\n",
              "      <td>13.0</td>\n",
              "      <td>40.0</td>\n",
              "      <td>0.99780</td>\n",
              "      <td>3.51</td>\n",
              "      <td>0.56</td>\n",
              "      <td>9.4</td>\n",
              "      <td>5</td>\n",
              "    </tr>\n",
              "    <tr>\n",
              "      <th>6</th>\n",
              "      <td>7.9</td>\n",
              "      <td>0.600</td>\n",
              "      <td>0.06</td>\n",
              "      <td>1.60</td>\n",
              "      <td>0.069</td>\n",
              "      <td>15.0</td>\n",
              "      <td>59.0</td>\n",
              "      <td>0.99640</td>\n",
              "      <td>3.30</td>\n",
              "      <td>0.46</td>\n",
              "      <td>9.4</td>\n",
              "      <td>5</td>\n",
              "    </tr>\n",
              "    <tr>\n",
              "      <th>7</th>\n",
              "      <td>7.3</td>\n",
              "      <td>0.650</td>\n",
              "      <td>0.00</td>\n",
              "      <td>1.20</td>\n",
              "      <td>0.065</td>\n",
              "      <td>15.0</td>\n",
              "      <td>21.0</td>\n",
              "      <td>0.99460</td>\n",
              "      <td>3.39</td>\n",
              "      <td>0.47</td>\n",
              "      <td>10.0</td>\n",
              "      <td>7</td>\n",
              "    </tr>\n",
              "    <tr>\n",
              "      <th>8</th>\n",
              "      <td>7.8</td>\n",
              "      <td>0.580</td>\n",
              "      <td>0.02</td>\n",
              "      <td>2.00</td>\n",
              "      <td>0.073</td>\n",
              "      <td>9.0</td>\n",
              "      <td>18.0</td>\n",
              "      <td>0.99680</td>\n",
              "      <td>3.36</td>\n",
              "      <td>0.57</td>\n",
              "      <td>9.5</td>\n",
              "      <td>7</td>\n",
              "    </tr>\n",
              "    <tr>\n",
              "      <th>9</th>\n",
              "      <td>7.5</td>\n",
              "      <td>0.500</td>\n",
              "      <td>0.36</td>\n",
              "      <td>6.10</td>\n",
              "      <td>0.071</td>\n",
              "      <td>17.0</td>\n",
              "      <td>102.0</td>\n",
              "      <td>0.99780</td>\n",
              "      <td>3.35</td>\n",
              "      <td>0.80</td>\n",
              "      <td>10.5</td>\n",
              "      <td>5</td>\n",
              "    </tr>\n",
              "    <tr>\n",
              "      <th>4888</th>\n",
              "      <td>6.8</td>\n",
              "      <td>0.220</td>\n",
              "      <td>0.36</td>\n",
              "      <td>1.20</td>\n",
              "      <td>0.052</td>\n",
              "      <td>38.0</td>\n",
              "      <td>127.0</td>\n",
              "      <td>0.99330</td>\n",
              "      <td>3.04</td>\n",
              "      <td>0.54</td>\n",
              "      <td>9.2</td>\n",
              "      <td>5</td>\n",
              "    </tr>\n",
              "    <tr>\n",
              "      <th>4889</th>\n",
              "      <td>4.9</td>\n",
              "      <td>0.235</td>\n",
              "      <td>0.27</td>\n",
              "      <td>11.75</td>\n",
              "      <td>0.030</td>\n",
              "      <td>34.0</td>\n",
              "      <td>118.0</td>\n",
              "      <td>0.99540</td>\n",
              "      <td>3.07</td>\n",
              "      <td>0.50</td>\n",
              "      <td>9.4</td>\n",
              "      <td>6</td>\n",
              "    </tr>\n",
              "    <tr>\n",
              "      <th>4890</th>\n",
              "      <td>6.1</td>\n",
              "      <td>0.340</td>\n",
              "      <td>0.29</td>\n",
              "      <td>2.20</td>\n",
              "      <td>0.036</td>\n",
              "      <td>25.0</td>\n",
              "      <td>100.0</td>\n",
              "      <td>0.98938</td>\n",
              "      <td>3.06</td>\n",
              "      <td>0.44</td>\n",
              "      <td>11.8</td>\n",
              "      <td>6</td>\n",
              "    </tr>\n",
              "    <tr>\n",
              "      <th>4891</th>\n",
              "      <td>5.7</td>\n",
              "      <td>0.210</td>\n",
              "      <td>0.32</td>\n",
              "      <td>0.90</td>\n",
              "      <td>0.038</td>\n",
              "      <td>38.0</td>\n",
              "      <td>121.0</td>\n",
              "      <td>0.99074</td>\n",
              "      <td>3.24</td>\n",
              "      <td>0.46</td>\n",
              "      <td>10.6</td>\n",
              "      <td>6</td>\n",
              "    </tr>\n",
              "    <tr>\n",
              "      <th>4892</th>\n",
              "      <td>6.5</td>\n",
              "      <td>0.230</td>\n",
              "      <td>0.38</td>\n",
              "      <td>1.30</td>\n",
              "      <td>0.032</td>\n",
              "      <td>29.0</td>\n",
              "      <td>112.0</td>\n",
              "      <td>0.99298</td>\n",
              "      <td>3.29</td>\n",
              "      <td>0.54</td>\n",
              "      <td>9.7</td>\n",
              "      <td>5</td>\n",
              "    </tr>\n",
              "    <tr>\n",
              "      <th>4893</th>\n",
              "      <td>6.2</td>\n",
              "      <td>0.210</td>\n",
              "      <td>0.29</td>\n",
              "      <td>1.60</td>\n",
              "      <td>0.039</td>\n",
              "      <td>24.0</td>\n",
              "      <td>92.0</td>\n",
              "      <td>0.99114</td>\n",
              "      <td>3.27</td>\n",
              "      <td>0.50</td>\n",
              "      <td>11.2</td>\n",
              "      <td>6</td>\n",
              "    </tr>\n",
              "    <tr>\n",
              "      <th>4894</th>\n",
              "      <td>6.6</td>\n",
              "      <td>0.320</td>\n",
              "      <td>0.36</td>\n",
              "      <td>8.00</td>\n",
              "      <td>0.047</td>\n",
              "      <td>57.0</td>\n",
              "      <td>168.0</td>\n",
              "      <td>0.99490</td>\n",
              "      <td>3.15</td>\n",
              "      <td>0.46</td>\n",
              "      <td>9.6</td>\n",
              "      <td>5</td>\n",
              "    </tr>\n",
              "    <tr>\n",
              "      <th>4895</th>\n",
              "      <td>6.5</td>\n",
              "      <td>0.240</td>\n",
              "      <td>0.19</td>\n",
              "      <td>1.20</td>\n",
              "      <td>0.041</td>\n",
              "      <td>30.0</td>\n",
              "      <td>111.0</td>\n",
              "      <td>0.99254</td>\n",
              "      <td>2.99</td>\n",
              "      <td>0.46</td>\n",
              "      <td>9.4</td>\n",
              "      <td>6</td>\n",
              "    </tr>\n",
              "    <tr>\n",
              "      <th>4896</th>\n",
              "      <td>5.5</td>\n",
              "      <td>0.290</td>\n",
              "      <td>0.30</td>\n",
              "      <td>1.10</td>\n",
              "      <td>0.022</td>\n",
              "      <td>20.0</td>\n",
              "      <td>110.0</td>\n",
              "      <td>0.98869</td>\n",
              "      <td>3.34</td>\n",
              "      <td>0.38</td>\n",
              "      <td>12.8</td>\n",
              "      <td>7</td>\n",
              "    </tr>\n",
              "    <tr>\n",
              "      <th>4897</th>\n",
              "      <td>6.0</td>\n",
              "      <td>0.210</td>\n",
              "      <td>0.38</td>\n",
              "      <td>0.80</td>\n",
              "      <td>0.020</td>\n",
              "      <td>22.0</td>\n",
              "      <td>98.0</td>\n",
              "      <td>0.98941</td>\n",
              "      <td>3.26</td>\n",
              "      <td>0.32</td>\n",
              "      <td>11.8</td>\n",
              "      <td>6</td>\n",
              "    </tr>\n",
              "  </tbody>\n",
              "</table>\n",
              "</div>"
            ],
            "text/plain": [
              "      fixed acidity  volatile acidity  citric acid  ...  sulphates  alcohol  quality\n",
              "300             7.5             0.530         0.06  ...       0.59     10.7        6\n",
              "301            11.1             0.180         0.48  ...       0.64     10.1        6\n",
              "302             8.3             0.705         0.12  ...       0.72     10.0        5\n",
              "303             7.4             0.670         0.12  ...       0.54      9.5        5\n",
              "304             8.4             0.650         0.60  ...       0.52      9.2        5\n",
              "305            10.3             0.530         0.48  ...       0.59      9.3        6\n",
              "306             7.6             0.620         0.32  ...       0.52      9.4        5\n",
              "307            10.3             0.410         0.42  ...       0.62      9.5        6\n",
              "308            10.3             0.430         0.44  ...       0.63      9.5        6\n",
              "309             7.4             0.290         0.38  ...       0.53      9.5        6\n",
              "0               7.4             0.700         0.00  ...       0.56      9.4        5\n",
              "1               7.8             0.880         0.00  ...       0.68      9.8        5\n",
              "2               7.8             0.760         0.04  ...       0.65      9.8        5\n",
              "3              11.2             0.280         0.56  ...       0.58      9.8        6\n",
              "4               7.4             0.700         0.00  ...       0.56      9.4        5\n",
              "5               7.4             0.660         0.00  ...       0.56      9.4        5\n",
              "6               7.9             0.600         0.06  ...       0.46      9.4        5\n",
              "7               7.3             0.650         0.00  ...       0.47     10.0        7\n",
              "8               7.8             0.580         0.02  ...       0.57      9.5        7\n",
              "9               7.5             0.500         0.36  ...       0.80     10.5        5\n",
              "4888            6.8             0.220         0.36  ...       0.54      9.2        5\n",
              "4889            4.9             0.235         0.27  ...       0.50      9.4        6\n",
              "4890            6.1             0.340         0.29  ...       0.44     11.8        6\n",
              "4891            5.7             0.210         0.32  ...       0.46     10.6        6\n",
              "4892            6.5             0.230         0.38  ...       0.54      9.7        5\n",
              "4893            6.2             0.210         0.29  ...       0.50     11.2        6\n",
              "4894            6.6             0.320         0.36  ...       0.46      9.6        5\n",
              "4895            6.5             0.240         0.19  ...       0.46      9.4        6\n",
              "4896            5.5             0.290         0.30  ...       0.38     12.8        7\n",
              "4897            6.0             0.210         0.38  ...       0.32     11.8        6\n",
              "\n",
              "[30 rows x 12 columns]"
            ]
          },
          "metadata": {
            "tags": []
          },
          "execution_count": 8
        }
      ]
    },
    {
      "cell_type": "markdown",
      "metadata": {
        "id": "C6cryxmPGd-q",
        "colab_type": "text"
      },
      "source": [
        "#DATOS DISTRIBUIDOS\n",
        "Se tratará en este apartado cómo aglutinar en un único Dataset datos provenientes de diferentes archivos, por ejemplo, lecturas de diferentes sensores"
      ]
    },
    {
      "cell_type": "code",
      "metadata": {
        "id": "7Vi7QGiTGqD1",
        "colab_type": "code",
        "colab": {
          "base_uri": "https://localhost:8080/",
          "height": 134
        },
        "outputId": "de5686ed-6916-488b-ffe7-6c32017a5105"
      },
      "source": [
        "import pandas as pd\n",
        "\n",
        "#Inicialmente analizaremos el primer fichero para ver cómo está organizado\n",
        "url_general ='https://raw.githubusercontent.com/javilledo/python-ml-course/master/datasets/distributed-data/' \n",
        "filename = '001.csv'\n",
        "url_001 = url_general + filename\n",
        "data_001 = pd.read_csv(url_001)\n",
        "print(data_001.head())\n",
        "print(data_001.shape)\n",
        "#matriz sparse significa que la mayoría de datos no aparecen"
      ],
      "execution_count": 9,
      "outputs": [
        {
          "output_type": "stream",
          "text": [
            "         Date  sulfate  nitrate  ID\n",
            "0  2003-01-01      NaN      NaN   1\n",
            "1  2003-01-02      NaN      NaN   1\n",
            "2  2003-01-03      NaN      NaN   1\n",
            "3  2003-01-04      NaN      NaN   1\n",
            "4  2003-01-05      NaN      NaN   1\n",
            "(1461, 4)\n"
          ],
          "name": "stdout"
        }
      ]
    },
    {
      "cell_type": "markdown",
      "metadata": {
        "id": "Id8-FiedIgN8",
        "colab_type": "text"
      },
      "source": [
        "## SECUENCIA A EJECUTAR\n",
        "* Importar el primer fichero\n",
        "* Hacer bucle para ir recorriendo todos y cada uno de los ficheros.\n",
        " * Importante tener consistencia en nombre de ficheros.\n",
        " * Importar ficheros uno a uno\n",
        " * Cada uno de ellos debe apendizarse al primer fichero\n",
        "* Repetimos el bucle hasta que no queden ficheros"
      ]
    },
    {
      "cell_type": "code",
      "metadata": {
        "id": "Fbg41WkxIR3_",
        "colab_type": "code",
        "colab": {}
      },
      "source": [
        "import pandas as pd\n",
        "\n",
        "url_base = 'https://raw.githubusercontent.com/javilledo/python-ml-course/master/datasets/distributed-data/' \n",
        "filename = '001.csv'\n",
        "url = url_general + filename\n",
        "data = pd.read_csv(url)\n",
        "\n",
        "final_len = len(data)\n",
        "\n",
        "for i in range(2,333):\n",
        "  if i < 10:\n",
        "    filename = '00' + str(i) + '.csv'\n",
        "  elif i < 100:\n",
        "    filename = '0' + str(i) + '.csv'\n",
        "  else:\n",
        "    filename = str(i) + '.csv'\n",
        "  url = url_general + filename\n",
        "  datafile = pd.read_csv(url)\n",
        "  final_len += len(datafile)\n",
        "  data = pd.concat([data, datafile], axis = 0)\n",
        "  final_len"
      ],
      "execution_count": 11,
      "outputs": []
    },
    {
      "cell_type": "code",
      "metadata": {
        "id": "9HhekM5hkm-T",
        "colab_type": "code",
        "colab": {}
      },
      "source": [
        "final_len == data.shape[0]"
      ],
      "execution_count": null,
      "outputs": []
    },
    {
      "cell_type": "code",
      "metadata": {
        "id": "eQW6ohL6TbBU",
        "colab_type": "code",
        "colab": {}
      },
      "source": [
        "data.shape"
      ],
      "execution_count": null,
      "outputs": []
    },
    {
      "cell_type": "code",
      "metadata": {
        "id": "UyYEZAsWTczk",
        "colab_type": "code",
        "colab": {}
      },
      "source": [
        "data.head()"
      ],
      "execution_count": null,
      "outputs": []
    },
    {
      "cell_type": "code",
      "metadata": {
        "id": "k74C3KtYjqzz",
        "colab_type": "code",
        "colab": {}
      },
      "source": [
        "data.tail()"
      ],
      "execution_count": null,
      "outputs": []
    },
    {
      "cell_type": "markdown",
      "metadata": {
        "id": "LhIzz2XDlUA_",
        "colab_type": "text"
      },
      "source": [
        "#JOINS DE DATASETS"
      ]
    },
    {
      "cell_type": "code",
      "metadata": {
        "id": "wnoRqUvF627q",
        "colab_type": "code",
        "colab": {
          "base_uri": "https://localhost:8080/",
          "height": 195
        },
        "outputId": "ee837759-f27b-43f8-ebd5-fc0c1a357f3d"
      },
      "source": [
        "url_main_data = 'https://raw.githubusercontent.com/javilledo/python-ml-course/master/datasets/athletes/Medals.csv'\n",
        "main_data = pd.read_csv(url_main_data, encoding = 'ISO-8859-1')\n",
        "main_data.head()"
      ],
      "execution_count": 15,
      "outputs": [
        {
          "output_type": "execute_result",
          "data": {
            "text/html": [
              "<div>\n",
              "<style scoped>\n",
              "    .dataframe tbody tr th:only-of-type {\n",
              "        vertical-align: middle;\n",
              "    }\n",
              "\n",
              "    .dataframe tbody tr th {\n",
              "        vertical-align: top;\n",
              "    }\n",
              "\n",
              "    .dataframe thead th {\n",
              "        text-align: right;\n",
              "    }\n",
              "</style>\n",
              "<table border=\"1\" class=\"dataframe\">\n",
              "  <thead>\n",
              "    <tr style=\"text-align: right;\">\n",
              "      <th></th>\n",
              "      <th>Athlete</th>\n",
              "      <th>Age</th>\n",
              "      <th>Year</th>\n",
              "      <th>Closing Ceremony Date</th>\n",
              "      <th>Gold Medals</th>\n",
              "      <th>Silver Medals</th>\n",
              "      <th>Bronze Medals</th>\n",
              "      <th>Total Medals</th>\n",
              "    </tr>\n",
              "  </thead>\n",
              "  <tbody>\n",
              "    <tr>\n",
              "      <th>0</th>\n",
              "      <td>Michael Phelps</td>\n",
              "      <td>23.0</td>\n",
              "      <td>2008</td>\n",
              "      <td>08/24/2008</td>\n",
              "      <td>8</td>\n",
              "      <td>0</td>\n",
              "      <td>0</td>\n",
              "      <td>8</td>\n",
              "    </tr>\n",
              "    <tr>\n",
              "      <th>1</th>\n",
              "      <td>Michael Phelps</td>\n",
              "      <td>19.0</td>\n",
              "      <td>2004</td>\n",
              "      <td>08/29/2004</td>\n",
              "      <td>6</td>\n",
              "      <td>0</td>\n",
              "      <td>2</td>\n",
              "      <td>8</td>\n",
              "    </tr>\n",
              "    <tr>\n",
              "      <th>2</th>\n",
              "      <td>Michael Phelps</td>\n",
              "      <td>27.0</td>\n",
              "      <td>2012</td>\n",
              "      <td>08/12/2012</td>\n",
              "      <td>4</td>\n",
              "      <td>2</td>\n",
              "      <td>0</td>\n",
              "      <td>6</td>\n",
              "    </tr>\n",
              "    <tr>\n",
              "      <th>3</th>\n",
              "      <td>Natalie Coughlin</td>\n",
              "      <td>25.0</td>\n",
              "      <td>2008</td>\n",
              "      <td>08/24/2008</td>\n",
              "      <td>1</td>\n",
              "      <td>2</td>\n",
              "      <td>3</td>\n",
              "      <td>6</td>\n",
              "    </tr>\n",
              "    <tr>\n",
              "      <th>4</th>\n",
              "      <td>Aleksey Nemov</td>\n",
              "      <td>24.0</td>\n",
              "      <td>2000</td>\n",
              "      <td>10/01/2000</td>\n",
              "      <td>2</td>\n",
              "      <td>1</td>\n",
              "      <td>3</td>\n",
              "      <td>6</td>\n",
              "    </tr>\n",
              "  </tbody>\n",
              "</table>\n",
              "</div>"
            ],
            "text/plain": [
              "            Athlete   Age  Year  ... Silver Medals  Bronze Medals  Total Medals\n",
              "0    Michael Phelps  23.0  2008  ...             0              0             8\n",
              "1    Michael Phelps  19.0  2004  ...             0              2             8\n",
              "2    Michael Phelps  27.0  2012  ...             2              0             6\n",
              "3  Natalie Coughlin  25.0  2008  ...             2              3             6\n",
              "4     Aleksey Nemov  24.0  2000  ...             1              3             6\n",
              "\n",
              "[5 rows x 8 columns]"
            ]
          },
          "metadata": {
            "tags": []
          },
          "execution_count": 15
        }
      ]
    },
    {
      "cell_type": "code",
      "metadata": {
        "id": "Uz8vZQqH8XVz",
        "colab_type": "code",
        "colab": {
          "base_uri": "https://localhost:8080/",
          "height": 34
        },
        "outputId": "70b96805-4bc4-441b-ead2-b471608b4fcc"
      },
      "source": [
        "#como los atletas aparecen varias veces según el año, vamos a ver cuantos atletas salen\n",
        "athletes = main_data['Athlete'].unique().tolist()\n",
        "print('Hay %s atletas pero el dataset tiene %s registros' % (len(athletes), main_data.shape[0]))"
      ],
      "execution_count": 17,
      "outputs": [
        {
          "output_type": "stream",
          "text": [
            "Hay 6956 atletas pero el dataset tiene 8618 registros\n"
          ],
          "name": "stdout"
        }
      ]
    },
    {
      "cell_type": "code",
      "metadata": {
        "id": "oTL8_20t9Gu2",
        "colab_type": "code",
        "colab": {
          "base_uri": "https://localhost:8080/",
          "height": 195
        },
        "outputId": "a41f4808-2e33-485f-f835-f560b81ae6b5"
      },
      "source": [
        "url_data_country = 'https://raw.githubusercontent.com/javilledo/python-ml-course/master/datasets/athletes/Athelete_Country_Map.csv'\n",
        "data_country = pd.read_csv(url_data_country, encoding = 'ISO-8859-1')\n",
        "data_country.head()"
      ],
      "execution_count": 20,
      "outputs": [
        {
          "output_type": "execute_result",
          "data": {
            "text/html": [
              "<div>\n",
              "<style scoped>\n",
              "    .dataframe tbody tr th:only-of-type {\n",
              "        vertical-align: middle;\n",
              "    }\n",
              "\n",
              "    .dataframe tbody tr th {\n",
              "        vertical-align: top;\n",
              "    }\n",
              "\n",
              "    .dataframe thead th {\n",
              "        text-align: right;\n",
              "    }\n",
              "</style>\n",
              "<table border=\"1\" class=\"dataframe\">\n",
              "  <thead>\n",
              "    <tr style=\"text-align: right;\">\n",
              "      <th></th>\n",
              "      <th>Athlete</th>\n",
              "      <th>Country</th>\n",
              "    </tr>\n",
              "  </thead>\n",
              "  <tbody>\n",
              "    <tr>\n",
              "      <th>0</th>\n",
              "      <td>Michael Phelps</td>\n",
              "      <td>United States</td>\n",
              "    </tr>\n",
              "    <tr>\n",
              "      <th>1</th>\n",
              "      <td>Natalie Coughlin</td>\n",
              "      <td>United States</td>\n",
              "    </tr>\n",
              "    <tr>\n",
              "      <th>2</th>\n",
              "      <td>Aleksey Nemov</td>\n",
              "      <td>Russia</td>\n",
              "    </tr>\n",
              "    <tr>\n",
              "      <th>3</th>\n",
              "      <td>Alicia Coutts</td>\n",
              "      <td>Australia</td>\n",
              "    </tr>\n",
              "    <tr>\n",
              "      <th>4</th>\n",
              "      <td>Missy Franklin</td>\n",
              "      <td>United States</td>\n",
              "    </tr>\n",
              "  </tbody>\n",
              "</table>\n",
              "</div>"
            ],
            "text/plain": [
              "            Athlete        Country\n",
              "0    Michael Phelps  United States\n",
              "1  Natalie Coughlin  United States\n",
              "2     Aleksey Nemov         Russia\n",
              "3     Alicia Coutts      Australia\n",
              "4    Missy Franklin  United States"
            ]
          },
          "metadata": {
            "tags": []
          },
          "execution_count": 20
        }
      ]
    },
    {
      "cell_type": "code",
      "metadata": {
        "id": "Z0BVRgrK9_fq",
        "colab_type": "code",
        "colab": {
          "base_uri": "https://localhost:8080/",
          "height": 34
        },
        "outputId": "8f13964c-4594-47ea-e845-7483ff8c38e1"
      },
      "source": [
        "len(data_country)"
      ],
      "execution_count": 21,
      "outputs": [
        {
          "output_type": "execute_result",
          "data": {
            "text/plain": [
              "6970"
            ]
          },
          "metadata": {
            "tags": []
          },
          "execution_count": 21
        }
      ]
    },
    {
      "cell_type": "code",
      "metadata": {
        "id": "V0HuYQuHFxO2",
        "colab_type": "code",
        "colab": {
          "base_uri": "https://localhost:8080/",
          "height": 106
        },
        "outputId": "8a4bcc06-e010-4987-c0c2-72496f9a71d8"
      },
      "source": [
        "#La diferencia se debe a que algunos paises cambiaron de nombre, por ejemplo...\n",
        "data_country[data_country['Athlete'] == 'Aleksandar Ciric']"
      ],
      "execution_count": 24,
      "outputs": [
        {
          "output_type": "execute_result",
          "data": {
            "text/html": [
              "<div>\n",
              "<style scoped>\n",
              "    .dataframe tbody tr th:only-of-type {\n",
              "        vertical-align: middle;\n",
              "    }\n",
              "\n",
              "    .dataframe tbody tr th {\n",
              "        vertical-align: top;\n",
              "    }\n",
              "\n",
              "    .dataframe thead th {\n",
              "        text-align: right;\n",
              "    }\n",
              "</style>\n",
              "<table border=\"1\" class=\"dataframe\">\n",
              "  <thead>\n",
              "    <tr style=\"text-align: right;\">\n",
              "      <th></th>\n",
              "      <th>Athlete</th>\n",
              "      <th>Country</th>\n",
              "    </tr>\n",
              "  </thead>\n",
              "  <tbody>\n",
              "    <tr>\n",
              "      <th>1029</th>\n",
              "      <td>Aleksandar Ciric</td>\n",
              "      <td>Serbia</td>\n",
              "    </tr>\n",
              "    <tr>\n",
              "      <th>1086</th>\n",
              "      <td>Aleksandar Ciric</td>\n",
              "      <td>Serbia and Montenegro</td>\n",
              "    </tr>\n",
              "  </tbody>\n",
              "</table>\n",
              "</div>"
            ],
            "text/plain": [
              "               Athlete                Country\n",
              "1029  Aleksandar Ciric                 Serbia\n",
              "1086  Aleksandar Ciric  Serbia and Montenegro"
            ]
          },
          "metadata": {
            "tags": []
          },
          "execution_count": 24
        }
      ]
    },
    {
      "cell_type": "code",
      "metadata": {
        "id": "1tmyYsRUFatB",
        "colab_type": "code",
        "colab": {
          "base_uri": "https://localhost:8080/",
          "height": 195
        },
        "outputId": "a2ac37dd-01f8-4aa6-ccb2-0b71a7bc4404"
      },
      "source": [
        "url_data_sports = 'https://raw.githubusercontent.com/javilledo/python-ml-course/master/datasets/athletes/Athelete_Sports_Map.csv'\n",
        "data_sports = pd.read_csv(url_data_sports, encoding = 'ISO-8859-1')\n",
        "data_sports.head()"
      ],
      "execution_count": 28,
      "outputs": [
        {
          "output_type": "execute_result",
          "data": {
            "text/html": [
              "<div>\n",
              "<style scoped>\n",
              "    .dataframe tbody tr th:only-of-type {\n",
              "        vertical-align: middle;\n",
              "    }\n",
              "\n",
              "    .dataframe tbody tr th {\n",
              "        vertical-align: top;\n",
              "    }\n",
              "\n",
              "    .dataframe thead th {\n",
              "        text-align: right;\n",
              "    }\n",
              "</style>\n",
              "<table border=\"1\" class=\"dataframe\">\n",
              "  <thead>\n",
              "    <tr style=\"text-align: right;\">\n",
              "      <th></th>\n",
              "      <th>Athlete</th>\n",
              "      <th>Sport</th>\n",
              "    </tr>\n",
              "  </thead>\n",
              "  <tbody>\n",
              "    <tr>\n",
              "      <th>0</th>\n",
              "      <td>Michael Phelps</td>\n",
              "      <td>Swimming</td>\n",
              "    </tr>\n",
              "    <tr>\n",
              "      <th>1</th>\n",
              "      <td>Natalie Coughlin</td>\n",
              "      <td>Swimming</td>\n",
              "    </tr>\n",
              "    <tr>\n",
              "      <th>2</th>\n",
              "      <td>Aleksey Nemov</td>\n",
              "      <td>Gymnastics</td>\n",
              "    </tr>\n",
              "    <tr>\n",
              "      <th>3</th>\n",
              "      <td>Alicia Coutts</td>\n",
              "      <td>Swimming</td>\n",
              "    </tr>\n",
              "    <tr>\n",
              "      <th>4</th>\n",
              "      <td>Missy Franklin</td>\n",
              "      <td>Swimming</td>\n",
              "    </tr>\n",
              "  </tbody>\n",
              "</table>\n",
              "</div>"
            ],
            "text/plain": [
              "            Athlete       Sport\n",
              "0    Michael Phelps    Swimming\n",
              "1  Natalie Coughlin    Swimming\n",
              "2     Aleksey Nemov  Gymnastics\n",
              "3     Alicia Coutts    Swimming\n",
              "4    Missy Franklin    Swimming"
            ]
          },
          "metadata": {
            "tags": []
          },
          "execution_count": 28
        }
      ]
    },
    {
      "cell_type": "code",
      "metadata": {
        "id": "wATEvewGGSTu",
        "colab_type": "code",
        "colab": {
          "base_uri": "https://localhost:8080/",
          "height": 34
        },
        "outputId": "14906e5e-5ee4-4d0d-cdcc-e8b74cc39d65"
      },
      "source": [
        "len(data_sports) # Un mismo jugador parece que haya jugado a varios deportes"
      ],
      "execution_count": 29,
      "outputs": [
        {
          "output_type": "execute_result",
          "data": {
            "text/plain": [
              "6975"
            ]
          },
          "metadata": {
            "tags": []
          },
          "execution_count": 29
        }
      ]
    },
    {
      "cell_type": "code",
      "metadata": {
        "id": "uuEo54XDGakK",
        "colab_type": "code",
        "colab": {
          "base_uri": "https://localhost:8080/",
          "height": 225
        },
        "outputId": "5795689c-0a2a-47b2-a39f-fca5878a648c"
      },
      "source": [
        "data_sports[(data_sports['Athlete'] == 'Chen Jing') | \n",
        "            (data_sports['Athlete'] == 'Richard Thompson') | \n",
        "            (data_sports['Athlete'] == 'Matt Ryan')\n",
        "            ]"
      ],
      "execution_count": 32,
      "outputs": [
        {
          "output_type": "execute_result",
          "data": {
            "text/html": [
              "<div>\n",
              "<style scoped>\n",
              "    .dataframe tbody tr th:only-of-type {\n",
              "        vertical-align: middle;\n",
              "    }\n",
              "\n",
              "    .dataframe tbody tr th {\n",
              "        vertical-align: top;\n",
              "    }\n",
              "\n",
              "    .dataframe thead th {\n",
              "        text-align: right;\n",
              "    }\n",
              "</style>\n",
              "<table border=\"1\" class=\"dataframe\">\n",
              "  <thead>\n",
              "    <tr style=\"text-align: right;\">\n",
              "      <th></th>\n",
              "      <th>Athlete</th>\n",
              "      <th>Sport</th>\n",
              "    </tr>\n",
              "  </thead>\n",
              "  <tbody>\n",
              "    <tr>\n",
              "      <th>528</th>\n",
              "      <td>Richard Thompson</td>\n",
              "      <td>Athletics</td>\n",
              "    </tr>\n",
              "    <tr>\n",
              "      <th>1308</th>\n",
              "      <td>Chen Jing</td>\n",
              "      <td>Volleyball</td>\n",
              "    </tr>\n",
              "    <tr>\n",
              "      <th>1419</th>\n",
              "      <td>Chen Jing</td>\n",
              "      <td>Table Tennis</td>\n",
              "    </tr>\n",
              "    <tr>\n",
              "      <th>2727</th>\n",
              "      <td>Matt Ryan</td>\n",
              "      <td>Rowing</td>\n",
              "    </tr>\n",
              "    <tr>\n",
              "      <th>5003</th>\n",
              "      <td>Matt Ryan</td>\n",
              "      <td>Equestrian</td>\n",
              "    </tr>\n",
              "    <tr>\n",
              "      <th>5691</th>\n",
              "      <td>Richard Thompson</td>\n",
              "      <td>Baseball</td>\n",
              "    </tr>\n",
              "  </tbody>\n",
              "</table>\n",
              "</div>"
            ],
            "text/plain": [
              "               Athlete         Sport\n",
              "528   Richard Thompson     Athletics\n",
              "1308         Chen Jing    Volleyball\n",
              "1419         Chen Jing  Table Tennis\n",
              "2727         Matt Ryan        Rowing\n",
              "5003         Matt Ryan    Equestrian\n",
              "5691  Richard Thompson      Baseball"
            ]
          },
          "metadata": {
            "tags": []
          },
          "execution_count": 32
        }
      ]
    },
    {
      "cell_type": "code",
      "metadata": {
        "id": "8aQPbtuYHspO",
        "colab_type": "code",
        "colab": {
          "base_uri": "https://localhost:8080/",
          "height": 402
        },
        "outputId": "310b1278-74ac-4134-cd75-912c9d7fd9dc"
      },
      "source": [
        "main_data_country = pd.merge(left=main_data, right=data_country, left_on='Athlete', right_on='Athlete')\n",
        "main_data_country"
      ],
      "execution_count": 34,
      "outputs": [
        {
          "output_type": "execute_result",
          "data": {
            "text/html": [
              "<div>\n",
              "<style scoped>\n",
              "    .dataframe tbody tr th:only-of-type {\n",
              "        vertical-align: middle;\n",
              "    }\n",
              "\n",
              "    .dataframe tbody tr th {\n",
              "        vertical-align: top;\n",
              "    }\n",
              "\n",
              "    .dataframe thead th {\n",
              "        text-align: right;\n",
              "    }\n",
              "</style>\n",
              "<table border=\"1\" class=\"dataframe\">\n",
              "  <thead>\n",
              "    <tr style=\"text-align: right;\">\n",
              "      <th></th>\n",
              "      <th>Athlete</th>\n",
              "      <th>Age</th>\n",
              "      <th>Year</th>\n",
              "      <th>Closing Ceremony Date</th>\n",
              "      <th>Gold Medals</th>\n",
              "      <th>Silver Medals</th>\n",
              "      <th>Bronze Medals</th>\n",
              "      <th>Total Medals</th>\n",
              "      <th>Country</th>\n",
              "    </tr>\n",
              "  </thead>\n",
              "  <tbody>\n",
              "    <tr>\n",
              "      <th>0</th>\n",
              "      <td>Michael Phelps</td>\n",
              "      <td>23.0</td>\n",
              "      <td>2008</td>\n",
              "      <td>08/24/2008</td>\n",
              "      <td>8</td>\n",
              "      <td>0</td>\n",
              "      <td>0</td>\n",
              "      <td>8</td>\n",
              "      <td>United States</td>\n",
              "    </tr>\n",
              "    <tr>\n",
              "      <th>1</th>\n",
              "      <td>Michael Phelps</td>\n",
              "      <td>19.0</td>\n",
              "      <td>2004</td>\n",
              "      <td>08/29/2004</td>\n",
              "      <td>6</td>\n",
              "      <td>0</td>\n",
              "      <td>2</td>\n",
              "      <td>8</td>\n",
              "      <td>United States</td>\n",
              "    </tr>\n",
              "    <tr>\n",
              "      <th>2</th>\n",
              "      <td>Michael Phelps</td>\n",
              "      <td>27.0</td>\n",
              "      <td>2012</td>\n",
              "      <td>08/12/2012</td>\n",
              "      <td>4</td>\n",
              "      <td>2</td>\n",
              "      <td>0</td>\n",
              "      <td>6</td>\n",
              "      <td>United States</td>\n",
              "    </tr>\n",
              "    <tr>\n",
              "      <th>3</th>\n",
              "      <td>Natalie Coughlin</td>\n",
              "      <td>25.0</td>\n",
              "      <td>2008</td>\n",
              "      <td>08/24/2008</td>\n",
              "      <td>1</td>\n",
              "      <td>2</td>\n",
              "      <td>3</td>\n",
              "      <td>6</td>\n",
              "      <td>United States</td>\n",
              "    </tr>\n",
              "    <tr>\n",
              "      <th>4</th>\n",
              "      <td>Natalie Coughlin</td>\n",
              "      <td>21.0</td>\n",
              "      <td>2004</td>\n",
              "      <td>08/29/2004</td>\n",
              "      <td>2</td>\n",
              "      <td>2</td>\n",
              "      <td>1</td>\n",
              "      <td>5</td>\n",
              "      <td>United States</td>\n",
              "    </tr>\n",
              "    <tr>\n",
              "      <th>...</th>\n",
              "      <td>...</td>\n",
              "      <td>...</td>\n",
              "      <td>...</td>\n",
              "      <td>...</td>\n",
              "      <td>...</td>\n",
              "      <td>...</td>\n",
              "      <td>...</td>\n",
              "      <td>...</td>\n",
              "      <td>...</td>\n",
              "    </tr>\n",
              "    <tr>\n",
              "      <th>8652</th>\n",
              "      <td>Olena Sadovnycha</td>\n",
              "      <td>32.0</td>\n",
              "      <td>2000</td>\n",
              "      <td>10/01/2000</td>\n",
              "      <td>0</td>\n",
              "      <td>1</td>\n",
              "      <td>0</td>\n",
              "      <td>1</td>\n",
              "      <td>Ukraine</td>\n",
              "    </tr>\n",
              "    <tr>\n",
              "      <th>8653</th>\n",
              "      <td>Kateryna Serdiuk</td>\n",
              "      <td>17.0</td>\n",
              "      <td>2000</td>\n",
              "      <td>10/01/2000</td>\n",
              "      <td>0</td>\n",
              "      <td>1</td>\n",
              "      <td>0</td>\n",
              "      <td>1</td>\n",
              "      <td>Ukraine</td>\n",
              "    </tr>\n",
              "    <tr>\n",
              "      <th>8654</th>\n",
              "      <td>Wietse van Alten</td>\n",
              "      <td>21.0</td>\n",
              "      <td>2000</td>\n",
              "      <td>10/01/2000</td>\n",
              "      <td>0</td>\n",
              "      <td>0</td>\n",
              "      <td>1</td>\n",
              "      <td>1</td>\n",
              "      <td>Netherlands</td>\n",
              "    </tr>\n",
              "    <tr>\n",
              "      <th>8655</th>\n",
              "      <td>Sandra Wagner-Sachse</td>\n",
              "      <td>31.0</td>\n",
              "      <td>2000</td>\n",
              "      <td>10/01/2000</td>\n",
              "      <td>0</td>\n",
              "      <td>0</td>\n",
              "      <td>1</td>\n",
              "      <td>1</td>\n",
              "      <td>Germany</td>\n",
              "    </tr>\n",
              "    <tr>\n",
              "      <th>8656</th>\n",
              "      <td>Rod White</td>\n",
              "      <td>23.0</td>\n",
              "      <td>2000</td>\n",
              "      <td>10/01/2000</td>\n",
              "      <td>0</td>\n",
              "      <td>0</td>\n",
              "      <td>1</td>\n",
              "      <td>1</td>\n",
              "      <td>United States</td>\n",
              "    </tr>\n",
              "  </tbody>\n",
              "</table>\n",
              "<p>8657 rows × 9 columns</p>\n",
              "</div>"
            ],
            "text/plain": [
              "                   Athlete   Age  ...  Total Medals        Country\n",
              "0           Michael Phelps  23.0  ...             8  United States\n",
              "1           Michael Phelps  19.0  ...             8  United States\n",
              "2           Michael Phelps  27.0  ...             6  United States\n",
              "3         Natalie Coughlin  25.0  ...             6  United States\n",
              "4         Natalie Coughlin  21.0  ...             5  United States\n",
              "...                    ...   ...  ...           ...            ...\n",
              "8652      Olena Sadovnycha  32.0  ...             1        Ukraine\n",
              "8653      Kateryna Serdiuk  17.0  ...             1        Ukraine\n",
              "8654      Wietse van Alten  21.0  ...             1    Netherlands\n",
              "8655  Sandra Wagner-Sachse  31.0  ...             1        Germany\n",
              "8656             Rod White  23.0  ...             1  United States\n",
              "\n",
              "[8657 rows x 9 columns]"
            ]
          },
          "metadata": {
            "tags": []
          },
          "execution_count": 34
        }
      ]
    },
    {
      "cell_type": "code",
      "metadata": {
        "id": "CBoxt0a9INge",
        "colab_type": "code",
        "colab": {
          "base_uri": "https://localhost:8080/",
          "height": 34
        },
        "outputId": "8d4c1ed1-f2c4-4e0c-8cf6-200c9b60bf6d"
      },
      "source": [
        "main_data_country.shape"
      ],
      "execution_count": 36,
      "outputs": [
        {
          "output_type": "execute_result",
          "data": {
            "text/plain": [
              "(8657, 9)"
            ]
          },
          "metadata": {
            "tags": []
          },
          "execution_count": 36
        }
      ]
    },
    {
      "cell_type": "code",
      "metadata": {
        "id": "9zvrHeYeIWj7",
        "colab_type": "code",
        "colab": {
          "base_uri": "https://localhost:8080/",
          "height": 225
        },
        "outputId": "eda452cb-78a0-4e09-d6b8-7e081d6e0faa"
      },
      "source": [
        "#se ve que si no indicamos nada, hace un outer join, que es que aparecen todos (derecha e izquierda)\n",
        "#ojo que si un jugador ha participado por dos paises, habrá duplicado sus medallas, porque lo habrá puesto con un país y luego con otro\n",
        "#esto pasa por archivos que tenga datos de uno a muchos, como pasa con country y con sports, y debería ser uno a uno para evitar esta duplicación\n",
        "main_data_country[main_data_country['Athlete'] == 'Aleksandar Ciric']"
      ],
      "execution_count": 37,
      "outputs": [
        {
          "output_type": "execute_result",
          "data": {
            "text/html": [
              "<div>\n",
              "<style scoped>\n",
              "    .dataframe tbody tr th:only-of-type {\n",
              "        vertical-align: middle;\n",
              "    }\n",
              "\n",
              "    .dataframe tbody tr th {\n",
              "        vertical-align: top;\n",
              "    }\n",
              "\n",
              "    .dataframe thead th {\n",
              "        text-align: right;\n",
              "    }\n",
              "</style>\n",
              "<table border=\"1\" class=\"dataframe\">\n",
              "  <thead>\n",
              "    <tr style=\"text-align: right;\">\n",
              "      <th></th>\n",
              "      <th>Athlete</th>\n",
              "      <th>Age</th>\n",
              "      <th>Year</th>\n",
              "      <th>Closing Ceremony Date</th>\n",
              "      <th>Gold Medals</th>\n",
              "      <th>Silver Medals</th>\n",
              "      <th>Bronze Medals</th>\n",
              "      <th>Total Medals</th>\n",
              "      <th>Country</th>\n",
              "    </tr>\n",
              "  </thead>\n",
              "  <tbody>\n",
              "    <tr>\n",
              "      <th>1503</th>\n",
              "      <td>Aleksandar Ciric</td>\n",
              "      <td>30.0</td>\n",
              "      <td>2008</td>\n",
              "      <td>08/24/2008</td>\n",
              "      <td>0</td>\n",
              "      <td>0</td>\n",
              "      <td>1</td>\n",
              "      <td>1</td>\n",
              "      <td>Serbia</td>\n",
              "    </tr>\n",
              "    <tr>\n",
              "      <th>1504</th>\n",
              "      <td>Aleksandar Ciric</td>\n",
              "      <td>30.0</td>\n",
              "      <td>2008</td>\n",
              "      <td>08/24/2008</td>\n",
              "      <td>0</td>\n",
              "      <td>0</td>\n",
              "      <td>1</td>\n",
              "      <td>1</td>\n",
              "      <td>Serbia and Montenegro</td>\n",
              "    </tr>\n",
              "    <tr>\n",
              "      <th>1505</th>\n",
              "      <td>Aleksandar Ciric</td>\n",
              "      <td>26.0</td>\n",
              "      <td>2004</td>\n",
              "      <td>08/29/2004</td>\n",
              "      <td>0</td>\n",
              "      <td>1</td>\n",
              "      <td>0</td>\n",
              "      <td>1</td>\n",
              "      <td>Serbia</td>\n",
              "    </tr>\n",
              "    <tr>\n",
              "      <th>1506</th>\n",
              "      <td>Aleksandar Ciric</td>\n",
              "      <td>26.0</td>\n",
              "      <td>2004</td>\n",
              "      <td>08/29/2004</td>\n",
              "      <td>0</td>\n",
              "      <td>1</td>\n",
              "      <td>0</td>\n",
              "      <td>1</td>\n",
              "      <td>Serbia and Montenegro</td>\n",
              "    </tr>\n",
              "    <tr>\n",
              "      <th>1507</th>\n",
              "      <td>Aleksandar Ciric</td>\n",
              "      <td>22.0</td>\n",
              "      <td>2000</td>\n",
              "      <td>10/01/2000</td>\n",
              "      <td>0</td>\n",
              "      <td>0</td>\n",
              "      <td>1</td>\n",
              "      <td>1</td>\n",
              "      <td>Serbia</td>\n",
              "    </tr>\n",
              "    <tr>\n",
              "      <th>1508</th>\n",
              "      <td>Aleksandar Ciric</td>\n",
              "      <td>22.0</td>\n",
              "      <td>2000</td>\n",
              "      <td>10/01/2000</td>\n",
              "      <td>0</td>\n",
              "      <td>0</td>\n",
              "      <td>1</td>\n",
              "      <td>1</td>\n",
              "      <td>Serbia and Montenegro</td>\n",
              "    </tr>\n",
              "  </tbody>\n",
              "</table>\n",
              "</div>"
            ],
            "text/plain": [
              "               Athlete   Age  ...  Total Medals                Country\n",
              "1503  Aleksandar Ciric  30.0  ...             1                 Serbia\n",
              "1504  Aleksandar Ciric  30.0  ...             1  Serbia and Montenegro\n",
              "1505  Aleksandar Ciric  26.0  ...             1                 Serbia\n",
              "1506  Aleksandar Ciric  26.0  ...             1  Serbia and Montenegro\n",
              "1507  Aleksandar Ciric  22.0  ...             1                 Serbia\n",
              "1508  Aleksandar Ciric  22.0  ...             1  Serbia and Montenegro\n",
              "\n",
              "[6 rows x 9 columns]"
            ]
          },
          "metadata": {
            "tags": []
          },
          "execution_count": 37
        }
      ]
    },
    {
      "cell_type": "code",
      "metadata": {
        "id": "r2rRobIKJV2x",
        "colab_type": "code",
        "colab": {}
      },
      "source": [
        "#para evitar estas duplicidades, simplificaremos los datos de los datasets country y sports"
      ],
      "execution_count": null,
      "outputs": []
    },
    {
      "cell_type": "code",
      "metadata": {
        "id": "aYSfEouOJiTn",
        "colab_type": "code",
        "colab": {
          "base_uri": "https://localhost:8080/",
          "height": 34
        },
        "outputId": "49efc6b7-8efc-4067-ca5b-c421880b1ecd"
      },
      "source": [
        "data_country_unique = data_country.drop_duplicates(subset='Athlete')\n",
        "data_country_unique.shape"
      ],
      "execution_count": 40,
      "outputs": [
        {
          "output_type": "execute_result",
          "data": {
            "text/plain": [
              "(6956, 2)"
            ]
          },
          "metadata": {
            "tags": []
          },
          "execution_count": 40
        }
      ]
    },
    {
      "cell_type": "code",
      "metadata": {
        "id": "swOIQ4zNJ_ol",
        "colab_type": "code",
        "colab": {
          "base_uri": "https://localhost:8080/",
          "height": 77
        },
        "outputId": "d6c39f4b-b6a8-46a0-ff1d-3224cd4914b8"
      },
      "source": [
        "data_country_unique[data_country_unique['Athlete'] == 'Aleksandar Ciric']"
      ],
      "execution_count": 41,
      "outputs": [
        {
          "output_type": "execute_result",
          "data": {
            "text/html": [
              "<div>\n",
              "<style scoped>\n",
              "    .dataframe tbody tr th:only-of-type {\n",
              "        vertical-align: middle;\n",
              "    }\n",
              "\n",
              "    .dataframe tbody tr th {\n",
              "        vertical-align: top;\n",
              "    }\n",
              "\n",
              "    .dataframe thead th {\n",
              "        text-align: right;\n",
              "    }\n",
              "</style>\n",
              "<table border=\"1\" class=\"dataframe\">\n",
              "  <thead>\n",
              "    <tr style=\"text-align: right;\">\n",
              "      <th></th>\n",
              "      <th>Athlete</th>\n",
              "      <th>Country</th>\n",
              "    </tr>\n",
              "  </thead>\n",
              "  <tbody>\n",
              "    <tr>\n",
              "      <th>1029</th>\n",
              "      <td>Aleksandar Ciric</td>\n",
              "      <td>Serbia</td>\n",
              "    </tr>\n",
              "  </tbody>\n",
              "</table>\n",
              "</div>"
            ],
            "text/plain": [
              "               Athlete Country\n",
              "1029  Aleksandar Ciric  Serbia"
            ]
          },
          "metadata": {
            "tags": []
          },
          "execution_count": 41
        }
      ]
    },
    {
      "cell_type": "code",
      "metadata": {
        "id": "bhpWrRuwKmMm",
        "colab_type": "code",
        "colab": {
          "base_uri": "https://localhost:8080/",
          "height": 34
        },
        "outputId": "f85533e8-925a-4901-8075-288e79363bb0"
      },
      "source": [
        "len(data_country_unique) == len(athletes) #Ahora ya los atletas únicos en main_data y en data_country_unique son los mismos"
      ],
      "execution_count": 42,
      "outputs": [
        {
          "output_type": "execute_result",
          "data": {
            "text/plain": [
              "True"
            ]
          },
          "metadata": {
            "tags": []
          },
          "execution_count": 42
        }
      ]
    },
    {
      "cell_type": "code",
      "metadata": {
        "id": "JVBm7mHTK-rg",
        "colab_type": "code",
        "colab": {
          "base_uri": "https://localhost:8080/",
          "height": 34
        },
        "outputId": "00b5d269-b8a7-4e0f-dfb9-8c8087661706"
      },
      "source": [
        "data_main_country_unique = pd.merge(left = main_data, right = data_country_unique, left_on='Athlete', right_on='Athlete')\n",
        "data_main_country_unique.shape"
      ],
      "execution_count": 43,
      "outputs": [
        {
          "output_type": "execute_result",
          "data": {
            "text/plain": [
              "(8618, 9)"
            ]
          },
          "metadata": {
            "tags": []
          },
          "execution_count": 43
        }
      ]
    },
    {
      "cell_type": "code",
      "metadata": {
        "id": "W0SPWhGsLpzo",
        "colab_type": "code",
        "colab": {
          "base_uri": "https://localhost:8080/",
          "height": 136
        },
        "outputId": "bc03d78b-cce5-45f9-cf5d-2d77c8701313"
      },
      "source": [
        "data_main_country_unique[data_main_country_unique['Athlete'] == 'Aleksandar Ciric']"
      ],
      "execution_count": 44,
      "outputs": [
        {
          "output_type": "execute_result",
          "data": {
            "text/html": [
              "<div>\n",
              "<style scoped>\n",
              "    .dataframe tbody tr th:only-of-type {\n",
              "        vertical-align: middle;\n",
              "    }\n",
              "\n",
              "    .dataframe tbody tr th {\n",
              "        vertical-align: top;\n",
              "    }\n",
              "\n",
              "    .dataframe thead th {\n",
              "        text-align: right;\n",
              "    }\n",
              "</style>\n",
              "<table border=\"1\" class=\"dataframe\">\n",
              "  <thead>\n",
              "    <tr style=\"text-align: right;\">\n",
              "      <th></th>\n",
              "      <th>Athlete</th>\n",
              "      <th>Age</th>\n",
              "      <th>Year</th>\n",
              "      <th>Closing Ceremony Date</th>\n",
              "      <th>Gold Medals</th>\n",
              "      <th>Silver Medals</th>\n",
              "      <th>Bronze Medals</th>\n",
              "      <th>Total Medals</th>\n",
              "      <th>Country</th>\n",
              "    </tr>\n",
              "  </thead>\n",
              "  <tbody>\n",
              "    <tr>\n",
              "      <th>1491</th>\n",
              "      <td>Aleksandar Ciric</td>\n",
              "      <td>30.0</td>\n",
              "      <td>2008</td>\n",
              "      <td>08/24/2008</td>\n",
              "      <td>0</td>\n",
              "      <td>0</td>\n",
              "      <td>1</td>\n",
              "      <td>1</td>\n",
              "      <td>Serbia</td>\n",
              "    </tr>\n",
              "    <tr>\n",
              "      <th>1492</th>\n",
              "      <td>Aleksandar Ciric</td>\n",
              "      <td>26.0</td>\n",
              "      <td>2004</td>\n",
              "      <td>08/29/2004</td>\n",
              "      <td>0</td>\n",
              "      <td>1</td>\n",
              "      <td>0</td>\n",
              "      <td>1</td>\n",
              "      <td>Serbia</td>\n",
              "    </tr>\n",
              "    <tr>\n",
              "      <th>1493</th>\n",
              "      <td>Aleksandar Ciric</td>\n",
              "      <td>22.0</td>\n",
              "      <td>2000</td>\n",
              "      <td>10/01/2000</td>\n",
              "      <td>0</td>\n",
              "      <td>0</td>\n",
              "      <td>1</td>\n",
              "      <td>1</td>\n",
              "      <td>Serbia</td>\n",
              "    </tr>\n",
              "  </tbody>\n",
              "</table>\n",
              "</div>"
            ],
            "text/plain": [
              "               Athlete   Age  Year  ... Bronze Medals  Total Medals  Country\n",
              "1491  Aleksandar Ciric  30.0  2008  ...             1             1   Serbia\n",
              "1492  Aleksandar Ciric  26.0  2004  ...             0             1   Serbia\n",
              "1493  Aleksandar Ciric  22.0  2000  ...             1             1   Serbia\n",
              "\n",
              "[3 rows x 9 columns]"
            ]
          },
          "metadata": {
            "tags": []
          },
          "execution_count": 44
        }
      ]
    },
    {
      "cell_type": "code",
      "metadata": {
        "id": "7nxKBUyrLzgZ",
        "colab_type": "code",
        "colab": {
          "base_uri": "https://localhost:8080/",
          "height": 34
        },
        "outputId": "afffdd12-50c2-45dc-8f33-b151307e435e"
      },
      "source": [
        "data_sports_unique = data_sports.drop_duplicates(subset='Athlete')\n",
        "len(data_sports_unique) == len(athletes)"
      ],
      "execution_count": 48,
      "outputs": [
        {
          "output_type": "execute_result",
          "data": {
            "text/plain": [
              "True"
            ]
          },
          "metadata": {
            "tags": []
          },
          "execution_count": 48
        }
      ]
    },
    {
      "cell_type": "code",
      "metadata": {
        "id": "Le7IMTRxMFsX",
        "colab_type": "code",
        "colab": {
          "base_uri": "https://localhost:8080/",
          "height": 34
        },
        "outputId": "bc5b5741-3ef7-480a-f5db-c82344254c20"
      },
      "source": [
        "data_main_country_sports_unique = pd.merge(left=data_main_country_unique, right=data_sports_unique,left_on='Athlete', right_on='Athlete')\n",
        "data_main_country_sports_unique.shape"
      ],
      "execution_count": 51,
      "outputs": [
        {
          "output_type": "execute_result",
          "data": {
            "text/plain": [
              "(8618, 10)"
            ]
          },
          "metadata": {
            "tags": []
          },
          "execution_count": 51
        }
      ]
    },
    {
      "cell_type": "code",
      "metadata": {
        "id": "krqWhKvMMgI3",
        "colab_type": "code",
        "colab": {
          "base_uri": "https://localhost:8080/",
          "height": 402
        },
        "outputId": "244a617a-96aa-4a17-d58f-38fed1956650"
      },
      "source": [
        "data_main_country_sports_unique"
      ],
      "execution_count": 52,
      "outputs": [
        {
          "output_type": "execute_result",
          "data": {
            "text/html": [
              "<div>\n",
              "<style scoped>\n",
              "    .dataframe tbody tr th:only-of-type {\n",
              "        vertical-align: middle;\n",
              "    }\n",
              "\n",
              "    .dataframe tbody tr th {\n",
              "        vertical-align: top;\n",
              "    }\n",
              "\n",
              "    .dataframe thead th {\n",
              "        text-align: right;\n",
              "    }\n",
              "</style>\n",
              "<table border=\"1\" class=\"dataframe\">\n",
              "  <thead>\n",
              "    <tr style=\"text-align: right;\">\n",
              "      <th></th>\n",
              "      <th>Athlete</th>\n",
              "      <th>Age</th>\n",
              "      <th>Year</th>\n",
              "      <th>Closing Ceremony Date</th>\n",
              "      <th>Gold Medals</th>\n",
              "      <th>Silver Medals</th>\n",
              "      <th>Bronze Medals</th>\n",
              "      <th>Total Medals</th>\n",
              "      <th>Country</th>\n",
              "      <th>Sport</th>\n",
              "    </tr>\n",
              "  </thead>\n",
              "  <tbody>\n",
              "    <tr>\n",
              "      <th>0</th>\n",
              "      <td>Michael Phelps</td>\n",
              "      <td>23.0</td>\n",
              "      <td>2008</td>\n",
              "      <td>08/24/2008</td>\n",
              "      <td>8</td>\n",
              "      <td>0</td>\n",
              "      <td>0</td>\n",
              "      <td>8</td>\n",
              "      <td>United States</td>\n",
              "      <td>Swimming</td>\n",
              "    </tr>\n",
              "    <tr>\n",
              "      <th>1</th>\n",
              "      <td>Michael Phelps</td>\n",
              "      <td>19.0</td>\n",
              "      <td>2004</td>\n",
              "      <td>08/29/2004</td>\n",
              "      <td>6</td>\n",
              "      <td>0</td>\n",
              "      <td>2</td>\n",
              "      <td>8</td>\n",
              "      <td>United States</td>\n",
              "      <td>Swimming</td>\n",
              "    </tr>\n",
              "    <tr>\n",
              "      <th>2</th>\n",
              "      <td>Michael Phelps</td>\n",
              "      <td>27.0</td>\n",
              "      <td>2012</td>\n",
              "      <td>08/12/2012</td>\n",
              "      <td>4</td>\n",
              "      <td>2</td>\n",
              "      <td>0</td>\n",
              "      <td>6</td>\n",
              "      <td>United States</td>\n",
              "      <td>Swimming</td>\n",
              "    </tr>\n",
              "    <tr>\n",
              "      <th>3</th>\n",
              "      <td>Natalie Coughlin</td>\n",
              "      <td>25.0</td>\n",
              "      <td>2008</td>\n",
              "      <td>08/24/2008</td>\n",
              "      <td>1</td>\n",
              "      <td>2</td>\n",
              "      <td>3</td>\n",
              "      <td>6</td>\n",
              "      <td>United States</td>\n",
              "      <td>Swimming</td>\n",
              "    </tr>\n",
              "    <tr>\n",
              "      <th>4</th>\n",
              "      <td>Natalie Coughlin</td>\n",
              "      <td>21.0</td>\n",
              "      <td>2004</td>\n",
              "      <td>08/29/2004</td>\n",
              "      <td>2</td>\n",
              "      <td>2</td>\n",
              "      <td>1</td>\n",
              "      <td>5</td>\n",
              "      <td>United States</td>\n",
              "      <td>Swimming</td>\n",
              "    </tr>\n",
              "    <tr>\n",
              "      <th>...</th>\n",
              "      <td>...</td>\n",
              "      <td>...</td>\n",
              "      <td>...</td>\n",
              "      <td>...</td>\n",
              "      <td>...</td>\n",
              "      <td>...</td>\n",
              "      <td>...</td>\n",
              "      <td>...</td>\n",
              "      <td>...</td>\n",
              "      <td>...</td>\n",
              "    </tr>\n",
              "    <tr>\n",
              "      <th>8613</th>\n",
              "      <td>Olena Sadovnycha</td>\n",
              "      <td>32.0</td>\n",
              "      <td>2000</td>\n",
              "      <td>10/01/2000</td>\n",
              "      <td>0</td>\n",
              "      <td>1</td>\n",
              "      <td>0</td>\n",
              "      <td>1</td>\n",
              "      <td>Ukraine</td>\n",
              "      <td>Archery</td>\n",
              "    </tr>\n",
              "    <tr>\n",
              "      <th>8614</th>\n",
              "      <td>Kateryna Serdiuk</td>\n",
              "      <td>17.0</td>\n",
              "      <td>2000</td>\n",
              "      <td>10/01/2000</td>\n",
              "      <td>0</td>\n",
              "      <td>1</td>\n",
              "      <td>0</td>\n",
              "      <td>1</td>\n",
              "      <td>Ukraine</td>\n",
              "      <td>Archery</td>\n",
              "    </tr>\n",
              "    <tr>\n",
              "      <th>8615</th>\n",
              "      <td>Wietse van Alten</td>\n",
              "      <td>21.0</td>\n",
              "      <td>2000</td>\n",
              "      <td>10/01/2000</td>\n",
              "      <td>0</td>\n",
              "      <td>0</td>\n",
              "      <td>1</td>\n",
              "      <td>1</td>\n",
              "      <td>Netherlands</td>\n",
              "      <td>Archery</td>\n",
              "    </tr>\n",
              "    <tr>\n",
              "      <th>8616</th>\n",
              "      <td>Sandra Wagner-Sachse</td>\n",
              "      <td>31.0</td>\n",
              "      <td>2000</td>\n",
              "      <td>10/01/2000</td>\n",
              "      <td>0</td>\n",
              "      <td>0</td>\n",
              "      <td>1</td>\n",
              "      <td>1</td>\n",
              "      <td>Germany</td>\n",
              "      <td>Archery</td>\n",
              "    </tr>\n",
              "    <tr>\n",
              "      <th>8617</th>\n",
              "      <td>Rod White</td>\n",
              "      <td>23.0</td>\n",
              "      <td>2000</td>\n",
              "      <td>10/01/2000</td>\n",
              "      <td>0</td>\n",
              "      <td>0</td>\n",
              "      <td>1</td>\n",
              "      <td>1</td>\n",
              "      <td>United States</td>\n",
              "      <td>Archery</td>\n",
              "    </tr>\n",
              "  </tbody>\n",
              "</table>\n",
              "<p>8618 rows × 10 columns</p>\n",
              "</div>"
            ],
            "text/plain": [
              "                   Athlete   Age  Year  ... Total Medals        Country     Sport\n",
              "0           Michael Phelps  23.0  2008  ...            8  United States  Swimming\n",
              "1           Michael Phelps  19.0  2004  ...            8  United States  Swimming\n",
              "2           Michael Phelps  27.0  2012  ...            6  United States  Swimming\n",
              "3         Natalie Coughlin  25.0  2008  ...            6  United States  Swimming\n",
              "4         Natalie Coughlin  21.0  2004  ...            5  United States  Swimming\n",
              "...                    ...   ...   ...  ...          ...            ...       ...\n",
              "8613      Olena Sadovnycha  32.0  2000  ...            1        Ukraine   Archery\n",
              "8614      Kateryna Serdiuk  17.0  2000  ...            1        Ukraine   Archery\n",
              "8615      Wietse van Alten  21.0  2000  ...            1    Netherlands   Archery\n",
              "8616  Sandra Wagner-Sachse  31.0  2000  ...            1        Germany   Archery\n",
              "8617             Rod White  23.0  2000  ...            1  United States   Archery\n",
              "\n",
              "[8618 rows x 10 columns]"
            ]
          },
          "metadata": {
            "tags": []
          },
          "execution_count": 52
        }
      ]
    },
    {
      "cell_type": "code",
      "metadata": {
        "id": "KG8WWhKXQ81D",
        "colab_type": "code",
        "colab": {}
      },
      "source": [
        "from IPython.display import Image #para poder mostrar imágenes\n"
      ],
      "execution_count": 53,
      "outputs": []
    },
    {
      "cell_type": "code",
      "metadata": {
        "id": "ugL4sWVyRXcg",
        "colab_type": "code",
        "colab": {
          "base_uri": "https://localhost:8080/",
          "height": 37
        },
        "outputId": "0fb0d351-93ae-48dd-b7fc-4bcc438fe809"
      },
      "source": [
        "url_inner_join = 'https://github.com/javilledo/python-ml-course/blob/master/notebooks/resources/inner-join.png'\n",
        "Image(url=url_inner_join)"
      ],
      "execution_count": 76,
      "outputs": [
        {
          "output_type": "execute_result",
          "data": {
            "text/html": [
              "<img src=\"https://github.com/javilledo/python-ml-course/blob/master/notebooks/resources/inner-join.png\"/>"
            ],
            "text/plain": [
              "<IPython.core.display.Image object>"
            ]
          },
          "metadata": {
            "tags": []
          },
          "execution_count": 76
        }
      ]
    },
    {
      "cell_type": "markdown",
      "metadata": {
        "id": "9CHL01wjcCit",
        "colab_type": "text"
      },
      "source": [
        "##TIPOS DE JOINS"
      ]
    },
    {
      "cell_type": "code",
      "metadata": {
        "id": "Pb10_PgkcGBO",
        "colab_type": "code",
        "colab": {}
      },
      "source": [
        "import numpy as np\n",
        "\n",
        "#vamos a tomar datos aleatorios del dataset para eliminar datos, y así poder probar los diferentes tipos de joins\n",
        "out_athletes = np.random.choice(main_data['Athlete'],size = 6, replace = False)"
      ],
      "execution_count": 83,
      "outputs": []
    },
    {
      "cell_type": "code",
      "metadata": {
        "id": "udyD_0d-cx0Y",
        "colab_type": "code",
        "colab": {
          "base_uri": "https://localhost:8080/",
          "height": 34
        },
        "outputId": "cb5fa8c9-76be-4d1e-bbbf-6a9ec521329e"
      },
      "source": [
        "data_country_delete = data_country_unique[(~data_country_unique['Athlete'].isin(out_athletes) ) & \n",
        "                                          (data_country_unique['Athlete'] != 'Michael Phelps')\n",
        "                                          ]\n",
        "len(data_country_unique) - len(data_country_delete)"
      ],
      "execution_count": 93,
      "outputs": [
        {
          "output_type": "execute_result",
          "data": {
            "text/plain": [
              "7"
            ]
          },
          "metadata": {
            "tags": []
          },
          "execution_count": 93
        }
      ]
    },
    {
      "cell_type": "code",
      "metadata": {
        "id": "CDY4baJpeMQC",
        "colab_type": "code",
        "colab": {
          "base_uri": "https://localhost:8080/",
          "height": 34
        },
        "outputId": "55832c45-7dc1-41cd-9af2-f3e059860bfa"
      },
      "source": [
        "data_sports_delete = data_sports_unique[(~data_sports_unique['Athlete'].isin(out_athletes)) &\n",
        "                                        (data_sports_unique['Athlete'] != 'Michael Phelps')\n",
        "                                        ]\n",
        "len(data_sports_unique) - len(data_sports_delete)"
      ],
      "execution_count": 91,
      "outputs": [
        {
          "output_type": "execute_result",
          "data": {
            "text/plain": [
              "7"
            ]
          },
          "metadata": {
            "tags": []
          },
          "execution_count": 91
        }
      ]
    }
  ]
}
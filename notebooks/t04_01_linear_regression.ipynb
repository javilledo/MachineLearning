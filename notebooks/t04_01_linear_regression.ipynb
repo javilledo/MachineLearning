{
  "nbformat": 4,
  "nbformat_minor": 0,
  "metadata": {
    "colab": {
      "name": "t04-01-linear-regression.ipynb",
      "provenance": [],
      "collapsed_sections": [],
      "authorship_tag": "ABX9TyO5nVMqy/F/h/RMLP4jKMQB",
      "include_colab_link": true
    },
    "kernelspec": {
      "name": "python3",
      "display_name": "Python 3"
    }
  },
  "cells": [
    {
      "cell_type": "markdown",
      "metadata": {
        "id": "view-in-github",
        "colab_type": "text"
      },
      "source": [
        "<a href=\"https://colab.research.google.com/github/javilledo/machine-learning/blob/master/notebooks/t04_01_linear_regression.ipynb\" target=\"_parent\"><img src=\"https://colab.research.google.com/assets/colab-badge.svg\" alt=\"Open In Colab\"/></a>"
      ]
    },
    {
      "cell_type": "markdown",
      "metadata": {
        "id": "EsnrnA4aZq1m",
        "colab_type": "text"
      },
      "source": [
        "#MODELOS DE REGRESIÓN LINEAL"
      ]
    },
    {
      "cell_type": "markdown",
      "metadata": {
        "id": "b5jlilcPZt8M",
        "colab_type": "text"
      },
      "source": [
        "##MODELO CON DATOS SIMULADOS\n",
        "  * y = a + b * x\n",
        "\n",
        "  * x: 100 valores distribuidos siguiendo una N(1.5,2.5)\n",
        "\n",
        "  * Ye: 5 + 1.9 * x + error\n",
        "\n",
        "  * e estará distribuida según una N(0,0.8) "
      ]
    },
    {
      "cell_type": "code",
      "metadata": {
        "id": "XPiHpMTZZlDC",
        "colab_type": "code",
        "colab": {}
      },
      "source": [
        "import pandas as pd\n",
        "import numpy as np\n",
        "import matplotlib.pyplot as plt"
      ],
      "execution_count": 1,
      "outputs": []
    },
    {
      "cell_type": "code",
      "metadata": {
        "id": "sOlMmeLtaiY-",
        "colab_type": "code",
        "colab": {}
      },
      "source": [
        "#Recordemos que para generar una distribución aleatoria con media m y desviación típica s, hay que multiplicar la\n",
        "#N(0,1) por la s y sumarle la m\n",
        "x = 1.5 + 2.5 * np.random.randn(100)"
      ],
      "execution_count": 2,
      "outputs": []
    },
    {
      "cell_type": "code",
      "metadata": {
        "id": "AcDhSNHca7i8",
        "colab_type": "code",
        "colab": {}
      },
      "source": [
        "res = 0 + 0.8 * np.random.randn(100)"
      ],
      "execution_count": 3,
      "outputs": []
    },
    {
      "cell_type": "code",
      "metadata": {
        "id": "r_kkNrOjbDd0",
        "colab_type": "code",
        "colab": {}
      },
      "source": [
        "y_pred = 5 + 1.9 * x"
      ],
      "execution_count": 4,
      "outputs": []
    },
    {
      "cell_type": "code",
      "metadata": {
        "id": "r2X4hhHZbIRs",
        "colab_type": "code",
        "colab": {}
      },
      "source": [
        "y_act = 5 + 1.9 * x + res"
      ],
      "execution_count": 5,
      "outputs": []
    },
    {
      "cell_type": "code",
      "metadata": {
        "id": "ENP4GTZXbZfs",
        "colab_type": "code",
        "colab": {}
      },
      "source": [
        "x_list = x.tolist()\n",
        "y_pred_list = y_pred.tolist()\n",
        "y_act_list = y_act.tolist()"
      ],
      "execution_count": 6,
      "outputs": []
    },
    {
      "cell_type": "code",
      "metadata": {
        "id": "lFrvR_MIbjw0",
        "colab_type": "code",
        "colab": {}
      },
      "source": [
        "data = pd.DataFrame(\n",
        "    {\n",
        "        'x': x_list,\n",
        "        'y_actual': y_act_list,\n",
        "        'y_prediccion': y_pred_list\n",
        "    }\n",
        ")"
      ],
      "execution_count": 7,
      "outputs": []
    },
    {
      "cell_type": "code",
      "metadata": {
        "id": "KtAXL2kMb1F3",
        "colab_type": "code",
        "colab": {
          "base_uri": "https://localhost:8080/",
          "height": 195
        },
        "outputId": "eea68c22-ea47-474c-8427-994cb18ae339"
      },
      "source": [
        "data.head()"
      ],
      "execution_count": 8,
      "outputs": [
        {
          "output_type": "execute_result",
          "data": {
            "text/html": [
              "<div>\n",
              "<style scoped>\n",
              "    .dataframe tbody tr th:only-of-type {\n",
              "        vertical-align: middle;\n",
              "    }\n",
              "\n",
              "    .dataframe tbody tr th {\n",
              "        vertical-align: top;\n",
              "    }\n",
              "\n",
              "    .dataframe thead th {\n",
              "        text-align: right;\n",
              "    }\n",
              "</style>\n",
              "<table border=\"1\" class=\"dataframe\">\n",
              "  <thead>\n",
              "    <tr style=\"text-align: right;\">\n",
              "      <th></th>\n",
              "      <th>x</th>\n",
              "      <th>y_actual</th>\n",
              "      <th>y_prediccion</th>\n",
              "    </tr>\n",
              "  </thead>\n",
              "  <tbody>\n",
              "    <tr>\n",
              "      <th>0</th>\n",
              "      <td>-0.435368</td>\n",
              "      <td>4.950043</td>\n",
              "      <td>4.172800</td>\n",
              "    </tr>\n",
              "    <tr>\n",
              "      <th>1</th>\n",
              "      <td>5.290755</td>\n",
              "      <td>15.561001</td>\n",
              "      <td>15.052434</td>\n",
              "    </tr>\n",
              "    <tr>\n",
              "      <th>2</th>\n",
              "      <td>4.745945</td>\n",
              "      <td>13.253840</td>\n",
              "      <td>14.017296</td>\n",
              "    </tr>\n",
              "    <tr>\n",
              "      <th>3</th>\n",
              "      <td>-0.429327</td>\n",
              "      <td>4.452651</td>\n",
              "      <td>4.184279</td>\n",
              "    </tr>\n",
              "    <tr>\n",
              "      <th>4</th>\n",
              "      <td>3.396435</td>\n",
              "      <td>10.385932</td>\n",
              "      <td>11.453226</td>\n",
              "    </tr>\n",
              "  </tbody>\n",
              "</table>\n",
              "</div>"
            ],
            "text/plain": [
              "          x   y_actual  y_prediccion\n",
              "0 -0.435368   4.950043      4.172800\n",
              "1  5.290755  15.561001     15.052434\n",
              "2  4.745945  13.253840     14.017296\n",
              "3 -0.429327   4.452651      4.184279\n",
              "4  3.396435  10.385932     11.453226"
            ]
          },
          "metadata": {
            "tags": []
          },
          "execution_count": 8
        }
      ]
    },
    {
      "cell_type": "code",
      "metadata": {
        "id": "kjjrSB4Vc9it",
        "colab_type": "code",
        "colab": {
          "base_uri": "https://localhost:8080/",
          "height": 1000
        },
        "outputId": "18d50523-8483-437f-c7aa-d302c321515e"
      },
      "source": [
        "y_mean = [np.mean(y_act) for i in range(0,len(x_list))]\n",
        "y_mean"
      ],
      "execution_count": 9,
      "outputs": [
        {
          "output_type": "execute_result",
          "data": {
            "text/plain": [
              "[7.1130619220213145,\n",
              " 7.1130619220213145,\n",
              " 7.1130619220213145,\n",
              " 7.1130619220213145,\n",
              " 7.1130619220213145,\n",
              " 7.1130619220213145,\n",
              " 7.1130619220213145,\n",
              " 7.1130619220213145,\n",
              " 7.1130619220213145,\n",
              " 7.1130619220213145,\n",
              " 7.1130619220213145,\n",
              " 7.1130619220213145,\n",
              " 7.1130619220213145,\n",
              " 7.1130619220213145,\n",
              " 7.1130619220213145,\n",
              " 7.1130619220213145,\n",
              " 7.1130619220213145,\n",
              " 7.1130619220213145,\n",
              " 7.1130619220213145,\n",
              " 7.1130619220213145,\n",
              " 7.1130619220213145,\n",
              " 7.1130619220213145,\n",
              " 7.1130619220213145,\n",
              " 7.1130619220213145,\n",
              " 7.1130619220213145,\n",
              " 7.1130619220213145,\n",
              " 7.1130619220213145,\n",
              " 7.1130619220213145,\n",
              " 7.1130619220213145,\n",
              " 7.1130619220213145,\n",
              " 7.1130619220213145,\n",
              " 7.1130619220213145,\n",
              " 7.1130619220213145,\n",
              " 7.1130619220213145,\n",
              " 7.1130619220213145,\n",
              " 7.1130619220213145,\n",
              " 7.1130619220213145,\n",
              " 7.1130619220213145,\n",
              " 7.1130619220213145,\n",
              " 7.1130619220213145,\n",
              " 7.1130619220213145,\n",
              " 7.1130619220213145,\n",
              " 7.1130619220213145,\n",
              " 7.1130619220213145,\n",
              " 7.1130619220213145,\n",
              " 7.1130619220213145,\n",
              " 7.1130619220213145,\n",
              " 7.1130619220213145,\n",
              " 7.1130619220213145,\n",
              " 7.1130619220213145,\n",
              " 7.1130619220213145,\n",
              " 7.1130619220213145,\n",
              " 7.1130619220213145,\n",
              " 7.1130619220213145,\n",
              " 7.1130619220213145,\n",
              " 7.1130619220213145,\n",
              " 7.1130619220213145,\n",
              " 7.1130619220213145,\n",
              " 7.1130619220213145,\n",
              " 7.1130619220213145,\n",
              " 7.1130619220213145,\n",
              " 7.1130619220213145,\n",
              " 7.1130619220213145,\n",
              " 7.1130619220213145,\n",
              " 7.1130619220213145,\n",
              " 7.1130619220213145,\n",
              " 7.1130619220213145,\n",
              " 7.1130619220213145,\n",
              " 7.1130619220213145,\n",
              " 7.1130619220213145,\n",
              " 7.1130619220213145,\n",
              " 7.1130619220213145,\n",
              " 7.1130619220213145,\n",
              " 7.1130619220213145,\n",
              " 7.1130619220213145,\n",
              " 7.1130619220213145,\n",
              " 7.1130619220213145,\n",
              " 7.1130619220213145,\n",
              " 7.1130619220213145,\n",
              " 7.1130619220213145,\n",
              " 7.1130619220213145,\n",
              " 7.1130619220213145,\n",
              " 7.1130619220213145,\n",
              " 7.1130619220213145,\n",
              " 7.1130619220213145,\n",
              " 7.1130619220213145,\n",
              " 7.1130619220213145,\n",
              " 7.1130619220213145,\n",
              " 7.1130619220213145,\n",
              " 7.1130619220213145,\n",
              " 7.1130619220213145,\n",
              " 7.1130619220213145,\n",
              " 7.1130619220213145,\n",
              " 7.1130619220213145,\n",
              " 7.1130619220213145,\n",
              " 7.1130619220213145,\n",
              " 7.1130619220213145,\n",
              " 7.1130619220213145,\n",
              " 7.1130619220213145,\n",
              " 7.1130619220213145]"
            ]
          },
          "metadata": {
            "tags": []
          },
          "execution_count": 9
        }
      ]
    },
    {
      "cell_type": "code",
      "metadata": {
        "id": "r5RzVTYXb7pO",
        "colab_type": "code",
        "colab": {
          "base_uri": "https://localhost:8080/",
          "height": 298
        },
        "outputId": "fdee0c22-38f4-4ab7-b5a2-432bf726a879"
      },
      "source": [
        "%matplotlib inline\n",
        "plt.plot(data['x'],data['y_prediccion'])\n",
        "plt.plot(data['x'],data['y_actual'],'ro')\n",
        "plt.plot(data['x'],y_mean,'g')\n",
        "plt.title('Valor actual vs Predicción')"
      ],
      "execution_count": 10,
      "outputs": [
        {
          "output_type": "execute_result",
          "data": {
            "text/plain": [
              "Text(0.5, 1.0, 'Valor actual vs Predicción')"
            ]
          },
          "metadata": {
            "tags": []
          },
          "execution_count": 10
        },
        {
          "output_type": "display_data",
          "data": {
            "image/png": "[encoded data removed]",
            "text/plain": [
              "<Figure size 432x288 with 1 Axes>"
            ]
          },
          "metadata": {
            "tags": [],
            "needs_background": "light"
          }
        }
      ]
    },
    {
      "cell_type": "code",
      "metadata": {
        "id": "rItGn-mBc5uX",
        "colab_type": "code",
        "colab": {}
      },
      "source": [
        "data['SSR'] = (data['y_prediccion'] -  y_mean) ** 2\n",
        "data['SSD'] = (data['y_prediccion'] - data['y_actual']) ** 2\n",
        "data['SST'] = (data['y_actual'] - y_mean) ** 2"
      ],
      "execution_count": 11,
      "outputs": []
    },
    {
      "cell_type": "code",
      "metadata": {
        "id": "INTDOTs5k-sQ",
        "colab_type": "code",
        "colab": {
          "base_uri": "https://localhost:8080/",
          "height": 195
        },
        "outputId": "35552479-abef-4c0c-c909-4109e41c161f"
      },
      "source": [
        "data.head()"
      ],
      "execution_count": 12,
      "outputs": [
        {
          "output_type": "execute_result",
          "data": {
            "text/html": [
              "<div>\n",
              "<style scoped>\n",
              "    .dataframe tbody tr th:only-of-type {\n",
              "        vertical-align: middle;\n",
              "    }\n",
              "\n",
              "    .dataframe tbody tr th {\n",
              "        vertical-align: top;\n",
              "    }\n",
              "\n",
              "    .dataframe thead th {\n",
              "        text-align: right;\n",
              "    }\n",
              "</style>\n",
              "<table border=\"1\" class=\"dataframe\">\n",
              "  <thead>\n",
              "    <tr style=\"text-align: right;\">\n",
              "      <th></th>\n",
              "      <th>x</th>\n",
              "      <th>y_actual</th>\n",
              "      <th>y_prediccion</th>\n",
              "      <th>SSR</th>\n",
              "      <th>SSD</th>\n",
              "      <th>SST</th>\n",
              "    </tr>\n",
              "  </thead>\n",
              "  <tbody>\n",
              "    <tr>\n",
              "      <th>0</th>\n",
              "      <td>-0.435368</td>\n",
              "      <td>4.950043</td>\n",
              "      <td>4.172800</td>\n",
              "      <td>8.645139</td>\n",
              "      <td>0.604106</td>\n",
              "      <td>4.678651</td>\n",
              "    </tr>\n",
              "    <tr>\n",
              "      <th>1</th>\n",
              "      <td>5.290755</td>\n",
              "      <td>15.561001</td>\n",
              "      <td>15.052434</td>\n",
              "      <td>63.033630</td>\n",
              "      <td>0.258640</td>\n",
              "      <td>71.367676</td>\n",
              "    </tr>\n",
              "    <tr>\n",
              "      <th>2</th>\n",
              "      <td>4.745945</td>\n",
              "      <td>13.253840</td>\n",
              "      <td>14.017296</td>\n",
              "      <td>47.668451</td>\n",
              "      <td>0.582865</td>\n",
              "      <td>37.709160</td>\n",
              "    </tr>\n",
              "    <tr>\n",
              "      <th>3</th>\n",
              "      <td>-0.429327</td>\n",
              "      <td>4.452651</td>\n",
              "      <td>4.184279</td>\n",
              "      <td>8.577768</td>\n",
              "      <td>0.072023</td>\n",
              "      <td>7.077789</td>\n",
              "    </tr>\n",
              "    <tr>\n",
              "      <th>4</th>\n",
              "      <td>3.396435</td>\n",
              "      <td>10.385932</td>\n",
              "      <td>11.453226</td>\n",
              "      <td>18.837026</td>\n",
              "      <td>1.139116</td>\n",
              "      <td>10.711682</td>\n",
              "    </tr>\n",
              "  </tbody>\n",
              "</table>\n",
              "</div>"
            ],
            "text/plain": [
              "          x   y_actual  y_prediccion        SSR       SSD        SST\n",
              "0 -0.435368   4.950043      4.172800   8.645139  0.604106   4.678651\n",
              "1  5.290755  15.561001     15.052434  63.033630  0.258640  71.367676\n",
              "2  4.745945  13.253840     14.017296  47.668451  0.582865  37.709160\n",
              "3 -0.429327   4.452651      4.184279   8.577768  0.072023   7.077789\n",
              "4  3.396435  10.385932     11.453226  18.837026  1.139116  10.711682"
            ]
          },
          "metadata": {
            "tags": []
          },
          "execution_count": 12
        }
      ]
    },
    {
      "cell_type": "code",
      "metadata": {
        "id": "trA27FQ9lqdW",
        "colab_type": "code",
        "colab": {
          "base_uri": "https://localhost:8080/",
          "height": 67
        },
        "outputId": "97988c02-43a1-4062-e838-b85a322d5be4"
      },
      "source": [
        "SSR = sum(data['SSR'])\n",
        "SSD = sum(data['SSD'])\n",
        "SST = sum(data['SST'])\n",
        "print(SSR)\n",
        "print(SSD)\n",
        "print(SST)"
      ],
      "execution_count": 13,
      "outputs": [
        {
          "output_type": "stream",
          "text": [
            "2245.540094819345\n",
            "66.99570721770226\n",
            "2400.317792302124\n"
          ],
          "name": "stdout"
        }
      ]
    },
    {
      "cell_type": "code",
      "metadata": {
        "id": "p4WrTAN7naow",
        "colab_type": "code",
        "colab": {
          "base_uri": "https://localhost:8080/",
          "height": 34
        },
        "outputId": "03deb1fd-2302-4a8f-c744-44ffe426483e"
      },
      "source": [
        "SSR + SSD #tendría que ser igual a SST"
      ],
      "execution_count": 14,
      "outputs": [
        {
          "output_type": "execute_result",
          "data": {
            "text/plain": [
              "2312.5358020370472"
            ]
          },
          "metadata": {
            "tags": []
          },
          "execution_count": 14
        }
      ]
    },
    {
      "cell_type": "code",
      "metadata": {
        "id": "PXAWiDM8nesH",
        "colab_type": "code",
        "colab": {
          "base_uri": "https://localhost:8080/",
          "height": 34
        },
        "outputId": "84a839fb-059a-47a3-b1c7-33c43496bb25"
      },
      "source": [
        "R2 = SSR/SST\n",
        "R2"
      ],
      "execution_count": 15,
      "outputs": [
        {
          "output_type": "execute_result",
          "data": {
            "text/plain": [
              "0.935517831022561"
            ]
          },
          "metadata": {
            "tags": []
          },
          "execution_count": 15
        }
      ]
    },
    {
      "cell_type": "code",
      "metadata": {
        "id": "PkqqWYZFpMJO",
        "colab_type": "code",
        "colab": {
          "base_uri": "https://localhost:8080/",
          "height": 349
        },
        "outputId": "bdfbc078-4864-43f3-d640-a97f864d9fb5"
      },
      "source": [
        "plt.hist(data['y_prediccion'] - data['y_actual'])"
      ],
      "execution_count": 16,
      "outputs": [
        {
          "output_type": "execute_result",
          "data": {
            "text/plain": [
              "(array([ 1.,  0.,  3., 16., 21., 19., 20., 11.,  5.,  4.]),\n",
              " array([-2.47287953, -2.01170826, -1.55053698, -1.08936571, -0.62819444,\n",
              "        -0.16702316,  0.29414811,  0.75531939,  1.21649066,  1.67766193,\n",
              "         2.13883321]),\n",
              " <a list of 10 Patch objects>)"
            ]
          },
          "metadata": {
            "tags": []
          },
          "execution_count": 16
        },
        {
          "output_type": "display_data",
          "data": {
            "image/png": "[encoded data removed]",
            "text/plain": [
              "<Figure size 432x288 with 1 Axes>"
            ]
          },
          "metadata": {
            "tags": [],
            "needs_background": "light"
          }
        }
      ]
    },
    {
      "cell_type": "markdown",
      "metadata": {
        "id": "majnXaZmxc8C",
        "colab_type": "text"
      },
      "source": [
        "Obteniendo la recta de regresión a partir de los datos\n",
        "\n",
        "y = a + b * x\n",
        "\n",
        "b = covarianza / varianza\n",
        "\n",
        "a = y_n - b * x_m"
      ]
    },
    {
      "cell_type": "code",
      "metadata": {
        "id": "EYOAQDm_xp_H",
        "colab_type": "code",
        "colab": {
          "base_uri": "https://localhost:8080/",
          "height": 34
        },
        "outputId": "24c00f26-0752-4cc7-be52-9db24f19277a"
      },
      "source": [
        "x_mean = np.mean(data['x'])\n",
        "y_mean = np.mean(data['y_actual'])\n",
        "x_mean, y_mean"
      ],
      "execution_count": 17,
      "outputs": [
        {
          "output_type": "execute_result",
          "data": {
            "text/plain": [
              "(1.1616525175084624, 7.113061922021315)"
            ]
          },
          "metadata": {
            "tags": []
          },
          "execution_count": 17
        }
      ]
    },
    {
      "cell_type": "code",
      "metadata": {
        "id": "cuZy0wb8zRQF",
        "colab_type": "code",
        "colab": {
          "base_uri": "https://localhost:8080/",
          "height": 34
        },
        "outputId": "059363a0-31fc-4928-96f0-76b499872215"
      },
      "source": [
        "data['beta_numerador'] = (data['x'] - x_mean) * (data['y_actual'] - y_mean)\n",
        "data['beta_denominador'] = (data['x'] - x_mean) ** 2\n",
        "beta = sum(data['beta_numerador'])/ sum(data['beta_denominador'])\n",
        "alpha = y_mean - beta * x_mean\n",
        "alpha, beta"
      ],
      "execution_count": 18,
      "outputs": [
        {
          "output_type": "execute_result",
          "data": {
            "text/plain": [
              "(4.86189442804355, 1.9379009299666634)"
            ]
          },
          "metadata": {
            "tags": []
          },
          "execution_count": 18
        }
      ]
    },
    {
      "cell_type": "markdown",
      "metadata": {
        "id": "i3Oq0vExz4W3",
        "colab_type": "text"
      },
      "source": [
        "y = 5.151499121738837 + 1.9391305328769286 * x\n",
        "\n",
        "Recordemos que el que habíamos supuesto al principio sera y = 5 + 1.9 * x"
      ]
    },
    {
      "cell_type": "code",
      "metadata": {
        "id": "fGfICxwr0yl0",
        "colab_type": "code",
        "colab": {
          "base_uri": "https://localhost:8080/",
          "height": 195
        },
        "outputId": "13ad7de4-09ac-4d99-f0cd-9b4e28a5cea9"
      },
      "source": [
        "data['model'] = alpha + beta * data['x']\n",
        "data.head()"
      ],
      "execution_count": 19,
      "outputs": [
        {
          "output_type": "execute_result",
          "data": {
            "text/html": [
              "<div>\n",
              "<style scoped>\n",
              "    .dataframe tbody tr th:only-of-type {\n",
              "        vertical-align: middle;\n",
              "    }\n",
              "\n",
              "    .dataframe tbody tr th {\n",
              "        vertical-align: top;\n",
              "    }\n",
              "\n",
              "    .dataframe thead th {\n",
              "        text-align: right;\n",
              "    }\n",
              "</style>\n",
              "<table border=\"1\" class=\"dataframe\">\n",
              "  <thead>\n",
              "    <tr style=\"text-align: right;\">\n",
              "      <th></th>\n",
              "      <th>x</th>\n",
              "      <th>y_actual</th>\n",
              "      <th>y_prediccion</th>\n",
              "      <th>SSR</th>\n",
              "      <th>SSD</th>\n",
              "      <th>SST</th>\n",
              "      <th>beta_numerador</th>\n",
              "      <th>beta_denominador</th>\n",
              "      <th>model</th>\n",
              "    </tr>\n",
              "  </thead>\n",
              "  <tbody>\n",
              "    <tr>\n",
              "      <th>0</th>\n",
              "      <td>-0.435368</td>\n",
              "      <td>4.950043</td>\n",
              "      <td>4.172800</td>\n",
              "      <td>8.645139</td>\n",
              "      <td>0.604106</td>\n",
              "      <td>4.678651</td>\n",
              "      <td>3.454386</td>\n",
              "      <td>2.550475</td>\n",
              "      <td>4.018194</td>\n",
              "    </tr>\n",
              "    <tr>\n",
              "      <th>1</th>\n",
              "      <td>5.290755</td>\n",
              "      <td>15.561001</td>\n",
              "      <td>15.052434</td>\n",
              "      <td>63.033630</td>\n",
              "      <td>0.258640</td>\n",
              "      <td>71.367676</td>\n",
              "      <td>34.882405</td>\n",
              "      <td>17.049485</td>\n",
              "      <td>15.114853</td>\n",
              "    </tr>\n",
              "    <tr>\n",
              "      <th>2</th>\n",
              "      <td>4.745945</td>\n",
              "      <td>13.253840</td>\n",
              "      <td>14.017296</td>\n",
              "      <td>47.668451</td>\n",
              "      <td>0.582865</td>\n",
              "      <td>37.709160</td>\n",
              "      <td>22.010348</td>\n",
              "      <td>12.847155</td>\n",
              "      <td>14.059066</td>\n",
              "    </tr>\n",
              "    <tr>\n",
              "      <th>3</th>\n",
              "      <td>-0.429327</td>\n",
              "      <td>4.452651</td>\n",
              "      <td>4.184279</td>\n",
              "      <td>8.577768</td>\n",
              "      <td>0.072023</td>\n",
              "      <td>7.077789</td>\n",
              "      <td>4.232659</td>\n",
              "      <td>2.531215</td>\n",
              "      <td>4.029902</td>\n",
              "    </tr>\n",
              "    <tr>\n",
              "      <th>4</th>\n",
              "      <td>3.396435</td>\n",
              "      <td>10.385932</td>\n",
              "      <td>11.453226</td>\n",
              "      <td>18.837026</td>\n",
              "      <td>1.139116</td>\n",
              "      <td>10.711682</td>\n",
              "      <td>7.314153</td>\n",
              "      <td>4.994252</td>\n",
              "      <td>11.443849</td>\n",
              "    </tr>\n",
              "  </tbody>\n",
              "</table>\n",
              "</div>"
            ],
            "text/plain": [
              "          x   y_actual  ...  beta_denominador      model\n",
              "0 -0.435368   4.950043  ...          2.550475   4.018194\n",
              "1  5.290755  15.561001  ...         17.049485  15.114853\n",
              "2  4.745945  13.253840  ...         12.847155  14.059066\n",
              "3 -0.429327   4.452651  ...          2.531215   4.029902\n",
              "4  3.396435  10.385932  ...          4.994252  11.443849\n",
              "\n",
              "[5 rows x 9 columns]"
            ]
          },
          "metadata": {
            "tags": []
          },
          "execution_count": 19
        }
      ]
    },
    {
      "cell_type": "code",
      "metadata": {
        "id": "BwTsb2bx1CvW",
        "colab_type": "code",
        "colab": {
          "base_uri": "https://localhost:8080/",
          "height": 34
        },
        "outputId": "11e5d87e-19eb-4d35-b05c-75268c44698b"
      },
      "source": [
        "SSR_model = sum((data['model'] -  y_mean) ** 2)\n",
        "SSD_model = sum((data['model'] - data['y_actual']) ** 2)\n",
        "SST_model = sum((data['y_actual'] - y_mean) ** 2)\n",
        "R2 = SSR_model/SST_model\n",
        "R2"
      ],
      "execution_count": 20,
      "outputs": [
        {
          "output_type": "execute_result",
          "data": {
            "text/plain": [
              "0.9728296575739203"
            ]
          },
          "metadata": {
            "tags": []
          },
          "execution_count": 20
        }
      ]
    },
    {
      "cell_type": "code",
      "metadata": {
        "id": "sVxeNv_f14q0",
        "colab_type": "code",
        "colab": {
          "base_uri": "https://localhost:8080/",
          "height": 298
        },
        "outputId": "38d1f773-cb54-4e85-c6b8-6a5395e4e7a6"
      },
      "source": [
        "y_mean_array = [y_mean for i in range(0, len(data['x']))]\n",
        "%matplotlib inline\n",
        "plt.plot(data['x'],data['y_prediccion'])\n",
        "plt.plot(data['x'],data['y_actual'],'ro')\n",
        "plt.plot(data['x'],data['model'])\n",
        "plt.plot(data['x'],y_mean_array,'g')\n",
        "plt.title('Valor actual vs Predicción')"
      ],
      "execution_count": 21,
      "outputs": [
        {
          "output_type": "execute_result",
          "data": {
            "text/plain": [
              "Text(0.5, 1.0, 'Valor actual vs Predicción')"
            ]
          },
          "metadata": {
            "tags": []
          },
          "execution_count": 21
        },
        {
          "output_type": "display_data",
          "data": {
            "image/png": "[encoded data removed]",
            "text/plain": [
              "<Figure size 432x288 with 1 Axes>"
            ]
          },
          "metadata": {
            "tags": [],
            "needs_background": "light"
          }
        }
      ]
    },
    {
      "cell_type": "markdown",
      "metadata": {
        "id": "dSNUbjBLy24L",
        "colab_type": "text"
      },
      "source": [
        "##ERROR ESTÁNDAR DE LOS RESIDUOS (RSE)"
      ]
    },
    {
      "cell_type": "code",
      "metadata": {
        "id": "dYFBFYy5y7A9",
        "colab_type": "code",
        "colab": {
          "base_uri": "https://localhost:8080/",
          "height": 34
        },
        "outputId": "be1d48f1-5c55-4d74-8a84-3e08ae8a91d1"
      },
      "source": [
        "RSE = np.sqrt(SSD/(len(data)-2))\n",
        "RSE"
      ],
      "execution_count": 24,
      "outputs": [
        {
          "output_type": "execute_result",
          "data": {
            "text/plain": [
              "0.8268190040672492"
            ]
          },
          "metadata": {
            "tags": []
          },
          "execution_count": 24
        }
      ]
    },
    {
      "cell_type": "code",
      "metadata": {
        "id": "nswKG4XszabK",
        "colab_type": "code",
        "colab": {
          "base_uri": "https://localhost:8080/",
          "height": 34
        },
        "outputId": "c87137e6-ae81-47d5-f014-a7ea7889ab4b"
      },
      "source": [
        "y_mean"
      ],
      "execution_count": 25,
      "outputs": [
        {
          "output_type": "execute_result",
          "data": {
            "text/plain": [
              "7.113061922021315"
            ]
          },
          "metadata": {
            "tags": []
          },
          "execution_count": 25
        }
      ]
    }
  ]
}
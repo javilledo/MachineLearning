{
  "nbformat": 4,
  "nbformat_minor": 0,
  "metadata": {
    "colab": {
      "name": "t04-01-linear-regression.ipynb",
      "provenance": [],
      "collapsed_sections": [],
      "authorship_tag": "ABX9TyMi3cS3DcMVGkb5xS0I18WN",
      "include_colab_link": true
    },
    "kernelspec": {
      "name": "python3",
      "display_name": "Python 3"
    }
  },
  "cells": [
    {
      "cell_type": "markdown",
      "metadata": {
        "id": "view-in-github",
        "colab_type": "text"
      },
      "source": [
        "<a href=\"https://colab.research.google.com/github/javilledo/machine-learning/blob/master/notebooks/t04_01_linear_regression.ipynb\" target=\"_parent\"><img src=\"https://colab.research.google.com/assets/colab-badge.svg\" alt=\"Open In Colab\"/></a>"
      ]
    },
    {
      "cell_type": "markdown",
      "metadata": {
        "id": "EsnrnA4aZq1m",
        "colab_type": "text"
      },
      "source": [
        "#MODELOS DE REGRESIÓN LINEAL"
      ]
    },
    {
      "cell_type": "markdown",
      "metadata": {
        "id": "b5jlilcPZt8M",
        "colab_type": "text"
      },
      "source": [
        "##MODELO CON DATOS SIMULADOS\n",
        "  * y = a + b * x\n",
        "\n",
        "  * x: 100 valores distribuidos siguiendo una N(1.5,2.5)\n",
        "\n",
        "  * Ye: 5 + 1.9 * x + error\n",
        "\n",
        "  * e estará distribuida según una N(0,0.8) "
      ]
    },
    {
      "cell_type": "code",
      "metadata": {
        "id": "XPiHpMTZZlDC",
        "colab_type": "code",
        "colab": {}
      },
      "source": [
        "import pandas as pd\n",
        "import numpy as np\n",
        "import matplotlib.pyplot as plt"
      ],
      "execution_count": 33,
      "outputs": []
    },
    {
      "cell_type": "code",
      "metadata": {
        "id": "sOlMmeLtaiY-",
        "colab_type": "code",
        "colab": {}
      },
      "source": [
        "#Recordemos que para generar una distribución aleatoria con media m y desviación típica s, hay que multiplicar la\n",
        "#N(0,1) por la s y sumarle la m\n",
        "x = 1.5 + 2.5 * np.random.randn(100)"
      ],
      "execution_count": 34,
      "outputs": []
    },
    {
      "cell_type": "code",
      "metadata": {
        "id": "AcDhSNHca7i8",
        "colab_type": "code",
        "colab": {}
      },
      "source": [
        "res = 0 + 0.8 * np.random.randn(100)"
      ],
      "execution_count": 35,
      "outputs": []
    },
    {
      "cell_type": "code",
      "metadata": {
        "id": "r_kkNrOjbDd0",
        "colab_type": "code",
        "colab": {}
      },
      "source": [
        "y_pred = 5 + 1.9 * x"
      ],
      "execution_count": 36,
      "outputs": []
    },
    {
      "cell_type": "code",
      "metadata": {
        "id": "r2X4hhHZbIRs",
        "colab_type": "code",
        "colab": {}
      },
      "source": [
        "y_act = 5 + 1.9 * x + res"
      ],
      "execution_count": 37,
      "outputs": []
    },
    {
      "cell_type": "code",
      "metadata": {
        "id": "ENP4GTZXbZfs",
        "colab_type": "code",
        "colab": {}
      },
      "source": [
        "x_list = x.tolist()\n",
        "y_pred_list = y_pred.tolist()\n",
        "y_act_list = y_act.tolist()"
      ],
      "execution_count": 38,
      "outputs": []
    },
    {
      "cell_type": "code",
      "metadata": {
        "id": "lFrvR_MIbjw0",
        "colab_type": "code",
        "colab": {}
      },
      "source": [
        "data = pd.DataFrame(\n",
        "    {\n",
        "        'x': x_list,\n",
        "        'y_actual': y_act_list,\n",
        "        'y_prediccion': y_pred_list\n",
        "    }\n",
        ")"
      ],
      "execution_count": 39,
      "outputs": []
    },
    {
      "cell_type": "code",
      "metadata": {
        "id": "KtAXL2kMb1F3",
        "colab_type": "code",
        "colab": {
          "base_uri": "https://localhost:8080/",
          "height": 195
        },
        "outputId": "063243f6-2fab-49e5-93b1-3d15a5ae762b"
      },
      "source": [
        "data.head()"
      ],
      "execution_count": 40,
      "outputs": [
        {
          "output_type": "execute_result",
          "data": {
            "text/html": [
              "<div>\n",
              "<style scoped>\n",
              "    .dataframe tbody tr th:only-of-type {\n",
              "        vertical-align: middle;\n",
              "    }\n",
              "\n",
              "    .dataframe tbody tr th {\n",
              "        vertical-align: top;\n",
              "    }\n",
              "\n",
              "    .dataframe thead th {\n",
              "        text-align: right;\n",
              "    }\n",
              "</style>\n",
              "<table border=\"1\" class=\"dataframe\">\n",
              "  <thead>\n",
              "    <tr style=\"text-align: right;\">\n",
              "      <th></th>\n",
              "      <th>x</th>\n",
              "      <th>y_actual</th>\n",
              "      <th>y_prediccion</th>\n",
              "    </tr>\n",
              "  </thead>\n",
              "  <tbody>\n",
              "    <tr>\n",
              "      <th>0</th>\n",
              "      <td>2.693705</td>\n",
              "      <td>10.073021</td>\n",
              "      <td>10.118040</td>\n",
              "    </tr>\n",
              "    <tr>\n",
              "      <th>1</th>\n",
              "      <td>2.953299</td>\n",
              "      <td>10.992500</td>\n",
              "      <td>10.611268</td>\n",
              "    </tr>\n",
              "    <tr>\n",
              "      <th>2</th>\n",
              "      <td>-0.965128</td>\n",
              "      <td>3.020433</td>\n",
              "      <td>3.166257</td>\n",
              "    </tr>\n",
              "    <tr>\n",
              "      <th>3</th>\n",
              "      <td>-1.554608</td>\n",
              "      <td>2.809157</td>\n",
              "      <td>2.046244</td>\n",
              "    </tr>\n",
              "    <tr>\n",
              "      <th>4</th>\n",
              "      <td>-2.059969</td>\n",
              "      <td>1.434399</td>\n",
              "      <td>1.086060</td>\n",
              "    </tr>\n",
              "  </tbody>\n",
              "</table>\n",
              "</div>"
            ],
            "text/plain": [
              "          x   y_actual  y_prediccion\n",
              "0  2.693705  10.073021     10.118040\n",
              "1  2.953299  10.992500     10.611268\n",
              "2 -0.965128   3.020433      3.166257\n",
              "3 -1.554608   2.809157      2.046244\n",
              "4 -2.059969   1.434399      1.086060"
            ]
          },
          "metadata": {
            "tags": []
          },
          "execution_count": 40
        }
      ]
    },
    {
      "cell_type": "code",
      "metadata": {
        "id": "kjjrSB4Vc9it",
        "colab_type": "code",
        "colab": {
          "base_uri": "https://localhost:8080/",
          "height": 1000
        },
        "outputId": "d2708aad-09a1-4254-eb77-ea33e18f99b8"
      },
      "source": [
        "y_mean = [np.mean(y_act) for i in range(0,len(x_list))]\n",
        "y_mean"
      ],
      "execution_count": 41,
      "outputs": [
        {
          "output_type": "execute_result",
          "data": {
            "text/plain": [
              "[8.036941725005024,\n",
              " 8.036941725005024,\n",
              " 8.036941725005024,\n",
              " 8.036941725005024,\n",
              " 8.036941725005024,\n",
              " 8.036941725005024,\n",
              " 8.036941725005024,\n",
              " 8.036941725005024,\n",
              " 8.036941725005024,\n",
              " 8.036941725005024,\n",
              " 8.036941725005024,\n",
              " 8.036941725005024,\n",
              " 8.036941725005024,\n",
              " 8.036941725005024,\n",
              " 8.036941725005024,\n",
              " 8.036941725005024,\n",
              " 8.036941725005024,\n",
              " 8.036941725005024,\n",
              " 8.036941725005024,\n",
              " 8.036941725005024,\n",
              " 8.036941725005024,\n",
              " 8.036941725005024,\n",
              " 8.036941725005024,\n",
              " 8.036941725005024,\n",
              " 8.036941725005024,\n",
              " 8.036941725005024,\n",
              " 8.036941725005024,\n",
              " 8.036941725005024,\n",
              " 8.036941725005024,\n",
              " 8.036941725005024,\n",
              " 8.036941725005024,\n",
              " 8.036941725005024,\n",
              " 8.036941725005024,\n",
              " 8.036941725005024,\n",
              " 8.036941725005024,\n",
              " 8.036941725005024,\n",
              " 8.036941725005024,\n",
              " 8.036941725005024,\n",
              " 8.036941725005024,\n",
              " 8.036941725005024,\n",
              " 8.036941725005024,\n",
              " 8.036941725005024,\n",
              " 8.036941725005024,\n",
              " 8.036941725005024,\n",
              " 8.036941725005024,\n",
              " 8.036941725005024,\n",
              " 8.036941725005024,\n",
              " 8.036941725005024,\n",
              " 8.036941725005024,\n",
              " 8.036941725005024,\n",
              " 8.036941725005024,\n",
              " 8.036941725005024,\n",
              " 8.036941725005024,\n",
              " 8.036941725005024,\n",
              " 8.036941725005024,\n",
              " 8.036941725005024,\n",
              " 8.036941725005024,\n",
              " 8.036941725005024,\n",
              " 8.036941725005024,\n",
              " 8.036941725005024,\n",
              " 8.036941725005024,\n",
              " 8.036941725005024,\n",
              " 8.036941725005024,\n",
              " 8.036941725005024,\n",
              " 8.036941725005024,\n",
              " 8.036941725005024,\n",
              " 8.036941725005024,\n",
              " 8.036941725005024,\n",
              " 8.036941725005024,\n",
              " 8.036941725005024,\n",
              " 8.036941725005024,\n",
              " 8.036941725005024,\n",
              " 8.036941725005024,\n",
              " 8.036941725005024,\n",
              " 8.036941725005024,\n",
              " 8.036941725005024,\n",
              " 8.036941725005024,\n",
              " 8.036941725005024,\n",
              " 8.036941725005024,\n",
              " 8.036941725005024,\n",
              " 8.036941725005024,\n",
              " 8.036941725005024,\n",
              " 8.036941725005024,\n",
              " 8.036941725005024,\n",
              " 8.036941725005024,\n",
              " 8.036941725005024,\n",
              " 8.036941725005024,\n",
              " 8.036941725005024,\n",
              " 8.036941725005024,\n",
              " 8.036941725005024,\n",
              " 8.036941725005024,\n",
              " 8.036941725005024,\n",
              " 8.036941725005024,\n",
              " 8.036941725005024,\n",
              " 8.036941725005024,\n",
              " 8.036941725005024,\n",
              " 8.036941725005024,\n",
              " 8.036941725005024,\n",
              " 8.036941725005024,\n",
              " 8.036941725005024]"
            ]
          },
          "metadata": {
            "tags": []
          },
          "execution_count": 41
        }
      ]
    },
    {
      "cell_type": "code",
      "metadata": {
        "id": "r5RzVTYXb7pO",
        "colab_type": "code",
        "colab": {
          "base_uri": "https://localhost:8080/",
          "height": 298
        },
        "outputId": "4c34aea3-f5b0-42db-ec02-cf61cbe99f4e"
      },
      "source": [
        "%matplotlib inline\n",
        "plt.plot(data['x'],data['y_prediccion'])\n",
        "plt.plot(data['x'],data['y_actual'],'ro')\n",
        "plt.plot(data['x'],y_mean,'g')\n",
        "plt.title('Valor actual vs Predicción')"
      ],
      "execution_count": 43,
      "outputs": [
        {
          "output_type": "execute_result",
          "data": {
            "text/plain": [
              "Text(0.5, 1.0, 'Valor actual vs Predicción')"
            ]
          },
          "metadata": {
            "tags": []
          },
          "execution_count": 43
        },
        {
          "output_type": "display_data",
          "data": {
            "image/png": "[encoded data removed]",
            "text/plain": [
              "<Figure size 432x288 with 1 Axes>"
            ]
          },
          "metadata": {
            "tags": [],
            "needs_background": "light"
          }
        }
      ]
    },
    {
      "cell_type": "code",
      "metadata": {
        "id": "rItGn-mBc5uX",
        "colab_type": "code",
        "colab": {}
      },
      "source": [
        "data['SSR'] = (data['y_prediccion'] -  y_mean) ** 2\n",
        "data['SSD'] = (data['y_prediccion'] - data['y_actual']) ** 2\n",
        "data['SST'] = (data['y_actual'] - y_mean) ** 2"
      ],
      "execution_count": 51,
      "outputs": []
    },
    {
      "cell_type": "code",
      "metadata": {
        "id": "INTDOTs5k-sQ",
        "colab_type": "code",
        "colab": {
          "base_uri": "https://localhost:8080/",
          "height": 195
        },
        "outputId": "8459beed-a0ee-4bc5-ffab-4dbabcaf8948"
      },
      "source": [
        "data.head()"
      ],
      "execution_count": 52,
      "outputs": [
        {
          "output_type": "execute_result",
          "data": {
            "text/html": [
              "<div>\n",
              "<style scoped>\n",
              "    .dataframe tbody tr th:only-of-type {\n",
              "        vertical-align: middle;\n",
              "    }\n",
              "\n",
              "    .dataframe tbody tr th {\n",
              "        vertical-align: top;\n",
              "    }\n",
              "\n",
              "    .dataframe thead th {\n",
              "        text-align: right;\n",
              "    }\n",
              "</style>\n",
              "<table border=\"1\" class=\"dataframe\">\n",
              "  <thead>\n",
              "    <tr style=\"text-align: right;\">\n",
              "      <th></th>\n",
              "      <th>x</th>\n",
              "      <th>y_actual</th>\n",
              "      <th>y_prediccion</th>\n",
              "      <th>SSR</th>\n",
              "      <th>SSD</th>\n",
              "      <th>SST</th>\n",
              "    </tr>\n",
              "  </thead>\n",
              "  <tbody>\n",
              "    <tr>\n",
              "      <th>0</th>\n",
              "      <td>2.693705</td>\n",
              "      <td>10.073021</td>\n",
              "      <td>10.118040</td>\n",
              "      <td>4.330971</td>\n",
              "      <td>0.002027</td>\n",
              "      <td>4.145619</td>\n",
              "    </tr>\n",
              "    <tr>\n",
              "      <th>1</th>\n",
              "      <td>2.953299</td>\n",
              "      <td>10.992500</td>\n",
              "      <td>10.611268</td>\n",
              "      <td>6.627156</td>\n",
              "      <td>0.145338</td>\n",
              "      <td>8.735328</td>\n",
              "    </tr>\n",
              "    <tr>\n",
              "      <th>2</th>\n",
              "      <td>-0.965128</td>\n",
              "      <td>3.020433</td>\n",
              "      <td>3.166257</td>\n",
              "      <td>23.723574</td>\n",
              "      <td>0.021265</td>\n",
              "      <td>25.165359</td>\n",
              "    </tr>\n",
              "    <tr>\n",
              "      <th>3</th>\n",
              "      <td>-1.554608</td>\n",
              "      <td>2.809157</td>\n",
              "      <td>2.046244</td>\n",
              "      <td>35.888459</td>\n",
              "      <td>0.582036</td>\n",
              "      <td>27.329736</td>\n",
              "    </tr>\n",
              "    <tr>\n",
              "      <th>4</th>\n",
              "      <td>-2.059969</td>\n",
              "      <td>1.434399</td>\n",
              "      <td>1.086060</td>\n",
              "      <td>48.314761</td>\n",
              "      <td>0.121340</td>\n",
              "      <td>43.593567</td>\n",
              "    </tr>\n",
              "  </tbody>\n",
              "</table>\n",
              "</div>"
            ],
            "text/plain": [
              "          x   y_actual  y_prediccion        SSR       SSD        SST\n",
              "0  2.693705  10.073021     10.118040   4.330971  0.002027   4.145619\n",
              "1  2.953299  10.992500     10.611268   6.627156  0.145338   8.735328\n",
              "2 -0.965128   3.020433      3.166257  23.723574  0.021265  25.165359\n",
              "3 -1.554608   2.809157      2.046244  35.888459  0.582036  27.329736\n",
              "4 -2.059969   1.434399      1.086060  48.314761  0.121340  43.593567"
            ]
          },
          "metadata": {
            "tags": []
          },
          "execution_count": 52
        }
      ]
    },
    {
      "cell_type": "code",
      "metadata": {
        "id": "trA27FQ9lqdW",
        "colab_type": "code",
        "colab": {
          "base_uri": "https://localhost:8080/",
          "height": 67
        },
        "outputId": "ca4797b6-e3a0-48c1-fda8-e1661939e816"
      },
      "source": [
        "SSR = sum(data['SSR'])\n",
        "SSD = sum(data['SSD'])\n",
        "SST = sum(data['SST'])\n",
        "print(SSR)\n",
        "print(SSD)\n",
        "print(SST)"
      ],
      "execution_count": 53,
      "outputs": [
        {
          "output_type": "stream",
          "text": [
            "1957.3516429495282\n",
            "59.771358324923895\n",
            "2088.768236793409\n"
          ],
          "name": "stdout"
        }
      ]
    },
    {
      "cell_type": "code",
      "metadata": {
        "id": "p4WrTAN7naow",
        "colab_type": "code",
        "colab": {
          "base_uri": "https://localhost:8080/",
          "height": 34
        },
        "outputId": "c0c9419e-88fc-4351-c741-6f7a69e8c4c5"
      },
      "source": [
        "SSR + SSD #tendría que ser igual a SST"
      ],
      "execution_count": 54,
      "outputs": [
        {
          "output_type": "execute_result",
          "data": {
            "text/plain": [
              "2017.1230012744522"
            ]
          },
          "metadata": {
            "tags": []
          },
          "execution_count": 54
        }
      ]
    },
    {
      "cell_type": "code",
      "metadata": {
        "id": "PXAWiDM8nesH",
        "colab_type": "code",
        "colab": {
          "base_uri": "https://localhost:8080/",
          "height": 34
        },
        "outputId": "2f66d5f6-f431-43c3-9651-39504f4698e0"
      },
      "source": [
        "R2 = SSR/SST\n",
        "R2"
      ],
      "execution_count": 55,
      "outputs": [
        {
          "output_type": "execute_result",
          "data": {
            "text/plain": [
              "0.9370841668649529"
            ]
          },
          "metadata": {
            "tags": []
          },
          "execution_count": 55
        }
      ]
    },
    {
      "cell_type": "code",
      "metadata": {
        "id": "PkqqWYZFpMJO",
        "colab_type": "code",
        "colab": {
          "base_uri": "https://localhost:8080/",
          "height": 349
        },
        "outputId": "5ff04c33-804f-433f-8472-d77c097b6978"
      },
      "source": [
        "plt.hist(data['y_prediccion'] - data['y_actual'])"
      ],
      "execution_count": 57,
      "outputs": [
        {
          "output_type": "execute_result",
          "data": {
            "text/plain": [
              "(array([ 2.,  2.,  6., 16., 21., 27., 12.,  9.,  3.,  2.]),\n",
              " array([-2.34521562, -1.92397136, -1.50272711, -1.08148285, -0.66023859,\n",
              "        -0.23899434,  0.18224992,  0.60349418,  1.02473843,  1.44598269,\n",
              "         1.86722695]),\n",
              " <a list of 10 Patch objects>)"
            ]
          },
          "metadata": {
            "tags": []
          },
          "execution_count": 57
        },
        {
          "output_type": "display_data",
          "data": {
            "image/png": "[encoded data removed]",
            "text/plain": [
              "<Figure size 432x288 with 1 Axes>"
            ]
          },
          "metadata": {
            "tags": [],
            "needs_background": "light"
          }
        }
      ]
    }
  ]
}
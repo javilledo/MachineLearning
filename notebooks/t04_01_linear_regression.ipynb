{
  "nbformat": 4,
  "nbformat_minor": 0,
  "metadata": {
    "colab": {
      "name": "t04-01-linear-regression.ipynb",
      "provenance": [],
      "collapsed_sections": [],
      "authorship_tag": "ABX9TyPywz/LHaLM7S9YbJui6ACf",
      "include_colab_link": true
    },
    "kernelspec": {
      "name": "python3",
      "display_name": "Python 3"
    }
  },
  "cells": [
    {
      "cell_type": "markdown",
      "metadata": {
        "id": "view-in-github",
        "colab_type": "text"
      },
      "source": [
        "<a href=\"https://colab.research.google.com/github/javilledo/machine-learning/blob/master/notebooks/t04_01_linear_regression.ipynb\" target=\"_parent\"><img src=\"https://colab.research.google.com/assets/colab-badge.svg\" alt=\"Open In Colab\"/></a>"
      ]
    },
    {
      "cell_type": "markdown",
      "metadata": {
        "id": "EsnrnA4aZq1m",
        "colab_type": "text"
      },
      "source": [
        "#MODELOS DE REGRESIÓN LINEAL"
      ]
    },
    {
      "cell_type": "markdown",
      "metadata": {
        "id": "b5jlilcPZt8M",
        "colab_type": "text"
      },
      "source": [
        "##MODELO CON DATOS SIMULADOS\n",
        "  * y = a + b * x\n",
        "\n",
        "  * x: 100 valores distribuidos siguiendo una N(1.5,2.5)\n",
        "\n",
        "  * Ye: 5 + 1.9 * x + error\n",
        "\n",
        "  * e estará distribuida según una N(0,0.8) "
      ]
    },
    {
      "cell_type": "code",
      "metadata": {
        "id": "XPiHpMTZZlDC",
        "colab_type": "code",
        "colab": {}
      },
      "source": [
        "import pandas as pd\n",
        "import numpy as np\n",
        "import matplotlib.pyplot as plt"
      ],
      "execution_count": 66,
      "outputs": []
    },
    {
      "cell_type": "code",
      "metadata": {
        "id": "sOlMmeLtaiY-",
        "colab_type": "code",
        "colab": {}
      },
      "source": [
        "#Recordemos que para generar una distribución aleatoria con media m y desviación típica s, hay que multiplicar la\n",
        "#N(0,1) por la s y sumarle la m\n",
        "x = 1.5 + 2.5 * np.random.randn(100)"
      ],
      "execution_count": 67,
      "outputs": []
    },
    {
      "cell_type": "code",
      "metadata": {
        "id": "AcDhSNHca7i8",
        "colab_type": "code",
        "colab": {}
      },
      "source": [
        "res = 0 + 0.8 * np.random.randn(100)"
      ],
      "execution_count": 68,
      "outputs": []
    },
    {
      "cell_type": "code",
      "metadata": {
        "id": "r_kkNrOjbDd0",
        "colab_type": "code",
        "colab": {}
      },
      "source": [
        "y_pred = 5 + 1.9 * x"
      ],
      "execution_count": 69,
      "outputs": []
    },
    {
      "cell_type": "code",
      "metadata": {
        "id": "r2X4hhHZbIRs",
        "colab_type": "code",
        "colab": {}
      },
      "source": [
        "y_act = 5 + 1.9 * x + res"
      ],
      "execution_count": 70,
      "outputs": []
    },
    {
      "cell_type": "code",
      "metadata": {
        "id": "ENP4GTZXbZfs",
        "colab_type": "code",
        "colab": {}
      },
      "source": [
        "x_list = x.tolist()\n",
        "y_pred_list = y_pred.tolist()\n",
        "y_act_list = y_act.tolist()"
      ],
      "execution_count": 71,
      "outputs": []
    },
    {
      "cell_type": "code",
      "metadata": {
        "id": "lFrvR_MIbjw0",
        "colab_type": "code",
        "colab": {}
      },
      "source": [
        "data = pd.DataFrame(\n",
        "    {\n",
        "        'x': x_list,\n",
        "        'y_actual': y_act_list,\n",
        "        'y_prediccion': y_pred_list\n",
        "    }\n",
        ")"
      ],
      "execution_count": 72,
      "outputs": []
    },
    {
      "cell_type": "code",
      "metadata": {
        "id": "KtAXL2kMb1F3",
        "colab_type": "code",
        "colab": {
          "base_uri": "https://localhost:8080/",
          "height": 195
        },
        "outputId": "5fac80db-515c-4e8f-96ae-481967b8ac2d"
      },
      "source": [
        "data.head()"
      ],
      "execution_count": 73,
      "outputs": [
        {
          "output_type": "execute_result",
          "data": {
            "text/html": [
              "<div>\n",
              "<style scoped>\n",
              "    .dataframe tbody tr th:only-of-type {\n",
              "        vertical-align: middle;\n",
              "    }\n",
              "\n",
              "    .dataframe tbody tr th {\n",
              "        vertical-align: top;\n",
              "    }\n",
              "\n",
              "    .dataframe thead th {\n",
              "        text-align: right;\n",
              "    }\n",
              "</style>\n",
              "<table border=\"1\" class=\"dataframe\">\n",
              "  <thead>\n",
              "    <tr style=\"text-align: right;\">\n",
              "      <th></th>\n",
              "      <th>x</th>\n",
              "      <th>y_actual</th>\n",
              "      <th>y_prediccion</th>\n",
              "    </tr>\n",
              "  </thead>\n",
              "  <tbody>\n",
              "    <tr>\n",
              "      <th>0</th>\n",
              "      <td>0.729804</td>\n",
              "      <td>6.281475</td>\n",
              "      <td>6.386628</td>\n",
              "    </tr>\n",
              "    <tr>\n",
              "      <th>1</th>\n",
              "      <td>-0.830695</td>\n",
              "      <td>2.665240</td>\n",
              "      <td>3.421679</td>\n",
              "    </tr>\n",
              "    <tr>\n",
              "      <th>2</th>\n",
              "      <td>1.536011</td>\n",
              "      <td>8.126412</td>\n",
              "      <td>7.918420</td>\n",
              "    </tr>\n",
              "    <tr>\n",
              "      <th>3</th>\n",
              "      <td>-0.324104</td>\n",
              "      <td>4.709221</td>\n",
              "      <td>4.384203</td>\n",
              "    </tr>\n",
              "    <tr>\n",
              "      <th>4</th>\n",
              "      <td>4.117845</td>\n",
              "      <td>13.463874</td>\n",
              "      <td>12.823906</td>\n",
              "    </tr>\n",
              "  </tbody>\n",
              "</table>\n",
              "</div>"
            ],
            "text/plain": [
              "          x   y_actual  y_prediccion\n",
              "0  0.729804   6.281475      6.386628\n",
              "1 -0.830695   2.665240      3.421679\n",
              "2  1.536011   8.126412      7.918420\n",
              "3 -0.324104   4.709221      4.384203\n",
              "4  4.117845  13.463874     12.823906"
            ]
          },
          "metadata": {
            "tags": []
          },
          "execution_count": 73
        }
      ]
    },
    {
      "cell_type": "code",
      "metadata": {
        "id": "kjjrSB4Vc9it",
        "colab_type": "code",
        "colab": {
          "base_uri": "https://localhost:8080/",
          "height": 1000
        },
        "outputId": "71cf6ae6-a617-48a0-af74-d9265720e496"
      },
      "source": [
        "y_mean = [np.mean(y_act) for i in range(0,len(x_list))]\n",
        "y_mean"
      ],
      "execution_count": 74,
      "outputs": [
        {
          "output_type": "execute_result",
          "data": {
            "text/plain": [
              "[8.923101769053801,\n",
              " 8.923101769053801,\n",
              " 8.923101769053801,\n",
              " 8.923101769053801,\n",
              " 8.923101769053801,\n",
              " 8.923101769053801,\n",
              " 8.923101769053801,\n",
              " 8.923101769053801,\n",
              " 8.923101769053801,\n",
              " 8.923101769053801,\n",
              " 8.923101769053801,\n",
              " 8.923101769053801,\n",
              " 8.923101769053801,\n",
              " 8.923101769053801,\n",
              " 8.923101769053801,\n",
              " 8.923101769053801,\n",
              " 8.923101769053801,\n",
              " 8.923101769053801,\n",
              " 8.923101769053801,\n",
              " 8.923101769053801,\n",
              " 8.923101769053801,\n",
              " 8.923101769053801,\n",
              " 8.923101769053801,\n",
              " 8.923101769053801,\n",
              " 8.923101769053801,\n",
              " 8.923101769053801,\n",
              " 8.923101769053801,\n",
              " 8.923101769053801,\n",
              " 8.923101769053801,\n",
              " 8.923101769053801,\n",
              " 8.923101769053801,\n",
              " 8.923101769053801,\n",
              " 8.923101769053801,\n",
              " 8.923101769053801,\n",
              " 8.923101769053801,\n",
              " 8.923101769053801,\n",
              " 8.923101769053801,\n",
              " 8.923101769053801,\n",
              " 8.923101769053801,\n",
              " 8.923101769053801,\n",
              " 8.923101769053801,\n",
              " 8.923101769053801,\n",
              " 8.923101769053801,\n",
              " 8.923101769053801,\n",
              " 8.923101769053801,\n",
              " 8.923101769053801,\n",
              " 8.923101769053801,\n",
              " 8.923101769053801,\n",
              " 8.923101769053801,\n",
              " 8.923101769053801,\n",
              " 8.923101769053801,\n",
              " 8.923101769053801,\n",
              " 8.923101769053801,\n",
              " 8.923101769053801,\n",
              " 8.923101769053801,\n",
              " 8.923101769053801,\n",
              " 8.923101769053801,\n",
              " 8.923101769053801,\n",
              " 8.923101769053801,\n",
              " 8.923101769053801,\n",
              " 8.923101769053801,\n",
              " 8.923101769053801,\n",
              " 8.923101769053801,\n",
              " 8.923101769053801,\n",
              " 8.923101769053801,\n",
              " 8.923101769053801,\n",
              " 8.923101769053801,\n",
              " 8.923101769053801,\n",
              " 8.923101769053801,\n",
              " 8.923101769053801,\n",
              " 8.923101769053801,\n",
              " 8.923101769053801,\n",
              " 8.923101769053801,\n",
              " 8.923101769053801,\n",
              " 8.923101769053801,\n",
              " 8.923101769053801,\n",
              " 8.923101769053801,\n",
              " 8.923101769053801,\n",
              " 8.923101769053801,\n",
              " 8.923101769053801,\n",
              " 8.923101769053801,\n",
              " 8.923101769053801,\n",
              " 8.923101769053801,\n",
              " 8.923101769053801,\n",
              " 8.923101769053801,\n",
              " 8.923101769053801,\n",
              " 8.923101769053801,\n",
              " 8.923101769053801,\n",
              " 8.923101769053801,\n",
              " 8.923101769053801,\n",
              " 8.923101769053801,\n",
              " 8.923101769053801,\n",
              " 8.923101769053801,\n",
              " 8.923101769053801,\n",
              " 8.923101769053801,\n",
              " 8.923101769053801,\n",
              " 8.923101769053801,\n",
              " 8.923101769053801,\n",
              " 8.923101769053801,\n",
              " 8.923101769053801]"
            ]
          },
          "metadata": {
            "tags": []
          },
          "execution_count": 74
        }
      ]
    },
    {
      "cell_type": "code",
      "metadata": {
        "id": "r5RzVTYXb7pO",
        "colab_type": "code",
        "colab": {
          "base_uri": "https://localhost:8080/",
          "height": 298
        },
        "outputId": "af524f8c-7a1f-4c78-e31f-23f63f9529e6"
      },
      "source": [
        "%matplotlib inline\n",
        "plt.plot(data['x'],data['y_prediccion'])\n",
        "plt.plot(data['x'],data['y_actual'],'ro')\n",
        "plt.plot(data['x'],y_mean,'g')\n",
        "plt.title('Valor actual vs Predicción')"
      ],
      "execution_count": 75,
      "outputs": [
        {
          "output_type": "execute_result",
          "data": {
            "text/plain": [
              "Text(0.5, 1.0, 'Valor actual vs Predicción')"
            ]
          },
          "metadata": {
            "tags": []
          },
          "execution_count": 75
        },
        {
          "output_type": "display_data",
          "data": {
            "image/png": "[encoded data removed]",
            "text/plain": [
              "<Figure size 432x288 with 1 Axes>"
            ]
          },
          "metadata": {
            "tags": [],
            "needs_background": "light"
          }
        }
      ]
    },
    {
      "cell_type": "code",
      "metadata": {
        "id": "rItGn-mBc5uX",
        "colab_type": "code",
        "colab": {}
      },
      "source": [
        "data['SSR'] = (data['y_prediccion'] -  y_mean) ** 2\n",
        "data['SSD'] = (data['y_prediccion'] - data['y_actual']) ** 2\n",
        "data['SST'] = (data['y_actual'] - y_mean) ** 2"
      ],
      "execution_count": 76,
      "outputs": []
    },
    {
      "cell_type": "code",
      "metadata": {
        "id": "INTDOTs5k-sQ",
        "colab_type": "code",
        "colab": {
          "base_uri": "https://localhost:8080/",
          "height": 195
        },
        "outputId": "04b7d14f-c16a-4c76-ab4d-53703eb85bc2"
      },
      "source": [
        "data.head()"
      ],
      "execution_count": 77,
      "outputs": [
        {
          "output_type": "execute_result",
          "data": {
            "text/html": [
              "<div>\n",
              "<style scoped>\n",
              "    .dataframe tbody tr th:only-of-type {\n",
              "        vertical-align: middle;\n",
              "    }\n",
              "\n",
              "    .dataframe tbody tr th {\n",
              "        vertical-align: top;\n",
              "    }\n",
              "\n",
              "    .dataframe thead th {\n",
              "        text-align: right;\n",
              "    }\n",
              "</style>\n",
              "<table border=\"1\" class=\"dataframe\">\n",
              "  <thead>\n",
              "    <tr style=\"text-align: right;\">\n",
              "      <th></th>\n",
              "      <th>x</th>\n",
              "      <th>y_actual</th>\n",
              "      <th>y_prediccion</th>\n",
              "      <th>SSR</th>\n",
              "      <th>SSD</th>\n",
              "      <th>SST</th>\n",
              "    </tr>\n",
              "  </thead>\n",
              "  <tbody>\n",
              "    <tr>\n",
              "      <th>0</th>\n",
              "      <td>0.729804</td>\n",
              "      <td>6.281475</td>\n",
              "      <td>6.386628</td>\n",
              "      <td>6.433697</td>\n",
              "      <td>0.011057</td>\n",
              "      <td>6.978190</td>\n",
              "    </tr>\n",
              "    <tr>\n",
              "      <th>1</th>\n",
              "      <td>-0.830695</td>\n",
              "      <td>2.665240</td>\n",
              "      <td>3.421679</td>\n",
              "      <td>30.265648</td>\n",
              "      <td>0.572201</td>\n",
              "      <td>39.160840</td>\n",
              "    </tr>\n",
              "    <tr>\n",
              "      <th>2</th>\n",
              "      <td>1.536011</td>\n",
              "      <td>8.126412</td>\n",
              "      <td>7.918420</td>\n",
              "      <td>1.009385</td>\n",
              "      <td>0.043260</td>\n",
              "      <td>0.634715</td>\n",
              "    </tr>\n",
              "    <tr>\n",
              "      <th>3</th>\n",
              "      <td>-0.324104</td>\n",
              "      <td>4.709221</td>\n",
              "      <td>4.384203</td>\n",
              "      <td>20.601607</td>\n",
              "      <td>0.105637</td>\n",
              "      <td>17.756788</td>\n",
              "    </tr>\n",
              "    <tr>\n",
              "      <th>4</th>\n",
              "      <td>4.117845</td>\n",
              "      <td>13.463874</td>\n",
              "      <td>12.823906</td>\n",
              "      <td>15.216276</td>\n",
              "      <td>0.409558</td>\n",
              "      <td>20.618610</td>\n",
              "    </tr>\n",
              "  </tbody>\n",
              "</table>\n",
              "</div>"
            ],
            "text/plain": [
              "          x   y_actual  y_prediccion        SSR       SSD        SST\n",
              "0  0.729804   6.281475      6.386628   6.433697  0.011057   6.978190\n",
              "1 -0.830695   2.665240      3.421679  30.265648  0.572201  39.160840\n",
              "2  1.536011   8.126412      7.918420   1.009385  0.043260   0.634715\n",
              "3 -0.324104   4.709221      4.384203  20.601607  0.105637  17.756788\n",
              "4  4.117845  13.463874     12.823906  15.216276  0.409558  20.618610"
            ]
          },
          "metadata": {
            "tags": []
          },
          "execution_count": 77
        }
      ]
    },
    {
      "cell_type": "code",
      "metadata": {
        "id": "trA27FQ9lqdW",
        "colab_type": "code",
        "colab": {
          "base_uri": "https://localhost:8080/",
          "height": 67
        },
        "outputId": "51ce8aa8-2fb7-467b-f39b-5240b0a5a98a"
      },
      "source": [
        "SSR = sum(data['SSR'])\n",
        "SSD = sum(data['SSD'])\n",
        "SST = sum(data['SST'])\n",
        "print(SSR)\n",
        "print(SSD)\n",
        "print(SST)"
      ],
      "execution_count": 78,
      "outputs": [
        {
          "output_type": "stream",
          "text": [
            "1787.4811470768277\n",
            "71.90717201446309\n",
            "1791.2002755770798\n"
          ],
          "name": "stdout"
        }
      ]
    },
    {
      "cell_type": "code",
      "metadata": {
        "id": "p4WrTAN7naow",
        "colab_type": "code",
        "colab": {
          "base_uri": "https://localhost:8080/",
          "height": 34
        },
        "outputId": "ed7660fa-bd03-4ef1-e3fe-08f705f15f44"
      },
      "source": [
        "SSR + SSD #tendría que ser igual a SST"
      ],
      "execution_count": 79,
      "outputs": [
        {
          "output_type": "execute_result",
          "data": {
            "text/plain": [
              "1859.388319091291"
            ]
          },
          "metadata": {
            "tags": []
          },
          "execution_count": 79
        }
      ]
    },
    {
      "cell_type": "code",
      "metadata": {
        "id": "PXAWiDM8nesH",
        "colab_type": "code",
        "colab": {
          "base_uri": "https://localhost:8080/",
          "height": 34
        },
        "outputId": "bc1dfb38-2368-44ab-9897-b5207946aa83"
      },
      "source": [
        "R2 = SSR/SST\n",
        "R2"
      ],
      "execution_count": 80,
      "outputs": [
        {
          "output_type": "execute_result",
          "data": {
            "text/plain": [
              "0.9979236668557044"
            ]
          },
          "metadata": {
            "tags": []
          },
          "execution_count": 80
        }
      ]
    },
    {
      "cell_type": "code",
      "metadata": {
        "id": "PkqqWYZFpMJO",
        "colab_type": "code",
        "colab": {
          "base_uri": "https://localhost:8080/",
          "height": 349
        },
        "outputId": "a77a6daa-fce3-4bac-b263-955dc6df7b42"
      },
      "source": [
        "plt.hist(data['y_prediccion'] - data['y_actual'])"
      ],
      "execution_count": 81,
      "outputs": [
        {
          "output_type": "execute_result",
          "data": {
            "text/plain": [
              "(array([ 2.,  1.,  9.,  8., 12., 22., 17., 11., 10.,  8.]),\n",
              " array([-2.29897194, -1.90318275, -1.50739355, -1.11160436, -0.71581517,\n",
              "        -0.32002597,  0.07576322,  0.47155242,  0.86734161,  1.26313081,\n",
              "         1.65892   ]),\n",
              " <a list of 10 Patch objects>)"
            ]
          },
          "metadata": {
            "tags": []
          },
          "execution_count": 81
        },
        {
          "output_type": "display_data",
          "data": {
            "image/png": "[encoded data removed]",
            "text/plain": [
              "<Figure size 432x288 with 1 Axes>"
            ]
          },
          "metadata": {
            "tags": [],
            "needs_background": "light"
          }
        }
      ]
    },
    {
      "cell_type": "markdown",
      "metadata": {
        "id": "majnXaZmxc8C",
        "colab_type": "text"
      },
      "source": [
        "Obteniendo la recta de regresión a partir de los datos\n",
        "\n",
        "y = a + b * x\n",
        "\n",
        "b = covarianza / varianza\n",
        "\n",
        "a = y_n - b * x_m"
      ]
    },
    {
      "cell_type": "code",
      "metadata": {
        "id": "EYOAQDm_xp_H",
        "colab_type": "code",
        "colab": {
          "base_uri": "https://localhost:8080/",
          "height": 34
        },
        "outputId": "3a1c7d3d-9847-4ce6-82c2-b28f8306aa8c"
      },
      "source": [
        "x_mean = np.mean(data['x'])\n",
        "y_mean = np.mean(data['y_actual'])\n",
        "x_mean, y_mean"
      ],
      "execution_count": 82,
      "outputs": [
        {
          "output_type": "execute_result",
          "data": {
            "text/plain": [
              "(2.07330309789982, 8.923101769053797)"
            ]
          },
          "metadata": {
            "tags": []
          },
          "execution_count": 82
        }
      ]
    },
    {
      "cell_type": "code",
      "metadata": {
        "id": "cuZy0wb8zRQF",
        "colab_type": "code",
        "colab": {
          "base_uri": "https://localhost:8080/",
          "height": 34
        },
        "outputId": "2f6eb401-421b-49fc-a63c-bee3876488b8"
      },
      "source": [
        "data['beta_numerador'] = (data['x'] - x_mean) * (data['y_actual'] - y_mean)\n",
        "data['beta_denominador'] = (data['x'] - x_mean) ** 2\n",
        "beta = sum(data['beta_numerador'])/ sum(data['beta_denominador'])\n",
        "alpha = y_mean - beta * x_mean\n",
        "alpha, beta"
      ],
      "execution_count": 83,
      "outputs": [
        {
          "output_type": "execute_result",
          "data": {
            "text/plain": [
              "(5.05890621037109, 1.8637870953827234)"
            ]
          },
          "metadata": {
            "tags": []
          },
          "execution_count": 83
        }
      ]
    },
    {
      "cell_type": "markdown",
      "metadata": {
        "id": "i3Oq0vExz4W3",
        "colab_type": "text"
      },
      "source": [
        "y = 5.151499121738837 + 1.9391305328769286 * x\n",
        "\n",
        "Recordemos que el que habíamos supuesto al principio sera y = 5 + 1.9 * x"
      ]
    },
    {
      "cell_type": "code",
      "metadata": {
        "id": "fGfICxwr0yl0",
        "colab_type": "code",
        "colab": {
          "base_uri": "https://localhost:8080/",
          "height": 195
        },
        "outputId": "6e366635-9861-481a-d6b2-72b45bf71a4d"
      },
      "source": [
        "data['model'] = alpha + beta * data['x']\n",
        "data.head()"
      ],
      "execution_count": 84,
      "outputs": [
        {
          "output_type": "execute_result",
          "data": {
            "text/html": [
              "<div>\n",
              "<style scoped>\n",
              "    .dataframe tbody tr th:only-of-type {\n",
              "        vertical-align: middle;\n",
              "    }\n",
              "\n",
              "    .dataframe tbody tr th {\n",
              "        vertical-align: top;\n",
              "    }\n",
              "\n",
              "    .dataframe thead th {\n",
              "        text-align: right;\n",
              "    }\n",
              "</style>\n",
              "<table border=\"1\" class=\"dataframe\">\n",
              "  <thead>\n",
              "    <tr style=\"text-align: right;\">\n",
              "      <th></th>\n",
              "      <th>x</th>\n",
              "      <th>y_actual</th>\n",
              "      <th>y_prediccion</th>\n",
              "      <th>SSR</th>\n",
              "      <th>SSD</th>\n",
              "      <th>SST</th>\n",
              "      <th>beta_numerador</th>\n",
              "      <th>beta_denominador</th>\n",
              "      <th>model</th>\n",
              "    </tr>\n",
              "  </thead>\n",
              "  <tbody>\n",
              "    <tr>\n",
              "      <th>0</th>\n",
              "      <td>0.729804</td>\n",
              "      <td>6.281475</td>\n",
              "      <td>6.386628</td>\n",
              "      <td>6.433697</td>\n",
              "      <td>0.011057</td>\n",
              "      <td>6.978190</td>\n",
              "      <td>3.549022</td>\n",
              "      <td>1.804989</td>\n",
              "      <td>6.419106</td>\n",
              "    </tr>\n",
              "    <tr>\n",
              "      <th>1</th>\n",
              "      <td>-0.830695</td>\n",
              "      <td>2.665240</td>\n",
              "      <td>3.421679</td>\n",
              "      <td>30.265648</td>\n",
              "      <td>0.572201</td>\n",
              "      <td>39.160840</td>\n",
              "      <td>18.172820</td>\n",
              "      <td>8.433205</td>\n",
              "      <td>3.510667</td>\n",
              "    </tr>\n",
              "    <tr>\n",
              "      <th>2</th>\n",
              "      <td>1.536011</td>\n",
              "      <td>8.126412</td>\n",
              "      <td>7.918420</td>\n",
              "      <td>1.009385</td>\n",
              "      <td>0.043260</td>\n",
              "      <td>0.634715</td>\n",
              "      <td>0.428056</td>\n",
              "      <td>0.288683</td>\n",
              "      <td>7.921703</td>\n",
              "    </tr>\n",
              "    <tr>\n",
              "      <th>3</th>\n",
              "      <td>-0.324104</td>\n",
              "      <td>4.709221</td>\n",
              "      <td>4.384203</td>\n",
              "      <td>20.601607</td>\n",
              "      <td>0.105637</td>\n",
              "      <td>17.756788</td>\n",
              "      <td>10.102387</td>\n",
              "      <td>5.747561</td>\n",
              "      <td>4.454845</td>\n",
              "    </tr>\n",
              "    <tr>\n",
              "      <th>4</th>\n",
              "      <td>4.117845</td>\n",
              "      <td>13.463874</td>\n",
              "      <td>12.823906</td>\n",
              "      <td>15.216276</td>\n",
              "      <td>0.409558</td>\n",
              "      <td>20.618610</td>\n",
              "      <td>9.283801</td>\n",
              "      <td>4.180153</td>\n",
              "      <td>12.733693</td>\n",
              "    </tr>\n",
              "  </tbody>\n",
              "</table>\n",
              "</div>"
            ],
            "text/plain": [
              "          x   y_actual  ...  beta_denominador      model\n",
              "0  0.729804   6.281475  ...          1.804989   6.419106\n",
              "1 -0.830695   2.665240  ...          8.433205   3.510667\n",
              "2  1.536011   8.126412  ...          0.288683   7.921703\n",
              "3 -0.324104   4.709221  ...          5.747561   4.454845\n",
              "4  4.117845  13.463874  ...          4.180153  12.733693\n",
              "\n",
              "[5 rows x 9 columns]"
            ]
          },
          "metadata": {
            "tags": []
          },
          "execution_count": 84
        }
      ]
    },
    {
      "cell_type": "code",
      "metadata": {
        "id": "BwTsb2bx1CvW",
        "colab_type": "code",
        "colab": {
          "base_uri": "https://localhost:8080/",
          "height": 34
        },
        "outputId": "8dc2e3cb-5196-46e5-ae14-0c5c72f9da14"
      },
      "source": [
        "SSR_model = sum((data['model'] -  y_mean) ** 2)\n",
        "SSD_model = sum((data['model'] - data['y_actual']) ** 2)\n",
        "SST_model = sum((data['y_actual'] - y_mean) ** 2)\n",
        "R2 = SSR_model/SST_model\n",
        "R2"
      ],
      "execution_count": 85,
      "outputs": [
        {
          "output_type": "execute_result",
          "data": {
            "text/plain": [
              "0.9602324212544437"
            ]
          },
          "metadata": {
            "tags": []
          },
          "execution_count": 85
        }
      ]
    },
    {
      "cell_type": "code",
      "metadata": {
        "id": "sVxeNv_f14q0",
        "colab_type": "code",
        "colab": {
          "base_uri": "https://localhost:8080/",
          "height": 298
        },
        "outputId": "38c57519-0dfb-4a34-e7d3-be2fdebb70be"
      },
      "source": [
        "y_mean_array = [y_mean for i in range(0, len(data['x']))]\n",
        "%matplotlib inline\n",
        "plt.plot(data['x'],data['y_prediccion'])\n",
        "plt.plot(data['x'],data['y_actual'],'ro')\n",
        "plt.plot(data['x'],data['model'])\n",
        "plt.plot(data['x'],y_mean_array,'g')\n",
        "plt.title('Valor actual vs Predicción')"
      ],
      "execution_count": 91,
      "outputs": [
        {
          "output_type": "execute_result",
          "data": {
            "text/plain": [
              "Text(0.5, 1.0, 'Valor actual vs Predicción')"
            ]
          },
          "metadata": {
            "tags": []
          },
          "execution_count": 91
        },
        {
          "output_type": "display_data",
          "data": {
            "image/png": "[encoded data removed]",
            "text/plain": [
              "<Figure size 432x288 with 1 Axes>"
            ]
          },
          "metadata": {
            "tags": [],
            "needs_background": "light"
          }
        }
      ]
    }
  ]
}
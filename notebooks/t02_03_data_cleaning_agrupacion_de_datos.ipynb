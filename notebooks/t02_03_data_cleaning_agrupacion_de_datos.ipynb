{
  "nbformat": 4,
  "nbformat_minor": 0,
  "metadata": {
    "colab": {
      "name": "t02-03-data-cleaning-agrupacion_de_datos.ipynb",
      "provenance": [],
      "collapsed_sections": [],
      "authorship_tag": "ABX9TyN2bAfx1UHch2OzIRd/tNHs",
      "include_colab_link": true
    },
    "kernelspec": {
      "name": "python3",
      "display_name": "Python 3"
    }
  },
  "cells": [
    {
      "cell_type": "markdown",
      "metadata": {
        "id": "view-in-github",
        "colab_type": "text"
      },
      "source": [
        "<a href=\"https://colab.research.google.com/github/javilledo/machine-learning/blob/master/notebooks/t02_03_data_cleaning_agrupacion_de_datos.ipynb\" target=\"_parent\"><img src=\"https://colab.research.google.com/assets/colab-badge.svg\" alt=\"Open In Colab\"/></a>"
      ]
    },
    {
      "cell_type": "markdown",
      "metadata": {
        "id": "Fkos3ErOGAlM",
        "colab_type": "text"
      },
      "source": [
        "# AGREGACIÓN DE DATOS POR CATEGORÍA"
      ]
    },
    {
      "cell_type": "code",
      "metadata": {
        "id": "GcOqAri0GQvq",
        "colab_type": "code",
        "colab": {}
      },
      "source": [
        "import numpy as np\n",
        "import pandas as pd"
      ],
      "execution_count": 43,
      "outputs": []
    },
    {
      "cell_type": "code",
      "metadata": {
        "id": "bzE3nLZHGWdK",
        "colab_type": "code",
        "colab": {}
      },
      "source": [
        "gender = ['Male', 'Female']\n",
        "economic_status = ['Poor', 'Middle Class', 'Rich']"
      ],
      "execution_count": 44,
      "outputs": []
    },
    {
      "cell_type": "code",
      "metadata": {
        "id": "HX6yZIZFGh8L",
        "colab_type": "code",
        "colab": {}
      },
      "source": [
        "n = 500\n",
        "\n",
        "gender_data = []\n",
        "economic_status_data = []\n",
        "\n",
        "for i in range(0,n):\n",
        "  gender_data.append(np.random.choice(gender))\n",
        "  economic_status_data.append(np.random.choice(economic_status))"
      ],
      "execution_count": 45,
      "outputs": []
    },
    {
      "cell_type": "code",
      "metadata": {
        "id": "5hDXU0QBG9Ti",
        "colab_type": "code",
        "colab": {
          "base_uri": "https://localhost:8080/",
          "height": 34
        },
        "outputId": "297bfad7-f499-4a4f-edb6-85436c8af86b"
      },
      "source": [
        "gender_data[1:10]"
      ],
      "execution_count": 46,
      "outputs": [
        {
          "output_type": "execute_result",
          "data": {
            "text/plain": [
              "['Male', 'Female', 'Male', 'Male', 'Male', 'Female', 'Female', 'Male', 'Male']"
            ]
          },
          "metadata": {
            "tags": []
          },
          "execution_count": 46
        }
      ]
    },
    {
      "cell_type": "code",
      "metadata": {
        "id": "STMI2j9eHEEz",
        "colab_type": "code",
        "colab": {
          "base_uri": "https://localhost:8080/",
          "height": 168
        },
        "outputId": "614c1fa8-9463-4400-f01a-98509e280464"
      },
      "source": [
        "economic_status_data[1:10]"
      ],
      "execution_count": 47,
      "outputs": [
        {
          "output_type": "execute_result",
          "data": {
            "text/plain": [
              "['Middle Class',\n",
              " 'Rich',\n",
              " 'Poor',\n",
              " 'Rich',\n",
              " 'Middle Class',\n",
              " 'Poor',\n",
              " 'Middle Class',\n",
              " 'Middle Class',\n",
              " 'Middle Class']"
            ]
          },
          "metadata": {
            "tags": []
          },
          "execution_count": 47
        }
      ]
    },
    {
      "cell_type": "code",
      "metadata": {
        "id": "aZin5J72HK7j",
        "colab_type": "code",
        "colab": {}
      },
      "source": [
        "# N(m,s) = m + s * N(0,1)\n",
        "height_data = 160 + 30 * np.random.randn(n)\n",
        "weight_data = 65 + 25 * np.random.randn(n)\n",
        "age_data = 30 + 12 * np.random.randn(n)\n",
        "income_data = 18000 + 3500 * np.random.randn(n)"
      ],
      "execution_count": 48,
      "outputs": []
    },
    {
      "cell_type": "code",
      "metadata": {
        "id": "1qupQvBCHzfq",
        "colab_type": "code",
        "colab": {
          "base_uri": "https://localhost:8080/",
          "height": 195
        },
        "outputId": "da66d377-2d4d-4d4b-9d48-ff7cd178958e"
      },
      "source": [
        "data = pd.DataFrame(\n",
        "    {\n",
        "        'Gender': gender_data,\n",
        "        'Economic Status': economic_status_data,\n",
        "        'Height': height_data,\n",
        "        'Weight': weight_data,\n",
        "        'Age': age_data,\n",
        "        'Income': income_data      \n",
        "    }\n",
        ")\n",
        "data.head()"
      ],
      "execution_count": 49,
      "outputs": [
        {
          "output_type": "execute_result",
          "data": {
            "text/html": [
              "<div>\n",
              "<style scoped>\n",
              "    .dataframe tbody tr th:only-of-type {\n",
              "        vertical-align: middle;\n",
              "    }\n",
              "\n",
              "    .dataframe tbody tr th {\n",
              "        vertical-align: top;\n",
              "    }\n",
              "\n",
              "    .dataframe thead th {\n",
              "        text-align: right;\n",
              "    }\n",
              "</style>\n",
              "<table border=\"1\" class=\"dataframe\">\n",
              "  <thead>\n",
              "    <tr style=\"text-align: right;\">\n",
              "      <th></th>\n",
              "      <th>Gender</th>\n",
              "      <th>Economic Status</th>\n",
              "      <th>Height</th>\n",
              "      <th>Weight</th>\n",
              "      <th>Age</th>\n",
              "      <th>Income</th>\n",
              "    </tr>\n",
              "  </thead>\n",
              "  <tbody>\n",
              "    <tr>\n",
              "      <th>0</th>\n",
              "      <td>Female</td>\n",
              "      <td>Rich</td>\n",
              "      <td>132.437324</td>\n",
              "      <td>103.184672</td>\n",
              "      <td>35.036792</td>\n",
              "      <td>15066.122922</td>\n",
              "    </tr>\n",
              "    <tr>\n",
              "      <th>1</th>\n",
              "      <td>Male</td>\n",
              "      <td>Middle Class</td>\n",
              "      <td>125.453175</td>\n",
              "      <td>93.384280</td>\n",
              "      <td>32.901544</td>\n",
              "      <td>21102.861399</td>\n",
              "    </tr>\n",
              "    <tr>\n",
              "      <th>2</th>\n",
              "      <td>Female</td>\n",
              "      <td>Rich</td>\n",
              "      <td>225.014303</td>\n",
              "      <td>55.029533</td>\n",
              "      <td>25.388403</td>\n",
              "      <td>17287.848139</td>\n",
              "    </tr>\n",
              "    <tr>\n",
              "      <th>3</th>\n",
              "      <td>Male</td>\n",
              "      <td>Poor</td>\n",
              "      <td>120.710759</td>\n",
              "      <td>95.048062</td>\n",
              "      <td>33.156571</td>\n",
              "      <td>16129.378758</td>\n",
              "    </tr>\n",
              "    <tr>\n",
              "      <th>4</th>\n",
              "      <td>Male</td>\n",
              "      <td>Rich</td>\n",
              "      <td>192.784990</td>\n",
              "      <td>24.646342</td>\n",
              "      <td>16.407727</td>\n",
              "      <td>20958.700342</td>\n",
              "    </tr>\n",
              "  </tbody>\n",
              "</table>\n",
              "</div>"
            ],
            "text/plain": [
              "   Gender Economic Status      Height      Weight        Age        Income\n",
              "0  Female            Rich  132.437324  103.184672  35.036792  15066.122922\n",
              "1    Male    Middle Class  125.453175   93.384280  32.901544  21102.861399\n",
              "2  Female            Rich  225.014303   55.029533  25.388403  17287.848139\n",
              "3    Male            Poor  120.710759   95.048062  33.156571  16129.378758\n",
              "4    Male            Rich  192.784990   24.646342  16.407727  20958.700342"
            ]
          },
          "metadata": {
            "tags": []
          },
          "execution_count": 49
        }
      ]
    },
    {
      "cell_type": "code",
      "metadata": {
        "id": "bps7eywRI_W8",
        "colab_type": "code",
        "colab": {
          "base_uri": "https://localhost:8080/",
          "height": 195
        },
        "outputId": "1d2a6d91-3343-4157-a8dc-b87e624c431d"
      },
      "source": [
        "data['Age'] = [int(x) for x in data['Age']] #transformamos edad a entero\n",
        "data.head()"
      ],
      "execution_count": 50,
      "outputs": [
        {
          "output_type": "execute_result",
          "data": {
            "text/html": [
              "<div>\n",
              "<style scoped>\n",
              "    .dataframe tbody tr th:only-of-type {\n",
              "        vertical-align: middle;\n",
              "    }\n",
              "\n",
              "    .dataframe tbody tr th {\n",
              "        vertical-align: top;\n",
              "    }\n",
              "\n",
              "    .dataframe thead th {\n",
              "        text-align: right;\n",
              "    }\n",
              "</style>\n",
              "<table border=\"1\" class=\"dataframe\">\n",
              "  <thead>\n",
              "    <tr style=\"text-align: right;\">\n",
              "      <th></th>\n",
              "      <th>Gender</th>\n",
              "      <th>Economic Status</th>\n",
              "      <th>Height</th>\n",
              "      <th>Weight</th>\n",
              "      <th>Age</th>\n",
              "      <th>Income</th>\n",
              "    </tr>\n",
              "  </thead>\n",
              "  <tbody>\n",
              "    <tr>\n",
              "      <th>0</th>\n",
              "      <td>Female</td>\n",
              "      <td>Rich</td>\n",
              "      <td>132.437324</td>\n",
              "      <td>103.184672</td>\n",
              "      <td>35</td>\n",
              "      <td>15066.122922</td>\n",
              "    </tr>\n",
              "    <tr>\n",
              "      <th>1</th>\n",
              "      <td>Male</td>\n",
              "      <td>Middle Class</td>\n",
              "      <td>125.453175</td>\n",
              "      <td>93.384280</td>\n",
              "      <td>32</td>\n",
              "      <td>21102.861399</td>\n",
              "    </tr>\n",
              "    <tr>\n",
              "      <th>2</th>\n",
              "      <td>Female</td>\n",
              "      <td>Rich</td>\n",
              "      <td>225.014303</td>\n",
              "      <td>55.029533</td>\n",
              "      <td>25</td>\n",
              "      <td>17287.848139</td>\n",
              "    </tr>\n",
              "    <tr>\n",
              "      <th>3</th>\n",
              "      <td>Male</td>\n",
              "      <td>Poor</td>\n",
              "      <td>120.710759</td>\n",
              "      <td>95.048062</td>\n",
              "      <td>33</td>\n",
              "      <td>16129.378758</td>\n",
              "    </tr>\n",
              "    <tr>\n",
              "      <th>4</th>\n",
              "      <td>Male</td>\n",
              "      <td>Rich</td>\n",
              "      <td>192.784990</td>\n",
              "      <td>24.646342</td>\n",
              "      <td>16</td>\n",
              "      <td>20958.700342</td>\n",
              "    </tr>\n",
              "  </tbody>\n",
              "</table>\n",
              "</div>"
            ],
            "text/plain": [
              "   Gender Economic Status      Height      Weight  Age        Income\n",
              "0  Female            Rich  132.437324  103.184672   35  15066.122922\n",
              "1    Male    Middle Class  125.453175   93.384280   32  21102.861399\n",
              "2  Female            Rich  225.014303   55.029533   25  17287.848139\n",
              "3    Male            Poor  120.710759   95.048062   33  16129.378758\n",
              "4    Male            Rich  192.784990   24.646342   16  20958.700342"
            ]
          },
          "metadata": {
            "tags": []
          },
          "execution_count": 50
        }
      ]
    },
    {
      "cell_type": "markdown",
      "metadata": {
        "id": "ran_RLK0KzIL",
        "colab_type": "text"
      },
      "source": [
        "# AGRUPACIÓN DE DATOS"
      ]
    },
    {
      "cell_type": "code",
      "metadata": {
        "id": "zSAt17X0KtJ9",
        "colab_type": "code",
        "colab": {}
      },
      "source": [
        "grouped_gender = data.groupby('Gender')"
      ],
      "execution_count": 51,
      "outputs": []
    },
    {
      "cell_type": "code",
      "metadata": {
        "id": "ljjy5NzhLO_e",
        "colab_type": "code",
        "colab": {
          "base_uri": "https://localhost:8080/",
          "height": 151
        },
        "outputId": "5e6c7f15-ff3c-44a3-da07-666ca7707623"
      },
      "source": [
        "grouped_gender.groups"
      ],
      "execution_count": 52,
      "outputs": [
        {
          "output_type": "execute_result",
          "data": {
            "text/plain": [
              "{'Female': Int64Index([  0,   2,   6,   7,  10,  12,  14,  15,  17,  18,\n",
              "             ...\n",
              "             477, 479, 482, 483, 489, 490, 491, 492, 494, 499],\n",
              "            dtype='int64', length=265),\n",
              " 'Male': Int64Index([  1,   3,   4,   5,   8,   9,  11,  13,  16,  19,\n",
              "             ...\n",
              "             484, 485, 486, 487, 488, 493, 495, 496, 497, 498],\n",
              "            dtype='int64', length=235)}"
            ]
          },
          "metadata": {
            "tags": []
          },
          "execution_count": 52
        }
      ]
    },
    {
      "cell_type": "code",
      "metadata": {
        "id": "4fpoLy__LsLO",
        "colab_type": "code",
        "colab": {
          "base_uri": "https://localhost:8080/",
          "height": 84
        },
        "outputId": "ada92e53-18f8-494a-c54b-87eccc3e183d"
      },
      "source": [
        "grouped_gender.groups['Female']"
      ],
      "execution_count": 53,
      "outputs": [
        {
          "output_type": "execute_result",
          "data": {
            "text/plain": [
              "Int64Index([  0,   2,   6,   7,  10,  12,  14,  15,  17,  18,\n",
              "            ...\n",
              "            477, 479, 482, 483, 489, 490, 491, 492, 494, 499],\n",
              "           dtype='int64', length=265)"
            ]
          },
          "metadata": {
            "tags": []
          },
          "execution_count": 53
        }
      ]
    },
    {
      "cell_type": "code",
      "metadata": {
        "id": "08vlBsiiLzqb",
        "colab_type": "code",
        "colab": {
          "base_uri": "https://localhost:8080/",
          "height": 370
        },
        "outputId": "eb934233-6e57-4f6c-dbd4-3d41ae3a8990"
      },
      "source": [
        "grouped_gender.groups['Female'].values"
      ],
      "execution_count": 54,
      "outputs": [
        {
          "output_type": "execute_result",
          "data": {
            "text/plain": [
              "array([  0,   2,   6,   7,  10,  12,  14,  15,  17,  18,  20,  21,  24,\n",
              "        25,  31,  33,  35,  36,  39,  41,  44,  45,  46,  48,  51,  53,\n",
              "        55,  57,  60,  61,  64,  69,  71,  74,  80,  81,  83,  84,  86,\n",
              "        88,  89,  91,  92,  94,  95,  97,  99, 100, 104, 106, 108, 110,\n",
              "       112, 113, 117, 121, 123, 125, 126, 127, 128, 131, 132, 133, 134,\n",
              "       135, 137, 139, 140, 141, 142, 143, 146, 149, 150, 151, 155, 156,\n",
              "       158, 159, 165, 166, 167, 169, 170, 173, 174, 175, 177, 178, 179,\n",
              "       180, 184, 185, 186, 188, 190, 192, 195, 197, 201, 203, 204, 207,\n",
              "       208, 211, 212, 213, 214, 215, 216, 217, 218, 219, 222, 223, 225,\n",
              "       226, 228, 231, 233, 235, 236, 237, 239, 240, 242, 244, 246, 247,\n",
              "       248, 251, 253, 254, 259, 260, 261, 262, 264, 265, 267, 268, 269,\n",
              "       273, 274, 275, 282, 283, 286, 287, 288, 291, 293, 294, 296, 299,\n",
              "       300, 302, 305, 306, 309, 310, 311, 312, 313, 315, 318, 319, 320,\n",
              "       321, 322, 323, 331, 332, 333, 334, 335, 336, 338, 341, 342, 344,\n",
              "       346, 350, 351, 352, 355, 356, 359, 362, 364, 366, 372, 377, 378,\n",
              "       381, 383, 384, 385, 387, 388, 389, 391, 394, 395, 397, 398, 400,\n",
              "       401, 403, 405, 406, 408, 409, 410, 411, 413, 414, 416, 417, 419,\n",
              "       422, 423, 425, 426, 427, 429, 430, 431, 433, 436, 437, 438, 439,\n",
              "       440, 441, 442, 443, 446, 448, 450, 451, 452, 453, 455, 458, 460,\n",
              "       461, 462, 465, 466, 468, 471, 473, 475, 477, 479, 482, 483, 489,\n",
              "       490, 491, 492, 494, 499])"
            ]
          },
          "metadata": {
            "tags": []
          },
          "execution_count": 54
        }
      ]
    },
    {
      "cell_type": "code",
      "metadata": {
        "id": "0IIxINn9L3P0",
        "colab_type": "code",
        "colab": {
          "base_uri": "https://localhost:8080/",
          "height": 521
        },
        "outputId": "7df230b4-30e6-4123-8a4e-bc5d7ad62b91"
      },
      "source": [
        "for names, groups in grouped_gender:\n",
        "  print(names)\n",
        "  print(groups)"
      ],
      "execution_count": 55,
      "outputs": [
        {
          "output_type": "stream",
          "text": [
            "Female\n",
            "     Gender Economic Status      Height      Weight  Age        Income\n",
            "0    Female            Rich  132.437324  103.184672   35  15066.122922\n",
            "2    Female            Rich  225.014303   55.029533   25  17287.848139\n",
            "6    Female            Poor  189.808032   31.495853   40  14091.333785\n",
            "7    Female    Middle Class  169.719069  106.419817   33  14784.645489\n",
            "10   Female            Rich  195.683730   64.831235   38  14440.976236\n",
            "..      ...             ...         ...         ...  ...           ...\n",
            "490  Female            Poor  205.627889   55.631779   17  12052.420552\n",
            "491  Female            Rich  154.024414   45.514075   37  15444.749242\n",
            "492  Female            Poor  220.611513   71.682142   34  15306.080084\n",
            "494  Female            Rich  146.410897   80.764813   37  22273.854026\n",
            "499  Female    Middle Class  191.286179   68.009176   29  20776.796223\n",
            "\n",
            "[265 rows x 6 columns]\n",
            "Male\n",
            "    Gender Economic Status      Height     Weight  Age        Income\n",
            "1     Male    Middle Class  125.453175  93.384280   32  21102.861399\n",
            "3     Male            Poor  120.710759  95.048062   33  16129.378758\n",
            "4     Male            Rich  192.784990  24.646342   16  20958.700342\n",
            "5     Male    Middle Class  167.236285  54.797777   26  17755.136112\n",
            "8     Male    Middle Class  176.655405  91.110433   39  17192.169109\n",
            "..     ...             ...         ...        ...  ...           ...\n",
            "493   Male    Middle Class  163.851278  67.697915   17  14719.319722\n",
            "495   Male            Rich  195.786914  54.064663   27  18881.109932\n",
            "496   Male            Rich  181.268338  94.975790   34  18611.291485\n",
            "497   Male            Rich  138.929960  58.472446   42  20741.499495\n",
            "498   Male            Poor  143.136651  13.187100   25  16583.315342\n",
            "\n",
            "[235 rows x 6 columns]\n"
          ],
          "name": "stdout"
        }
      ]
    },
    {
      "cell_type": "code",
      "metadata": {
        "id": "QzJeGZrNMJr2",
        "colab_type": "code",
        "colab": {
          "base_uri": "https://localhost:8080/",
          "height": 402
        },
        "outputId": "8ee1504b-46ab-416c-b5c6-5809f499c22c"
      },
      "source": [
        "grouped_gender.get_group('Female')"
      ],
      "execution_count": 56,
      "outputs": [
        {
          "output_type": "execute_result",
          "data": {
            "text/html": [
              "<div>\n",
              "<style scoped>\n",
              "    .dataframe tbody tr th:only-of-type {\n",
              "        vertical-align: middle;\n",
              "    }\n",
              "\n",
              "    .dataframe tbody tr th {\n",
              "        vertical-align: top;\n",
              "    }\n",
              "\n",
              "    .dataframe thead th {\n",
              "        text-align: right;\n",
              "    }\n",
              "</style>\n",
              "<table border=\"1\" class=\"dataframe\">\n",
              "  <thead>\n",
              "    <tr style=\"text-align: right;\">\n",
              "      <th></th>\n",
              "      <th>Gender</th>\n",
              "      <th>Economic Status</th>\n",
              "      <th>Height</th>\n",
              "      <th>Weight</th>\n",
              "      <th>Age</th>\n",
              "      <th>Income</th>\n",
              "    </tr>\n",
              "  </thead>\n",
              "  <tbody>\n",
              "    <tr>\n",
              "      <th>0</th>\n",
              "      <td>Female</td>\n",
              "      <td>Rich</td>\n",
              "      <td>132.437324</td>\n",
              "      <td>103.184672</td>\n",
              "      <td>35</td>\n",
              "      <td>15066.122922</td>\n",
              "    </tr>\n",
              "    <tr>\n",
              "      <th>2</th>\n",
              "      <td>Female</td>\n",
              "      <td>Rich</td>\n",
              "      <td>225.014303</td>\n",
              "      <td>55.029533</td>\n",
              "      <td>25</td>\n",
              "      <td>17287.848139</td>\n",
              "    </tr>\n",
              "    <tr>\n",
              "      <th>6</th>\n",
              "      <td>Female</td>\n",
              "      <td>Poor</td>\n",
              "      <td>189.808032</td>\n",
              "      <td>31.495853</td>\n",
              "      <td>40</td>\n",
              "      <td>14091.333785</td>\n",
              "    </tr>\n",
              "    <tr>\n",
              "      <th>7</th>\n",
              "      <td>Female</td>\n",
              "      <td>Middle Class</td>\n",
              "      <td>169.719069</td>\n",
              "      <td>106.419817</td>\n",
              "      <td>33</td>\n",
              "      <td>14784.645489</td>\n",
              "    </tr>\n",
              "    <tr>\n",
              "      <th>10</th>\n",
              "      <td>Female</td>\n",
              "      <td>Rich</td>\n",
              "      <td>195.683730</td>\n",
              "      <td>64.831235</td>\n",
              "      <td>38</td>\n",
              "      <td>14440.976236</td>\n",
              "    </tr>\n",
              "    <tr>\n",
              "      <th>...</th>\n",
              "      <td>...</td>\n",
              "      <td>...</td>\n",
              "      <td>...</td>\n",
              "      <td>...</td>\n",
              "      <td>...</td>\n",
              "      <td>...</td>\n",
              "    </tr>\n",
              "    <tr>\n",
              "      <th>490</th>\n",
              "      <td>Female</td>\n",
              "      <td>Poor</td>\n",
              "      <td>205.627889</td>\n",
              "      <td>55.631779</td>\n",
              "      <td>17</td>\n",
              "      <td>12052.420552</td>\n",
              "    </tr>\n",
              "    <tr>\n",
              "      <th>491</th>\n",
              "      <td>Female</td>\n",
              "      <td>Rich</td>\n",
              "      <td>154.024414</td>\n",
              "      <td>45.514075</td>\n",
              "      <td>37</td>\n",
              "      <td>15444.749242</td>\n",
              "    </tr>\n",
              "    <tr>\n",
              "      <th>492</th>\n",
              "      <td>Female</td>\n",
              "      <td>Poor</td>\n",
              "      <td>220.611513</td>\n",
              "      <td>71.682142</td>\n",
              "      <td>34</td>\n",
              "      <td>15306.080084</td>\n",
              "    </tr>\n",
              "    <tr>\n",
              "      <th>494</th>\n",
              "      <td>Female</td>\n",
              "      <td>Rich</td>\n",
              "      <td>146.410897</td>\n",
              "      <td>80.764813</td>\n",
              "      <td>37</td>\n",
              "      <td>22273.854026</td>\n",
              "    </tr>\n",
              "    <tr>\n",
              "      <th>499</th>\n",
              "      <td>Female</td>\n",
              "      <td>Middle Class</td>\n",
              "      <td>191.286179</td>\n",
              "      <td>68.009176</td>\n",
              "      <td>29</td>\n",
              "      <td>20776.796223</td>\n",
              "    </tr>\n",
              "  </tbody>\n",
              "</table>\n",
              "<p>265 rows × 6 columns</p>\n",
              "</div>"
            ],
            "text/plain": [
              "     Gender Economic Status      Height      Weight  Age        Income\n",
              "0    Female            Rich  132.437324  103.184672   35  15066.122922\n",
              "2    Female            Rich  225.014303   55.029533   25  17287.848139\n",
              "6    Female            Poor  189.808032   31.495853   40  14091.333785\n",
              "7    Female    Middle Class  169.719069  106.419817   33  14784.645489\n",
              "10   Female            Rich  195.683730   64.831235   38  14440.976236\n",
              "..      ...             ...         ...         ...  ...           ...\n",
              "490  Female            Poor  205.627889   55.631779   17  12052.420552\n",
              "491  Female            Rich  154.024414   45.514075   37  15444.749242\n",
              "492  Female            Poor  220.611513   71.682142   34  15306.080084\n",
              "494  Female            Rich  146.410897   80.764813   37  22273.854026\n",
              "499  Female    Middle Class  191.286179   68.009176   29  20776.796223\n",
              "\n",
              "[265 rows x 6 columns]"
            ]
          },
          "metadata": {
            "tags": []
          },
          "execution_count": 56
        }
      ]
    },
    {
      "cell_type": "code",
      "metadata": {
        "id": "KICd6Ds4MR6W",
        "colab_type": "code",
        "colab": {
          "base_uri": "https://localhost:8080/",
          "height": 402
        },
        "outputId": "1f286dd8-23e3-459b-f782-e9b8b9a308d5"
      },
      "source": [
        "data.groupby('Economic Status').get_group('Poor')"
      ],
      "execution_count": 57,
      "outputs": [
        {
          "output_type": "execute_result",
          "data": {
            "text/html": [
              "<div>\n",
              "<style scoped>\n",
              "    .dataframe tbody tr th:only-of-type {\n",
              "        vertical-align: middle;\n",
              "    }\n",
              "\n",
              "    .dataframe tbody tr th {\n",
              "        vertical-align: top;\n",
              "    }\n",
              "\n",
              "    .dataframe thead th {\n",
              "        text-align: right;\n",
              "    }\n",
              "</style>\n",
              "<table border=\"1\" class=\"dataframe\">\n",
              "  <thead>\n",
              "    <tr style=\"text-align: right;\">\n",
              "      <th></th>\n",
              "      <th>Gender</th>\n",
              "      <th>Economic Status</th>\n",
              "      <th>Height</th>\n",
              "      <th>Weight</th>\n",
              "      <th>Age</th>\n",
              "      <th>Income</th>\n",
              "    </tr>\n",
              "  </thead>\n",
              "  <tbody>\n",
              "    <tr>\n",
              "      <th>3</th>\n",
              "      <td>Male</td>\n",
              "      <td>Poor</td>\n",
              "      <td>120.710759</td>\n",
              "      <td>95.048062</td>\n",
              "      <td>33</td>\n",
              "      <td>16129.378758</td>\n",
              "    </tr>\n",
              "    <tr>\n",
              "      <th>6</th>\n",
              "      <td>Female</td>\n",
              "      <td>Poor</td>\n",
              "      <td>189.808032</td>\n",
              "      <td>31.495853</td>\n",
              "      <td>40</td>\n",
              "      <td>14091.333785</td>\n",
              "    </tr>\n",
              "    <tr>\n",
              "      <th>11</th>\n",
              "      <td>Male</td>\n",
              "      <td>Poor</td>\n",
              "      <td>119.540702</td>\n",
              "      <td>-0.934851</td>\n",
              "      <td>40</td>\n",
              "      <td>16980.145992</td>\n",
              "    </tr>\n",
              "    <tr>\n",
              "      <th>15</th>\n",
              "      <td>Female</td>\n",
              "      <td>Poor</td>\n",
              "      <td>159.520040</td>\n",
              "      <td>35.036762</td>\n",
              "      <td>20</td>\n",
              "      <td>13665.988567</td>\n",
              "    </tr>\n",
              "    <tr>\n",
              "      <th>16</th>\n",
              "      <td>Male</td>\n",
              "      <td>Poor</td>\n",
              "      <td>246.409286</td>\n",
              "      <td>99.541709</td>\n",
              "      <td>21</td>\n",
              "      <td>19370.230871</td>\n",
              "    </tr>\n",
              "    <tr>\n",
              "      <th>...</th>\n",
              "      <td>...</td>\n",
              "      <td>...</td>\n",
              "      <td>...</td>\n",
              "      <td>...</td>\n",
              "      <td>...</td>\n",
              "      <td>...</td>\n",
              "    </tr>\n",
              "    <tr>\n",
              "      <th>483</th>\n",
              "      <td>Female</td>\n",
              "      <td>Poor</td>\n",
              "      <td>156.599981</td>\n",
              "      <td>103.685858</td>\n",
              "      <td>20</td>\n",
              "      <td>19493.669254</td>\n",
              "    </tr>\n",
              "    <tr>\n",
              "      <th>485</th>\n",
              "      <td>Male</td>\n",
              "      <td>Poor</td>\n",
              "      <td>136.272268</td>\n",
              "      <td>64.922655</td>\n",
              "      <td>11</td>\n",
              "      <td>20914.510306</td>\n",
              "    </tr>\n",
              "    <tr>\n",
              "      <th>490</th>\n",
              "      <td>Female</td>\n",
              "      <td>Poor</td>\n",
              "      <td>205.627889</td>\n",
              "      <td>55.631779</td>\n",
              "      <td>17</td>\n",
              "      <td>12052.420552</td>\n",
              "    </tr>\n",
              "    <tr>\n",
              "      <th>492</th>\n",
              "      <td>Female</td>\n",
              "      <td>Poor</td>\n",
              "      <td>220.611513</td>\n",
              "      <td>71.682142</td>\n",
              "      <td>34</td>\n",
              "      <td>15306.080084</td>\n",
              "    </tr>\n",
              "    <tr>\n",
              "      <th>498</th>\n",
              "      <td>Male</td>\n",
              "      <td>Poor</td>\n",
              "      <td>143.136651</td>\n",
              "      <td>13.187100</td>\n",
              "      <td>25</td>\n",
              "      <td>16583.315342</td>\n",
              "    </tr>\n",
              "  </tbody>\n",
              "</table>\n",
              "<p>169 rows × 6 columns</p>\n",
              "</div>"
            ],
            "text/plain": [
              "     Gender Economic Status      Height      Weight  Age        Income\n",
              "3      Male            Poor  120.710759   95.048062   33  16129.378758\n",
              "6    Female            Poor  189.808032   31.495853   40  14091.333785\n",
              "11     Male            Poor  119.540702   -0.934851   40  16980.145992\n",
              "15   Female            Poor  159.520040   35.036762   20  13665.988567\n",
              "16     Male            Poor  246.409286   99.541709   21  19370.230871\n",
              "..      ...             ...         ...         ...  ...           ...\n",
              "483  Female            Poor  156.599981  103.685858   20  19493.669254\n",
              "485    Male            Poor  136.272268   64.922655   11  20914.510306\n",
              "490  Female            Poor  205.627889   55.631779   17  12052.420552\n",
              "492  Female            Poor  220.611513   71.682142   34  15306.080084\n",
              "498    Male            Poor  143.136651   13.187100   25  16583.315342\n",
              "\n",
              "[169 rows x 6 columns]"
            ]
          },
          "metadata": {
            "tags": []
          },
          "execution_count": 57
        }
      ]
    },
    {
      "cell_type": "code",
      "metadata": {
        "id": "wOiAv0j_MZrb",
        "colab_type": "code",
        "colab": {}
      },
      "source": [
        "double_group = data.groupby(['Gender', 'Economic Status'])"
      ],
      "execution_count": 58,
      "outputs": []
    },
    {
      "cell_type": "code",
      "metadata": {
        "id": "gHyZGhAmMnoN",
        "colab_type": "code",
        "colab": {
          "base_uri": "https://localhost:8080/",
          "height": 34
        },
        "outputId": "6c06b06b-db3b-4799-9545-8a9ab14c2be0"
      },
      "source": [
        "len(double_group)"
      ],
      "execution_count": 59,
      "outputs": [
        {
          "output_type": "execute_result",
          "data": {
            "text/plain": [
              "6"
            ]
          },
          "metadata": {
            "tags": []
          },
          "execution_count": 59
        }
      ]
    },
    {
      "cell_type": "code",
      "metadata": {
        "id": "ofLKo6VEMrVv",
        "colab_type": "code",
        "colab": {
          "base_uri": "https://localhost:8080/",
          "height": 1000
        },
        "outputId": "b2e5bcf2-bd7b-446e-8b43-73ffff049aad"
      },
      "source": [
        "for names, groups in double_group:\n",
        "  print(names)\n",
        "  print(groups)"
      ],
      "execution_count": 60,
      "outputs": [
        {
          "output_type": "stream",
          "text": [
            "('Female', 'Middle Class')\n",
            "     Gender Economic Status      Height      Weight  Age        Income\n",
            "7    Female    Middle Class  169.719069  106.419817   33  14784.645489\n",
            "12   Female    Middle Class  153.059015   98.281549   17  16853.977452\n",
            "14   Female    Middle Class  147.677585   38.580641   30  20383.750526\n",
            "25   Female    Middle Class  177.527029   44.220340   30  19660.883688\n",
            "31   Female    Middle Class  203.250335   83.495187   43  19696.356197\n",
            "..      ...             ...         ...         ...  ...           ...\n",
            "468  Female    Middle Class  171.659304   39.405368   43  15358.695210\n",
            "477  Female    Middle Class  187.543765   86.795456   36  22051.598019\n",
            "482  Female    Middle Class  157.610289   74.855963   40  23334.864399\n",
            "489  Female    Middle Class  145.055626   59.310301   19  22767.040726\n",
            "499  Female    Middle Class  191.286179   68.009176   29  20776.796223\n",
            "\n",
            "[76 rows x 6 columns]\n",
            "('Female', 'Poor')\n",
            "     Gender Economic Status      Height      Weight  Age        Income\n",
            "6    Female            Poor  189.808032   31.495853   40  14091.333785\n",
            "15   Female            Poor  159.520040   35.036762   20  13665.988567\n",
            "17   Female            Poor  132.985926   30.723611   37  17541.246543\n",
            "18   Female            Poor  186.399502   55.182751   28  25434.708679\n",
            "20   Female            Poor  152.812042  117.652573   23  14290.364293\n",
            "..      ...             ...         ...         ...  ...           ...\n",
            "475  Female            Poor  203.041717   90.626854   45  19710.416537\n",
            "479  Female            Poor  162.488795   71.159875   33  19431.634003\n",
            "483  Female            Poor  156.599981  103.685858   20  19493.669254\n",
            "490  Female            Poor  205.627889   55.631779   17  12052.420552\n",
            "492  Female            Poor  220.611513   71.682142   34  15306.080084\n",
            "\n",
            "[93 rows x 6 columns]\n",
            "('Female', 'Rich')\n",
            "     Gender Economic Status      Height      Weight  Age        Income\n",
            "0    Female            Rich  132.437324  103.184672   35  15066.122922\n",
            "2    Female            Rich  225.014303   55.029533   25  17287.848139\n",
            "10   Female            Rich  195.683730   64.831235   38  14440.976236\n",
            "24   Female            Rich  166.347884   96.943631   13  17898.063772\n",
            "46   Female            Rich  157.292014   80.596588   21  25795.476024\n",
            "..      ...             ...         ...         ...  ...           ...\n",
            "452  Female            Rich  153.598622   62.660790   25  18505.240292\n",
            "455  Female            Rich  169.338529   34.462841   10  21566.596333\n",
            "473  Female            Rich  181.229231   93.226770   33  18578.182863\n",
            "491  Female            Rich  154.024414   45.514075   37  15444.749242\n",
            "494  Female            Rich  146.410897   80.764813   37  22273.854026\n",
            "\n",
            "[96 rows x 6 columns]\n",
            "('Male', 'Middle Class')\n",
            "    Gender Economic Status      Height      Weight  Age        Income\n",
            "1     Male    Middle Class  125.453175   93.384280   32  21102.861399\n",
            "5     Male    Middle Class  167.236285   54.797777   26  17755.136112\n",
            "8     Male    Middle Class  176.655405   91.110433   39  17192.169109\n",
            "9     Male    Middle Class  156.447617   58.672763   29  16044.767278\n",
            "13    Male    Middle Class  124.839890   34.251484   29  19202.422524\n",
            "..     ...             ...         ...         ...  ...           ...\n",
            "476   Male    Middle Class  207.921765  112.916245   25  20996.269590\n",
            "480   Male    Middle Class  177.402752   71.416880   37  23628.182240\n",
            "484   Male    Middle Class   79.134796   72.649315   23  16967.220716\n",
            "487   Male    Middle Class  150.995426   39.240686   18  21207.427886\n",
            "493   Male    Middle Class  163.851278   67.697915   17  14719.319722\n",
            "\n",
            "[77 rows x 6 columns]\n",
            "('Male', 'Poor')\n",
            "    Gender Economic Status      Height      Weight  Age        Income\n",
            "3     Male            Poor  120.710759   95.048062   33  16129.378758\n",
            "11    Male            Poor  119.540702   -0.934851   40  16980.145992\n",
            "16    Male            Poor  246.409286   99.541709   21  19370.230871\n",
            "22    Male            Poor  185.448366   85.343454   39  19030.681145\n",
            "32    Male            Poor  194.057567   49.053184   36  13791.741699\n",
            "..     ...             ...         ...         ...  ...           ...\n",
            "464   Male            Poor  133.003488   29.060437   25  17473.175504\n",
            "467   Male            Poor  191.207371  109.921977   29  21026.156237\n",
            "472   Male            Poor  106.248749   13.348474   39  21149.308169\n",
            "485   Male            Poor  136.272268   64.922655   11  20914.510306\n",
            "498   Male            Poor  143.136651   13.187100   25  16583.315342\n",
            "\n",
            "[76 rows x 6 columns]\n",
            "('Male', 'Rich')\n",
            "    Gender Economic Status      Height     Weight  Age        Income\n",
            "4     Male            Rich  192.784990  24.646342   16  20958.700342\n",
            "19    Male            Rich  160.277008  40.084701   12  16776.649501\n",
            "23    Male            Rich  172.131434  77.821768   27  16942.520250\n",
            "27    Male            Rich  171.551753  68.404706   22  18710.610444\n",
            "30    Male            Rich  181.453306  42.180185   34  21854.465246\n",
            "..     ...             ...         ...        ...  ...           ...\n",
            "486   Male            Rich  148.083399  12.663703   38  18643.032943\n",
            "488   Male            Rich  133.953269  39.770669   14  14789.428493\n",
            "495   Male            Rich  195.786914  54.064663   27  18881.109932\n",
            "496   Male            Rich  181.268338  94.975790   34  18611.291485\n",
            "497   Male            Rich  138.929960  58.472446   42  20741.499495\n",
            "\n",
            "[82 rows x 6 columns]\n"
          ],
          "name": "stdout"
        }
      ]
    },
    {
      "cell_type": "code",
      "metadata": {
        "id": "IVT2HvgSMy78",
        "colab_type": "code",
        "colab": {
          "base_uri": "https://localhost:8080/",
          "height": 402
        },
        "outputId": "60bf2703-8614-4055-9561-6db06a6607f1"
      },
      "source": [
        "double_group.get_group(('Male', 'Rich'))"
      ],
      "execution_count": 61,
      "outputs": [
        {
          "output_type": "execute_result",
          "data": {
            "text/html": [
              "<div>\n",
              "<style scoped>\n",
              "    .dataframe tbody tr th:only-of-type {\n",
              "        vertical-align: middle;\n",
              "    }\n",
              "\n",
              "    .dataframe tbody tr th {\n",
              "        vertical-align: top;\n",
              "    }\n",
              "\n",
              "    .dataframe thead th {\n",
              "        text-align: right;\n",
              "    }\n",
              "</style>\n",
              "<table border=\"1\" class=\"dataframe\">\n",
              "  <thead>\n",
              "    <tr style=\"text-align: right;\">\n",
              "      <th></th>\n",
              "      <th>Gender</th>\n",
              "      <th>Economic Status</th>\n",
              "      <th>Height</th>\n",
              "      <th>Weight</th>\n",
              "      <th>Age</th>\n",
              "      <th>Income</th>\n",
              "    </tr>\n",
              "  </thead>\n",
              "  <tbody>\n",
              "    <tr>\n",
              "      <th>4</th>\n",
              "      <td>Male</td>\n",
              "      <td>Rich</td>\n",
              "      <td>192.784990</td>\n",
              "      <td>24.646342</td>\n",
              "      <td>16</td>\n",
              "      <td>20958.700342</td>\n",
              "    </tr>\n",
              "    <tr>\n",
              "      <th>19</th>\n",
              "      <td>Male</td>\n",
              "      <td>Rich</td>\n",
              "      <td>160.277008</td>\n",
              "      <td>40.084701</td>\n",
              "      <td>12</td>\n",
              "      <td>16776.649501</td>\n",
              "    </tr>\n",
              "    <tr>\n",
              "      <th>23</th>\n",
              "      <td>Male</td>\n",
              "      <td>Rich</td>\n",
              "      <td>172.131434</td>\n",
              "      <td>77.821768</td>\n",
              "      <td>27</td>\n",
              "      <td>16942.520250</td>\n",
              "    </tr>\n",
              "    <tr>\n",
              "      <th>27</th>\n",
              "      <td>Male</td>\n",
              "      <td>Rich</td>\n",
              "      <td>171.551753</td>\n",
              "      <td>68.404706</td>\n",
              "      <td>22</td>\n",
              "      <td>18710.610444</td>\n",
              "    </tr>\n",
              "    <tr>\n",
              "      <th>30</th>\n",
              "      <td>Male</td>\n",
              "      <td>Rich</td>\n",
              "      <td>181.453306</td>\n",
              "      <td>42.180185</td>\n",
              "      <td>34</td>\n",
              "      <td>21854.465246</td>\n",
              "    </tr>\n",
              "    <tr>\n",
              "      <th>...</th>\n",
              "      <td>...</td>\n",
              "      <td>...</td>\n",
              "      <td>...</td>\n",
              "      <td>...</td>\n",
              "      <td>...</td>\n",
              "      <td>...</td>\n",
              "    </tr>\n",
              "    <tr>\n",
              "      <th>486</th>\n",
              "      <td>Male</td>\n",
              "      <td>Rich</td>\n",
              "      <td>148.083399</td>\n",
              "      <td>12.663703</td>\n",
              "      <td>38</td>\n",
              "      <td>18643.032943</td>\n",
              "    </tr>\n",
              "    <tr>\n",
              "      <th>488</th>\n",
              "      <td>Male</td>\n",
              "      <td>Rich</td>\n",
              "      <td>133.953269</td>\n",
              "      <td>39.770669</td>\n",
              "      <td>14</td>\n",
              "      <td>14789.428493</td>\n",
              "    </tr>\n",
              "    <tr>\n",
              "      <th>495</th>\n",
              "      <td>Male</td>\n",
              "      <td>Rich</td>\n",
              "      <td>195.786914</td>\n",
              "      <td>54.064663</td>\n",
              "      <td>27</td>\n",
              "      <td>18881.109932</td>\n",
              "    </tr>\n",
              "    <tr>\n",
              "      <th>496</th>\n",
              "      <td>Male</td>\n",
              "      <td>Rich</td>\n",
              "      <td>181.268338</td>\n",
              "      <td>94.975790</td>\n",
              "      <td>34</td>\n",
              "      <td>18611.291485</td>\n",
              "    </tr>\n",
              "    <tr>\n",
              "      <th>497</th>\n",
              "      <td>Male</td>\n",
              "      <td>Rich</td>\n",
              "      <td>138.929960</td>\n",
              "      <td>58.472446</td>\n",
              "      <td>42</td>\n",
              "      <td>20741.499495</td>\n",
              "    </tr>\n",
              "  </tbody>\n",
              "</table>\n",
              "<p>82 rows × 6 columns</p>\n",
              "</div>"
            ],
            "text/plain": [
              "    Gender Economic Status      Height     Weight  Age        Income\n",
              "4     Male            Rich  192.784990  24.646342   16  20958.700342\n",
              "19    Male            Rich  160.277008  40.084701   12  16776.649501\n",
              "23    Male            Rich  172.131434  77.821768   27  16942.520250\n",
              "27    Male            Rich  171.551753  68.404706   22  18710.610444\n",
              "30    Male            Rich  181.453306  42.180185   34  21854.465246\n",
              "..     ...             ...         ...        ...  ...           ...\n",
              "486   Male            Rich  148.083399  12.663703   38  18643.032943\n",
              "488   Male            Rich  133.953269  39.770669   14  14789.428493\n",
              "495   Male            Rich  195.786914  54.064663   27  18881.109932\n",
              "496   Male            Rich  181.268338  94.975790   34  18611.291485\n",
              "497   Male            Rich  138.929960  58.472446   42  20741.499495\n",
              "\n",
              "[82 rows x 6 columns]"
            ]
          },
          "metadata": {
            "tags": []
          },
          "execution_count": 61
        }
      ]
    },
    {
      "cell_type": "markdown",
      "metadata": {
        "id": "f1bN9aULy1OI",
        "colab_type": "text"
      },
      "source": [
        "## OPERACIONES SOBRE DATOS AGRUPADOS"
      ]
    },
    {
      "cell_type": "code",
      "metadata": {
        "id": "YaHtgl7Ey3jG",
        "colab_type": "code",
        "colab": {
          "base_uri": "https://localhost:8080/",
          "height": 254
        },
        "outputId": "963d23e2-720d-410c-b508-af4707f3393a"
      },
      "source": [
        "double_group.sum()"
      ],
      "execution_count": 62,
      "outputs": [
        {
          "output_type": "execute_result",
          "data": {
            "text/html": [
              "<div>\n",
              "<style scoped>\n",
              "    .dataframe tbody tr th:only-of-type {\n",
              "        vertical-align: middle;\n",
              "    }\n",
              "\n",
              "    .dataframe tbody tr th {\n",
              "        vertical-align: top;\n",
              "    }\n",
              "\n",
              "    .dataframe thead th {\n",
              "        text-align: right;\n",
              "    }\n",
              "</style>\n",
              "<table border=\"1\" class=\"dataframe\">\n",
              "  <thead>\n",
              "    <tr style=\"text-align: right;\">\n",
              "      <th></th>\n",
              "      <th></th>\n",
              "      <th>Height</th>\n",
              "      <th>Weight</th>\n",
              "      <th>Age</th>\n",
              "      <th>Income</th>\n",
              "    </tr>\n",
              "    <tr>\n",
              "      <th>Gender</th>\n",
              "      <th>Economic Status</th>\n",
              "      <th></th>\n",
              "      <th></th>\n",
              "      <th></th>\n",
              "      <th></th>\n",
              "    </tr>\n",
              "  </thead>\n",
              "  <tbody>\n",
              "    <tr>\n",
              "      <th rowspan=\"3\" valign=\"top\">Female</th>\n",
              "      <th>Middle Class</th>\n",
              "      <td>12284.495082</td>\n",
              "      <td>5053.563500</td>\n",
              "      <td>2296</td>\n",
              "      <td>1.376860e+06</td>\n",
              "    </tr>\n",
              "    <tr>\n",
              "      <th>Poor</th>\n",
              "      <td>15125.766015</td>\n",
              "      <td>6110.426282</td>\n",
              "      <td>2833</td>\n",
              "      <td>1.708264e+06</td>\n",
              "    </tr>\n",
              "    <tr>\n",
              "      <th>Rich</th>\n",
              "      <td>15227.115565</td>\n",
              "      <td>6493.045865</td>\n",
              "      <td>2939</td>\n",
              "      <td>1.760123e+06</td>\n",
              "    </tr>\n",
              "    <tr>\n",
              "      <th rowspan=\"3\" valign=\"top\">Male</th>\n",
              "      <th>Middle Class</th>\n",
              "      <td>12059.205497</td>\n",
              "      <td>5002.119013</td>\n",
              "      <td>2080</td>\n",
              "      <td>1.397364e+06</td>\n",
              "    </tr>\n",
              "    <tr>\n",
              "      <th>Poor</th>\n",
              "      <td>11829.820271</td>\n",
              "      <td>4893.826995</td>\n",
              "      <td>2102</td>\n",
              "      <td>1.383593e+06</td>\n",
              "    </tr>\n",
              "    <tr>\n",
              "      <th>Rich</th>\n",
              "      <td>13192.471045</td>\n",
              "      <td>4742.002713</td>\n",
              "      <td>2410</td>\n",
              "      <td>1.492324e+06</td>\n",
              "    </tr>\n",
              "  </tbody>\n",
              "</table>\n",
              "</div>"
            ],
            "text/plain": [
              "                              Height       Weight   Age        Income\n",
              "Gender Economic Status                                               \n",
              "Female Middle Class     12284.495082  5053.563500  2296  1.376860e+06\n",
              "       Poor             15125.766015  6110.426282  2833  1.708264e+06\n",
              "       Rich             15227.115565  6493.045865  2939  1.760123e+06\n",
              "Male   Middle Class     12059.205497  5002.119013  2080  1.397364e+06\n",
              "       Poor             11829.820271  4893.826995  2102  1.383593e+06\n",
              "       Rich             13192.471045  4742.002713  2410  1.492324e+06"
            ]
          },
          "metadata": {
            "tags": []
          },
          "execution_count": 62
        }
      ]
    },
    {
      "cell_type": "code",
      "metadata": {
        "id": "KlCJi8qpzOdJ",
        "colab_type": "code",
        "colab": {
          "base_uri": "https://localhost:8080/",
          "height": 254
        },
        "outputId": "e9ce6faf-01be-430b-e72d-a16ec9a26694"
      },
      "source": [
        "double_group.mean()"
      ],
      "execution_count": 63,
      "outputs": [
        {
          "output_type": "execute_result",
          "data": {
            "text/html": [
              "<div>\n",
              "<style scoped>\n",
              "    .dataframe tbody tr th:only-of-type {\n",
              "        vertical-align: middle;\n",
              "    }\n",
              "\n",
              "    .dataframe tbody tr th {\n",
              "        vertical-align: top;\n",
              "    }\n",
              "\n",
              "    .dataframe thead th {\n",
              "        text-align: right;\n",
              "    }\n",
              "</style>\n",
              "<table border=\"1\" class=\"dataframe\">\n",
              "  <thead>\n",
              "    <tr style=\"text-align: right;\">\n",
              "      <th></th>\n",
              "      <th></th>\n",
              "      <th>Height</th>\n",
              "      <th>Weight</th>\n",
              "      <th>Age</th>\n",
              "      <th>Income</th>\n",
              "    </tr>\n",
              "    <tr>\n",
              "      <th>Gender</th>\n",
              "      <th>Economic Status</th>\n",
              "      <th></th>\n",
              "      <th></th>\n",
              "      <th></th>\n",
              "      <th></th>\n",
              "    </tr>\n",
              "  </thead>\n",
              "  <tbody>\n",
              "    <tr>\n",
              "      <th rowspan=\"3\" valign=\"top\">Female</th>\n",
              "      <th>Middle Class</th>\n",
              "      <td>161.638093</td>\n",
              "      <td>66.494257</td>\n",
              "      <td>30.210526</td>\n",
              "      <td>18116.582825</td>\n",
              "    </tr>\n",
              "    <tr>\n",
              "      <th>Poor</th>\n",
              "      <td>162.642645</td>\n",
              "      <td>65.703508</td>\n",
              "      <td>30.462366</td>\n",
              "      <td>18368.432990</td>\n",
              "    </tr>\n",
              "    <tr>\n",
              "      <th>Rich</th>\n",
              "      <td>158.615787</td>\n",
              "      <td>67.635894</td>\n",
              "      <td>30.614583</td>\n",
              "      <td>18334.617683</td>\n",
              "    </tr>\n",
              "    <tr>\n",
              "      <th rowspan=\"3\" valign=\"top\">Male</th>\n",
              "      <th>Middle Class</th>\n",
              "      <td>156.613058</td>\n",
              "      <td>64.962585</td>\n",
              "      <td>27.012987</td>\n",
              "      <td>18147.588123</td>\n",
              "    </tr>\n",
              "    <tr>\n",
              "      <th>Poor</th>\n",
              "      <td>155.655530</td>\n",
              "      <td>64.392460</td>\n",
              "      <td>27.657895</td>\n",
              "      <td>18205.167838</td>\n",
              "    </tr>\n",
              "    <tr>\n",
              "      <th>Rich</th>\n",
              "      <td>160.883793</td>\n",
              "      <td>57.829301</td>\n",
              "      <td>29.390244</td>\n",
              "      <td>18199.069409</td>\n",
              "    </tr>\n",
              "  </tbody>\n",
              "</table>\n",
              "</div>"
            ],
            "text/plain": [
              "                            Height     Weight        Age        Income\n",
              "Gender Economic Status                                                \n",
              "Female Middle Class     161.638093  66.494257  30.210526  18116.582825\n",
              "       Poor             162.642645  65.703508  30.462366  18368.432990\n",
              "       Rich             158.615787  67.635894  30.614583  18334.617683\n",
              "Male   Middle Class     156.613058  64.962585  27.012987  18147.588123\n",
              "       Poor             155.655530  64.392460  27.657895  18205.167838\n",
              "       Rich             160.883793  57.829301  29.390244  18199.069409"
            ]
          },
          "metadata": {
            "tags": []
          },
          "execution_count": 63
        }
      ]
    },
    {
      "cell_type": "code",
      "metadata": {
        "id": "t0GB0boBzX6P",
        "colab_type": "code",
        "colab": {
          "base_uri": "https://localhost:8080/",
          "height": 151
        },
        "outputId": "0cac4db4-1a4d-4e16-b0b1-c86efa67504e"
      },
      "source": [
        "double_group.size()"
      ],
      "execution_count": 64,
      "outputs": [
        {
          "output_type": "execute_result",
          "data": {
            "text/plain": [
              "Gender  Economic Status\n",
              "Female  Middle Class       76\n",
              "        Poor               93\n",
              "        Rich               96\n",
              "Male    Middle Class       77\n",
              "        Poor               76\n",
              "        Rich               82\n",
              "dtype: int64"
            ]
          },
          "metadata": {
            "tags": []
          },
          "execution_count": 64
        }
      ]
    },
    {
      "cell_type": "code",
      "metadata": {
        "id": "R3j6ixllzh91",
        "colab_type": "code",
        "colab": {
          "base_uri": "https://localhost:8080/",
          "height": 354
        },
        "outputId": "2af6f38c-af4c-41b0-a0c5-5bb054b1b5f0"
      },
      "source": [
        "double_group.describe()"
      ],
      "execution_count": 65,
      "outputs": [
        {
          "output_type": "execute_result",
          "data": {
            "text/html": [
              "<div>\n",
              "<style scoped>\n",
              "    .dataframe tbody tr th:only-of-type {\n",
              "        vertical-align: middle;\n",
              "    }\n",
              "\n",
              "    .dataframe tbody tr th {\n",
              "        vertical-align: top;\n",
              "    }\n",
              "\n",
              "    .dataframe thead tr th {\n",
              "        text-align: left;\n",
              "    }\n",
              "\n",
              "    .dataframe thead tr:last-of-type th {\n",
              "        text-align: right;\n",
              "    }\n",
              "</style>\n",
              "<table border=\"1\" class=\"dataframe\">\n",
              "  <thead>\n",
              "    <tr>\n",
              "      <th></th>\n",
              "      <th></th>\n",
              "      <th colspan=\"8\" halign=\"left\">Height</th>\n",
              "      <th colspan=\"8\" halign=\"left\">Weight</th>\n",
              "      <th colspan=\"8\" halign=\"left\">Age</th>\n",
              "      <th colspan=\"8\" halign=\"left\">Income</th>\n",
              "    </tr>\n",
              "    <tr>\n",
              "      <th></th>\n",
              "      <th></th>\n",
              "      <th>count</th>\n",
              "      <th>mean</th>\n",
              "      <th>std</th>\n",
              "      <th>min</th>\n",
              "      <th>25%</th>\n",
              "      <th>50%</th>\n",
              "      <th>75%</th>\n",
              "      <th>max</th>\n",
              "      <th>count</th>\n",
              "      <th>mean</th>\n",
              "      <th>std</th>\n",
              "      <th>min</th>\n",
              "      <th>25%</th>\n",
              "      <th>50%</th>\n",
              "      <th>75%</th>\n",
              "      <th>max</th>\n",
              "      <th>count</th>\n",
              "      <th>mean</th>\n",
              "      <th>std</th>\n",
              "      <th>min</th>\n",
              "      <th>25%</th>\n",
              "      <th>50%</th>\n",
              "      <th>75%</th>\n",
              "      <th>max</th>\n",
              "      <th>count</th>\n",
              "      <th>mean</th>\n",
              "      <th>std</th>\n",
              "      <th>min</th>\n",
              "      <th>25%</th>\n",
              "      <th>50%</th>\n",
              "      <th>75%</th>\n",
              "      <th>max</th>\n",
              "    </tr>\n",
              "    <tr>\n",
              "      <th>Gender</th>\n",
              "      <th>Economic Status</th>\n",
              "      <th></th>\n",
              "      <th></th>\n",
              "      <th></th>\n",
              "      <th></th>\n",
              "      <th></th>\n",
              "      <th></th>\n",
              "      <th></th>\n",
              "      <th></th>\n",
              "      <th></th>\n",
              "      <th></th>\n",
              "      <th></th>\n",
              "      <th></th>\n",
              "      <th></th>\n",
              "      <th></th>\n",
              "      <th></th>\n",
              "      <th></th>\n",
              "      <th></th>\n",
              "      <th></th>\n",
              "      <th></th>\n",
              "      <th></th>\n",
              "      <th></th>\n",
              "      <th></th>\n",
              "      <th></th>\n",
              "      <th></th>\n",
              "      <th></th>\n",
              "      <th></th>\n",
              "      <th></th>\n",
              "      <th></th>\n",
              "      <th></th>\n",
              "      <th></th>\n",
              "      <th></th>\n",
              "      <th></th>\n",
              "    </tr>\n",
              "  </thead>\n",
              "  <tbody>\n",
              "    <tr>\n",
              "      <th rowspan=\"3\" valign=\"top\">Female</th>\n",
              "      <th>Middle Class</th>\n",
              "      <td>76.0</td>\n",
              "      <td>161.638093</td>\n",
              "      <td>25.745758</td>\n",
              "      <td>109.949446</td>\n",
              "      <td>144.823339</td>\n",
              "      <td>161.537217</td>\n",
              "      <td>174.788790</td>\n",
              "      <td>252.138822</td>\n",
              "      <td>76.0</td>\n",
              "      <td>66.494257</td>\n",
              "      <td>24.893873</td>\n",
              "      <td>-15.854676</td>\n",
              "      <td>54.879287</td>\n",
              "      <td>68.232207</td>\n",
              "      <td>82.634489</td>\n",
              "      <td>112.598589</td>\n",
              "      <td>76.0</td>\n",
              "      <td>30.210526</td>\n",
              "      <td>11.641667</td>\n",
              "      <td>-7.0</td>\n",
              "      <td>22.50</td>\n",
              "      <td>31.0</td>\n",
              "      <td>39.0</td>\n",
              "      <td>53.0</td>\n",
              "      <td>76.0</td>\n",
              "      <td>18116.582825</td>\n",
              "      <td>3433.454292</td>\n",
              "      <td>11157.227758</td>\n",
              "      <td>16151.798980</td>\n",
              "      <td>18026.346436</td>\n",
              "      <td>20330.667024</td>\n",
              "      <td>25813.111203</td>\n",
              "    </tr>\n",
              "    <tr>\n",
              "      <th>Poor</th>\n",
              "      <td>93.0</td>\n",
              "      <td>162.642645</td>\n",
              "      <td>27.903759</td>\n",
              "      <td>87.242158</td>\n",
              "      <td>144.597824</td>\n",
              "      <td>158.723202</td>\n",
              "      <td>184.198400</td>\n",
              "      <td>222.212600</td>\n",
              "      <td>93.0</td>\n",
              "      <td>65.703508</td>\n",
              "      <td>22.988214</td>\n",
              "      <td>-3.885483</td>\n",
              "      <td>54.140385</td>\n",
              "      <td>66.111608</td>\n",
              "      <td>78.620810</td>\n",
              "      <td>128.654367</td>\n",
              "      <td>93.0</td>\n",
              "      <td>30.462366</td>\n",
              "      <td>10.306772</td>\n",
              "      <td>10.0</td>\n",
              "      <td>23.00</td>\n",
              "      <td>30.0</td>\n",
              "      <td>37.0</td>\n",
              "      <td>61.0</td>\n",
              "      <td>93.0</td>\n",
              "      <td>18368.432990</td>\n",
              "      <td>3831.915739</td>\n",
              "      <td>8594.386905</td>\n",
              "      <td>15904.201533</td>\n",
              "      <td>18524.048293</td>\n",
              "      <td>20888.448292</td>\n",
              "      <td>29290.259836</td>\n",
              "    </tr>\n",
              "    <tr>\n",
              "      <th>Rich</th>\n",
              "      <td>96.0</td>\n",
              "      <td>158.615787</td>\n",
              "      <td>29.847502</td>\n",
              "      <td>72.239888</td>\n",
              "      <td>137.552263</td>\n",
              "      <td>162.464591</td>\n",
              "      <td>179.194066</td>\n",
              "      <td>225.014303</td>\n",
              "      <td>96.0</td>\n",
              "      <td>67.635894</td>\n",
              "      <td>21.437447</td>\n",
              "      <td>5.381714</td>\n",
              "      <td>55.395950</td>\n",
              "      <td>68.886617</td>\n",
              "      <td>81.640018</td>\n",
              "      <td>122.546594</td>\n",
              "      <td>96.0</td>\n",
              "      <td>30.614583</td>\n",
              "      <td>12.419314</td>\n",
              "      <td>0.0</td>\n",
              "      <td>23.75</td>\n",
              "      <td>31.0</td>\n",
              "      <td>39.0</td>\n",
              "      <td>59.0</td>\n",
              "      <td>96.0</td>\n",
              "      <td>18334.617683</td>\n",
              "      <td>3546.080944</td>\n",
              "      <td>11687.884416</td>\n",
              "      <td>15753.432405</td>\n",
              "      <td>17858.672872</td>\n",
              "      <td>20879.970924</td>\n",
              "      <td>26919.242067</td>\n",
              "    </tr>\n",
              "    <tr>\n",
              "      <th rowspan=\"3\" valign=\"top\">Male</th>\n",
              "      <th>Middle Class</th>\n",
              "      <td>77.0</td>\n",
              "      <td>156.613058</td>\n",
              "      <td>31.448931</td>\n",
              "      <td>72.711937</td>\n",
              "      <td>137.162907</td>\n",
              "      <td>157.230683</td>\n",
              "      <td>176.664273</td>\n",
              "      <td>235.040472</td>\n",
              "      <td>77.0</td>\n",
              "      <td>64.962585</td>\n",
              "      <td>22.481224</td>\n",
              "      <td>19.087860</td>\n",
              "      <td>47.562674</td>\n",
              "      <td>66.045646</td>\n",
              "      <td>74.806816</td>\n",
              "      <td>125.977515</td>\n",
              "      <td>77.0</td>\n",
              "      <td>27.012987</td>\n",
              "      <td>10.408111</td>\n",
              "      <td>3.0</td>\n",
              "      <td>21.00</td>\n",
              "      <td>28.0</td>\n",
              "      <td>33.0</td>\n",
              "      <td>65.0</td>\n",
              "      <td>77.0</td>\n",
              "      <td>18147.588123</td>\n",
              "      <td>3372.707306</td>\n",
              "      <td>7363.431081</td>\n",
              "      <td>16044.767278</td>\n",
              "      <td>18364.280783</td>\n",
              "      <td>20375.706747</td>\n",
              "      <td>26267.518949</td>\n",
              "    </tr>\n",
              "    <tr>\n",
              "      <th>Poor</th>\n",
              "      <td>76.0</td>\n",
              "      <td>155.655530</td>\n",
              "      <td>32.137159</td>\n",
              "      <td>87.211249</td>\n",
              "      <td>134.788890</td>\n",
              "      <td>148.012760</td>\n",
              "      <td>178.265127</td>\n",
              "      <td>252.709878</td>\n",
              "      <td>76.0</td>\n",
              "      <td>64.392460</td>\n",
              "      <td>26.493010</td>\n",
              "      <td>-0.934851</td>\n",
              "      <td>47.143398</td>\n",
              "      <td>66.036497</td>\n",
              "      <td>81.757331</td>\n",
              "      <td>114.582544</td>\n",
              "      <td>76.0</td>\n",
              "      <td>27.657895</td>\n",
              "      <td>12.534276</td>\n",
              "      <td>-2.0</td>\n",
              "      <td>20.00</td>\n",
              "      <td>28.0</td>\n",
              "      <td>36.5</td>\n",
              "      <td>57.0</td>\n",
              "      <td>76.0</td>\n",
              "      <td>18205.167838</td>\n",
              "      <td>2982.384956</td>\n",
              "      <td>9307.633182</td>\n",
              "      <td>16159.016677</td>\n",
              "      <td>18216.269707</td>\n",
              "      <td>20494.569808</td>\n",
              "      <td>24224.151542</td>\n",
              "    </tr>\n",
              "    <tr>\n",
              "      <th>Rich</th>\n",
              "      <td>82.0</td>\n",
              "      <td>160.883793</td>\n",
              "      <td>31.304435</td>\n",
              "      <td>91.187900</td>\n",
              "      <td>136.572824</td>\n",
              "      <td>165.221473</td>\n",
              "      <td>181.099847</td>\n",
              "      <td>231.760344</td>\n",
              "      <td>82.0</td>\n",
              "      <td>57.829301</td>\n",
              "      <td>21.271200</td>\n",
              "      <td>10.832463</td>\n",
              "      <td>41.470965</td>\n",
              "      <td>59.876147</td>\n",
              "      <td>74.487211</td>\n",
              "      <td>104.315794</td>\n",
              "      <td>82.0</td>\n",
              "      <td>29.390244</td>\n",
              "      <td>12.579384</td>\n",
              "      <td>0.0</td>\n",
              "      <td>22.00</td>\n",
              "      <td>29.0</td>\n",
              "      <td>38.0</td>\n",
              "      <td>62.0</td>\n",
              "      <td>82.0</td>\n",
              "      <td>18199.069409</td>\n",
              "      <td>3398.482814</td>\n",
              "      <td>10315.420157</td>\n",
              "      <td>15868.550953</td>\n",
              "      <td>18136.469257</td>\n",
              "      <td>20412.886501</td>\n",
              "      <td>28548.468943</td>\n",
              "    </tr>\n",
              "  </tbody>\n",
              "</table>\n",
              "</div>"
            ],
            "text/plain": [
              "                       Height              ...        Income              \n",
              "                        count        mean  ...           75%           max\n",
              "Gender Economic Status                     ...                            \n",
              "Female Middle Class      76.0  161.638093  ...  20330.667024  25813.111203\n",
              "       Poor              93.0  162.642645  ...  20888.448292  29290.259836\n",
              "       Rich              96.0  158.615787  ...  20879.970924  26919.242067\n",
              "Male   Middle Class      77.0  156.613058  ...  20375.706747  26267.518949\n",
              "       Poor              76.0  155.655530  ...  20494.569808  24224.151542\n",
              "       Rich              82.0  160.883793  ...  20412.886501  28548.468943\n",
              "\n",
              "[6 rows x 32 columns]"
            ]
          },
          "metadata": {
            "tags": []
          },
          "execution_count": 65
        }
      ]
    },
    {
      "cell_type": "code",
      "metadata": {
        "id": "KR3UiRzCz0y6",
        "colab_type": "code",
        "colab": {
          "base_uri": "https://localhost:8080/",
          "height": 254
        },
        "outputId": "66b740f7-72d0-4c0e-95fc-f64edea7248d"
      },
      "source": [
        "grouped_income = double_group['Income']\n",
        "grouped_income.describe()"
      ],
      "execution_count": 66,
      "outputs": [
        {
          "output_type": "execute_result",
          "data": {
            "text/html": [
              "<div>\n",
              "<style scoped>\n",
              "    .dataframe tbody tr th:only-of-type {\n",
              "        vertical-align: middle;\n",
              "    }\n",
              "\n",
              "    .dataframe tbody tr th {\n",
              "        vertical-align: top;\n",
              "    }\n",
              "\n",
              "    .dataframe thead th {\n",
              "        text-align: right;\n",
              "    }\n",
              "</style>\n",
              "<table border=\"1\" class=\"dataframe\">\n",
              "  <thead>\n",
              "    <tr style=\"text-align: right;\">\n",
              "      <th></th>\n",
              "      <th></th>\n",
              "      <th>count</th>\n",
              "      <th>mean</th>\n",
              "      <th>std</th>\n",
              "      <th>min</th>\n",
              "      <th>25%</th>\n",
              "      <th>50%</th>\n",
              "      <th>75%</th>\n",
              "      <th>max</th>\n",
              "    </tr>\n",
              "    <tr>\n",
              "      <th>Gender</th>\n",
              "      <th>Economic Status</th>\n",
              "      <th></th>\n",
              "      <th></th>\n",
              "      <th></th>\n",
              "      <th></th>\n",
              "      <th></th>\n",
              "      <th></th>\n",
              "      <th></th>\n",
              "      <th></th>\n",
              "    </tr>\n",
              "  </thead>\n",
              "  <tbody>\n",
              "    <tr>\n",
              "      <th rowspan=\"3\" valign=\"top\">Female</th>\n",
              "      <th>Middle Class</th>\n",
              "      <td>76.0</td>\n",
              "      <td>18116.582825</td>\n",
              "      <td>3433.454292</td>\n",
              "      <td>11157.227758</td>\n",
              "      <td>16151.798980</td>\n",
              "      <td>18026.346436</td>\n",
              "      <td>20330.667024</td>\n",
              "      <td>25813.111203</td>\n",
              "    </tr>\n",
              "    <tr>\n",
              "      <th>Poor</th>\n",
              "      <td>93.0</td>\n",
              "      <td>18368.432990</td>\n",
              "      <td>3831.915739</td>\n",
              "      <td>8594.386905</td>\n",
              "      <td>15904.201533</td>\n",
              "      <td>18524.048293</td>\n",
              "      <td>20888.448292</td>\n",
              "      <td>29290.259836</td>\n",
              "    </tr>\n",
              "    <tr>\n",
              "      <th>Rich</th>\n",
              "      <td>96.0</td>\n",
              "      <td>18334.617683</td>\n",
              "      <td>3546.080944</td>\n",
              "      <td>11687.884416</td>\n",
              "      <td>15753.432405</td>\n",
              "      <td>17858.672872</td>\n",
              "      <td>20879.970924</td>\n",
              "      <td>26919.242067</td>\n",
              "    </tr>\n",
              "    <tr>\n",
              "      <th rowspan=\"3\" valign=\"top\">Male</th>\n",
              "      <th>Middle Class</th>\n",
              "      <td>77.0</td>\n",
              "      <td>18147.588123</td>\n",
              "      <td>3372.707306</td>\n",
              "      <td>7363.431081</td>\n",
              "      <td>16044.767278</td>\n",
              "      <td>18364.280783</td>\n",
              "      <td>20375.706747</td>\n",
              "      <td>26267.518949</td>\n",
              "    </tr>\n",
              "    <tr>\n",
              "      <th>Poor</th>\n",
              "      <td>76.0</td>\n",
              "      <td>18205.167838</td>\n",
              "      <td>2982.384956</td>\n",
              "      <td>9307.633182</td>\n",
              "      <td>16159.016677</td>\n",
              "      <td>18216.269707</td>\n",
              "      <td>20494.569808</td>\n",
              "      <td>24224.151542</td>\n",
              "    </tr>\n",
              "    <tr>\n",
              "      <th>Rich</th>\n",
              "      <td>82.0</td>\n",
              "      <td>18199.069409</td>\n",
              "      <td>3398.482814</td>\n",
              "      <td>10315.420157</td>\n",
              "      <td>15868.550953</td>\n",
              "      <td>18136.469257</td>\n",
              "      <td>20412.886501</td>\n",
              "      <td>28548.468943</td>\n",
              "    </tr>\n",
              "  </tbody>\n",
              "</table>\n",
              "</div>"
            ],
            "text/plain": [
              "                        count          mean  ...           75%           max\n",
              "Gender Economic Status                       ...                            \n",
              "Female Middle Class      76.0  18116.582825  ...  20330.667024  25813.111203\n",
              "       Poor              93.0  18368.432990  ...  20888.448292  29290.259836\n",
              "       Rich              96.0  18334.617683  ...  20879.970924  26919.242067\n",
              "Male   Middle Class      77.0  18147.588123  ...  20375.706747  26267.518949\n",
              "       Poor              76.0  18205.167838  ...  20494.569808  24224.151542\n",
              "       Rich              82.0  18199.069409  ...  20412.886501  28548.468943\n",
              "\n",
              "[6 rows x 8 columns]"
            ]
          },
          "metadata": {
            "tags": []
          },
          "execution_count": 66
        }
      ]
    },
    {
      "cell_type": "code",
      "metadata": {
        "id": "tnfPrKGL0JI-",
        "colab_type": "code",
        "colab": {
          "base_uri": "https://localhost:8080/",
          "height": 254
        },
        "outputId": "42bff16f-89c0-47a8-f3be-d00e45c8c2f5"
      },
      "source": [
        "# con agregate se puede hacer un describe todo lo personalizado que queramos\n",
        "double_group.aggregate(\n",
        "    {\n",
        "        'Income': np.sum,\n",
        "        'Age': np.mean,\n",
        "        'Height': np.std\n",
        "    }\n",
        ")"
      ],
      "execution_count": 67,
      "outputs": [
        {
          "output_type": "execute_result",
          "data": {
            "text/html": [
              "<div>\n",
              "<style scoped>\n",
              "    .dataframe tbody tr th:only-of-type {\n",
              "        vertical-align: middle;\n",
              "    }\n",
              "\n",
              "    .dataframe tbody tr th {\n",
              "        vertical-align: top;\n",
              "    }\n",
              "\n",
              "    .dataframe thead th {\n",
              "        text-align: right;\n",
              "    }\n",
              "</style>\n",
              "<table border=\"1\" class=\"dataframe\">\n",
              "  <thead>\n",
              "    <tr style=\"text-align: right;\">\n",
              "      <th></th>\n",
              "      <th></th>\n",
              "      <th>Income</th>\n",
              "      <th>Age</th>\n",
              "      <th>Height</th>\n",
              "    </tr>\n",
              "    <tr>\n",
              "      <th>Gender</th>\n",
              "      <th>Economic Status</th>\n",
              "      <th></th>\n",
              "      <th></th>\n",
              "      <th></th>\n",
              "    </tr>\n",
              "  </thead>\n",
              "  <tbody>\n",
              "    <tr>\n",
              "      <th rowspan=\"3\" valign=\"top\">Female</th>\n",
              "      <th>Middle Class</th>\n",
              "      <td>1.376860e+06</td>\n",
              "      <td>30.210526</td>\n",
              "      <td>25.745758</td>\n",
              "    </tr>\n",
              "    <tr>\n",
              "      <th>Poor</th>\n",
              "      <td>1.708264e+06</td>\n",
              "      <td>30.462366</td>\n",
              "      <td>27.903759</td>\n",
              "    </tr>\n",
              "    <tr>\n",
              "      <th>Rich</th>\n",
              "      <td>1.760123e+06</td>\n",
              "      <td>30.614583</td>\n",
              "      <td>29.847502</td>\n",
              "    </tr>\n",
              "    <tr>\n",
              "      <th rowspan=\"3\" valign=\"top\">Male</th>\n",
              "      <th>Middle Class</th>\n",
              "      <td>1.397364e+06</td>\n",
              "      <td>27.012987</td>\n",
              "      <td>31.448931</td>\n",
              "    </tr>\n",
              "    <tr>\n",
              "      <th>Poor</th>\n",
              "      <td>1.383593e+06</td>\n",
              "      <td>27.657895</td>\n",
              "      <td>32.137159</td>\n",
              "    </tr>\n",
              "    <tr>\n",
              "      <th>Rich</th>\n",
              "      <td>1.492324e+06</td>\n",
              "      <td>29.390244</td>\n",
              "      <td>31.304435</td>\n",
              "    </tr>\n",
              "  </tbody>\n",
              "</table>\n",
              "</div>"
            ],
            "text/plain": [
              "                              Income        Age     Height\n",
              "Gender Economic Status                                    \n",
              "Female Middle Class     1.376860e+06  30.210526  25.745758\n",
              "       Poor             1.708264e+06  30.462366  27.903759\n",
              "       Rich             1.760123e+06  30.614583  29.847502\n",
              "Male   Middle Class     1.397364e+06  27.012987  31.448931\n",
              "       Poor             1.383593e+06  27.657895  32.137159\n",
              "       Rich             1.492324e+06  29.390244  31.304435"
            ]
          },
          "metadata": {
            "tags": []
          },
          "execution_count": 67
        }
      ]
    },
    {
      "cell_type": "code",
      "metadata": {
        "id": "I6UFDayo0ufy",
        "colab_type": "code",
        "colab": {
          "base_uri": "https://localhost:8080/",
          "height": 254
        },
        "outputId": "2ce7f5e0-653a-4962-989f-80fe32a7aa98"
      },
      "source": [
        "# En lugar de aplicar unas funciones ya existentes, podemos aplicar alguna personalizada que hayamos definido\n",
        "# podemos hacerlo con una función lambda si solo vamos a hacerlo una vez\n",
        "double_group.aggregate(\n",
        "    {\n",
        "        'Age': np.mean,\n",
        "        'Height': lambda h: np.mean(h) / np.std(h)\n",
        "    }\n",
        ")"
      ],
      "execution_count": 68,
      "outputs": [
        {
          "output_type": "execute_result",
          "data": {
            "text/html": [
              "<div>\n",
              "<style scoped>\n",
              "    .dataframe tbody tr th:only-of-type {\n",
              "        vertical-align: middle;\n",
              "    }\n",
              "\n",
              "    .dataframe tbody tr th {\n",
              "        vertical-align: top;\n",
              "    }\n",
              "\n",
              "    .dataframe thead th {\n",
              "        text-align: right;\n",
              "    }\n",
              "</style>\n",
              "<table border=\"1\" class=\"dataframe\">\n",
              "  <thead>\n",
              "    <tr style=\"text-align: right;\">\n",
              "      <th></th>\n",
              "      <th></th>\n",
              "      <th>Age</th>\n",
              "      <th>Height</th>\n",
              "    </tr>\n",
              "    <tr>\n",
              "      <th>Gender</th>\n",
              "      <th>Economic Status</th>\n",
              "      <th></th>\n",
              "      <th></th>\n",
              "    </tr>\n",
              "  </thead>\n",
              "  <tbody>\n",
              "    <tr>\n",
              "      <th rowspan=\"3\" valign=\"top\">Female</th>\n",
              "      <th>Middle Class</th>\n",
              "      <td>30.210526</td>\n",
              "      <td>6.319958</td>\n",
              "    </tr>\n",
              "    <tr>\n",
              "      <th>Poor</th>\n",
              "      <td>30.462366</td>\n",
              "      <td>5.860292</td>\n",
              "    </tr>\n",
              "    <tr>\n",
              "      <th>Rich</th>\n",
              "      <td>30.614583</td>\n",
              "      <td>5.342103</td>\n",
              "    </tr>\n",
              "    <tr>\n",
              "      <th rowspan=\"3\" valign=\"top\">Male</th>\n",
              "      <th>Middle Class</th>\n",
              "      <td>27.012987</td>\n",
              "      <td>5.012572</td>\n",
              "    </tr>\n",
              "    <tr>\n",
              "      <th>Poor</th>\n",
              "      <td>27.657895</td>\n",
              "      <td>4.875658</td>\n",
              "    </tr>\n",
              "    <tr>\n",
              "      <th>Rich</th>\n",
              "      <td>29.390244</td>\n",
              "      <td>5.170956</td>\n",
              "    </tr>\n",
              "  </tbody>\n",
              "</table>\n",
              "</div>"
            ],
            "text/plain": [
              "                              Age    Height\n",
              "Gender Economic Status                     \n",
              "Female Middle Class     30.210526  6.319958\n",
              "       Poor             30.462366  5.860292\n",
              "       Rich             30.614583  5.342103\n",
              "Male   Middle Class     27.012987  5.012572\n",
              "       Poor             27.657895  4.875658\n",
              "       Rich             29.390244  5.170956"
            ]
          },
          "metadata": {
            "tags": []
          },
          "execution_count": 68
        }
      ]
    },
    {
      "cell_type": "code",
      "metadata": {
        "id": "Nc14TkOL1jDZ",
        "colab_type": "code",
        "colab": {
          "base_uri": "https://localhost:8080/",
          "height": 284
        },
        "outputId": "44907de5-a31a-4a19-fc0a-6aa27d6a497d"
      },
      "source": [
        "double_group.aggregate([np.sum, np.mean, np.std])"
      ],
      "execution_count": 69,
      "outputs": [
        {
          "output_type": "execute_result",
          "data": {
            "text/html": [
              "<div>\n",
              "<style scoped>\n",
              "    .dataframe tbody tr th:only-of-type {\n",
              "        vertical-align: middle;\n",
              "    }\n",
              "\n",
              "    .dataframe tbody tr th {\n",
              "        vertical-align: top;\n",
              "    }\n",
              "\n",
              "    .dataframe thead tr th {\n",
              "        text-align: left;\n",
              "    }\n",
              "\n",
              "    .dataframe thead tr:last-of-type th {\n",
              "        text-align: right;\n",
              "    }\n",
              "</style>\n",
              "<table border=\"1\" class=\"dataframe\">\n",
              "  <thead>\n",
              "    <tr>\n",
              "      <th></th>\n",
              "      <th></th>\n",
              "      <th colspan=\"3\" halign=\"left\">Height</th>\n",
              "      <th colspan=\"3\" halign=\"left\">Weight</th>\n",
              "      <th colspan=\"3\" halign=\"left\">Age</th>\n",
              "      <th colspan=\"3\" halign=\"left\">Income</th>\n",
              "    </tr>\n",
              "    <tr>\n",
              "      <th></th>\n",
              "      <th></th>\n",
              "      <th>sum</th>\n",
              "      <th>mean</th>\n",
              "      <th>std</th>\n",
              "      <th>sum</th>\n",
              "      <th>mean</th>\n",
              "      <th>std</th>\n",
              "      <th>sum</th>\n",
              "      <th>mean</th>\n",
              "      <th>std</th>\n",
              "      <th>sum</th>\n",
              "      <th>mean</th>\n",
              "      <th>std</th>\n",
              "    </tr>\n",
              "    <tr>\n",
              "      <th>Gender</th>\n",
              "      <th>Economic Status</th>\n",
              "      <th></th>\n",
              "      <th></th>\n",
              "      <th></th>\n",
              "      <th></th>\n",
              "      <th></th>\n",
              "      <th></th>\n",
              "      <th></th>\n",
              "      <th></th>\n",
              "      <th></th>\n",
              "      <th></th>\n",
              "      <th></th>\n",
              "      <th></th>\n",
              "    </tr>\n",
              "  </thead>\n",
              "  <tbody>\n",
              "    <tr>\n",
              "      <th rowspan=\"3\" valign=\"top\">Female</th>\n",
              "      <th>Middle Class</th>\n",
              "      <td>12284.495082</td>\n",
              "      <td>161.638093</td>\n",
              "      <td>25.745758</td>\n",
              "      <td>5053.563500</td>\n",
              "      <td>66.494257</td>\n",
              "      <td>24.893873</td>\n",
              "      <td>2296</td>\n",
              "      <td>30.210526</td>\n",
              "      <td>11.641667</td>\n",
              "      <td>1.376860e+06</td>\n",
              "      <td>18116.582825</td>\n",
              "      <td>3433.454292</td>\n",
              "    </tr>\n",
              "    <tr>\n",
              "      <th>Poor</th>\n",
              "      <td>15125.766015</td>\n",
              "      <td>162.642645</td>\n",
              "      <td>27.903759</td>\n",
              "      <td>6110.426282</td>\n",
              "      <td>65.703508</td>\n",
              "      <td>22.988214</td>\n",
              "      <td>2833</td>\n",
              "      <td>30.462366</td>\n",
              "      <td>10.306772</td>\n",
              "      <td>1.708264e+06</td>\n",
              "      <td>18368.432990</td>\n",
              "      <td>3831.915739</td>\n",
              "    </tr>\n",
              "    <tr>\n",
              "      <th>Rich</th>\n",
              "      <td>15227.115565</td>\n",
              "      <td>158.615787</td>\n",
              "      <td>29.847502</td>\n",
              "      <td>6493.045865</td>\n",
              "      <td>67.635894</td>\n",
              "      <td>21.437447</td>\n",
              "      <td>2939</td>\n",
              "      <td>30.614583</td>\n",
              "      <td>12.419314</td>\n",
              "      <td>1.760123e+06</td>\n",
              "      <td>18334.617683</td>\n",
              "      <td>3546.080944</td>\n",
              "    </tr>\n",
              "    <tr>\n",
              "      <th rowspan=\"3\" valign=\"top\">Male</th>\n",
              "      <th>Middle Class</th>\n",
              "      <td>12059.205497</td>\n",
              "      <td>156.613058</td>\n",
              "      <td>31.448931</td>\n",
              "      <td>5002.119013</td>\n",
              "      <td>64.962585</td>\n",
              "      <td>22.481224</td>\n",
              "      <td>2080</td>\n",
              "      <td>27.012987</td>\n",
              "      <td>10.408111</td>\n",
              "      <td>1.397364e+06</td>\n",
              "      <td>18147.588123</td>\n",
              "      <td>3372.707306</td>\n",
              "    </tr>\n",
              "    <tr>\n",
              "      <th>Poor</th>\n",
              "      <td>11829.820271</td>\n",
              "      <td>155.655530</td>\n",
              "      <td>32.137159</td>\n",
              "      <td>4893.826995</td>\n",
              "      <td>64.392460</td>\n",
              "      <td>26.493010</td>\n",
              "      <td>2102</td>\n",
              "      <td>27.657895</td>\n",
              "      <td>12.534276</td>\n",
              "      <td>1.383593e+06</td>\n",
              "      <td>18205.167838</td>\n",
              "      <td>2982.384956</td>\n",
              "    </tr>\n",
              "    <tr>\n",
              "      <th>Rich</th>\n",
              "      <td>13192.471045</td>\n",
              "      <td>160.883793</td>\n",
              "      <td>31.304435</td>\n",
              "      <td>4742.002713</td>\n",
              "      <td>57.829301</td>\n",
              "      <td>21.271200</td>\n",
              "      <td>2410</td>\n",
              "      <td>29.390244</td>\n",
              "      <td>12.579384</td>\n",
              "      <td>1.492324e+06</td>\n",
              "      <td>18199.069409</td>\n",
              "      <td>3398.482814</td>\n",
              "    </tr>\n",
              "  </tbody>\n",
              "</table>\n",
              "</div>"
            ],
            "text/plain": [
              "                              Height              ...        Income             \n",
              "                                 sum        mean  ...          mean          std\n",
              "Gender Economic Status                            ...                           \n",
              "Female Middle Class     12284.495082  161.638093  ...  18116.582825  3433.454292\n",
              "       Poor             15125.766015  162.642645  ...  18368.432990  3831.915739\n",
              "       Rich             15227.115565  158.615787  ...  18334.617683  3546.080944\n",
              "Male   Middle Class     12059.205497  156.613058  ...  18147.588123  3372.707306\n",
              "       Poor             11829.820271  155.655530  ...  18205.167838  2982.384956\n",
              "       Rich             13192.471045  160.883793  ...  18199.069409  3398.482814\n",
              "\n",
              "[6 rows x 12 columns]"
            ]
          },
          "metadata": {
            "tags": []
          },
          "execution_count": 69
        }
      ]
    },
    {
      "cell_type": "code",
      "metadata": {
        "id": "Er2i3_tC1wG3",
        "colab_type": "code",
        "colab": {
          "base_uri": "https://localhost:8080/",
          "height": 284
        },
        "outputId": "1576a932-10fc-4561-cda8-bc8a721b1d6e"
      },
      "source": [
        "double_group.aggregate([lambda x: np.mean(x) / np.std(x)])"
      ],
      "execution_count": 70,
      "outputs": [
        {
          "output_type": "execute_result",
          "data": {
            "text/html": [
              "<div>\n",
              "<style scoped>\n",
              "    .dataframe tbody tr th:only-of-type {\n",
              "        vertical-align: middle;\n",
              "    }\n",
              "\n",
              "    .dataframe tbody tr th {\n",
              "        vertical-align: top;\n",
              "    }\n",
              "\n",
              "    .dataframe thead tr th {\n",
              "        text-align: left;\n",
              "    }\n",
              "\n",
              "    .dataframe thead tr:last-of-type th {\n",
              "        text-align: right;\n",
              "    }\n",
              "</style>\n",
              "<table border=\"1\" class=\"dataframe\">\n",
              "  <thead>\n",
              "    <tr>\n",
              "      <th></th>\n",
              "      <th></th>\n",
              "      <th>Height</th>\n",
              "      <th>Weight</th>\n",
              "      <th>Age</th>\n",
              "      <th>Income</th>\n",
              "    </tr>\n",
              "    <tr>\n",
              "      <th></th>\n",
              "      <th></th>\n",
              "      <th>&lt;lambda&gt;</th>\n",
              "      <th>&lt;lambda&gt;</th>\n",
              "      <th>&lt;lambda&gt;</th>\n",
              "      <th>&lt;lambda&gt;</th>\n",
              "    </tr>\n",
              "    <tr>\n",
              "      <th>Gender</th>\n",
              "      <th>Economic Status</th>\n",
              "      <th></th>\n",
              "      <th></th>\n",
              "      <th></th>\n",
              "      <th></th>\n",
              "    </tr>\n",
              "  </thead>\n",
              "  <tbody>\n",
              "    <tr>\n",
              "      <th rowspan=\"3\" valign=\"top\">Female</th>\n",
              "      <th>Middle Class</th>\n",
              "      <td>6.319958</td>\n",
              "      <td>2.688858</td>\n",
              "      <td>2.612277</td>\n",
              "      <td>5.311549</td>\n",
              "    </tr>\n",
              "    <tr>\n",
              "      <th>Poor</th>\n",
              "      <td>5.860292</td>\n",
              "      <td>2.873630</td>\n",
              "      <td>2.971587</td>\n",
              "      <td>4.819519</td>\n",
              "    </tr>\n",
              "    <tr>\n",
              "      <th>Rich</th>\n",
              "      <td>5.342103</td>\n",
              "      <td>3.171597</td>\n",
              "      <td>2.478019</td>\n",
              "      <td>5.197530</td>\n",
              "    </tr>\n",
              "    <tr>\n",
              "      <th rowspan=\"3\" valign=\"top\">Male</th>\n",
              "      <th>Middle Class</th>\n",
              "      <td>5.012572</td>\n",
              "      <td>2.908586</td>\n",
              "      <td>2.612397</td>\n",
              "      <td>5.416002</td>\n",
              "    </tr>\n",
              "    <tr>\n",
              "      <th>Poor</th>\n",
              "      <td>4.875658</td>\n",
              "      <td>2.446695</td>\n",
              "      <td>2.221243</td>\n",
              "      <td>6.144792</td>\n",
              "    </tr>\n",
              "    <tr>\n",
              "      <th>Rich</th>\n",
              "      <td>5.170956</td>\n",
              "      <td>2.735397</td>\n",
              "      <td>2.350760</td>\n",
              "      <td>5.388012</td>\n",
              "    </tr>\n",
              "  </tbody>\n",
              "</table>\n",
              "</div>"
            ],
            "text/plain": [
              "                          Height    Weight       Age    Income\n",
              "                        <lambda>  <lambda>  <lambda>  <lambda>\n",
              "Gender Economic Status                                        \n",
              "Female Middle Class     6.319958  2.688858  2.612277  5.311549\n",
              "       Poor             5.860292  2.873630  2.971587  4.819519\n",
              "       Rich             5.342103  3.171597  2.478019  5.197530\n",
              "Male   Middle Class     5.012572  2.908586  2.612397  5.416002\n",
              "       Poor             4.875658  2.446695  2.221243  6.144792\n",
              "       Rich             5.170956  2.735397  2.350760  5.388012"
            ]
          },
          "metadata": {
            "tags": []
          },
          "execution_count": 70
        }
      ]
    },
    {
      "cell_type": "markdown",
      "metadata": {
        "id": "D8PhT9lQ2Ie3",
        "colab_type": "text"
      },
      "source": [
        "# FILTRADO DE DATOS"
      ]
    },
    {
      "cell_type": "code",
      "metadata": {
        "id": "Kyk8TH-Y2KYn",
        "colab_type": "code",
        "colab": {
          "base_uri": "https://localhost:8080/",
          "height": 218
        },
        "outputId": "cb5255e4-3460-4f8f-e06e-0636972a43e6"
      },
      "source": [
        "double_group['Age'].filter(lambda x: x.sum()> 2400)"
      ],
      "execution_count": 71,
      "outputs": [
        {
          "output_type": "execute_result",
          "data": {
            "text/plain": [
              "0      35\n",
              "2      25\n",
              "4      16\n",
              "6      40\n",
              "10     38\n",
              "       ..\n",
              "492    34\n",
              "494    37\n",
              "495    27\n",
              "496    34\n",
              "497    42\n",
              "Name: Age, Length: 271, dtype: int64"
            ]
          },
          "metadata": {
            "tags": []
          },
          "execution_count": 71
        }
      ]
    },
    {
      "cell_type": "markdown",
      "metadata": {
        "id": "38aWxAXV3SEp",
        "colab_type": "text"
      },
      "source": [
        "#TRANSFORMACIÓN DE VARIABLES"
      ]
    },
    {
      "cell_type": "code",
      "metadata": {
        "id": "kBgt1jyr3LDf",
        "colab_type": "code",
        "colab": {}
      },
      "source": [
        "zscore = lambda x: (x - x.mean()) / x.std() #tipificación a N(0,1)"
      ],
      "execution_count": 72,
      "outputs": []
    },
    {
      "cell_type": "code",
      "metadata": {
        "id": "UTSZDVlK3og-",
        "colab_type": "code",
        "colab": {
          "base_uri": "https://localhost:8080/",
          "height": 402
        },
        "outputId": "3254b804-c1da-4af8-88b3-c1ee6de6c4fe"
      },
      "source": [
        "z_group = double_group.transform(zscore)\n",
        "z_group"
      ],
      "execution_count": 73,
      "outputs": [
        {
          "output_type": "execute_result",
          "data": {
            "text/html": [
              "<div>\n",
              "<style scoped>\n",
              "    .dataframe tbody tr th:only-of-type {\n",
              "        vertical-align: middle;\n",
              "    }\n",
              "\n",
              "    .dataframe tbody tr th {\n",
              "        vertical-align: top;\n",
              "    }\n",
              "\n",
              "    .dataframe thead th {\n",
              "        text-align: right;\n",
              "    }\n",
              "</style>\n",
              "<table border=\"1\" class=\"dataframe\">\n",
              "  <thead>\n",
              "    <tr style=\"text-align: right;\">\n",
              "      <th></th>\n",
              "      <th>Height</th>\n",
              "      <th>Weight</th>\n",
              "      <th>Age</th>\n",
              "      <th>Income</th>\n",
              "    </tr>\n",
              "  </thead>\n",
              "  <tbody>\n",
              "    <tr>\n",
              "      <th>0</th>\n",
              "      <td>-0.877074</td>\n",
              "      <td>1.658256</td>\n",
              "      <td>0.353113</td>\n",
              "      <td>-0.921720</td>\n",
              "    </tr>\n",
              "    <tr>\n",
              "      <th>1</th>\n",
              "      <td>-0.990809</td>\n",
              "      <td>1.264241</td>\n",
              "      <td>0.479147</td>\n",
              "      <td>0.876232</td>\n",
              "    </tr>\n",
              "    <tr>\n",
              "      <th>2</th>\n",
              "      <td>2.224592</td>\n",
              "      <td>-0.588053</td>\n",
              "      <td>-0.452085</td>\n",
              "      <td>-0.295191</td>\n",
              "    </tr>\n",
              "    <tr>\n",
              "      <th>3</th>\n",
              "      <td>-1.087363</td>\n",
              "      <td>1.157120</td>\n",
              "      <td>0.426200</td>\n",
              "      <td>-0.696016</td>\n",
              "    </tr>\n",
              "    <tr>\n",
              "      <th>4</th>\n",
              "      <td>1.019063</td>\n",
              "      <td>-1.559995</td>\n",
              "      <td>-1.064459</td>\n",
              "      <td>0.812019</td>\n",
              "    </tr>\n",
              "    <tr>\n",
              "      <th>...</th>\n",
              "      <td>...</td>\n",
              "      <td>...</td>\n",
              "      <td>...</td>\n",
              "      <td>...</td>\n",
              "    </tr>\n",
              "    <tr>\n",
              "      <th>495</th>\n",
              "      <td>1.114958</td>\n",
              "      <td>-0.176983</td>\n",
              "      <td>-0.190013</td>\n",
              "      <td>0.200690</td>\n",
              "    </tr>\n",
              "    <tr>\n",
              "      <th>496</th>\n",
              "      <td>0.651171</td>\n",
              "      <td>1.746328</td>\n",
              "      <td>0.366453</td>\n",
              "      <td>0.121296</td>\n",
              "    </tr>\n",
              "    <tr>\n",
              "      <th>497</th>\n",
              "      <td>-0.701301</td>\n",
              "      <td>0.030235</td>\n",
              "      <td>1.002414</td>\n",
              "      <td>0.748107</td>\n",
              "    </tr>\n",
              "    <tr>\n",
              "      <th>498</th>\n",
              "      <td>-0.389545</td>\n",
              "      <td>-1.932788</td>\n",
              "      <td>-0.212050</td>\n",
              "      <td>-0.543811</td>\n",
              "    </tr>\n",
              "    <tr>\n",
              "      <th>499</th>\n",
              "      <td>1.151572</td>\n",
              "      <td>0.060855</td>\n",
              "      <td>-0.103982</td>\n",
              "      <td>0.774792</td>\n",
              "    </tr>\n",
              "  </tbody>\n",
              "</table>\n",
              "<p>500 rows × 4 columns</p>\n",
              "</div>"
            ],
            "text/plain": [
              "       Height    Weight       Age    Income\n",
              "0   -0.877074  1.658256  0.353113 -0.921720\n",
              "1   -0.990809  1.264241  0.479147  0.876232\n",
              "2    2.224592 -0.588053 -0.452085 -0.295191\n",
              "3   -1.087363  1.157120  0.426200 -0.696016\n",
              "4    1.019063 -1.559995 -1.064459  0.812019\n",
              "..        ...       ...       ...       ...\n",
              "495  1.114958 -0.176983 -0.190013  0.200690\n",
              "496  0.651171  1.746328  0.366453  0.121296\n",
              "497 -0.701301  0.030235  1.002414  0.748107\n",
              "498 -0.389545 -1.932788 -0.212050 -0.543811\n",
              "499  1.151572  0.060855 -0.103982  0.774792\n",
              "\n",
              "[500 rows x 4 columns]"
            ]
          },
          "metadata": {
            "tags": []
          },
          "execution_count": 73
        }
      ]
    },
    {
      "cell_type": "code",
      "metadata": {
        "id": "tMStZ3CN4Xdu",
        "colab_type": "code",
        "colab": {
          "base_uri": "https://localhost:8080/",
          "height": 349
        },
        "outputId": "fdbfa208-6938-4fc4-a5e9-8683cecadaeb"
      },
      "source": [
        "import matplotlib.pyplot as plt\n",
        "plt.hist(z_group['Age'])"
      ],
      "execution_count": 74,
      "outputs": [
        {
          "output_type": "execute_result",
          "data": {
            "text/plain": [
              "(array([  1.,  16.,  49.,  90., 139., 115.,  66.,  15.,   8.,   1.]),\n",
              " array([-3.19632273, -2.51171537, -1.827108  , -1.14250064, -0.45789327,\n",
              "         0.22671409,  0.91132146,  1.59592882,  2.28053619,  2.96514355,\n",
              "         3.64975092]),\n",
              " <a list of 10 Patch objects>)"
            ]
          },
          "metadata": {
            "tags": []
          },
          "execution_count": 74
        },
        {
          "output_type": "display_data",
          "data": {
            "image/png": "[encoded data removed]",
            "text/plain": [
              "<Figure size 432x288 with 1 Axes>"
            ]
          },
          "metadata": {
            "tags": [],
            "needs_background": "light"
          }
        }
      ]
    },
    {
      "cell_type": "code",
      "metadata": {
        "id": "Z-6xgdxF42fA",
        "colab_type": "code",
        "colab": {}
      },
      "source": [
        "fill_na_mean = lambda x: x.fillna(x.mean())"
      ],
      "execution_count": 75,
      "outputs": []
    },
    {
      "cell_type": "code",
      "metadata": {
        "id": "z_UZZsK34_jv",
        "colab_type": "code",
        "colab": {
          "base_uri": "https://localhost:8080/",
          "height": 402
        },
        "outputId": "84acf746-4d51-470d-a3ab-695bd95a0a8f"
      },
      "source": [
        "double_group.transform(fill_na_mean)"
      ],
      "execution_count": 76,
      "outputs": [
        {
          "output_type": "execute_result",
          "data": {
            "text/html": [
              "<div>\n",
              "<style scoped>\n",
              "    .dataframe tbody tr th:only-of-type {\n",
              "        vertical-align: middle;\n",
              "    }\n",
              "\n",
              "    .dataframe tbody tr th {\n",
              "        vertical-align: top;\n",
              "    }\n",
              "\n",
              "    .dataframe thead th {\n",
              "        text-align: right;\n",
              "    }\n",
              "</style>\n",
              "<table border=\"1\" class=\"dataframe\">\n",
              "  <thead>\n",
              "    <tr style=\"text-align: right;\">\n",
              "      <th></th>\n",
              "      <th>Height</th>\n",
              "      <th>Weight</th>\n",
              "      <th>Age</th>\n",
              "      <th>Income</th>\n",
              "    </tr>\n",
              "  </thead>\n",
              "  <tbody>\n",
              "    <tr>\n",
              "      <th>0</th>\n",
              "      <td>132.437324</td>\n",
              "      <td>103.184672</td>\n",
              "      <td>35</td>\n",
              "      <td>15066.122922</td>\n",
              "    </tr>\n",
              "    <tr>\n",
              "      <th>1</th>\n",
              "      <td>125.453175</td>\n",
              "      <td>93.384280</td>\n",
              "      <td>32</td>\n",
              "      <td>21102.861399</td>\n",
              "    </tr>\n",
              "    <tr>\n",
              "      <th>2</th>\n",
              "      <td>225.014303</td>\n",
              "      <td>55.029533</td>\n",
              "      <td>25</td>\n",
              "      <td>17287.848139</td>\n",
              "    </tr>\n",
              "    <tr>\n",
              "      <th>3</th>\n",
              "      <td>120.710759</td>\n",
              "      <td>95.048062</td>\n",
              "      <td>33</td>\n",
              "      <td>16129.378758</td>\n",
              "    </tr>\n",
              "    <tr>\n",
              "      <th>4</th>\n",
              "      <td>192.784990</td>\n",
              "      <td>24.646342</td>\n",
              "      <td>16</td>\n",
              "      <td>20958.700342</td>\n",
              "    </tr>\n",
              "    <tr>\n",
              "      <th>...</th>\n",
              "      <td>...</td>\n",
              "      <td>...</td>\n",
              "      <td>...</td>\n",
              "      <td>...</td>\n",
              "    </tr>\n",
              "    <tr>\n",
              "      <th>495</th>\n",
              "      <td>195.786914</td>\n",
              "      <td>54.064663</td>\n",
              "      <td>27</td>\n",
              "      <td>18881.109932</td>\n",
              "    </tr>\n",
              "    <tr>\n",
              "      <th>496</th>\n",
              "      <td>181.268338</td>\n",
              "      <td>94.975790</td>\n",
              "      <td>34</td>\n",
              "      <td>18611.291485</td>\n",
              "    </tr>\n",
              "    <tr>\n",
              "      <th>497</th>\n",
              "      <td>138.929960</td>\n",
              "      <td>58.472446</td>\n",
              "      <td>42</td>\n",
              "      <td>20741.499495</td>\n",
              "    </tr>\n",
              "    <tr>\n",
              "      <th>498</th>\n",
              "      <td>143.136651</td>\n",
              "      <td>13.187100</td>\n",
              "      <td>25</td>\n",
              "      <td>16583.315342</td>\n",
              "    </tr>\n",
              "    <tr>\n",
              "      <th>499</th>\n",
              "      <td>191.286179</td>\n",
              "      <td>68.009176</td>\n",
              "      <td>29</td>\n",
              "      <td>20776.796223</td>\n",
              "    </tr>\n",
              "  </tbody>\n",
              "</table>\n",
              "<p>500 rows × 4 columns</p>\n",
              "</div>"
            ],
            "text/plain": [
              "         Height      Weight  Age        Income\n",
              "0    132.437324  103.184672   35  15066.122922\n",
              "1    125.453175   93.384280   32  21102.861399\n",
              "2    225.014303   55.029533   25  17287.848139\n",
              "3    120.710759   95.048062   33  16129.378758\n",
              "4    192.784990   24.646342   16  20958.700342\n",
              "..          ...         ...  ...           ...\n",
              "495  195.786914   54.064663   27  18881.109932\n",
              "496  181.268338   94.975790   34  18611.291485\n",
              "497  138.929960   58.472446   42  20741.499495\n",
              "498  143.136651   13.187100   25  16583.315342\n",
              "499  191.286179   68.009176   29  20776.796223\n",
              "\n",
              "[500 rows x 4 columns]"
            ]
          },
          "metadata": {
            "tags": []
          },
          "execution_count": 76
        }
      ]
    },
    {
      "cell_type": "markdown",
      "metadata": {
        "id": "87vAiOIc5Lob",
        "colab_type": "text"
      },
      "source": [
        "#OPERACIONES DIVERSAS MUY ÚTILES"
      ]
    },
    {
      "cell_type": "code",
      "metadata": {
        "id": "AMW9V0LP5Jvb",
        "colab_type": "code",
        "colab": {
          "base_uri": "https://localhost:8080/",
          "height": 225
        },
        "outputId": "c8b766b2-421f-4c6f-c415-068864ac822a"
      },
      "source": [
        "# seleccionar la fila i-ésima\n",
        "double_group.head(1) #ojo que al ser una agrupación, devuelve la primera fila de cada uno"
      ],
      "execution_count": 77,
      "outputs": [
        {
          "output_type": "execute_result",
          "data": {
            "text/html": [
              "<div>\n",
              "<style scoped>\n",
              "    .dataframe tbody tr th:only-of-type {\n",
              "        vertical-align: middle;\n",
              "    }\n",
              "\n",
              "    .dataframe tbody tr th {\n",
              "        vertical-align: top;\n",
              "    }\n",
              "\n",
              "    .dataframe thead th {\n",
              "        text-align: right;\n",
              "    }\n",
              "</style>\n",
              "<table border=\"1\" class=\"dataframe\">\n",
              "  <thead>\n",
              "    <tr style=\"text-align: right;\">\n",
              "      <th></th>\n",
              "      <th>Gender</th>\n",
              "      <th>Economic Status</th>\n",
              "      <th>Height</th>\n",
              "      <th>Weight</th>\n",
              "      <th>Age</th>\n",
              "      <th>Income</th>\n",
              "    </tr>\n",
              "  </thead>\n",
              "  <tbody>\n",
              "    <tr>\n",
              "      <th>0</th>\n",
              "      <td>Female</td>\n",
              "      <td>Rich</td>\n",
              "      <td>132.437324</td>\n",
              "      <td>103.184672</td>\n",
              "      <td>35</td>\n",
              "      <td>15066.122922</td>\n",
              "    </tr>\n",
              "    <tr>\n",
              "      <th>1</th>\n",
              "      <td>Male</td>\n",
              "      <td>Middle Class</td>\n",
              "      <td>125.453175</td>\n",
              "      <td>93.384280</td>\n",
              "      <td>32</td>\n",
              "      <td>21102.861399</td>\n",
              "    </tr>\n",
              "    <tr>\n",
              "      <th>3</th>\n",
              "      <td>Male</td>\n",
              "      <td>Poor</td>\n",
              "      <td>120.710759</td>\n",
              "      <td>95.048062</td>\n",
              "      <td>33</td>\n",
              "      <td>16129.378758</td>\n",
              "    </tr>\n",
              "    <tr>\n",
              "      <th>4</th>\n",
              "      <td>Male</td>\n",
              "      <td>Rich</td>\n",
              "      <td>192.784990</td>\n",
              "      <td>24.646342</td>\n",
              "      <td>16</td>\n",
              "      <td>20958.700342</td>\n",
              "    </tr>\n",
              "    <tr>\n",
              "      <th>6</th>\n",
              "      <td>Female</td>\n",
              "      <td>Poor</td>\n",
              "      <td>189.808032</td>\n",
              "      <td>31.495853</td>\n",
              "      <td>40</td>\n",
              "      <td>14091.333785</td>\n",
              "    </tr>\n",
              "    <tr>\n",
              "      <th>7</th>\n",
              "      <td>Female</td>\n",
              "      <td>Middle Class</td>\n",
              "      <td>169.719069</td>\n",
              "      <td>106.419817</td>\n",
              "      <td>33</td>\n",
              "      <td>14784.645489</td>\n",
              "    </tr>\n",
              "  </tbody>\n",
              "</table>\n",
              "</div>"
            ],
            "text/plain": [
              "   Gender Economic Status      Height      Weight  Age        Income\n",
              "0  Female            Rich  132.437324  103.184672   35  15066.122922\n",
              "1    Male    Middle Class  125.453175   93.384280   32  21102.861399\n",
              "3    Male            Poor  120.710759   95.048062   33  16129.378758\n",
              "4    Male            Rich  192.784990   24.646342   16  20958.700342\n",
              "6  Female            Poor  189.808032   31.495853   40  14091.333785\n",
              "7  Female    Middle Class  169.719069  106.419817   33  14784.645489"
            ]
          },
          "metadata": {
            "tags": []
          },
          "execution_count": 77
        }
      ]
    },
    {
      "cell_type": "code",
      "metadata": {
        "id": "sX2iax7M5dwx",
        "colab_type": "code",
        "colab": {
          "base_uri": "https://localhost:8080/",
          "height": 225
        },
        "outputId": "f4d05281-8afd-4109-8eb3-f2527168083d"
      },
      "source": [
        "double_group.tail(1)"
      ],
      "execution_count": 78,
      "outputs": [
        {
          "output_type": "execute_result",
          "data": {
            "text/html": [
              "<div>\n",
              "<style scoped>\n",
              "    .dataframe tbody tr th:only-of-type {\n",
              "        vertical-align: middle;\n",
              "    }\n",
              "\n",
              "    .dataframe tbody tr th {\n",
              "        vertical-align: top;\n",
              "    }\n",
              "\n",
              "    .dataframe thead th {\n",
              "        text-align: right;\n",
              "    }\n",
              "</style>\n",
              "<table border=\"1\" class=\"dataframe\">\n",
              "  <thead>\n",
              "    <tr style=\"text-align: right;\">\n",
              "      <th></th>\n",
              "      <th>Gender</th>\n",
              "      <th>Economic Status</th>\n",
              "      <th>Height</th>\n",
              "      <th>Weight</th>\n",
              "      <th>Age</th>\n",
              "      <th>Income</th>\n",
              "    </tr>\n",
              "  </thead>\n",
              "  <tbody>\n",
              "    <tr>\n",
              "      <th>492</th>\n",
              "      <td>Female</td>\n",
              "      <td>Poor</td>\n",
              "      <td>220.611513</td>\n",
              "      <td>71.682142</td>\n",
              "      <td>34</td>\n",
              "      <td>15306.080084</td>\n",
              "    </tr>\n",
              "    <tr>\n",
              "      <th>493</th>\n",
              "      <td>Male</td>\n",
              "      <td>Middle Class</td>\n",
              "      <td>163.851278</td>\n",
              "      <td>67.697915</td>\n",
              "      <td>17</td>\n",
              "      <td>14719.319722</td>\n",
              "    </tr>\n",
              "    <tr>\n",
              "      <th>494</th>\n",
              "      <td>Female</td>\n",
              "      <td>Rich</td>\n",
              "      <td>146.410897</td>\n",
              "      <td>80.764813</td>\n",
              "      <td>37</td>\n",
              "      <td>22273.854026</td>\n",
              "    </tr>\n",
              "    <tr>\n",
              "      <th>497</th>\n",
              "      <td>Male</td>\n",
              "      <td>Rich</td>\n",
              "      <td>138.929960</td>\n",
              "      <td>58.472446</td>\n",
              "      <td>42</td>\n",
              "      <td>20741.499495</td>\n",
              "    </tr>\n",
              "    <tr>\n",
              "      <th>498</th>\n",
              "      <td>Male</td>\n",
              "      <td>Poor</td>\n",
              "      <td>143.136651</td>\n",
              "      <td>13.187100</td>\n",
              "      <td>25</td>\n",
              "      <td>16583.315342</td>\n",
              "    </tr>\n",
              "    <tr>\n",
              "      <th>499</th>\n",
              "      <td>Female</td>\n",
              "      <td>Middle Class</td>\n",
              "      <td>191.286179</td>\n",
              "      <td>68.009176</td>\n",
              "      <td>29</td>\n",
              "      <td>20776.796223</td>\n",
              "    </tr>\n",
              "  </tbody>\n",
              "</table>\n",
              "</div>"
            ],
            "text/plain": [
              "     Gender Economic Status      Height     Weight  Age        Income\n",
              "492  Female            Poor  220.611513  71.682142   34  15306.080084\n",
              "493    Male    Middle Class  163.851278  67.697915   17  14719.319722\n",
              "494  Female            Rich  146.410897  80.764813   37  22273.854026\n",
              "497    Male            Rich  138.929960  58.472446   42  20741.499495\n",
              "498    Male            Poor  143.136651  13.187100   25  16583.315342\n",
              "499  Female    Middle Class  191.286179  68.009176   29  20776.796223"
            ]
          },
          "metadata": {
            "tags": []
          },
          "execution_count": 78
        }
      ]
    },
    {
      "cell_type": "code",
      "metadata": {
        "id": "dkDV-anZ5jsO",
        "colab_type": "code",
        "colab": {
          "base_uri": "https://localhost:8080/",
          "height": 254
        },
        "outputId": "b61d06c5-bdaa-4af2-e708-63803297d9f2"
      },
      "source": [
        "double_group.nth(32) #el elemento 32"
      ],
      "execution_count": 79,
      "outputs": [
        {
          "output_type": "execute_result",
          "data": {
            "text/html": [
              "<div>\n",
              "<style scoped>\n",
              "    .dataframe tbody tr th:only-of-type {\n",
              "        vertical-align: middle;\n",
              "    }\n",
              "\n",
              "    .dataframe tbody tr th {\n",
              "        vertical-align: top;\n",
              "    }\n",
              "\n",
              "    .dataframe thead th {\n",
              "        text-align: right;\n",
              "    }\n",
              "</style>\n",
              "<table border=\"1\" class=\"dataframe\">\n",
              "  <thead>\n",
              "    <tr style=\"text-align: right;\">\n",
              "      <th></th>\n",
              "      <th></th>\n",
              "      <th>Height</th>\n",
              "      <th>Weight</th>\n",
              "      <th>Age</th>\n",
              "      <th>Income</th>\n",
              "    </tr>\n",
              "    <tr>\n",
              "      <th>Gender</th>\n",
              "      <th>Economic Status</th>\n",
              "      <th></th>\n",
              "      <th></th>\n",
              "      <th></th>\n",
              "      <th></th>\n",
              "    </tr>\n",
              "  </thead>\n",
              "  <tbody>\n",
              "    <tr>\n",
              "      <th rowspan=\"3\" valign=\"top\">Female</th>\n",
              "      <th>Middle Class</th>\n",
              "      <td>173.829361</td>\n",
              "      <td>55.806758</td>\n",
              "      <td>31</td>\n",
              "      <td>16235.090762</td>\n",
              "    </tr>\n",
              "    <tr>\n",
              "      <th>Poor</th>\n",
              "      <td>122.892708</td>\n",
              "      <td>58.410539</td>\n",
              "      <td>37</td>\n",
              "      <td>24033.678669</td>\n",
              "    </tr>\n",
              "    <tr>\n",
              "      <th>Rich</th>\n",
              "      <td>130.825418</td>\n",
              "      <td>99.328291</td>\n",
              "      <td>45</td>\n",
              "      <td>20911.780769</td>\n",
              "    </tr>\n",
              "    <tr>\n",
              "      <th rowspan=\"3\" valign=\"top\">Male</th>\n",
              "      <th>Middle Class</th>\n",
              "      <td>162.764238</td>\n",
              "      <td>32.200216</td>\n",
              "      <td>28</td>\n",
              "      <td>15347.639592</td>\n",
              "    </tr>\n",
              "    <tr>\n",
              "      <th>Poor</th>\n",
              "      <td>152.885715</td>\n",
              "      <td>49.833680</td>\n",
              "      <td>11</td>\n",
              "      <td>18893.986144</td>\n",
              "    </tr>\n",
              "    <tr>\n",
              "      <th>Rich</th>\n",
              "      <td>106.400547</td>\n",
              "      <td>34.913499</td>\n",
              "      <td>14</td>\n",
              "      <td>15887.789038</td>\n",
              "    </tr>\n",
              "  </tbody>\n",
              "</table>\n",
              "</div>"
            ],
            "text/plain": [
              "                            Height     Weight  Age        Income\n",
              "Gender Economic Status                                          \n",
              "Female Middle Class     173.829361  55.806758   31  16235.090762\n",
              "       Poor             122.892708  58.410539   37  24033.678669\n",
              "       Rich             130.825418  99.328291   45  20911.780769\n",
              "Male   Middle Class     162.764238  32.200216   28  15347.639592\n",
              "       Poor             152.885715  49.833680   11  18893.986144\n",
              "       Rich             106.400547  34.913499   14  15887.789038"
            ]
          },
          "metadata": {
            "tags": []
          },
          "execution_count": 79
        }
      ]
    },
    {
      "cell_type": "code",
      "metadata": {
        "id": "TFGd09v85xLX",
        "colab_type": "code",
        "colab": {
          "base_uri": "https://localhost:8080/",
          "height": 136
        },
        "outputId": "5cb584c9-aedb-4331-97b3-efc8e6c585ac"
      },
      "source": [
        "double_group.nth(82) #si en algunos grupos no hay tantos registros..."
      ],
      "execution_count": 80,
      "outputs": [
        {
          "output_type": "execute_result",
          "data": {
            "text/html": [
              "<div>\n",
              "<style scoped>\n",
              "    .dataframe tbody tr th:only-of-type {\n",
              "        vertical-align: middle;\n",
              "    }\n",
              "\n",
              "    .dataframe tbody tr th {\n",
              "        vertical-align: top;\n",
              "    }\n",
              "\n",
              "    .dataframe thead th {\n",
              "        text-align: right;\n",
              "    }\n",
              "</style>\n",
              "<table border=\"1\" class=\"dataframe\">\n",
              "  <thead>\n",
              "    <tr style=\"text-align: right;\">\n",
              "      <th></th>\n",
              "      <th></th>\n",
              "      <th>Height</th>\n",
              "      <th>Weight</th>\n",
              "      <th>Age</th>\n",
              "      <th>Income</th>\n",
              "    </tr>\n",
              "    <tr>\n",
              "      <th>Gender</th>\n",
              "      <th>Economic Status</th>\n",
              "      <th></th>\n",
              "      <th></th>\n",
              "      <th></th>\n",
              "      <th></th>\n",
              "    </tr>\n",
              "  </thead>\n",
              "  <tbody>\n",
              "    <tr>\n",
              "      <th rowspan=\"2\" valign=\"top\">Female</th>\n",
              "      <th>Poor</th>\n",
              "      <td>158.702540</td>\n",
              "      <td>57.520553</td>\n",
              "      <td>18</td>\n",
              "      <td>20535.527319</td>\n",
              "    </tr>\n",
              "    <tr>\n",
              "      <th>Rich</th>\n",
              "      <td>169.148269</td>\n",
              "      <td>66.438429</td>\n",
              "      <td>47</td>\n",
              "      <td>18666.438068</td>\n",
              "    </tr>\n",
              "  </tbody>\n",
              "</table>\n",
              "</div>"
            ],
            "text/plain": [
              "                            Height     Weight  Age        Income\n",
              "Gender Economic Status                                          \n",
              "Female Poor             158.702540  57.520553   18  20535.527319\n",
              "       Rich             169.148269  66.438429   47  18666.438068"
            ]
          },
          "metadata": {
            "tags": []
          },
          "execution_count": 80
        }
      ]
    },
    {
      "cell_type": "code",
      "metadata": {
        "id": "3VAOF6-u5_FL",
        "colab_type": "code",
        "colab": {
          "base_uri": "https://localhost:8080/",
          "height": 195
        },
        "outputId": "8c6508be-c72b-457b-e16e-c13dcffedf4b"
      },
      "source": [
        "data_sorted = data.sort_values(['Age', 'Income'])\n",
        "data_sorted.head()"
      ],
      "execution_count": 81,
      "outputs": [
        {
          "output_type": "execute_result",
          "data": {
            "text/html": [
              "<div>\n",
              "<style scoped>\n",
              "    .dataframe tbody tr th:only-of-type {\n",
              "        vertical-align: middle;\n",
              "    }\n",
              "\n",
              "    .dataframe tbody tr th {\n",
              "        vertical-align: top;\n",
              "    }\n",
              "\n",
              "    .dataframe thead th {\n",
              "        text-align: right;\n",
              "    }\n",
              "</style>\n",
              "<table border=\"1\" class=\"dataframe\">\n",
              "  <thead>\n",
              "    <tr style=\"text-align: right;\">\n",
              "      <th></th>\n",
              "      <th>Gender</th>\n",
              "      <th>Economic Status</th>\n",
              "      <th>Height</th>\n",
              "      <th>Weight</th>\n",
              "      <th>Age</th>\n",
              "      <th>Income</th>\n",
              "    </tr>\n",
              "  </thead>\n",
              "  <tbody>\n",
              "    <tr>\n",
              "      <th>97</th>\n",
              "      <td>Female</td>\n",
              "      <td>Middle Class</td>\n",
              "      <td>133.990122</td>\n",
              "      <td>24.409980</td>\n",
              "      <td>-7</td>\n",
              "      <td>19918.180060</td>\n",
              "    </tr>\n",
              "    <tr>\n",
              "      <th>47</th>\n",
              "      <td>Male</td>\n",
              "      <td>Poor</td>\n",
              "      <td>188.321992</td>\n",
              "      <td>68.084362</td>\n",
              "      <td>-2</td>\n",
              "      <td>22842.403092</td>\n",
              "    </tr>\n",
              "    <tr>\n",
              "      <th>48</th>\n",
              "      <td>Female</td>\n",
              "      <td>Rich</td>\n",
              "      <td>176.359820</td>\n",
              "      <td>86.599089</td>\n",
              "      <td>0</td>\n",
              "      <td>16868.364476</td>\n",
              "    </tr>\n",
              "    <tr>\n",
              "      <th>34</th>\n",
              "      <td>Male</td>\n",
              "      <td>Rich</td>\n",
              "      <td>135.425326</td>\n",
              "      <td>84.846234</td>\n",
              "      <td>0</td>\n",
              "      <td>17335.577769</td>\n",
              "    </tr>\n",
              "    <tr>\n",
              "      <th>379</th>\n",
              "      <td>Male</td>\n",
              "      <td>Poor</td>\n",
              "      <td>168.959479</td>\n",
              "      <td>67.061896</td>\n",
              "      <td>1</td>\n",
              "      <td>14590.040939</td>\n",
              "    </tr>\n",
              "  </tbody>\n",
              "</table>\n",
              "</div>"
            ],
            "text/plain": [
              "     Gender Economic Status      Height     Weight  Age        Income\n",
              "97   Female    Middle Class  133.990122  24.409980   -7  19918.180060\n",
              "47     Male            Poor  188.321992  68.084362   -2  22842.403092\n",
              "48   Female            Rich  176.359820  86.599089    0  16868.364476\n",
              "34     Male            Rich  135.425326  84.846234    0  17335.577769\n",
              "379    Male            Poor  168.959479  67.061896    1  14590.040939"
            ]
          },
          "metadata": {
            "tags": []
          },
          "execution_count": 81
        }
      ]
    },
    {
      "cell_type": "code",
      "metadata": {
        "id": "q5AWtR626X86",
        "colab_type": "code",
        "colab": {
          "base_uri": "https://localhost:8080/",
          "height": 106
        },
        "outputId": "1b1aacad-ad88-4a28-f72f-9d2ec2b0b551"
      },
      "source": [
        "age_grouped = data_sorted.groupby('Gender')\n",
        "age_grouped.head(1)"
      ],
      "execution_count": 82,
      "outputs": [
        {
          "output_type": "execute_result",
          "data": {
            "text/html": [
              "<div>\n",
              "<style scoped>\n",
              "    .dataframe tbody tr th:only-of-type {\n",
              "        vertical-align: middle;\n",
              "    }\n",
              "\n",
              "    .dataframe tbody tr th {\n",
              "        vertical-align: top;\n",
              "    }\n",
              "\n",
              "    .dataframe thead th {\n",
              "        text-align: right;\n",
              "    }\n",
              "</style>\n",
              "<table border=\"1\" class=\"dataframe\">\n",
              "  <thead>\n",
              "    <tr style=\"text-align: right;\">\n",
              "      <th></th>\n",
              "      <th>Gender</th>\n",
              "      <th>Economic Status</th>\n",
              "      <th>Height</th>\n",
              "      <th>Weight</th>\n",
              "      <th>Age</th>\n",
              "      <th>Income</th>\n",
              "    </tr>\n",
              "  </thead>\n",
              "  <tbody>\n",
              "    <tr>\n",
              "      <th>97</th>\n",
              "      <td>Female</td>\n",
              "      <td>Middle Class</td>\n",
              "      <td>133.990122</td>\n",
              "      <td>24.409980</td>\n",
              "      <td>-7</td>\n",
              "      <td>19918.180060</td>\n",
              "    </tr>\n",
              "    <tr>\n",
              "      <th>47</th>\n",
              "      <td>Male</td>\n",
              "      <td>Poor</td>\n",
              "      <td>188.321992</td>\n",
              "      <td>68.084362</td>\n",
              "      <td>-2</td>\n",
              "      <td>22842.403092</td>\n",
              "    </tr>\n",
              "  </tbody>\n",
              "</table>\n",
              "</div>"
            ],
            "text/plain": [
              "    Gender Economic Status      Height     Weight  Age        Income\n",
              "97  Female    Middle Class  133.990122  24.409980   -7  19918.180060\n",
              "47    Male            Poor  188.321992  68.084362   -2  22842.403092"
            ]
          },
          "metadata": {
            "tags": []
          },
          "execution_count": 82
        }
      ]
    },
    {
      "cell_type": "code",
      "metadata": {
        "id": "3Pd-tdtF6oww",
        "colab_type": "code",
        "colab": {
          "base_uri": "https://localhost:8080/",
          "height": 106
        },
        "outputId": "d6decab2-9492-4659-d59a-169b6a569c9c"
      },
      "source": [
        "age_grouped.tail(1)"
      ],
      "execution_count": 83,
      "outputs": [
        {
          "output_type": "execute_result",
          "data": {
            "text/html": [
              "<div>\n",
              "<style scoped>\n",
              "    .dataframe tbody tr th:only-of-type {\n",
              "        vertical-align: middle;\n",
              "    }\n",
              "\n",
              "    .dataframe tbody tr th {\n",
              "        vertical-align: top;\n",
              "    }\n",
              "\n",
              "    .dataframe thead th {\n",
              "        text-align: right;\n",
              "    }\n",
              "</style>\n",
              "<table border=\"1\" class=\"dataframe\">\n",
              "  <thead>\n",
              "    <tr style=\"text-align: right;\">\n",
              "      <th></th>\n",
              "      <th>Gender</th>\n",
              "      <th>Economic Status</th>\n",
              "      <th>Height</th>\n",
              "      <th>Weight</th>\n",
              "      <th>Age</th>\n",
              "      <th>Income</th>\n",
              "    </tr>\n",
              "  </thead>\n",
              "  <tbody>\n",
              "    <tr>\n",
              "      <th>387</th>\n",
              "      <td>Female</td>\n",
              "      <td>Poor</td>\n",
              "      <td>133.923413</td>\n",
              "      <td>64.008988</td>\n",
              "      <td>61</td>\n",
              "      <td>18479.998784</td>\n",
              "    </tr>\n",
              "    <tr>\n",
              "      <th>68</th>\n",
              "      <td>Male</td>\n",
              "      <td>Middle Class</td>\n",
              "      <td>156.228580</td>\n",
              "      <td>67.963513</td>\n",
              "      <td>65</td>\n",
              "      <td>22810.027660</td>\n",
              "    </tr>\n",
              "  </tbody>\n",
              "</table>\n",
              "</div>"
            ],
            "text/plain": [
              "     Gender Economic Status      Height     Weight  Age        Income\n",
              "387  Female            Poor  133.923413  64.008988   61  18479.998784\n",
              "68     Male    Middle Class  156.228580  67.963513   65  22810.027660"
            ]
          },
          "metadata": {
            "tags": []
          },
          "execution_count": 83
        }
      ]
    },
    {
      "cell_type": "code",
      "metadata": {
        "id": "HrGHTTLV8szR",
        "colab_type": "code",
        "colab": {}
      },
      "source": [
        "#from sklearn.model_selection import train_test_split en lugar de from sklearn.cross_validation import train_test_split\n",
        "\n",
        "# es necesario usar .astype(int) al representar el vector de variables booleanas "
      ],
      "execution_count": 84,
      "outputs": []
    },
    {
      "cell_type": "markdown",
      "metadata": {
        "id": "ja3U9TKVOd-w",
        "colab_type": "text"
      },
      "source": [
        "# CONJUNTO DE ENTRENAMIENTO Y CONJUNTO DE TESTING"
      ]
    },
    {
      "cell_type": "code",
      "metadata": {
        "id": "eKoeSs4BOh9w",
        "colab_type": "code",
        "colab": {
          "base_uri": "https://localhost:8080/",
          "height": 34
        },
        "outputId": "b276fe59-2491-497e-a171-aed7df7a6254"
      },
      "source": [
        "import pandas as pd\n",
        "import numpy as np\n",
        "import matplotlib.pyplot as plt\n",
        "\n",
        "url = 'https://raw.githubusercontent.com/javilledo/python-ml-course/master/datasets/customer-churn-model/Customer%20Churn%20Model.txt'\n",
        "data = pd.read_csv(url)\n",
        "\n",
        "len(data)"
      ],
      "execution_count": 93,
      "outputs": [
        {
          "output_type": "execute_result",
          "data": {
            "text/plain": [
              "3333"
            ]
          },
          "metadata": {
            "tags": []
          },
          "execution_count": 93
        }
      ]
    },
    {
      "cell_type": "markdown",
      "metadata": {
        "id": "o8yOGIZePImA",
        "colab_type": "text"
      },
      "source": [
        "## Dividir usando la distribución normal"
      ]
    },
    {
      "cell_type": "code",
      "metadata": {
        "id": "en9sVWbnPLAv",
        "colab_type": "code",
        "colab": {
          "base_uri": "https://localhost:8080/",
          "height": 349
        },
        "outputId": "14b9e401-2522-42b0-d597-2bc6f3604c58"
      },
      "source": [
        "a = np.random.randn(len(data))\n",
        "plt.hist(a)"
      ],
      "execution_count": 92,
      "outputs": [
        {
          "output_type": "execute_result",
          "data": {
            "text/plain": [
              "(array([  3.,  27., 138., 457., 900., 979., 607., 181.,  37.,   4.]),\n",
              " array([-3.99932183, -3.22588264, -2.45244346, -1.67900428, -0.90556509,\n",
              "        -0.13212591,  0.64131327,  1.41475246,  2.18819164,  2.96163082,\n",
              "         3.73507001]),\n",
              " <a list of 10 Patch objects>)"
            ]
          },
          "metadata": {
            "tags": []
          },
          "execution_count": 92
        },
        {
          "output_type": "display_data",
          "data": {
            "image/png": "[encoded data removed]",
            "text/plain": [
              "<Figure size 432x288 with 1 Axes>"
            ]
          },
          "metadata": {
            "tags": [],
            "needs_background": "light"
          }
        }
      ]
    },
    {
      "cell_type": "code",
      "metadata": {
        "id": "P1ysgxjvPdvn",
        "colab_type": "code",
        "colab": {
          "base_uri": "https://localhost:8080/",
          "height": 34
        },
        "outputId": "fce35e49-cc9f-453f-f63c-7c232830a0c5"
      },
      "source": [
        "check = (a < 0.80) # configura un array con True si se cumple la condición\n",
        "print(check.sum() / len(a)) # comprobamos que es el 80% de los datos\n"
      ],
      "execution_count": 113,
      "outputs": [
        {
          "output_type": "stream",
          "text": [
            "0.7983798379837984\n"
          ],
          "name": "stdout"
        }
      ]
    },
    {
      "cell_type": "code",
      "metadata": {
        "id": "tDWTXYs_Qilf",
        "colab_type": "code",
        "colab": {
          "base_uri": "https://localhost:8080/",
          "height": 50
        },
        "outputId": "4e7af679-ced0-46d8-e586-6f02aef19650"
      },
      "source": [
        "training = data[check] #en training los del True (80%)\n",
        "testing = data[~check] #en Testing los del False (20%)\n",
        "print(len(testing) / len(data))\n",
        "print(len(training) / len(data))"
      ],
      "execution_count": 112,
      "outputs": [
        {
          "output_type": "stream",
          "text": [
            "0.21782178217821782\n",
            "0.7821782178217822\n"
          ],
          "name": "stdout"
        }
      ]
    },
    {
      "cell_type": "markdown",
      "metadata": {
        "id": "8V5T__s_R3Cz",
        "colab_type": "text"
      },
      "source": [
        "## Con la librería sklearn"
      ]
    },
    {
      "cell_type": "code",
      "metadata": {
        "id": "RPITrvfiR8Us",
        "colab_type": "code",
        "colab": {
          "base_uri": "https://localhost:8080/",
          "height": 34
        },
        "outputId": "cf689b2e-1217-4f4d-b13c-e8b1609f21cf"
      },
      "source": [
        "from sklearn.model_selection import train_test_split\n",
        "\n",
        "train, test = train_test_split(data, test_size = 0.2)\n",
        "len(train) / len(data)"
      ],
      "execution_count": 116,
      "outputs": [
        {
          "output_type": "execute_result",
          "data": {
            "text/plain": [
              "0.7998799879987999"
            ]
          },
          "metadata": {
            "tags": []
          },
          "execution_count": 116
        }
      ]
    },
    {
      "cell_type": "markdown",
      "metadata": {
        "id": "qdx6TuVASgzu",
        "colab_type": "text"
      },
      "source": [
        "## Usando una función de shuffle"
      ]
    },
    {
      "cell_type": "code",
      "metadata": {
        "id": "4gZIp8Z3S_fx",
        "colab_type": "code",
        "colab": {
          "base_uri": "https://localhost:8080/",
          "height": 34
        },
        "outputId": "27453f00-9e5c-4e13-e342-34c232f17101"
      },
      "source": [
        "import numpy as np\n",
        "import sklearn\n",
        "\n",
        "data = sklearn.utils.shuffle(data)\n",
        "\n",
        "cut_id = int(0.80 * len(data))\n",
        "\n",
        "train_data = data[:cut_id]\n",
        "test_data = data[(cut_id+1):]"
      ],
      "execution_count": 134,
      "outputs": [
        {
          "output_type": "execute_result",
          "data": {
            "text/plain": [
              "0.1998199819981998"
            ]
          },
          "metadata": {
            "tags": []
          },
          "execution_count": 134
        }
      ]
    }
  ]
}
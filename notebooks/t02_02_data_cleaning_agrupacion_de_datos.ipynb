{
  "nbformat": 4,
  "nbformat_minor": 0,
  "metadata": {
    "colab": {
      "name": "t02-02-data-cleaning-agrupacion_de_datos.ipynb",
      "provenance": [],
      "collapsed_sections": [],
      "authorship_tag": "ABX9TyPIfQvLmM4RfXnTCLpy0q/z",
      "include_colab_link": true
    },
    "kernelspec": {
      "name": "python3",
      "display_name": "Python 3"
    }
  },
  "cells": [
    {
      "cell_type": "markdown",
      "metadata": {
        "id": "view-in-github",
        "colab_type": "text"
      },
      "source": [
        "<a href=\"https://colab.research.google.com/github/javilledo/machine-learning/blob/master/notebooks/t02_02_data_cleaning_agrupacion_de_datos.ipynb\" target=\"_parent\"><img src=\"https://colab.research.google.com/assets/colab-badge.svg\" alt=\"Open In Colab\"/></a>"
      ]
    },
    {
      "cell_type": "markdown",
      "metadata": {
        "id": "Fkos3ErOGAlM",
        "colab_type": "text"
      },
      "source": [
        "# AGREGACIÓN DE DATOS POR CATEGORÍA"
      ]
    },
    {
      "cell_type": "code",
      "metadata": {
        "id": "GcOqAri0GQvq",
        "colab_type": "code",
        "colab": {}
      },
      "source": [
        "import numpy as np\n",
        "import pandas as pd"
      ],
      "execution_count": 1,
      "outputs": []
    },
    {
      "cell_type": "code",
      "metadata": {
        "id": "bzE3nLZHGWdK",
        "colab_type": "code",
        "colab": {}
      },
      "source": [
        "gender = ['Male', 'Female']\n",
        "economic_status = ['Poor', 'Middle Class', 'Rich']"
      ],
      "execution_count": 15,
      "outputs": []
    },
    {
      "cell_type": "code",
      "metadata": {
        "id": "HX6yZIZFGh8L",
        "colab_type": "code",
        "colab": {}
      },
      "source": [
        "n = 500\n",
        "\n",
        "gender_data = []\n",
        "economic_status_data = []\n",
        "\n",
        "for i in range(0,n):\n",
        "  gender_data.append(np.random.choice(gender))\n",
        "  economic_status_data.append(np.random.choice(economic_status))"
      ],
      "execution_count": 16,
      "outputs": []
    },
    {
      "cell_type": "code",
      "metadata": {
        "id": "5hDXU0QBG9Ti",
        "colab_type": "code",
        "colab": {
          "base_uri": "https://localhost:8080/",
          "height": 168
        },
        "outputId": "5ea61abb-2974-4204-b7f4-63a249bbcf98"
      },
      "source": [
        "gender_data[1:10]"
      ],
      "execution_count": 12,
      "outputs": [
        {
          "output_type": "execute_result",
          "data": {
            "text/plain": [
              "['Male',\n",
              " 'Female',\n",
              " 'Female',\n",
              " 'Female',\n",
              " 'Male',\n",
              " 'Male',\n",
              " 'Female',\n",
              " 'Male',\n",
              " 'Female']"
            ]
          },
          "metadata": {
            "tags": []
          },
          "execution_count": 12
        }
      ]
    },
    {
      "cell_type": "code",
      "metadata": {
        "id": "STMI2j9eHEEz",
        "colab_type": "code",
        "colab": {
          "base_uri": "https://localhost:8080/",
          "height": 168
        },
        "outputId": "59183fcd-5d79-4d99-e5bd-ca109491ca78"
      },
      "source": [
        "economic_status_data[1:10]"
      ],
      "execution_count": 18,
      "outputs": [
        {
          "output_type": "execute_result",
          "data": {
            "text/plain": [
              "['Poor',\n",
              " 'Rich',\n",
              " 'Poor',\n",
              " 'Middle Class',\n",
              " 'Middle Class',\n",
              " 'Poor',\n",
              " 'Rich',\n",
              " 'Rich',\n",
              " 'Rich']"
            ]
          },
          "metadata": {
            "tags": []
          },
          "execution_count": 18
        }
      ]
    },
    {
      "cell_type": "code",
      "metadata": {
        "id": "aZin5J72HK7j",
        "colab_type": "code",
        "colab": {}
      },
      "source": [
        "# N(m,s) = m + s * N(0,1)\n",
        "height_data = 160 + 30 * np.random.randn(n)\n",
        "weight_data = 65 + 25 * np.random.randn(n)\n",
        "age_data = 30 + 12 * np.random.randn(n)\n",
        "income_data = 18000 + 3500 * np.random.randn(n)"
      ],
      "execution_count": 22,
      "outputs": []
    },
    {
      "cell_type": "code",
      "metadata": {
        "id": "1qupQvBCHzfq",
        "colab_type": "code",
        "colab": {
          "base_uri": "https://localhost:8080/",
          "height": 195
        },
        "outputId": "5124a05a-bc08-467d-8edd-b3bb8f8ace5d"
      },
      "source": [
        "data = pd.DataFrame(\n",
        "    {\n",
        "        'Gender': gender_data,\n",
        "        'Economic Status': economic_status_data,\n",
        "        'Height': height_data,\n",
        "        'Weight': weight_data,\n",
        "        'Age': age_data,\n",
        "        'Income': income_data      \n",
        "    }\n",
        ")\n",
        "data.head()"
      ],
      "execution_count": 23,
      "outputs": [
        {
          "output_type": "execute_result",
          "data": {
            "text/html": [
              "<div>\n",
              "<style scoped>\n",
              "    .dataframe tbody tr th:only-of-type {\n",
              "        vertical-align: middle;\n",
              "    }\n",
              "\n",
              "    .dataframe tbody tr th {\n",
              "        vertical-align: top;\n",
              "    }\n",
              "\n",
              "    .dataframe thead th {\n",
              "        text-align: right;\n",
              "    }\n",
              "</style>\n",
              "<table border=\"1\" class=\"dataframe\">\n",
              "  <thead>\n",
              "    <tr style=\"text-align: right;\">\n",
              "      <th></th>\n",
              "      <th>Gender</th>\n",
              "      <th>Economic Status</th>\n",
              "      <th>Height</th>\n",
              "      <th>Weight</th>\n",
              "      <th>Age</th>\n",
              "      <th>Income</th>\n",
              "    </tr>\n",
              "  </thead>\n",
              "  <tbody>\n",
              "    <tr>\n",
              "      <th>0</th>\n",
              "      <td>Female</td>\n",
              "      <td>Rich</td>\n",
              "      <td>198.548692</td>\n",
              "      <td>46.490290</td>\n",
              "      <td>48.524958</td>\n",
              "      <td>18819.451318</td>\n",
              "    </tr>\n",
              "    <tr>\n",
              "      <th>1</th>\n",
              "      <td>Female</td>\n",
              "      <td>Poor</td>\n",
              "      <td>224.158464</td>\n",
              "      <td>69.609020</td>\n",
              "      <td>29.878947</td>\n",
              "      <td>21913.819247</td>\n",
              "    </tr>\n",
              "    <tr>\n",
              "      <th>2</th>\n",
              "      <td>Female</td>\n",
              "      <td>Rich</td>\n",
              "      <td>192.079356</td>\n",
              "      <td>46.564588</td>\n",
              "      <td>21.135322</td>\n",
              "      <td>15167.714374</td>\n",
              "    </tr>\n",
              "    <tr>\n",
              "      <th>3</th>\n",
              "      <td>Male</td>\n",
              "      <td>Poor</td>\n",
              "      <td>139.625756</td>\n",
              "      <td>47.526876</td>\n",
              "      <td>41.235206</td>\n",
              "      <td>17112.665822</td>\n",
              "    </tr>\n",
              "    <tr>\n",
              "      <th>4</th>\n",
              "      <td>Male</td>\n",
              "      <td>Middle Class</td>\n",
              "      <td>242.785594</td>\n",
              "      <td>72.312758</td>\n",
              "      <td>34.381577</td>\n",
              "      <td>14182.630333</td>\n",
              "    </tr>\n",
              "  </tbody>\n",
              "</table>\n",
              "</div>"
            ],
            "text/plain": [
              "   Gender Economic Status      Height     Weight        Age        Income\n",
              "0  Female            Rich  198.548692  46.490290  48.524958  18819.451318\n",
              "1  Female            Poor  224.158464  69.609020  29.878947  21913.819247\n",
              "2  Female            Rich  192.079356  46.564588  21.135322  15167.714374\n",
              "3    Male            Poor  139.625756  47.526876  41.235206  17112.665822\n",
              "4    Male    Middle Class  242.785594  72.312758  34.381577  14182.630333"
            ]
          },
          "metadata": {
            "tags": []
          },
          "execution_count": 23
        }
      ]
    },
    {
      "cell_type": "code",
      "metadata": {
        "id": "bps7eywRI_W8",
        "colab_type": "code",
        "colab": {
          "base_uri": "https://localhost:8080/",
          "height": 195
        },
        "outputId": "0d6b6c4c-e9fd-4dc0-9360-582d44f35b0d"
      },
      "source": [
        "data['Age'] = [int(x) for x in data['Age']] #transformamos edad a entero\n",
        "data.head()"
      ],
      "execution_count": 28,
      "outputs": [
        {
          "output_type": "execute_result",
          "data": {
            "text/html": [
              "<div>\n",
              "<style scoped>\n",
              "    .dataframe tbody tr th:only-of-type {\n",
              "        vertical-align: middle;\n",
              "    }\n",
              "\n",
              "    .dataframe tbody tr th {\n",
              "        vertical-align: top;\n",
              "    }\n",
              "\n",
              "    .dataframe thead th {\n",
              "        text-align: right;\n",
              "    }\n",
              "</style>\n",
              "<table border=\"1\" class=\"dataframe\">\n",
              "  <thead>\n",
              "    <tr style=\"text-align: right;\">\n",
              "      <th></th>\n",
              "      <th>Gender</th>\n",
              "      <th>Economic Status</th>\n",
              "      <th>Height</th>\n",
              "      <th>Weight</th>\n",
              "      <th>Age</th>\n",
              "      <th>Income</th>\n",
              "    </tr>\n",
              "  </thead>\n",
              "  <tbody>\n",
              "    <tr>\n",
              "      <th>0</th>\n",
              "      <td>Female</td>\n",
              "      <td>Rich</td>\n",
              "      <td>198.548692</td>\n",
              "      <td>46.490290</td>\n",
              "      <td>48</td>\n",
              "      <td>18819.451318</td>\n",
              "    </tr>\n",
              "    <tr>\n",
              "      <th>1</th>\n",
              "      <td>Female</td>\n",
              "      <td>Poor</td>\n",
              "      <td>224.158464</td>\n",
              "      <td>69.609020</td>\n",
              "      <td>29</td>\n",
              "      <td>21913.819247</td>\n",
              "    </tr>\n",
              "    <tr>\n",
              "      <th>2</th>\n",
              "      <td>Female</td>\n",
              "      <td>Rich</td>\n",
              "      <td>192.079356</td>\n",
              "      <td>46.564588</td>\n",
              "      <td>21</td>\n",
              "      <td>15167.714374</td>\n",
              "    </tr>\n",
              "    <tr>\n",
              "      <th>3</th>\n",
              "      <td>Male</td>\n",
              "      <td>Poor</td>\n",
              "      <td>139.625756</td>\n",
              "      <td>47.526876</td>\n",
              "      <td>41</td>\n",
              "      <td>17112.665822</td>\n",
              "    </tr>\n",
              "    <tr>\n",
              "      <th>4</th>\n",
              "      <td>Male</td>\n",
              "      <td>Middle Class</td>\n",
              "      <td>242.785594</td>\n",
              "      <td>72.312758</td>\n",
              "      <td>34</td>\n",
              "      <td>14182.630333</td>\n",
              "    </tr>\n",
              "  </tbody>\n",
              "</table>\n",
              "</div>"
            ],
            "text/plain": [
              "   Gender Economic Status      Height     Weight  Age        Income\n",
              "0  Female            Rich  198.548692  46.490290   48  18819.451318\n",
              "1  Female            Poor  224.158464  69.609020   29  21913.819247\n",
              "2  Female            Rich  192.079356  46.564588   21  15167.714374\n",
              "3    Male            Poor  139.625756  47.526876   41  17112.665822\n",
              "4    Male    Middle Class  242.785594  72.312758   34  14182.630333"
            ]
          },
          "metadata": {
            "tags": []
          },
          "execution_count": 28
        }
      ]
    },
    {
      "cell_type": "markdown",
      "metadata": {
        "id": "ran_RLK0KzIL",
        "colab_type": "text"
      },
      "source": [
        "# AGRUPACIÓN DE DATOS"
      ]
    },
    {
      "cell_type": "code",
      "metadata": {
        "id": "zSAt17X0KtJ9",
        "colab_type": "code",
        "colab": {}
      },
      "source": [
        "grouped_gender = data.groupby('Gender')"
      ],
      "execution_count": 30,
      "outputs": []
    },
    {
      "cell_type": "code",
      "metadata": {
        "id": "ljjy5NzhLO_e",
        "colab_type": "code",
        "colab": {
          "base_uri": "https://localhost:8080/",
          "height": 151
        },
        "outputId": "3498fa32-f53c-44a5-b20d-6c35f96dfabb"
      },
      "source": [
        "grouped_gender.groups"
      ],
      "execution_count": 35,
      "outputs": [
        {
          "output_type": "execute_result",
          "data": {
            "text/plain": [
              "{'Female': Int64Index([  0,   1,   2,   6,   7,  10,  11,  12,  13,  15,\n",
              "             ...\n",
              "             480, 481, 485, 487, 490, 494, 495, 497, 498, 499],\n",
              "            dtype='int64', length=259),\n",
              " 'Male': Int64Index([  3,   4,   5,   8,   9,  14,  19,  22,  25,  31,\n",
              "             ...\n",
              "             482, 483, 484, 486, 488, 489, 491, 492, 493, 496],\n",
              "            dtype='int64', length=241)}"
            ]
          },
          "metadata": {
            "tags": []
          },
          "execution_count": 35
        }
      ]
    },
    {
      "cell_type": "code",
      "metadata": {
        "id": "4fpoLy__LsLO",
        "colab_type": "code",
        "colab": {
          "base_uri": "https://localhost:8080/",
          "height": 84
        },
        "outputId": "bd349ca7-6054-405f-9666-f3ca9d61cb8e"
      },
      "source": [
        "grouped_gender.groups['Female']"
      ],
      "execution_count": 36,
      "outputs": [
        {
          "output_type": "execute_result",
          "data": {
            "text/plain": [
              "Int64Index([  0,   1,   2,   6,   7,  10,  11,  12,  13,  15,\n",
              "            ...\n",
              "            480, 481, 485, 487, 490, 494, 495, 497, 498, 499],\n",
              "           dtype='int64', length=259)"
            ]
          },
          "metadata": {
            "tags": []
          },
          "execution_count": 36
        }
      ]
    },
    {
      "cell_type": "code",
      "metadata": {
        "id": "08vlBsiiLzqb",
        "colab_type": "code",
        "colab": {
          "base_uri": "https://localhost:8080/",
          "height": 353
        },
        "outputId": "b9cee499-ff8c-49eb-ac45-9dc59263211d"
      },
      "source": [
        "grouped_gender.groups['Female'].values"
      ],
      "execution_count": 37,
      "outputs": [
        {
          "output_type": "execute_result",
          "data": {
            "text/plain": [
              "array([  0,   1,   2,   6,   7,  10,  11,  12,  13,  15,  16,  17,  18,\n",
              "        20,  21,  23,  24,  26,  27,  28,  29,  30,  33,  34,  38,  40,\n",
              "        41,  42,  43,  44,  46,  49,  58,  59,  62,  64,  65,  66,  67,\n",
              "        68,  70,  72,  73,  77,  83,  84,  88,  89,  90,  91,  95,  99,\n",
              "       101, 102, 103, 105, 108, 111, 115, 118, 119, 120, 121, 123, 124,\n",
              "       125, 129, 131, 133, 138, 140, 141, 145, 147, 148, 150, 154, 155,\n",
              "       158, 162, 163, 166, 167, 168, 170, 171, 172, 173, 174, 177, 178,\n",
              "       182, 183, 184, 186, 192, 194, 195, 196, 198, 200, 201, 202, 204,\n",
              "       207, 208, 211, 212, 214, 215, 216, 219, 227, 228, 232, 233, 237,\n",
              "       238, 239, 242, 243, 246, 247, 248, 249, 250, 251, 255, 257, 261,\n",
              "       265, 266, 267, 269, 272, 273, 274, 275, 279, 280, 281, 283, 285,\n",
              "       288, 293, 296, 300, 301, 302, 304, 305, 307, 308, 309, 310, 314,\n",
              "       316, 318, 321, 324, 325, 328, 330, 331, 333, 335, 336, 337, 340,\n",
              "       341, 343, 345, 346, 349, 350, 353, 354, 356, 357, 359, 360, 361,\n",
              "       363, 364, 365, 367, 368, 372, 373, 374, 375, 378, 380, 381, 384,\n",
              "       386, 388, 391, 392, 393, 397, 398, 400, 403, 405, 408, 411, 413,\n",
              "       414, 415, 416, 417, 419, 420, 421, 422, 426, 428, 429, 431, 432,\n",
              "       433, 434, 435, 436, 439, 441, 443, 445, 446, 449, 450, 451, 454,\n",
              "       458, 459, 465, 466, 467, 468, 469, 470, 472, 474, 475, 476, 477,\n",
              "       478, 479, 480, 481, 485, 487, 490, 494, 495, 497, 498, 499])"
            ]
          },
          "metadata": {
            "tags": []
          },
          "execution_count": 37
        }
      ]
    },
    {
      "cell_type": "code",
      "metadata": {
        "id": "0IIxINn9L3P0",
        "colab_type": "code",
        "colab": {
          "base_uri": "https://localhost:8080/",
          "height": 521
        },
        "outputId": "117e7f76-68d4-4cd2-a509-583479de5fd5"
      },
      "source": [
        "for names, groups in grouped_gender:\n",
        "  print(names)\n",
        "  print(groups)"
      ],
      "execution_count": 38,
      "outputs": [
        {
          "output_type": "stream",
          "text": [
            "Female\n",
            "     Gender Economic Status      Height      Weight  Age        Income\n",
            "0    Female            Rich  198.548692   46.490290   48  18819.451318\n",
            "1    Female            Poor  224.158464   69.609020   29  21913.819247\n",
            "2    Female            Rich  192.079356   46.564588   21  15167.714374\n",
            "6    Female            Poor  204.651296   70.274756   48  14901.359352\n",
            "7    Female            Rich  136.325104   49.979898   26  14754.779316\n",
            "..      ...             ...         ...         ...  ...           ...\n",
            "494  Female    Middle Class  160.141805   91.923758   20  18116.548250\n",
            "495  Female            Poor  147.208619   83.574194   35  14119.727622\n",
            "497  Female    Middle Class  171.319370  101.754877   18  13363.487724\n",
            "498  Female            Poor  181.911592   22.781463   13  16481.634007\n",
            "499  Female    Middle Class  203.067105   75.328700   22  14254.529833\n",
            "\n",
            "[259 rows x 6 columns]\n",
            "Male\n",
            "    Gender Economic Status      Height      Weight  Age        Income\n",
            "3     Male            Poor  139.625756   47.526876   41  17112.665822\n",
            "4     Male    Middle Class  242.785594   72.312758   34  14182.630333\n",
            "5     Male    Middle Class  212.357599   61.578724   52  15700.149195\n",
            "8     Male            Rich  151.220185   66.356876   20  13931.548978\n",
            "9     Male            Rich  152.739256   72.220529   27  22820.255523\n",
            "..     ...             ...         ...         ...  ...           ...\n",
            "489   Male            Rich  189.571604   67.333214   38  17575.390642\n",
            "491   Male            Rich  162.240592   96.059169   23  17531.218119\n",
            "492   Male            Rich  199.114712   62.540256   24  14669.617357\n",
            "493   Male            Rich  135.571083  126.362858   42  21270.658356\n",
            "496   Male            Poor  123.539934   87.016845   64  18377.231521\n",
            "\n",
            "[241 rows x 6 columns]\n"
          ],
          "name": "stdout"
        }
      ]
    },
    {
      "cell_type": "code",
      "metadata": {
        "id": "QzJeGZrNMJr2",
        "colab_type": "code",
        "colab": {
          "base_uri": "https://localhost:8080/",
          "height": 402
        },
        "outputId": "252a898d-12f4-4976-eba2-6b12b22b4407"
      },
      "source": [
        "grouped_gender.get_group('Female')"
      ],
      "execution_count": 39,
      "outputs": [
        {
          "output_type": "execute_result",
          "data": {
            "text/html": [
              "<div>\n",
              "<style scoped>\n",
              "    .dataframe tbody tr th:only-of-type {\n",
              "        vertical-align: middle;\n",
              "    }\n",
              "\n",
              "    .dataframe tbody tr th {\n",
              "        vertical-align: top;\n",
              "    }\n",
              "\n",
              "    .dataframe thead th {\n",
              "        text-align: right;\n",
              "    }\n",
              "</style>\n",
              "<table border=\"1\" class=\"dataframe\">\n",
              "  <thead>\n",
              "    <tr style=\"text-align: right;\">\n",
              "      <th></th>\n",
              "      <th>Gender</th>\n",
              "      <th>Economic Status</th>\n",
              "      <th>Height</th>\n",
              "      <th>Weight</th>\n",
              "      <th>Age</th>\n",
              "      <th>Income</th>\n",
              "    </tr>\n",
              "  </thead>\n",
              "  <tbody>\n",
              "    <tr>\n",
              "      <th>0</th>\n",
              "      <td>Female</td>\n",
              "      <td>Rich</td>\n",
              "      <td>198.548692</td>\n",
              "      <td>46.490290</td>\n",
              "      <td>48</td>\n",
              "      <td>18819.451318</td>\n",
              "    </tr>\n",
              "    <tr>\n",
              "      <th>1</th>\n",
              "      <td>Female</td>\n",
              "      <td>Poor</td>\n",
              "      <td>224.158464</td>\n",
              "      <td>69.609020</td>\n",
              "      <td>29</td>\n",
              "      <td>21913.819247</td>\n",
              "    </tr>\n",
              "    <tr>\n",
              "      <th>2</th>\n",
              "      <td>Female</td>\n",
              "      <td>Rich</td>\n",
              "      <td>192.079356</td>\n",
              "      <td>46.564588</td>\n",
              "      <td>21</td>\n",
              "      <td>15167.714374</td>\n",
              "    </tr>\n",
              "    <tr>\n",
              "      <th>6</th>\n",
              "      <td>Female</td>\n",
              "      <td>Poor</td>\n",
              "      <td>204.651296</td>\n",
              "      <td>70.274756</td>\n",
              "      <td>48</td>\n",
              "      <td>14901.359352</td>\n",
              "    </tr>\n",
              "    <tr>\n",
              "      <th>7</th>\n",
              "      <td>Female</td>\n",
              "      <td>Rich</td>\n",
              "      <td>136.325104</td>\n",
              "      <td>49.979898</td>\n",
              "      <td>26</td>\n",
              "      <td>14754.779316</td>\n",
              "    </tr>\n",
              "    <tr>\n",
              "      <th>...</th>\n",
              "      <td>...</td>\n",
              "      <td>...</td>\n",
              "      <td>...</td>\n",
              "      <td>...</td>\n",
              "      <td>...</td>\n",
              "      <td>...</td>\n",
              "    </tr>\n",
              "    <tr>\n",
              "      <th>494</th>\n",
              "      <td>Female</td>\n",
              "      <td>Middle Class</td>\n",
              "      <td>160.141805</td>\n",
              "      <td>91.923758</td>\n",
              "      <td>20</td>\n",
              "      <td>18116.548250</td>\n",
              "    </tr>\n",
              "    <tr>\n",
              "      <th>495</th>\n",
              "      <td>Female</td>\n",
              "      <td>Poor</td>\n",
              "      <td>147.208619</td>\n",
              "      <td>83.574194</td>\n",
              "      <td>35</td>\n",
              "      <td>14119.727622</td>\n",
              "    </tr>\n",
              "    <tr>\n",
              "      <th>497</th>\n",
              "      <td>Female</td>\n",
              "      <td>Middle Class</td>\n",
              "      <td>171.319370</td>\n",
              "      <td>101.754877</td>\n",
              "      <td>18</td>\n",
              "      <td>13363.487724</td>\n",
              "    </tr>\n",
              "    <tr>\n",
              "      <th>498</th>\n",
              "      <td>Female</td>\n",
              "      <td>Poor</td>\n",
              "      <td>181.911592</td>\n",
              "      <td>22.781463</td>\n",
              "      <td>13</td>\n",
              "      <td>16481.634007</td>\n",
              "    </tr>\n",
              "    <tr>\n",
              "      <th>499</th>\n",
              "      <td>Female</td>\n",
              "      <td>Middle Class</td>\n",
              "      <td>203.067105</td>\n",
              "      <td>75.328700</td>\n",
              "      <td>22</td>\n",
              "      <td>14254.529833</td>\n",
              "    </tr>\n",
              "  </tbody>\n",
              "</table>\n",
              "<p>259 rows × 6 columns</p>\n",
              "</div>"
            ],
            "text/plain": [
              "     Gender Economic Status      Height      Weight  Age        Income\n",
              "0    Female            Rich  198.548692   46.490290   48  18819.451318\n",
              "1    Female            Poor  224.158464   69.609020   29  21913.819247\n",
              "2    Female            Rich  192.079356   46.564588   21  15167.714374\n",
              "6    Female            Poor  204.651296   70.274756   48  14901.359352\n",
              "7    Female            Rich  136.325104   49.979898   26  14754.779316\n",
              "..      ...             ...         ...         ...  ...           ...\n",
              "494  Female    Middle Class  160.141805   91.923758   20  18116.548250\n",
              "495  Female            Poor  147.208619   83.574194   35  14119.727622\n",
              "497  Female    Middle Class  171.319370  101.754877   18  13363.487724\n",
              "498  Female            Poor  181.911592   22.781463   13  16481.634007\n",
              "499  Female    Middle Class  203.067105   75.328700   22  14254.529833\n",
              "\n",
              "[259 rows x 6 columns]"
            ]
          },
          "metadata": {
            "tags": []
          },
          "execution_count": 39
        }
      ]
    },
    {
      "cell_type": "code",
      "metadata": {
        "id": "KICd6Ds4MR6W",
        "colab_type": "code",
        "colab": {
          "base_uri": "https://localhost:8080/",
          "height": 402
        },
        "outputId": "4ed72dbc-3f8f-4ad1-d857-36ba32940ede"
      },
      "source": [
        "data.groupby('Economic Status').get_group('Poor')"
      ],
      "execution_count": 40,
      "outputs": [
        {
          "output_type": "execute_result",
          "data": {
            "text/html": [
              "<div>\n",
              "<style scoped>\n",
              "    .dataframe tbody tr th:only-of-type {\n",
              "        vertical-align: middle;\n",
              "    }\n",
              "\n",
              "    .dataframe tbody tr th {\n",
              "        vertical-align: top;\n",
              "    }\n",
              "\n",
              "    .dataframe thead th {\n",
              "        text-align: right;\n",
              "    }\n",
              "</style>\n",
              "<table border=\"1\" class=\"dataframe\">\n",
              "  <thead>\n",
              "    <tr style=\"text-align: right;\">\n",
              "      <th></th>\n",
              "      <th>Gender</th>\n",
              "      <th>Economic Status</th>\n",
              "      <th>Height</th>\n",
              "      <th>Weight</th>\n",
              "      <th>Age</th>\n",
              "      <th>Income</th>\n",
              "    </tr>\n",
              "  </thead>\n",
              "  <tbody>\n",
              "    <tr>\n",
              "      <th>1</th>\n",
              "      <td>Female</td>\n",
              "      <td>Poor</td>\n",
              "      <td>224.158464</td>\n",
              "      <td>69.609020</td>\n",
              "      <td>29</td>\n",
              "      <td>21913.819247</td>\n",
              "    </tr>\n",
              "    <tr>\n",
              "      <th>3</th>\n",
              "      <td>Male</td>\n",
              "      <td>Poor</td>\n",
              "      <td>139.625756</td>\n",
              "      <td>47.526876</td>\n",
              "      <td>41</td>\n",
              "      <td>17112.665822</td>\n",
              "    </tr>\n",
              "    <tr>\n",
              "      <th>6</th>\n",
              "      <td>Female</td>\n",
              "      <td>Poor</td>\n",
              "      <td>204.651296</td>\n",
              "      <td>70.274756</td>\n",
              "      <td>48</td>\n",
              "      <td>14901.359352</td>\n",
              "    </tr>\n",
              "    <tr>\n",
              "      <th>10</th>\n",
              "      <td>Female</td>\n",
              "      <td>Poor</td>\n",
              "      <td>175.420380</td>\n",
              "      <td>65.081808</td>\n",
              "      <td>19</td>\n",
              "      <td>18288.314936</td>\n",
              "    </tr>\n",
              "    <tr>\n",
              "      <th>15</th>\n",
              "      <td>Female</td>\n",
              "      <td>Poor</td>\n",
              "      <td>159.001900</td>\n",
              "      <td>29.689332</td>\n",
              "      <td>42</td>\n",
              "      <td>23092.499437</td>\n",
              "    </tr>\n",
              "    <tr>\n",
              "      <th>...</th>\n",
              "      <td>...</td>\n",
              "      <td>...</td>\n",
              "      <td>...</td>\n",
              "      <td>...</td>\n",
              "      <td>...</td>\n",
              "      <td>...</td>\n",
              "    </tr>\n",
              "    <tr>\n",
              "      <th>482</th>\n",
              "      <td>Male</td>\n",
              "      <td>Poor</td>\n",
              "      <td>189.903690</td>\n",
              "      <td>45.634899</td>\n",
              "      <td>25</td>\n",
              "      <td>23264.833944</td>\n",
              "    </tr>\n",
              "    <tr>\n",
              "      <th>484</th>\n",
              "      <td>Male</td>\n",
              "      <td>Poor</td>\n",
              "      <td>159.300407</td>\n",
              "      <td>77.675019</td>\n",
              "      <td>25</td>\n",
              "      <td>19133.911558</td>\n",
              "    </tr>\n",
              "    <tr>\n",
              "      <th>495</th>\n",
              "      <td>Female</td>\n",
              "      <td>Poor</td>\n",
              "      <td>147.208619</td>\n",
              "      <td>83.574194</td>\n",
              "      <td>35</td>\n",
              "      <td>14119.727622</td>\n",
              "    </tr>\n",
              "    <tr>\n",
              "      <th>496</th>\n",
              "      <td>Male</td>\n",
              "      <td>Poor</td>\n",
              "      <td>123.539934</td>\n",
              "      <td>87.016845</td>\n",
              "      <td>64</td>\n",
              "      <td>18377.231521</td>\n",
              "    </tr>\n",
              "    <tr>\n",
              "      <th>498</th>\n",
              "      <td>Female</td>\n",
              "      <td>Poor</td>\n",
              "      <td>181.911592</td>\n",
              "      <td>22.781463</td>\n",
              "      <td>13</td>\n",
              "      <td>16481.634007</td>\n",
              "    </tr>\n",
              "  </tbody>\n",
              "</table>\n",
              "<p>161 rows × 6 columns</p>\n",
              "</div>"
            ],
            "text/plain": [
              "     Gender Economic Status      Height     Weight  Age        Income\n",
              "1    Female            Poor  224.158464  69.609020   29  21913.819247\n",
              "3      Male            Poor  139.625756  47.526876   41  17112.665822\n",
              "6    Female            Poor  204.651296  70.274756   48  14901.359352\n",
              "10   Female            Poor  175.420380  65.081808   19  18288.314936\n",
              "15   Female            Poor  159.001900  29.689332   42  23092.499437\n",
              "..      ...             ...         ...        ...  ...           ...\n",
              "482    Male            Poor  189.903690  45.634899   25  23264.833944\n",
              "484    Male            Poor  159.300407  77.675019   25  19133.911558\n",
              "495  Female            Poor  147.208619  83.574194   35  14119.727622\n",
              "496    Male            Poor  123.539934  87.016845   64  18377.231521\n",
              "498  Female            Poor  181.911592  22.781463   13  16481.634007\n",
              "\n",
              "[161 rows x 6 columns]"
            ]
          },
          "metadata": {
            "tags": []
          },
          "execution_count": 40
        }
      ]
    },
    {
      "cell_type": "code",
      "metadata": {
        "id": "wOiAv0j_MZrb",
        "colab_type": "code",
        "colab": {}
      },
      "source": [
        "double_group = data.groupby(['Gender', 'Economic Status'])"
      ],
      "execution_count": 41,
      "outputs": []
    },
    {
      "cell_type": "code",
      "metadata": {
        "id": "gHyZGhAmMnoN",
        "colab_type": "code",
        "colab": {
          "base_uri": "https://localhost:8080/",
          "height": 34
        },
        "outputId": "cb3f19b4-2964-41e6-b7e3-58e61fdad60c"
      },
      "source": [
        "len(double_group)"
      ],
      "execution_count": 42,
      "outputs": [
        {
          "output_type": "execute_result",
          "data": {
            "text/plain": [
              "6"
            ]
          },
          "metadata": {
            "tags": []
          },
          "execution_count": 42
        }
      ]
    },
    {
      "cell_type": "code",
      "metadata": {
        "id": "ofLKo6VEMrVv",
        "colab_type": "code",
        "colab": {
          "base_uri": "https://localhost:8080/",
          "height": 1000
        },
        "outputId": "2908f101-608b-400b-838a-4a5a24a97bdd"
      },
      "source": [
        "for names, groups in double_group:\n",
        "  print(names)\n",
        "  print(groups)"
      ],
      "execution_count": 43,
      "outputs": [
        {
          "output_type": "stream",
          "text": [
            "('Female', 'Middle Class')\n",
            "     Gender Economic Status      Height      Weight  Age        Income\n",
            "13   Female    Middle Class  191.726445   42.164465   22  19713.818444\n",
            "26   Female    Middle Class  190.610956   75.798465   18  21705.137631\n",
            "29   Female    Middle Class  185.335032   42.889602   26  14407.702488\n",
            "34   Female    Middle Class  184.523258  106.390881   26  14289.217826\n",
            "41   Female    Middle Class  170.300684   96.188690    5  20697.787818\n",
            "..      ...             ...         ...         ...  ...           ...\n",
            "485  Female    Middle Class  125.523790   42.412917   33  20118.465360\n",
            "490  Female    Middle Class  242.269762   88.456508   29  13300.729401\n",
            "494  Female    Middle Class  160.141805   91.923758   20  18116.548250\n",
            "497  Female    Middle Class  171.319370  101.754877   18  13363.487724\n",
            "499  Female    Middle Class  203.067105   75.328700   22  14254.529833\n",
            "\n",
            "[89 rows x 6 columns]\n",
            "('Female', 'Poor')\n",
            "     Gender Economic Status      Height     Weight  Age        Income\n",
            "1    Female            Poor  224.158464  69.609020   29  21913.819247\n",
            "6    Female            Poor  204.651296  70.274756   48  14901.359352\n",
            "10   Female            Poor  175.420380  65.081808   19  18288.314936\n",
            "15   Female            Poor  159.001900  29.689332   42  23092.499437\n",
            "16   Female            Poor  111.322730  90.616988   38  13816.470173\n",
            "..      ...             ...         ...        ...  ...           ...\n",
            "477  Female            Poor  130.743525  77.383391   54  21691.265814\n",
            "478  Female            Poor  144.163286  80.514828   18  17800.279919\n",
            "480  Female            Poor  147.081039  73.791823   62  18038.150724\n",
            "495  Female            Poor  147.208619  83.574194   35  14119.727622\n",
            "498  Female            Poor  181.911592  22.781463   13  16481.634007\n",
            "\n",
            "[91 rows x 6 columns]\n",
            "('Female', 'Rich')\n",
            "     Gender Economic Status      Height     Weight  Age        Income\n",
            "0    Female            Rich  198.548692  46.490290   48  18819.451318\n",
            "2    Female            Rich  192.079356  46.564588   21  15167.714374\n",
            "7    Female            Rich  136.325104  49.979898   26  14754.779316\n",
            "11   Female            Rich  174.036891  63.107930   41  23725.653175\n",
            "12   Female            Rich  139.824140  77.477363   36  26828.191953\n",
            "..      ...             ...         ...        ...  ...           ...\n",
            "472  Female            Rich  150.533388  77.970932   35  20406.420796\n",
            "475  Female            Rich  150.717489  70.414545   33  17761.171044\n",
            "476  Female            Rich  183.783733  95.865257   36  16994.425091\n",
            "479  Female            Rich  136.390303  80.395418   32  15081.717897\n",
            "487  Female            Rich  145.317681  43.436630   45  18546.357129\n",
            "\n",
            "[79 rows x 6 columns]\n",
            "('Male', 'Middle Class')\n",
            "    Gender Economic Status      Height      Weight  Age        Income\n",
            "4     Male    Middle Class  242.785594   72.312758   34  14182.630333\n",
            "5     Male    Middle Class  212.357599   61.578724   52  15700.149195\n",
            "25    Male    Middle Class  109.588389   67.071566    7  17518.234045\n",
            "48    Male    Middle Class  157.312513   81.446512   29  17940.261659\n",
            "53    Male    Middle Class  140.738483   73.009979   15  12096.052527\n",
            "..     ...             ...         ...         ...  ...           ...\n",
            "456   Male    Middle Class  140.609874   76.115080   29  18021.226988\n",
            "457   Male    Middle Class  148.754073   80.389371   40  10724.131544\n",
            "461   Male    Middle Class  173.942165   59.414908   29  18071.541336\n",
            "463   Male    Middle Class  165.616340   56.414562   36  17249.016491\n",
            "483   Male    Middle Class  200.557498  117.994753   28  19481.042797\n",
            "\n",
            "[72 rows x 6 columns]\n",
            "('Male', 'Poor')\n",
            "    Gender Economic Status      Height     Weight  Age        Income\n",
            "3     Male            Poor  139.625756  47.526876   41  17112.665822\n",
            "19    Male            Poor  186.539258  43.446507   28  14834.132815\n",
            "35    Male            Poor  119.923919  63.556844   29  13779.474031\n",
            "45    Male            Poor  151.723886  68.825863   27  17535.365846\n",
            "47    Male            Poor  138.952437  82.620894   29  15575.059241\n",
            "..     ...             ...         ...        ...  ...           ...\n",
            "471   Male            Poor  181.090527  93.725084   30  16396.051607\n",
            "473   Male            Poor  102.930720  53.583708   48  19491.500364\n",
            "482   Male            Poor  189.903690  45.634899   25  23264.833944\n",
            "484   Male            Poor  159.300407  77.675019   25  19133.911558\n",
            "496   Male            Poor  123.539934  87.016845   64  18377.231521\n",
            "\n",
            "[70 rows x 6 columns]\n",
            "('Male', 'Rich')\n",
            "    Gender Economic Status      Height      Weight  Age        Income\n",
            "8     Male            Rich  151.220185   66.356876   20  13931.548978\n",
            "9     Male            Rich  152.739256   72.220529   27  22820.255523\n",
            "14    Male            Rich  153.718918   40.191533   25  23827.651748\n",
            "22    Male            Rich  175.060984   47.375599   20  15468.724540\n",
            "31    Male            Rich  174.260018   48.191294   34  21167.060361\n",
            "..     ...             ...         ...         ...  ...           ...\n",
            "488   Male            Rich  169.898753   74.610390   40  16886.585144\n",
            "489   Male            Rich  189.571604   67.333214   38  17575.390642\n",
            "491   Male            Rich  162.240592   96.059169   23  17531.218119\n",
            "492   Male            Rich  199.114712   62.540256   24  14669.617357\n",
            "493   Male            Rich  135.571083  126.362858   42  21270.658356\n",
            "\n",
            "[99 rows x 6 columns]\n"
          ],
          "name": "stdout"
        }
      ]
    },
    {
      "cell_type": "code",
      "metadata": {
        "id": "IVT2HvgSMy78",
        "colab_type": "code",
        "colab": {
          "base_uri": "https://localhost:8080/",
          "height": 402
        },
        "outputId": "d5e9c707-28d4-4940-a167-e1911a960282"
      },
      "source": [
        "double_group.get_group(('Male', 'Rich'))"
      ],
      "execution_count": 46,
      "outputs": [
        {
          "output_type": "execute_result",
          "data": {
            "text/html": [
              "<div>\n",
              "<style scoped>\n",
              "    .dataframe tbody tr th:only-of-type {\n",
              "        vertical-align: middle;\n",
              "    }\n",
              "\n",
              "    .dataframe tbody tr th {\n",
              "        vertical-align: top;\n",
              "    }\n",
              "\n",
              "    .dataframe thead th {\n",
              "        text-align: right;\n",
              "    }\n",
              "</style>\n",
              "<table border=\"1\" class=\"dataframe\">\n",
              "  <thead>\n",
              "    <tr style=\"text-align: right;\">\n",
              "      <th></th>\n",
              "      <th>Gender</th>\n",
              "      <th>Economic Status</th>\n",
              "      <th>Height</th>\n",
              "      <th>Weight</th>\n",
              "      <th>Age</th>\n",
              "      <th>Income</th>\n",
              "    </tr>\n",
              "  </thead>\n",
              "  <tbody>\n",
              "    <tr>\n",
              "      <th>8</th>\n",
              "      <td>Male</td>\n",
              "      <td>Rich</td>\n",
              "      <td>151.220185</td>\n",
              "      <td>66.356876</td>\n",
              "      <td>20</td>\n",
              "      <td>13931.548978</td>\n",
              "    </tr>\n",
              "    <tr>\n",
              "      <th>9</th>\n",
              "      <td>Male</td>\n",
              "      <td>Rich</td>\n",
              "      <td>152.739256</td>\n",
              "      <td>72.220529</td>\n",
              "      <td>27</td>\n",
              "      <td>22820.255523</td>\n",
              "    </tr>\n",
              "    <tr>\n",
              "      <th>14</th>\n",
              "      <td>Male</td>\n",
              "      <td>Rich</td>\n",
              "      <td>153.718918</td>\n",
              "      <td>40.191533</td>\n",
              "      <td>25</td>\n",
              "      <td>23827.651748</td>\n",
              "    </tr>\n",
              "    <tr>\n",
              "      <th>22</th>\n",
              "      <td>Male</td>\n",
              "      <td>Rich</td>\n",
              "      <td>175.060984</td>\n",
              "      <td>47.375599</td>\n",
              "      <td>20</td>\n",
              "      <td>15468.724540</td>\n",
              "    </tr>\n",
              "    <tr>\n",
              "      <th>31</th>\n",
              "      <td>Male</td>\n",
              "      <td>Rich</td>\n",
              "      <td>174.260018</td>\n",
              "      <td>48.191294</td>\n",
              "      <td>34</td>\n",
              "      <td>21167.060361</td>\n",
              "    </tr>\n",
              "    <tr>\n",
              "      <th>...</th>\n",
              "      <td>...</td>\n",
              "      <td>...</td>\n",
              "      <td>...</td>\n",
              "      <td>...</td>\n",
              "      <td>...</td>\n",
              "      <td>...</td>\n",
              "    </tr>\n",
              "    <tr>\n",
              "      <th>488</th>\n",
              "      <td>Male</td>\n",
              "      <td>Rich</td>\n",
              "      <td>169.898753</td>\n",
              "      <td>74.610390</td>\n",
              "      <td>40</td>\n",
              "      <td>16886.585144</td>\n",
              "    </tr>\n",
              "    <tr>\n",
              "      <th>489</th>\n",
              "      <td>Male</td>\n",
              "      <td>Rich</td>\n",
              "      <td>189.571604</td>\n",
              "      <td>67.333214</td>\n",
              "      <td>38</td>\n",
              "      <td>17575.390642</td>\n",
              "    </tr>\n",
              "    <tr>\n",
              "      <th>491</th>\n",
              "      <td>Male</td>\n",
              "      <td>Rich</td>\n",
              "      <td>162.240592</td>\n",
              "      <td>96.059169</td>\n",
              "      <td>23</td>\n",
              "      <td>17531.218119</td>\n",
              "    </tr>\n",
              "    <tr>\n",
              "      <th>492</th>\n",
              "      <td>Male</td>\n",
              "      <td>Rich</td>\n",
              "      <td>199.114712</td>\n",
              "      <td>62.540256</td>\n",
              "      <td>24</td>\n",
              "      <td>14669.617357</td>\n",
              "    </tr>\n",
              "    <tr>\n",
              "      <th>493</th>\n",
              "      <td>Male</td>\n",
              "      <td>Rich</td>\n",
              "      <td>135.571083</td>\n",
              "      <td>126.362858</td>\n",
              "      <td>42</td>\n",
              "      <td>21270.658356</td>\n",
              "    </tr>\n",
              "  </tbody>\n",
              "</table>\n",
              "<p>99 rows × 6 columns</p>\n",
              "</div>"
            ],
            "text/plain": [
              "    Gender Economic Status      Height      Weight  Age        Income\n",
              "8     Male            Rich  151.220185   66.356876   20  13931.548978\n",
              "9     Male            Rich  152.739256   72.220529   27  22820.255523\n",
              "14    Male            Rich  153.718918   40.191533   25  23827.651748\n",
              "22    Male            Rich  175.060984   47.375599   20  15468.724540\n",
              "31    Male            Rich  174.260018   48.191294   34  21167.060361\n",
              "..     ...             ...         ...         ...  ...           ...\n",
              "488   Male            Rich  169.898753   74.610390   40  16886.585144\n",
              "489   Male            Rich  189.571604   67.333214   38  17575.390642\n",
              "491   Male            Rich  162.240592   96.059169   23  17531.218119\n",
              "492   Male            Rich  199.114712   62.540256   24  14669.617357\n",
              "493   Male            Rich  135.571083  126.362858   42  21270.658356\n",
              "\n",
              "[99 rows x 6 columns]"
            ]
          },
          "metadata": {
            "tags": []
          },
          "execution_count": 46
        }
      ]
    }
  ]
}
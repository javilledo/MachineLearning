{
  "nbformat": 4,
  "nbformat_minor": 0,
  "metadata": {
    "colab": {
      "name": "t02-02-data-cleaning-agrupacion_de_datos.ipynb",
      "provenance": [],
      "collapsed_sections": [],
      "authorship_tag": "ABX9TyP2idAcqPJDPpvgsQpQ7DBw",
      "include_colab_link": true
    },
    "kernelspec": {
      "name": "python3",
      "display_name": "Python 3"
    }
  },
  "cells": [
    {
      "cell_type": "markdown",
      "metadata": {
        "id": "view-in-github",
        "colab_type": "text"
      },
      "source": [
        "<a href=\"https://colab.research.google.com/github/javilledo/machine-learning/blob/master/notebooks/t02_02_data_cleaning_agrupacion_de_datos.ipynb\" target=\"_parent\"><img src=\"https://colab.research.google.com/assets/colab-badge.svg\" alt=\"Open In Colab\"/></a>"
      ]
    },
    {
      "cell_type": "markdown",
      "metadata": {
        "id": "Fkos3ErOGAlM",
        "colab_type": "text"
      },
      "source": [
        "# AGREGACIÓN DE DATOS POR CATEGORÍA"
      ]
    },
    {
      "cell_type": "code",
      "metadata": {
        "id": "GcOqAri0GQvq",
        "colab_type": "code",
        "colab": {}
      },
      "source": [
        "import numpy as np\n",
        "import pandas as pd"
      ],
      "execution_count": 1,
      "outputs": []
    },
    {
      "cell_type": "code",
      "metadata": {
        "id": "bzE3nLZHGWdK",
        "colab_type": "code",
        "colab": {}
      },
      "source": [
        "gender = ['Male', 'Female']\n",
        "economic_status = ['Poor', 'Middle Class', 'Rich']"
      ],
      "execution_count": 15,
      "outputs": []
    },
    {
      "cell_type": "code",
      "metadata": {
        "id": "HX6yZIZFGh8L",
        "colab_type": "code",
        "colab": {}
      },
      "source": [
        "n = 500\n",
        "\n",
        "gender_data = []\n",
        "economic_status_data = []\n",
        "\n",
        "for i in range(0,n):\n",
        "  gender_data.append(np.random.choice(gender))\n",
        "  economic_status_data.append(np.random.choice(economic_status))"
      ],
      "execution_count": 16,
      "outputs": []
    },
    {
      "cell_type": "code",
      "metadata": {
        "id": "5hDXU0QBG9Ti",
        "colab_type": "code",
        "colab": {
          "base_uri": "https://localhost:8080/",
          "height": 168
        },
        "outputId": "5ea61abb-2974-4204-b7f4-63a249bbcf98"
      },
      "source": [
        "gender_data[1:10]"
      ],
      "execution_count": 12,
      "outputs": [
        {
          "output_type": "execute_result",
          "data": {
            "text/plain": [
              "['Male',\n",
              " 'Female',\n",
              " 'Female',\n",
              " 'Female',\n",
              " 'Male',\n",
              " 'Male',\n",
              " 'Female',\n",
              " 'Male',\n",
              " 'Female']"
            ]
          },
          "metadata": {
            "tags": []
          },
          "execution_count": 12
        }
      ]
    },
    {
      "cell_type": "code",
      "metadata": {
        "id": "STMI2j9eHEEz",
        "colab_type": "code",
        "colab": {
          "base_uri": "https://localhost:8080/",
          "height": 168
        },
        "outputId": "59183fcd-5d79-4d99-e5bd-ca109491ca78"
      },
      "source": [
        "economic_status_data[1:10]"
      ],
      "execution_count": 18,
      "outputs": [
        {
          "output_type": "execute_result",
          "data": {
            "text/plain": [
              "['Poor',\n",
              " 'Rich',\n",
              " 'Poor',\n",
              " 'Middle Class',\n",
              " 'Middle Class',\n",
              " 'Poor',\n",
              " 'Rich',\n",
              " 'Rich',\n",
              " 'Rich']"
            ]
          },
          "metadata": {
            "tags": []
          },
          "execution_count": 18
        }
      ]
    },
    {
      "cell_type": "code",
      "metadata": {
        "id": "aZin5J72HK7j",
        "colab_type": "code",
        "colab": {}
      },
      "source": [
        "# N(m,s) = m + s * N(0,1)\n",
        "height_data = 160 + 30 * np.random.randn(n)\n",
        "weight_data = 65 + 25 * np.random.randn(n)\n",
        "age_data = 30 + 12 * np.random.randn(n)\n",
        "income_data = 18000 + 3500 * np.random.randn(n)"
      ],
      "execution_count": 22,
      "outputs": []
    },
    {
      "cell_type": "code",
      "metadata": {
        "id": "1qupQvBCHzfq",
        "colab_type": "code",
        "colab": {
          "base_uri": "https://localhost:8080/",
          "height": 195
        },
        "outputId": "5124a05a-bc08-467d-8edd-b3bb8f8ace5d"
      },
      "source": [
        "data = pd.DataFrame(\n",
        "    {\n",
        "        'Gender': gender_data,\n",
        "        'Economic Status': economic_status_data,\n",
        "        'Height': height_data,\n",
        "        'Weight': weight_data,\n",
        "        'Age': age_data,\n",
        "        'Income': income_data      \n",
        "    }\n",
        ")\n",
        "data.head()"
      ],
      "execution_count": 23,
      "outputs": [
        {
          "output_type": "execute_result",
          "data": {
            "text/html": [
              "<div>\n",
              "<style scoped>\n",
              "    .dataframe tbody tr th:only-of-type {\n",
              "        vertical-align: middle;\n",
              "    }\n",
              "\n",
              "    .dataframe tbody tr th {\n",
              "        vertical-align: top;\n",
              "    }\n",
              "\n",
              "    .dataframe thead th {\n",
              "        text-align: right;\n",
              "    }\n",
              "</style>\n",
              "<table border=\"1\" class=\"dataframe\">\n",
              "  <thead>\n",
              "    <tr style=\"text-align: right;\">\n",
              "      <th></th>\n",
              "      <th>Gender</th>\n",
              "      <th>Economic Status</th>\n",
              "      <th>Height</th>\n",
              "      <th>Weight</th>\n",
              "      <th>Age</th>\n",
              "      <th>Income</th>\n",
              "    </tr>\n",
              "  </thead>\n",
              "  <tbody>\n",
              "    <tr>\n",
              "      <th>0</th>\n",
              "      <td>Female</td>\n",
              "      <td>Rich</td>\n",
              "      <td>198.548692</td>\n",
              "      <td>46.490290</td>\n",
              "      <td>48.524958</td>\n",
              "      <td>18819.451318</td>\n",
              "    </tr>\n",
              "    <tr>\n",
              "      <th>1</th>\n",
              "      <td>Female</td>\n",
              "      <td>Poor</td>\n",
              "      <td>224.158464</td>\n",
              "      <td>69.609020</td>\n",
              "      <td>29.878947</td>\n",
              "      <td>21913.819247</td>\n",
              "    </tr>\n",
              "    <tr>\n",
              "      <th>2</th>\n",
              "      <td>Female</td>\n",
              "      <td>Rich</td>\n",
              "      <td>192.079356</td>\n",
              "      <td>46.564588</td>\n",
              "      <td>21.135322</td>\n",
              "      <td>15167.714374</td>\n",
              "    </tr>\n",
              "    <tr>\n",
              "      <th>3</th>\n",
              "      <td>Male</td>\n",
              "      <td>Poor</td>\n",
              "      <td>139.625756</td>\n",
              "      <td>47.526876</td>\n",
              "      <td>41.235206</td>\n",
              "      <td>17112.665822</td>\n",
              "    </tr>\n",
              "    <tr>\n",
              "      <th>4</th>\n",
              "      <td>Male</td>\n",
              "      <td>Middle Class</td>\n",
              "      <td>242.785594</td>\n",
              "      <td>72.312758</td>\n",
              "      <td>34.381577</td>\n",
              "      <td>14182.630333</td>\n",
              "    </tr>\n",
              "  </tbody>\n",
              "</table>\n",
              "</div>"
            ],
            "text/plain": [
              "   Gender Economic Status      Height     Weight        Age        Income\n",
              "0  Female            Rich  198.548692  46.490290  48.524958  18819.451318\n",
              "1  Female            Poor  224.158464  69.609020  29.878947  21913.819247\n",
              "2  Female            Rich  192.079356  46.564588  21.135322  15167.714374\n",
              "3    Male            Poor  139.625756  47.526876  41.235206  17112.665822\n",
              "4    Male    Middle Class  242.785594  72.312758  34.381577  14182.630333"
            ]
          },
          "metadata": {
            "tags": []
          },
          "execution_count": 23
        }
      ]
    },
    {
      "cell_type": "code",
      "metadata": {
        "id": "bps7eywRI_W8",
        "colab_type": "code",
        "colab": {
          "base_uri": "https://localhost:8080/",
          "height": 195
        },
        "outputId": "0d6b6c4c-e9fd-4dc0-9360-582d44f35b0d"
      },
      "source": [
        "data['Age'] = [int(x) for x in data['Age']] #transformamos edad a entero\n",
        "data.head()"
      ],
      "execution_count": 28,
      "outputs": [
        {
          "output_type": "execute_result",
          "data": {
            "text/html": [
              "<div>\n",
              "<style scoped>\n",
              "    .dataframe tbody tr th:only-of-type {\n",
              "        vertical-align: middle;\n",
              "    }\n",
              "\n",
              "    .dataframe tbody tr th {\n",
              "        vertical-align: top;\n",
              "    }\n",
              "\n",
              "    .dataframe thead th {\n",
              "        text-align: right;\n",
              "    }\n",
              "</style>\n",
              "<table border=\"1\" class=\"dataframe\">\n",
              "  <thead>\n",
              "    <tr style=\"text-align: right;\">\n",
              "      <th></th>\n",
              "      <th>Gender</th>\n",
              "      <th>Economic Status</th>\n",
              "      <th>Height</th>\n",
              "      <th>Weight</th>\n",
              "      <th>Age</th>\n",
              "      <th>Income</th>\n",
              "    </tr>\n",
              "  </thead>\n",
              "  <tbody>\n",
              "    <tr>\n",
              "      <th>0</th>\n",
              "      <td>Female</td>\n",
              "      <td>Rich</td>\n",
              "      <td>198.548692</td>\n",
              "      <td>46.490290</td>\n",
              "      <td>48</td>\n",
              "      <td>18819.451318</td>\n",
              "    </tr>\n",
              "    <tr>\n",
              "      <th>1</th>\n",
              "      <td>Female</td>\n",
              "      <td>Poor</td>\n",
              "      <td>224.158464</td>\n",
              "      <td>69.609020</td>\n",
              "      <td>29</td>\n",
              "      <td>21913.819247</td>\n",
              "    </tr>\n",
              "    <tr>\n",
              "      <th>2</th>\n",
              "      <td>Female</td>\n",
              "      <td>Rich</td>\n",
              "      <td>192.079356</td>\n",
              "      <td>46.564588</td>\n",
              "      <td>21</td>\n",
              "      <td>15167.714374</td>\n",
              "    </tr>\n",
              "    <tr>\n",
              "      <th>3</th>\n",
              "      <td>Male</td>\n",
              "      <td>Poor</td>\n",
              "      <td>139.625756</td>\n",
              "      <td>47.526876</td>\n",
              "      <td>41</td>\n",
              "      <td>17112.665822</td>\n",
              "    </tr>\n",
              "    <tr>\n",
              "      <th>4</th>\n",
              "      <td>Male</td>\n",
              "      <td>Middle Class</td>\n",
              "      <td>242.785594</td>\n",
              "      <td>72.312758</td>\n",
              "      <td>34</td>\n",
              "      <td>14182.630333</td>\n",
              "    </tr>\n",
              "  </tbody>\n",
              "</table>\n",
              "</div>"
            ],
            "text/plain": [
              "   Gender Economic Status      Height     Weight  Age        Income\n",
              "0  Female            Rich  198.548692  46.490290   48  18819.451318\n",
              "1  Female            Poor  224.158464  69.609020   29  21913.819247\n",
              "2  Female            Rich  192.079356  46.564588   21  15167.714374\n",
              "3    Male            Poor  139.625756  47.526876   41  17112.665822\n",
              "4    Male    Middle Class  242.785594  72.312758   34  14182.630333"
            ]
          },
          "metadata": {
            "tags": []
          },
          "execution_count": 28
        }
      ]
    }
  ]
}
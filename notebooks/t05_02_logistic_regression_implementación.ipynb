{
  "nbformat": 4,
  "nbformat_minor": 0,
  "metadata": {
    "colab": {
      "name": "t05-02-logistic-regression-implementación.ipynb",
      "provenance": [],
      "collapsed_sections": [],
      "authorship_tag": "ABX9TyPAtqaZqL8Ft5kGiborx7ra",
      "include_colab_link": true
    },
    "kernelspec": {
      "name": "python3",
      "display_name": "Python 3"
    }
  },
  "cells": [
    {
      "cell_type": "markdown",
      "metadata": {
        "id": "view-in-github",
        "colab_type": "text"
      },
      "source": [
        "<a href=\"https://colab.research.google.com/github/javilledo/machine-learning/blob/master/notebooks/t05_02_logistic_regression_implementaci%C3%B3n.ipynb\" target=\"_parent\"><img src=\"https://colab.research.google.com/assets/colab-badge.svg\" alt=\"Open In Colab\"/></a>"
      ]
    },
    {
      "cell_type": "markdown",
      "metadata": {
        "id": "8TBR71bJ7IE8",
        "colab_type": "text"
      },
      "source": [
        "#Implementación del método de la máxima verosimilitud para la regresión logística"
      ]
    },
    {
      "cell_type": "markdown",
      "metadata": {
        "id": "DWy-jpun7rhM",
        "colab_type": "text"
      },
      "source": [
        "###Definir la función de entorno \n",
        "\n",
        "$L(b)=\\prod_{i=1}^n P_i^{y_i} \\cdot (1-P_i)^{y_i}$"
      ]
    },
    {
      "cell_type": "code",
      "metadata": {
        "id": "lZCkDFzj7CM7",
        "colab_type": "code",
        "colab": {}
      },
      "source": [
        "def likelihold(y,pi):\n",
        "  import numpy as np\n",
        "  total_sum = 1\n",
        "  sum_in = list(range(1,len(y)+1))\n",
        "  for i in range(len(y)):\n",
        "    sum_in[i]=np.where(y[i]==1, pi[i], 1-pi[i])\n",
        "    total_sum = total_sum * sum_in[i]\n",
        "  return total_sum "
      ],
      "execution_count": 62,
      "outputs": []
    },
    {
      "cell_type": "markdown",
      "metadata": {
        "id": "0xKlIvQC_AQ8",
        "colab_type": "text"
      },
      "source": [
        "###Calcular las probabilidades para cada observación\n",
        "\n",
        "$P_i = P(x_i) = \\frac{1}{1+e^{-\\sum_{j=0}^k\\beta_j \\cdot x_{ij}}}$, donde $\\alpha = \\beta_0$\n"
      ]
    },
    {
      "cell_type": "code",
      "metadata": {
        "id": "HBsC-umR_15H",
        "colab_type": "code",
        "colab": {}
      },
      "source": [
        "def logitprobs(X,beta):\n",
        "  import numpy as np\n",
        "  n_rows = np.shape(X)[0]\n",
        "  n_cols = np.shape(X)[1]\n",
        "  pi = list(range(1, n_rows+1))\n",
        "  exponente = list(range(1, n_rows+1))\n",
        "  for i in range(n_rows):\n",
        "    exponente[i]= 0\n",
        "    for j in range(n_cols):\n",
        "      expon = X[i][j] * beta[j]\n",
        "      exponente[i] = expon + exponente[i]\n",
        "    with np.errstate(divide='ignore', invalid='ignore'):\n",
        "      pi[i] = 1/(1+np.exp(-exponente[i]))\n",
        "  return pi"
      ],
      "execution_count": 63,
      "outputs": []
    },
    {
      "cell_type": "markdown",
      "metadata": {
        "id": "6MU721TmB_st",
        "colab_type": "text"
      },
      "source": [
        "###Calcular la matriz diagonal $W$\n",
        "\n",
        "$W=diag(P_i \\cdot(1-P_i))_{i=1}^n$"
      ]
    },
    {
      "cell_type": "code",
      "metadata": {
        "id": "eYyGsIdfCRQK",
        "colab_type": "code",
        "colab": {}
      },
      "source": [
        "def findW(pi):\n",
        "  import numpy as np\n",
        "  n = len(pi)\n",
        "  W = np.zeros(n*n).reshape(n,n)\n",
        "  for i in range(n):\n",
        "    print(i)\n",
        "    W[i,i] = pi[i] * (1 - pi[i])\n",
        "    W[i,i].astype(float)\n",
        "  return W"
      ],
      "execution_count": 64,
      "outputs": []
    },
    {
      "cell_type": "markdown",
      "metadata": {
        "id": "KAQ_L4OoC7a9",
        "colab_type": "text"
      },
      "source": [
        "###Obtener la solución de la función logística\n",
        "\n",
        "$\\beta_{n+1} = \\beta_n - \\frac{f(\\beta_n)}{f'(\\beta_n)}$\n",
        "\n",
        "$f(\\beta) = X(Y-P)$\n",
        "\n",
        "$f'(\\beta) = XWX^T$"
      ]
    },
    {
      "cell_type": "code",
      "metadata": {
        "id": "UO6sOal_DTaJ",
        "colab_type": "code",
        "colab": {}
      },
      "source": [
        "def logistics(X, Y, limit):\n",
        "  import numpy as np\n",
        "  from numpy import linalg\n",
        "  n_rows = np.shape(X)[0]\n",
        "  bias = np.ones(n_rows).reshape(n_rows,1)\n",
        "  X_new = np.append(X,bias, axis=1)\n",
        "  n_cols = np.shape(X_new)[1]\n",
        "  beta = np.zeros(n_cols).reshape(n_cols,1)\n",
        "  root_dif = np.array(range(1,n_cols+1)).reshape(n_cols,1)\n",
        "  iter_i = 10000\n",
        "  while(iter_i >  limit):\n",
        "    print('iter_i: ' + str(iter_i) + \", limit: \" + str(limit))\n",
        "    pi = logitprobs(X_new, beta)\n",
        "    print('pi: ' + str(pi))\n",
        "    W = findW(pi)\n",
        "    print('W:' + str(W))\n",
        "    num = (np.transpose(np.matrix(X_new)) * np.matrix(Y - np.transpose(pi)).transpose())\n",
        "    den = (np.matrix(np.transpose(X_new)) * np.matrix(W) * np.matrix(X_new))\n",
        "    root_dif = np.array(linalg.inv(den) * num)\n",
        "    beta = beta + root_dif\n",
        "    print('beta: ' + str(beta))\n",
        "    iter_i = np.sum(root_dif * root_dif)\n",
        "    ll = likelihold(Y, pi)\n",
        "  return beta"
      ],
      "execution_count": 65,
      "outputs": []
    },
    {
      "cell_type": "markdown",
      "metadata": {
        "id": "OewKiCYFHeF7",
        "colab_type": "text"
      },
      "source": [
        "###Comprobación experimental"
      ]
    },
    {
      "cell_type": "code",
      "metadata": {
        "id": "O-QgQNamHgcm",
        "colab_type": "code",
        "colab": {}
      },
      "source": [
        "import numpy as np"
      ],
      "execution_count": 66,
      "outputs": []
    },
    {
      "cell_type": "code",
      "metadata": {
        "id": "QHr9FCPqHixC",
        "colab_type": "code",
        "colab": {
          "base_uri": "https://localhost:8080/",
          "height": 185
        },
        "outputId": "55d2bb18-5da8-41b4-8e8d-21e7e20652b5"
      },
      "source": [
        "X = np.array(range(10)).reshape(10,1)\n",
        "X"
      ],
      "execution_count": 67,
      "outputs": [
        {
          "output_type": "execute_result",
          "data": {
            "text/plain": [
              "array([[0],\n",
              "       [1],\n",
              "       [2],\n",
              "       [3],\n",
              "       [4],\n",
              "       [5],\n",
              "       [6],\n",
              "       [7],\n",
              "       [8],\n",
              "       [9]])"
            ]
          },
          "metadata": {
            "tags": []
          },
          "execution_count": 67
        }
      ]
    },
    {
      "cell_type": "code",
      "metadata": {
        "id": "Mcdmfj6_Htqi",
        "colab_type": "code",
        "colab": {
          "base_uri": "https://localhost:8080/",
          "height": 34
        },
        "outputId": "69a421f0-2d18-4ec7-85a8-975a1d906050"
      },
      "source": [
        "Y = [0,0,0,0,1,0,1,0,1,1]\n",
        "Y"
      ],
      "execution_count": 68,
      "outputs": [
        {
          "output_type": "execute_result",
          "data": {
            "text/plain": [
              "[0, 0, 0, 0, 1, 0, 1, 0, 1, 1]"
            ]
          },
          "metadata": {
            "tags": []
          },
          "execution_count": 68
        }
      ]
    },
    {
      "cell_type": "code",
      "metadata": {
        "id": "_XxNYeBIH9kS",
        "colab_type": "code",
        "colab": {
          "base_uri": "https://localhost:8080/",
          "height": 185
        },
        "outputId": "7d07dcbe-1f67-431c-95a3-41940c22c8e8"
      },
      "source": [
        "bias = np.ones(10).reshape(10,1)\n",
        "X_new = np.append(X,bias, axis = 1)\n",
        "X_new"
      ],
      "execution_count": 69,
      "outputs": [
        {
          "output_type": "execute_result",
          "data": {
            "text/plain": [
              "array([[0., 1.],\n",
              "       [1., 1.],\n",
              "       [2., 1.],\n",
              "       [3., 1.],\n",
              "       [4., 1.],\n",
              "       [5., 1.],\n",
              "       [6., 1.],\n",
              "       [7., 1.],\n",
              "       [8., 1.],\n",
              "       [9., 1.]])"
            ]
          },
          "metadata": {
            "tags": []
          },
          "execution_count": 69
        }
      ]
    },
    {
      "cell_type": "code",
      "metadata": {
        "id": "rIaV6t6TIQRT",
        "colab_type": "code",
        "colab": {
          "base_uri": "https://localhost:8080/",
          "height": 1000
        },
        "outputId": "0db3ebd7-5a46-4ab3-980c-effefcacfb04"
      },
      "source": [
        "a = logistics(X,Y,0.00001)\n",
        "a"
      ],
      "execution_count": 70,
      "outputs": [
        {
          "output_type": "stream",
          "text": [
            "iter_i: 10000, limit: 1e-05\n",
            "pi: [array([0.5]), array([0.5]), array([0.5]), array([0.5]), array([0.5]), array([0.5]), array([0.5]), array([0.5]), array([0.5]), array([0.5])]\n",
            "0\n",
            "1\n",
            "2\n",
            "3\n",
            "4\n",
            "5\n",
            "6\n",
            "7\n",
            "8\n",
            "9\n",
            "W:[[0.25 0.   0.   0.   0.   0.   0.   0.   0.   0.  ]\n",
            " [0.   0.25 0.   0.   0.   0.   0.   0.   0.   0.  ]\n",
            " [0.   0.   0.25 0.   0.   0.   0.   0.   0.   0.  ]\n",
            " [0.   0.   0.   0.25 0.   0.   0.   0.   0.   0.  ]\n",
            " [0.   0.   0.   0.   0.25 0.   0.   0.   0.   0.  ]\n",
            " [0.   0.   0.   0.   0.   0.25 0.   0.   0.   0.  ]\n",
            " [0.   0.   0.   0.   0.   0.   0.25 0.   0.   0.  ]\n",
            " [0.   0.   0.   0.   0.   0.   0.   0.25 0.   0.  ]\n",
            " [0.   0.   0.   0.   0.   0.   0.   0.   0.25 0.  ]\n",
            " [0.   0.   0.   0.   0.   0.   0.   0.   0.   0.25]]\n",
            "beta: [[ 0.43636364]\n",
            " [-2.36363636]]\n",
            "iter_i: 5.777190082644626, limit: 1e-05\n",
            "pi: [array([0.08598797]), array([0.12705276]), array([0.18378532]), array([0.2583532]), array([0.35019508]), array([0.45467026]), array([0.56329497]), array([0.66616913]), array([0.75533524]), array([0.82687453])]\n",
            "0\n",
            "1\n",
            "2\n",
            "3\n",
            "4\n",
            "5\n",
            "6\n",
            "7\n",
            "8\n",
            "9\n",
            "W:[[0.07859404 0.         0.         0.         0.         0.\n",
            "  0.         0.         0.         0.        ]\n",
            " [0.         0.11091035 0.         0.         0.         0.\n",
            "  0.         0.         0.         0.        ]\n",
            " [0.         0.         0.15000827 0.         0.         0.\n",
            "  0.         0.         0.         0.        ]\n",
            " [0.         0.         0.         0.19160683 0.         0.\n",
            "  0.         0.         0.         0.        ]\n",
            " [0.         0.         0.         0.         0.22755849 0.\n",
            "  0.         0.         0.         0.        ]\n",
            " [0.         0.         0.         0.         0.         0.24794521\n",
            "  0.         0.         0.         0.        ]\n",
            " [0.         0.         0.         0.         0.         0.\n",
            "  0.24599375 0.         0.         0.        ]\n",
            " [0.         0.         0.         0.         0.         0.\n",
            "  0.         0.22238782 0.         0.        ]\n",
            " [0.         0.         0.         0.         0.         0.\n",
            "  0.         0.         0.18480392 0.        ]\n",
            " [0.         0.         0.         0.         0.         0.\n",
            "  0.         0.         0.         0.14315304]]\n",
            "beta: [[ 0.60426056]\n",
            " [-3.34641372]]\n",
            "iter_i: 0.9940407075349107, limit: 1e-05\n",
            "pi: [array([0.0340128]), array([0.06053134]), array([0.10546805]), array([0.1774629]), array([0.28305225]), array([0.41943069]), array([0.56933774]), array([0.7075284]), array([0.81572841]), array([0.89011647])]\n",
            "0\n",
            "1\n",
            "2\n",
            "3\n",
            "4\n",
            "5\n",
            "6\n",
            "7\n",
            "8\n",
            "9\n",
            "W:[[0.03285593 0.         0.         0.         0.         0.\n",
            "  0.         0.         0.         0.        ]\n",
            " [0.         0.0568673  0.         0.         0.         0.\n",
            "  0.         0.         0.         0.        ]\n",
            " [0.         0.         0.09434454 0.         0.         0.\n",
            "  0.         0.         0.         0.        ]\n",
            " [0.         0.         0.         0.14596982 0.         0.\n",
            "  0.         0.         0.         0.        ]\n",
            " [0.         0.         0.         0.         0.20293367 0.\n",
            "  0.         0.         0.         0.        ]\n",
            " [0.         0.         0.         0.         0.         0.24350859\n",
            "  0.         0.         0.         0.        ]\n",
            " [0.         0.         0.         0.         0.         0.\n",
            "  0.24519228 0.         0.         0.        ]\n",
            " [0.         0.         0.         0.         0.         0.\n",
            "  0.         0.20693196 0.         0.        ]\n",
            " [0.         0.         0.         0.         0.         0.\n",
            "  0.         0.         0.15031557 0.        ]\n",
            " [0.         0.         0.         0.         0.         0.\n",
            "  0.         0.         0.         0.09780914]]\n",
            "beta: [[ 0.65761412]\n",
            " [-3.66759924]]\n",
            "iter_i: 0.10600674406802027, limit: 1e-05\n",
            "pi: [array([0.02490177]), array([0.04697681]), array([0.0868775]), array([0.15515129]), array([0.26170168]), array([0.40624059]), array([0.56907679]), array([0.71823018]), array([0.83108181]), array([0.90473054])]\n",
            "0\n",
            "1\n",
            "2\n",
            "3\n",
            "4\n",
            "5\n",
            "6\n",
            "7\n",
            "8\n",
            "9\n",
            "W:[[0.02428167 0.         0.         0.         0.         0.\n",
            "  0.         0.         0.         0.        ]\n",
            " [0.         0.04476999 0.         0.         0.         0.\n",
            "  0.         0.         0.         0.        ]\n",
            " [0.         0.         0.0793298  0.         0.         0.\n",
            "  0.         0.         0.         0.        ]\n",
            " [0.         0.         0.         0.13107937 0.         0.\n",
            "  0.         0.         0.         0.        ]\n",
            " [0.         0.         0.         0.         0.19321391 0.\n",
            "  0.         0.         0.         0.        ]\n",
            " [0.         0.         0.         0.         0.         0.24120917\n",
            "  0.         0.         0.         0.        ]\n",
            " [0.         0.         0.         0.         0.         0.\n",
            "  0.2452284  0.         0.         0.        ]\n",
            " [0.         0.         0.         0.         0.         0.\n",
            "  0.         0.20237559 0.         0.        ]\n",
            " [0.         0.         0.         0.         0.         0.\n",
            "  0.         0.         0.14038483 0.        ]\n",
            " [0.         0.         0.         0.         0.         0.\n",
            "  0.         0.         0.         0.08619319]]\n",
            "beta: [[ 0.66217766]\n",
            " [-3.6953843 ]]\n",
            "iter_i: 0.0007928351246008561, limit: 1e-05\n",
            "pi: [array([0.02423594]), array([0.04594805]), array([0.08540873]), array([0.15331276]), array([0.25986436]), array([0.40504298]), array([0.56897776]), array([0.71907124]), array([0.83230289]), array([0.90586963])]\n",
            "0\n",
            "1\n",
            "2\n",
            "3\n",
            "4\n",
            "5\n",
            "6\n",
            "7\n",
            "8\n",
            "9\n",
            "W:[[0.02364856 0.         0.         0.         0.         0.\n",
            "  0.         0.         0.         0.        ]\n",
            " [0.         0.04383683 0.         0.         0.         0.\n",
            "  0.         0.         0.         0.        ]\n",
            " [0.         0.         0.07811408 0.         0.         0.\n",
            "  0.         0.         0.         0.        ]\n",
            " [0.         0.         0.         0.12980796 0.         0.\n",
            "  0.         0.         0.         0.        ]\n",
            " [0.         0.         0.         0.         0.19233487 0.\n",
            "  0.         0.         0.         0.        ]\n",
            " [0.         0.         0.         0.         0.         0.24098316\n",
            "  0.         0.         0.         0.        ]\n",
            " [0.         0.         0.         0.         0.         0.\n",
            "  0.24524207 0.         0.         0.        ]\n",
            " [0.         0.         0.         0.         0.         0.\n",
            "  0.         0.20200779 0.         0.        ]\n",
            " [0.         0.         0.         0.         0.         0.\n",
            "  0.         0.         0.13957479 0.        ]\n",
            " [0.         0.         0.         0.         0.         0.\n",
            "  0.         0.         0.         0.08526985]]\n",
            "beta: [[ 0.66220827]\n",
            " [-3.69557172]]\n"
          ],
          "name": "stdout"
        },
        {
          "output_type": "execute_result",
          "data": {
            "text/plain": [
              "array([[ 0.66220827],\n",
              "       [-3.69557172]])"
            ]
          },
          "metadata": {
            "tags": []
          },
          "execution_count": 70
        }
      ]
    },
    {
      "cell_type": "markdown",
      "metadata": {
        "id": "0pChSMTOLfKq",
        "colab_type": "text"
      },
      "source": [
        "Hay que tener en cuenta que, como se ha añadido al final de la matriz X_new el array de unos, en los resultados de las betas será el último de los valores el término independiente(alpha). Así, el resultado de nuestro modelo es el siguiente:\n",
        "\n",
        "$Y(x) = \\frac{1}{1+e^{3.69557172 - 0.66220827 \\cdot x}}$"
      ]
    },
    {
      "cell_type": "code",
      "metadata": {
        "id": "arEfgjfSLEJT",
        "colab_type": "code",
        "colab": {
          "base_uri": "https://localhost:8080/",
          "height": 34
        },
        "outputId": "aba68252-23c0-429b-8a84-d1709a5231b7"
      },
      "source": [
        "ll = likelihold(Y,logitprobs(X,a))\n",
        "ll"
      ],
      "execution_count": 71,
      "outputs": [
        {
          "output_type": "execute_result",
          "data": {
            "text/plain": [
              "array([1.32622426e-06])"
            ]
          },
          "metadata": {
            "tags": []
          },
          "execution_count": 71
        }
      ]
    },
    {
      "cell_type": "markdown",
      "metadata": {
        "id": "DI_TOw56MRKc",
        "colab_type": "text"
      },
      "source": [
        "###Con el paquete stats de python"
      ]
    },
    {
      "cell_type": "code",
      "metadata": {
        "id": "-Kcs_gNKMVTq",
        "colab_type": "code",
        "colab": {}
      },
      "source": [
        "import statsmodels.api as sm"
      ],
      "execution_count": 74,
      "outputs": []
    },
    {
      "cell_type": "code",
      "metadata": {
        "id": "zJKEPmNfMd-5",
        "colab_type": "code",
        "colab": {
          "base_uri": "https://localhost:8080/",
          "height": 84
        },
        "outputId": "6ea38b99-b2c0-46de-e780-165573624b6e"
      },
      "source": [
        "logitmodel = sm.Logit(Y,X_new)\n",
        "result = logitmodel.fit()\n",
        "result"
      ],
      "execution_count": 75,
      "outputs": [
        {
          "output_type": "stream",
          "text": [
            "Optimization terminated successfully.\n",
            "         Current function value: 0.431012\n",
            "         Iterations 6\n"
          ],
          "name": "stdout"
        },
        {
          "output_type": "execute_result",
          "data": {
            "text/plain": [
              "<statsmodels.discrete.discrete_model.BinaryResultsWrapper at 0x7f81d9cb7160>"
            ]
          },
          "metadata": {
            "tags": []
          },
          "execution_count": 75
        }
      ]
    },
    {
      "cell_type": "code",
      "metadata": {
        "id": "VA30VAjuMxwb",
        "colab_type": "code",
        "colab": {
          "base_uri": "https://localhost:8080/",
          "height": 269
        },
        "outputId": "92636e76-eb20-40fa-aceb-aa3338b768e9"
      },
      "source": [
        "print(result.summary())"
      ],
      "execution_count": 76,
      "outputs": [
        {
          "output_type": "stream",
          "text": [
            "                           Logit Regression Results                           \n",
            "==============================================================================\n",
            "Dep. Variable:                      y   No. Observations:                   10\n",
            "Model:                          Logit   Df Residuals:                        8\n",
            "Method:                           MLE   Df Model:                            1\n",
            "Date:                Sat, 29 Aug 2020   Pseudo R-squ.:                  0.3596\n",
            "Time:                        07:51:34   Log-Likelihood:                -4.3101\n",
            "converged:                       True   LL-Null:                       -6.7301\n",
            "Covariance Type:            nonrobust   LLR p-value:                   0.02781\n",
            "==============================================================================\n",
            "                 coef    std err          z      P>|z|      [0.025      0.975]\n",
            "------------------------------------------------------------------------------\n",
            "x1             0.6622      0.400      1.655      0.098      -0.122       1.446\n",
            "const         -3.6956      2.289     -1.615      0.106      -8.182       0.791\n",
            "==============================================================================\n"
          ],
          "name": "stdout"
        }
      ]
    }
  ]
}
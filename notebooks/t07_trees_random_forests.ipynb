{
  "nbformat": 4,
  "nbformat_minor": 0,
  "metadata": {
    "colab": {
      "name": "t07-trees-random-forests.ipynb",
      "provenance": [],
      "collapsed_sections": [],
      "authorship_tag": "ABX9TyMssmOH/WasDHtj5fHfG+Qg",
      "include_colab_link": true
    },
    "kernelspec": {
      "name": "python3",
      "display_name": "Python 3"
    }
  },
  "cells": [
    {
      "cell_type": "markdown",
      "metadata": {
        "id": "view-in-github",
        "colab_type": "text"
      },
      "source": [
        "<a href=\"https://colab.research.google.com/github/javilledo/machine-learning/blob/master/notebooks/t07_trees_random_forests.ipynb\" target=\"_parent\"><img src=\"https://colab.research.google.com/assets/colab-badge.svg\" alt=\"Open In Colab\"/></a>"
      ]
    },
    {
      "cell_type": "markdown",
      "metadata": {
        "id": "DzO1G-pN4cEB"
      },
      "source": [
        "#Random Forests"
      ]
    },
    {
      "cell_type": "markdown",
      "metadata": {
        "id": "OIdbaYdw7XZo"
      },
      "source": [
        "## Regresión (variable objetivo continua)"
      ]
    },
    {
      "cell_type": "code",
      "metadata": {
        "id": "adV2GnuX4VBY"
      },
      "source": [
        "import pandas as pd"
      ],
      "execution_count": 86,
      "outputs": []
    },
    {
      "cell_type": "code",
      "metadata": {
        "id": "pcoNo3Hy4gYy",
        "outputId": "ecb07383-6a6f-4ab5-fe62-68b6d954ad93",
        "colab": {
          "base_uri": "https://localhost:8080/",
          "height": 204
        }
      },
      "source": [
        "url = 'https://raw.githubusercontent.com/javilledo/python-ml-course/master/datasets/boston/Boston.csv'\n",
        "data = pd.read_csv(url)\n",
        "data.head()"
      ],
      "execution_count": 87,
      "outputs": [
        {
          "output_type": "execute_result",
          "data": {
            "text/html": [
              "<div>\n",
              "<style scoped>\n",
              "    .dataframe tbody tr th:only-of-type {\n",
              "        vertical-align: middle;\n",
              "    }\n",
              "\n",
              "    .dataframe tbody tr th {\n",
              "        vertical-align: top;\n",
              "    }\n",
              "\n",
              "    .dataframe thead th {\n",
              "        text-align: right;\n",
              "    }\n",
              "</style>\n",
              "<table border=\"1\" class=\"dataframe\">\n",
              "  <thead>\n",
              "    <tr style=\"text-align: right;\">\n",
              "      <th></th>\n",
              "      <th>crim</th>\n",
              "      <th>zn</th>\n",
              "      <th>indus</th>\n",
              "      <th>chas</th>\n",
              "      <th>nox</th>\n",
              "      <th>rm</th>\n",
              "      <th>age</th>\n",
              "      <th>dis</th>\n",
              "      <th>rad</th>\n",
              "      <th>tax</th>\n",
              "      <th>ptratio</th>\n",
              "      <th>black</th>\n",
              "      <th>lstat</th>\n",
              "      <th>medv</th>\n",
              "    </tr>\n",
              "  </thead>\n",
              "  <tbody>\n",
              "    <tr>\n",
              "      <th>0</th>\n",
              "      <td>0.00632</td>\n",
              "      <td>18.0</td>\n",
              "      <td>2.31</td>\n",
              "      <td>0</td>\n",
              "      <td>0.538</td>\n",
              "      <td>6.575</td>\n",
              "      <td>65.2</td>\n",
              "      <td>4.0900</td>\n",
              "      <td>1</td>\n",
              "      <td>296</td>\n",
              "      <td>15.3</td>\n",
              "      <td>396.90</td>\n",
              "      <td>4.98</td>\n",
              "      <td>24.0</td>\n",
              "    </tr>\n",
              "    <tr>\n",
              "      <th>1</th>\n",
              "      <td>0.02731</td>\n",
              "      <td>0.0</td>\n",
              "      <td>7.07</td>\n",
              "      <td>0</td>\n",
              "      <td>0.469</td>\n",
              "      <td>6.421</td>\n",
              "      <td>78.9</td>\n",
              "      <td>4.9671</td>\n",
              "      <td>2</td>\n",
              "      <td>242</td>\n",
              "      <td>17.8</td>\n",
              "      <td>396.90</td>\n",
              "      <td>9.14</td>\n",
              "      <td>21.6</td>\n",
              "    </tr>\n",
              "    <tr>\n",
              "      <th>2</th>\n",
              "      <td>0.02729</td>\n",
              "      <td>0.0</td>\n",
              "      <td>7.07</td>\n",
              "      <td>0</td>\n",
              "      <td>0.469</td>\n",
              "      <td>7.185</td>\n",
              "      <td>61.1</td>\n",
              "      <td>4.9671</td>\n",
              "      <td>2</td>\n",
              "      <td>242</td>\n",
              "      <td>17.8</td>\n",
              "      <td>392.83</td>\n",
              "      <td>4.03</td>\n",
              "      <td>34.7</td>\n",
              "    </tr>\n",
              "    <tr>\n",
              "      <th>3</th>\n",
              "      <td>0.03237</td>\n",
              "      <td>0.0</td>\n",
              "      <td>2.18</td>\n",
              "      <td>0</td>\n",
              "      <td>0.458</td>\n",
              "      <td>6.998</td>\n",
              "      <td>45.8</td>\n",
              "      <td>6.0622</td>\n",
              "      <td>3</td>\n",
              "      <td>222</td>\n",
              "      <td>18.7</td>\n",
              "      <td>394.63</td>\n",
              "      <td>2.94</td>\n",
              "      <td>33.4</td>\n",
              "    </tr>\n",
              "    <tr>\n",
              "      <th>4</th>\n",
              "      <td>0.06905</td>\n",
              "      <td>0.0</td>\n",
              "      <td>2.18</td>\n",
              "      <td>0</td>\n",
              "      <td>0.458</td>\n",
              "      <td>7.147</td>\n",
              "      <td>54.2</td>\n",
              "      <td>6.0622</td>\n",
              "      <td>3</td>\n",
              "      <td>222</td>\n",
              "      <td>18.7</td>\n",
              "      <td>396.90</td>\n",
              "      <td>5.33</td>\n",
              "      <td>36.2</td>\n",
              "    </tr>\n",
              "  </tbody>\n",
              "</table>\n",
              "</div>"
            ],
            "text/plain": [
              "      crim    zn  indus  chas    nox  ...  tax  ptratio   black  lstat  medv\n",
              "0  0.00632  18.0   2.31     0  0.538  ...  296     15.3  396.90   4.98  24.0\n",
              "1  0.02731   0.0   7.07     0  0.469  ...  242     17.8  396.90   9.14  21.6\n",
              "2  0.02729   0.0   7.07     0  0.469  ...  242     17.8  392.83   4.03  34.7\n",
              "3  0.03237   0.0   2.18     0  0.458  ...  222     18.7  394.63   2.94  33.4\n",
              "4  0.06905   0.0   2.18     0  0.458  ...  222     18.7  396.90   5.33  36.2\n",
              "\n",
              "[5 rows x 14 columns]"
            ]
          },
          "metadata": {
            "tags": []
          },
          "execution_count": 87
        }
      ]
    },
    {
      "cell_type": "code",
      "metadata": {
        "id": "Y62mkk5m42KD"
      },
      "source": [
        "colnames = data.columns.values.tolist()\n",
        "predictors = colnames[:13]\n",
        "target = colnames[13]\n",
        "X = data[predictors]\n",
        "Y = data[target]"
      ],
      "execution_count": 88,
      "outputs": []
    },
    {
      "cell_type": "code",
      "metadata": {
        "id": "vw1N7Mgn4jra"
      },
      "source": [
        "from sklearn.ensemble import RandomForestRegressor"
      ],
      "execution_count": 89,
      "outputs": []
    },
    {
      "cell_type": "code",
      "metadata": {
        "id": "QzEA36Cr4oNa",
        "outputId": "c61ca8ff-a691-4f64-ae15-e4844a888703",
        "colab": {
          "base_uri": "https://localhost:8080/",
          "height": 136
        }
      },
      "source": [
        "forest = RandomForestRegressor(n_jobs = 2, oob_score = True, n_estimators = 10000)\n",
        "forest.fit(X,Y)"
      ],
      "execution_count": 90,
      "outputs": [
        {
          "output_type": "execute_result",
          "data": {
            "text/plain": [
              "RandomForestRegressor(bootstrap=True, ccp_alpha=0.0, criterion='mse',\n",
              "                      max_depth=None, max_features='auto', max_leaf_nodes=None,\n",
              "                      max_samples=None, min_impurity_decrease=0.0,\n",
              "                      min_impurity_split=None, min_samples_leaf=1,\n",
              "                      min_samples_split=2, min_weight_fraction_leaf=0.0,\n",
              "                      n_estimators=10000, n_jobs=2, oob_score=True,\n",
              "                      random_state=None, verbose=0, warm_start=False)"
            ]
          },
          "metadata": {
            "tags": []
          },
          "execution_count": 90
        }
      ]
    },
    {
      "cell_type": "code",
      "metadata": {
        "id": "tWgP67Y-5O5A",
        "outputId": "f635a189-355b-4613-87a3-5b2ecbeb4dd3",
        "colab": {
          "base_uri": "https://localhost:8080/",
          "height": 419
        }
      },
      "source": [
        "data['rforest_pred'] = forest.oob_prediction_\n",
        "data[['rforest_pred', 'medv']]"
      ],
      "execution_count": 91,
      "outputs": [
        {
          "output_type": "execute_result",
          "data": {
            "text/html": [
              "<div>\n",
              "<style scoped>\n",
              "    .dataframe tbody tr th:only-of-type {\n",
              "        vertical-align: middle;\n",
              "    }\n",
              "\n",
              "    .dataframe tbody tr th {\n",
              "        vertical-align: top;\n",
              "    }\n",
              "\n",
              "    .dataframe thead th {\n",
              "        text-align: right;\n",
              "    }\n",
              "</style>\n",
              "<table border=\"1\" class=\"dataframe\">\n",
              "  <thead>\n",
              "    <tr style=\"text-align: right;\">\n",
              "      <th></th>\n",
              "      <th>rforest_pred</th>\n",
              "      <th>medv</th>\n",
              "    </tr>\n",
              "  </thead>\n",
              "  <tbody>\n",
              "    <tr>\n",
              "      <th>0</th>\n",
              "      <td>28.359145</td>\n",
              "      <td>24.0</td>\n",
              "    </tr>\n",
              "    <tr>\n",
              "      <th>1</th>\n",
              "      <td>22.652361</td>\n",
              "      <td>21.6</td>\n",
              "    </tr>\n",
              "    <tr>\n",
              "      <th>2</th>\n",
              "      <td>34.504909</td>\n",
              "      <td>34.7</td>\n",
              "    </tr>\n",
              "    <tr>\n",
              "      <th>3</th>\n",
              "      <td>34.835982</td>\n",
              "      <td>33.4</td>\n",
              "    </tr>\n",
              "    <tr>\n",
              "      <th>4</th>\n",
              "      <td>34.280816</td>\n",
              "      <td>36.2</td>\n",
              "    </tr>\n",
              "    <tr>\n",
              "      <th>...</th>\n",
              "      <td>...</td>\n",
              "      <td>...</td>\n",
              "    </tr>\n",
              "    <tr>\n",
              "      <th>501</th>\n",
              "      <td>24.251650</td>\n",
              "      <td>22.4</td>\n",
              "    </tr>\n",
              "    <tr>\n",
              "      <th>502</th>\n",
              "      <td>18.907515</td>\n",
              "      <td>20.6</td>\n",
              "    </tr>\n",
              "    <tr>\n",
              "      <th>503</th>\n",
              "      <td>27.560708</td>\n",
              "      <td>23.9</td>\n",
              "    </tr>\n",
              "    <tr>\n",
              "      <th>504</th>\n",
              "      <td>26.206861</td>\n",
              "      <td>22.0</td>\n",
              "    </tr>\n",
              "    <tr>\n",
              "      <th>505</th>\n",
              "      <td>20.884421</td>\n",
              "      <td>11.9</td>\n",
              "    </tr>\n",
              "  </tbody>\n",
              "</table>\n",
              "<p>506 rows × 2 columns</p>\n",
              "</div>"
            ],
            "text/plain": [
              "     rforest_pred  medv\n",
              "0       28.359145  24.0\n",
              "1       22.652361  21.6\n",
              "2       34.504909  34.7\n",
              "3       34.835982  33.4\n",
              "4       34.280816  36.2\n",
              "..            ...   ...\n",
              "501     24.251650  22.4\n",
              "502     18.907515  20.6\n",
              "503     27.560708  23.9\n",
              "504     26.206861  22.0\n",
              "505     20.884421  11.9\n",
              "\n",
              "[506 rows x 2 columns]"
            ]
          },
          "metadata": {
            "tags": []
          },
          "execution_count": 91
        }
      ]
    },
    {
      "cell_type": "code",
      "metadata": {
        "id": "a0jpFvbI5iUA",
        "outputId": "b92a3a87-1952-48d4-ce70-9174c7755f9f",
        "colab": {
          "base_uri": "https://localhost:8080/",
          "height": 34
        }
      },
      "source": [
        "forest.oob_score, forest.oob_score_"
      ],
      "execution_count": 92,
      "outputs": [
        {
          "output_type": "execute_result",
          "data": {
            "text/plain": [
              "(True, 0.8793130054407391)"
            ]
          },
          "metadata": {
            "tags": []
          },
          "execution_count": 92
        }
      ]
    },
    {
      "cell_type": "code",
      "metadata": {
        "id": "--WHPun05xWx",
        "outputId": "461a8e18-d297-459c-f77e-d2d381b962bf",
        "colab": {
          "base_uri": "https://localhost:8080/",
          "height": 34
        }
      },
      "source": [
        "data['rforest_error2'] = (data['rforest_pred'] - data['medv'])**2\n",
        "sum(data['rforest_error2'])/len(data)"
      ],
      "execution_count": 93,
      "outputs": [
        {
          "output_type": "execute_result",
          "data": {
            "text/plain": [
              "10.188342514514371"
            ]
          },
          "metadata": {
            "tags": []
          },
          "execution_count": 93
        }
      ]
    },
    {
      "cell_type": "markdown",
      "metadata": {
        "id": "TsEYObOU7d35"
      },
      "source": [
        "## Clasificación (variable objetivo categórica)"
      ]
    },
    {
      "cell_type": "code",
      "metadata": {
        "id": "zoiHbJFJ7klB",
        "outputId": "d60ec2b7-79c6-4248-bdaa-3b480f7a74ba",
        "colab": {
          "base_uri": "https://localhost:8080/",
          "height": 204
        }
      },
      "source": [
        "url = 'https://raw.githubusercontent.com/javilledo/python-ml-course/master/datasets/iris/iris.csv'\n",
        "data = pd.read_csv(url)\n",
        "data.head()"
      ],
      "execution_count": 94,
      "outputs": [
        {
          "output_type": "execute_result",
          "data": {
            "text/html": [
              "<div>\n",
              "<style scoped>\n",
              "    .dataframe tbody tr th:only-of-type {\n",
              "        vertical-align: middle;\n",
              "    }\n",
              "\n",
              "    .dataframe tbody tr th {\n",
              "        vertical-align: top;\n",
              "    }\n",
              "\n",
              "    .dataframe thead th {\n",
              "        text-align: right;\n",
              "    }\n",
              "</style>\n",
              "<table border=\"1\" class=\"dataframe\">\n",
              "  <thead>\n",
              "    <tr style=\"text-align: right;\">\n",
              "      <th></th>\n",
              "      <th>Sepal.Length</th>\n",
              "      <th>Sepal.Width</th>\n",
              "      <th>Petal.Length</th>\n",
              "      <th>Petal.Width</th>\n",
              "      <th>Species</th>\n",
              "    </tr>\n",
              "  </thead>\n",
              "  <tbody>\n",
              "    <tr>\n",
              "      <th>0</th>\n",
              "      <td>5.1</td>\n",
              "      <td>3.5</td>\n",
              "      <td>1.4</td>\n",
              "      <td>0.2</td>\n",
              "      <td>setosa</td>\n",
              "    </tr>\n",
              "    <tr>\n",
              "      <th>1</th>\n",
              "      <td>4.9</td>\n",
              "      <td>3.0</td>\n",
              "      <td>1.4</td>\n",
              "      <td>0.2</td>\n",
              "      <td>setosa</td>\n",
              "    </tr>\n",
              "    <tr>\n",
              "      <th>2</th>\n",
              "      <td>4.7</td>\n",
              "      <td>3.2</td>\n",
              "      <td>1.3</td>\n",
              "      <td>0.2</td>\n",
              "      <td>setosa</td>\n",
              "    </tr>\n",
              "    <tr>\n",
              "      <th>3</th>\n",
              "      <td>4.6</td>\n",
              "      <td>3.1</td>\n",
              "      <td>1.5</td>\n",
              "      <td>0.2</td>\n",
              "      <td>setosa</td>\n",
              "    </tr>\n",
              "    <tr>\n",
              "      <th>4</th>\n",
              "      <td>5.0</td>\n",
              "      <td>3.6</td>\n",
              "      <td>1.4</td>\n",
              "      <td>0.2</td>\n",
              "      <td>setosa</td>\n",
              "    </tr>\n",
              "  </tbody>\n",
              "</table>\n",
              "</div>"
            ],
            "text/plain": [
              "   Sepal.Length  Sepal.Width  Petal.Length  Petal.Width Species\n",
              "0           5.1          3.5           1.4          0.2  setosa\n",
              "1           4.9          3.0           1.4          0.2  setosa\n",
              "2           4.7          3.2           1.3          0.2  setosa\n",
              "3           4.6          3.1           1.5          0.2  setosa\n",
              "4           5.0          3.6           1.4          0.2  setosa"
            ]
          },
          "metadata": {
            "tags": []
          },
          "execution_count": 94
        }
      ]
    },
    {
      "cell_type": "code",
      "metadata": {
        "id": "rK8EsHQX7o2w"
      },
      "source": [
        "colnames = data.columns.values.tolist()\n",
        "predictors = colnames[:4]\n",
        "target = colnames[4]\n",
        "X = data[predictors]\n",
        "Y = data[target]"
      ],
      "execution_count": 95,
      "outputs": []
    },
    {
      "cell_type": "code",
      "metadata": {
        "id": "NVISlVlD7vjS",
        "outputId": "52a81aae-bc35-4c23-87bc-098665f034f3",
        "colab": {
          "base_uri": "https://localhost:8080/",
          "height": 153
        }
      },
      "source": [
        "from sklearn.ensemble import RandomForestClassifier\n",
        "forest = RandomForestClassifier(n_jobs = 2, oob_score = True, n_estimators = 100)\n",
        "forest.fit(X,Y)"
      ],
      "execution_count": 96,
      "outputs": [
        {
          "output_type": "execute_result",
          "data": {
            "text/plain": [
              "RandomForestClassifier(bootstrap=True, ccp_alpha=0.0, class_weight=None,\n",
              "                       criterion='gini', max_depth=None, max_features='auto',\n",
              "                       max_leaf_nodes=None, max_samples=None,\n",
              "                       min_impurity_decrease=0.0, min_impurity_split=None,\n",
              "                       min_samples_leaf=1, min_samples_split=2,\n",
              "                       min_weight_fraction_leaf=0.0, n_estimators=100, n_jobs=2,\n",
              "                       oob_score=True, random_state=None, verbose=0,\n",
              "                       warm_start=False)"
            ]
          },
          "metadata": {
            "tags": []
          },
          "execution_count": 96
        }
      ]
    },
    {
      "cell_type": "code",
      "metadata": {
        "id": "U3Ktm6SK8FI-",
        "outputId": "3c226dc0-14ad-4010-f916-2196b5240de0",
        "colab": {
          "base_uri": "https://localhost:8080/",
          "height": 1000
        }
      },
      "source": [
        "forest.oob_decision_function_"
      ],
      "execution_count": 97,
      "outputs": [
        {
          "output_type": "execute_result",
          "data": {
            "text/plain": [
              "array([[1.        , 0.        , 0.        ],\n",
              "       [1.        , 0.        , 0.        ],\n",
              "       [1.        , 0.        , 0.        ],\n",
              "       [1.        , 0.        , 0.        ],\n",
              "       [1.        , 0.        , 0.        ],\n",
              "       [1.        , 0.        , 0.        ],\n",
              "       [1.        , 0.        , 0.        ],\n",
              "       [1.        , 0.        , 0.        ],\n",
              "       [1.        , 0.        , 0.        ],\n",
              "       [1.        , 0.        , 0.        ],\n",
              "       [1.        , 0.        , 0.        ],\n",
              "       [1.        , 0.        , 0.        ],\n",
              "       [1.        , 0.        , 0.        ],\n",
              "       [1.        , 0.        , 0.        ],\n",
              "       [0.97777778, 0.02222222, 0.        ],\n",
              "       [1.        , 0.        , 0.        ],\n",
              "       [1.        , 0.        , 0.        ],\n",
              "       [1.        , 0.        , 0.        ],\n",
              "       [1.        , 0.        , 0.        ],\n",
              "       [1.        , 0.        , 0.        ],\n",
              "       [1.        , 0.        , 0.        ],\n",
              "       [1.        , 0.        , 0.        ],\n",
              "       [1.        , 0.        , 0.        ],\n",
              "       [1.        , 0.        , 0.        ],\n",
              "       [1.        , 0.        , 0.        ],\n",
              "       [1.        , 0.        , 0.        ],\n",
              "       [1.        , 0.        , 0.        ],\n",
              "       [1.        , 0.        , 0.        ],\n",
              "       [1.        , 0.        , 0.        ],\n",
              "       [1.        , 0.        , 0.        ],\n",
              "       [1.        , 0.        , 0.        ],\n",
              "       [1.        , 0.        , 0.        ],\n",
              "       [1.        , 0.        , 0.        ],\n",
              "       [1.        , 0.        , 0.        ],\n",
              "       [1.        , 0.        , 0.        ],\n",
              "       [1.        , 0.        , 0.        ],\n",
              "       [1.        , 0.        , 0.        ],\n",
              "       [1.        , 0.        , 0.        ],\n",
              "       [1.        , 0.        , 0.        ],\n",
              "       [1.        , 0.        , 0.        ],\n",
              "       [1.        , 0.        , 0.        ],\n",
              "       [0.96774194, 0.03225806, 0.        ],\n",
              "       [1.        , 0.        , 0.        ],\n",
              "       [1.        , 0.        , 0.        ],\n",
              "       [1.        , 0.        , 0.        ],\n",
              "       [1.        , 0.        , 0.        ],\n",
              "       [1.        , 0.        , 0.        ],\n",
              "       [1.        , 0.        , 0.        ],\n",
              "       [1.        , 0.        , 0.        ],\n",
              "       [1.        , 0.        , 0.        ],\n",
              "       [0.        , 1.        , 0.        ],\n",
              "       [0.        , 0.96969697, 0.03030303],\n",
              "       [0.        , 0.80487805, 0.19512195],\n",
              "       [0.        , 1.        , 0.        ],\n",
              "       [0.        , 0.975     , 0.025     ],\n",
              "       [0.        , 1.        , 0.        ],\n",
              "       [0.        , 0.92682927, 0.07317073],\n",
              "       [0.        , 0.76923077, 0.23076923],\n",
              "       [0.        , 1.        , 0.        ],\n",
              "       [0.        , 0.93023256, 0.06976744],\n",
              "       [0.        , 0.94285714, 0.05714286],\n",
              "       [0.        , 1.        , 0.        ],\n",
              "       [0.        , 0.91666667, 0.08333333],\n",
              "       [0.        , 1.        , 0.        ],\n",
              "       [0.        , 1.        , 0.        ],\n",
              "       [0.        , 1.        , 0.        ],\n",
              "       [0.02631579, 0.97368421, 0.        ],\n",
              "       [0.        , 1.        , 0.        ],\n",
              "       [0.        , 0.91891892, 0.08108108],\n",
              "       [0.        , 1.        , 0.        ],\n",
              "       [0.        , 0.02564103, 0.97435897],\n",
              "       [0.        , 1.        , 0.        ],\n",
              "       [0.        , 0.62962963, 0.37037037],\n",
              "       [0.        , 1.        , 0.        ],\n",
              "       [0.        , 1.        , 0.        ],\n",
              "       [0.        , 1.        , 0.        ],\n",
              "       [0.        , 0.81081081, 0.18918919],\n",
              "       [0.        , 0.        , 1.        ],\n",
              "       [0.        , 1.        , 0.        ],\n",
              "       [0.        , 0.97368421, 0.02631579],\n",
              "       [0.        , 1.        , 0.        ],\n",
              "       [0.        , 1.        , 0.        ],\n",
              "       [0.        , 1.        , 0.        ],\n",
              "       [0.        , 0.2       , 0.8       ],\n",
              "       [0.02439024, 0.95121951, 0.02439024],\n",
              "       [0.        , 0.92      , 0.08      ],\n",
              "       [0.        , 1.        , 0.        ],\n",
              "       [0.        , 1.        , 0.        ],\n",
              "       [0.02857143, 0.97142857, 0.        ],\n",
              "       [0.        , 1.        , 0.        ],\n",
              "       [0.        , 0.97297297, 0.02702703],\n",
              "       [0.        , 1.        , 0.        ],\n",
              "       [0.        , 0.95555556, 0.04444444],\n",
              "       [0.        , 1.        , 0.        ],\n",
              "       [0.        , 1.        , 0.        ],\n",
              "       [0.        , 1.        , 0.        ],\n",
              "       [0.        , 1.        , 0.        ],\n",
              "       [0.        , 1.        , 0.        ],\n",
              "       [0.        , 0.96551724, 0.03448276],\n",
              "       [0.        , 1.        , 0.        ],\n",
              "       [0.        , 0.        , 1.        ],\n",
              "       [0.        , 0.025     , 0.975     ],\n",
              "       [0.        , 0.        , 1.        ],\n",
              "       [0.        , 0.        , 1.        ],\n",
              "       [0.        , 0.        , 1.        ],\n",
              "       [0.        , 0.        , 1.        ],\n",
              "       [0.        , 0.87096774, 0.12903226],\n",
              "       [0.        , 0.        , 1.        ],\n",
              "       [0.        , 0.02702703, 0.97297297],\n",
              "       [0.        , 0.        , 1.        ],\n",
              "       [0.        , 0.03030303, 0.96969697],\n",
              "       [0.        , 0.        , 1.        ],\n",
              "       [0.        , 0.        , 1.        ],\n",
              "       [0.        , 0.02631579, 0.97368421],\n",
              "       [0.        , 0.        , 1.        ],\n",
              "       [0.        , 0.        , 1.        ],\n",
              "       [0.        , 0.        , 1.        ],\n",
              "       [0.        , 0.        , 1.        ],\n",
              "       [0.        , 0.02702703, 0.97297297],\n",
              "       [0.        , 0.76315789, 0.23684211],\n",
              "       [0.        , 0.        , 1.        ],\n",
              "       [0.        , 0.15384615, 0.84615385],\n",
              "       [0.        , 0.        , 1.        ],\n",
              "       [0.        , 0.075     , 0.925     ],\n",
              "       [0.        , 0.        , 1.        ],\n",
              "       [0.        , 0.02702703, 0.97297297],\n",
              "       [0.        , 0.21052632, 0.78947368],\n",
              "       [0.        , 0.11764706, 0.88235294],\n",
              "       [0.        , 0.        , 1.        ],\n",
              "       [0.        , 0.42857143, 0.57142857],\n",
              "       [0.        , 0.        , 1.        ],\n",
              "       [0.        , 0.        , 1.        ],\n",
              "       [0.        , 0.        , 1.        ],\n",
              "       [0.        , 0.68421053, 0.31578947],\n",
              "       [0.        , 0.61904762, 0.38095238],\n",
              "       [0.        , 0.        , 1.        ],\n",
              "       [0.        , 0.        , 1.        ],\n",
              "       [0.        , 0.        , 1.        ],\n",
              "       [0.        , 0.4375    , 0.5625    ],\n",
              "       [0.        , 0.        , 1.        ],\n",
              "       [0.        , 0.        , 1.        ],\n",
              "       [0.        , 0.03225806, 0.96774194],\n",
              "       [0.        , 0.02439024, 0.97560976],\n",
              "       [0.        , 0.        , 1.        ],\n",
              "       [0.        , 0.        , 1.        ],\n",
              "       [0.        , 0.        , 1.        ],\n",
              "       [0.        , 0.02631579, 0.97368421],\n",
              "       [0.        , 0.        , 1.        ],\n",
              "       [0.        , 0.        , 1.        ],\n",
              "       [0.        , 0.125     , 0.875     ]])"
            ]
          },
          "metadata": {
            "tags": []
          },
          "execution_count": 97
        }
      ]
    },
    {
      "cell_type": "code",
      "metadata": {
        "id": "_kvYplnO8jmq",
        "outputId": "ff1731a4-cf36-4c50-bd64-aa530a57ad77",
        "colab": {
          "base_uri": "https://localhost:8080/",
          "height": 34
        }
      },
      "source": [
        "forest.oob_score_"
      ],
      "execution_count": 98,
      "outputs": [
        {
          "output_type": "execute_result",
          "data": {
            "text/plain": [
              "0.9533333333333334"
            ]
          },
          "metadata": {
            "tags": []
          },
          "execution_count": 98
        }
      ]
    }
  ]
}
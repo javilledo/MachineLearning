{
  "nbformat": 4,
  "nbformat_minor": 0,
  "metadata": {
    "colab": {
      "name": "t06-02-clustering-jerárquico.ipynb",
      "provenance": [],
      "collapsed_sections": [],
      "authorship_tag": "ABX9TyMMC/V6ThRPHEemRFED740p",
      "include_colab_link": true
    },
    "kernelspec": {
      "name": "python3",
      "display_name": "Python 3"
    }
  },
  "cells": [
    {
      "cell_type": "markdown",
      "metadata": {
        "id": "view-in-github",
        "colab_type": "text"
      },
      "source": [
        "<a href=\"https://colab.research.google.com/github/javilledo/machine-learning/blob/master/notebooks/t06_02_clustering_jer%C3%A1rquico.ipynb\" target=\"_parent\"><img src=\"https://colab.research.google.com/assets/colab-badge.svg\" alt=\"Open In Colab\"/></a>"
      ]
    },
    {
      "cell_type": "markdown",
      "metadata": {
        "id": "xmikQG2s4taQ",
        "colab_type": "text"
      },
      "source": [
        "# CLUSTERING JERÁRQUICO Y DENDROGRAMAS\n",
        "Antes de empezar, se explica la notación empleada\n",
        "* X: dataset de n x m\n",
        "* n: número de registros del dataset (filas)\n",
        "* m: número de campos o rasgos (columnas)\n",
        "* Z: array con la información de las uniones\n",
        "* k: número de clusters"
      ]
    },
    {
      "cell_type": "code",
      "metadata": {
        "id": "ldWzd4ow4OFr",
        "colab_type": "code",
        "colab": {}
      },
      "source": [
        "import matplotlib.pyplot as plt\n",
        "from scipy.cluster.hierarchy import dendrogram, linkage\n",
        "import numpy as np"
      ],
      "execution_count": 31,
      "outputs": []
    },
    {
      "cell_type": "code",
      "metadata": {
        "id": "RwWzyvAr5qYi",
        "colab_type": "code",
        "colab": {
          "base_uri": "https://localhost:8080/",
          "height": 34
        },
        "outputId": "e78150dd-c61c-4fbb-c238-6bdabce0fd9a"
      },
      "source": [
        "np.random.seed(4711)\n",
        "a = np.random.multivariate_normal([10,1],[[3,1],[1,4]], size = 100)\n",
        "b = np.random.multivariate_normal([0,20],[[3,1],[1,4]], size = 50)\n",
        "X = np.concatenate((a,b))\n",
        "X.shape"
      ],
      "execution_count": 32,
      "outputs": [
        {
          "output_type": "execute_result",
          "data": {
            "text/plain": [
              "(150, 2)"
            ]
          },
          "metadata": {
            "tags": []
          },
          "execution_count": 32
        }
      ]
    },
    {
      "cell_type": "code",
      "metadata": {
        "id": "G-gLBlIP5tSR",
        "colab_type": "code",
        "colab": {
          "base_uri": "https://localhost:8080/",
          "height": 283
        },
        "outputId": "562d9f1e-f457-4612-a10a-ea8494ce32f7"
      },
      "source": [
        "# sería equivalente usar plt.scatter(X.transpose()[0],X.transpose()[1])\n",
        "plt.scatter(X[:,0],X[:,1])"
      ],
      "execution_count": 33,
      "outputs": [
        {
          "output_type": "execute_result",
          "data": {
            "text/plain": [
              "<matplotlib.collections.PathCollection at 0x7f613cc2c358>"
            ]
          },
          "metadata": {
            "tags": []
          },
          "execution_count": 33
        },
        {
          "output_type": "display_data",
          "data": {
            "image/png": "[encoded data removed]",
            "text/plain": [
              "<Figure size 432x288 with 1 Axes>"
            ]
          },
          "metadata": {
            "tags": [],
            "needs_background": "light"
          }
        }
      ]
    },
    {
      "cell_type": "code",
      "metadata": {
        "id": "F1OPwyrY9HJd",
        "colab_type": "code",
        "colab": {}
      },
      "source": [
        "Z = linkage(X, method = 'ward')"
      ],
      "execution_count": 34,
      "outputs": []
    },
    {
      "cell_type": "code",
      "metadata": {
        "id": "gB5w8zvo9lal",
        "colab_type": "code",
        "colab": {}
      },
      "source": [
        "from scipy.cluster.hierarchy import cophenet\n",
        "from scipy.spatial.distance import pdist"
      ],
      "execution_count": 35,
      "outputs": []
    },
    {
      "cell_type": "code",
      "metadata": {
        "id": "biJmyEs_9ujp",
        "colab_type": "code",
        "colab": {
          "base_uri": "https://localhost:8080/",
          "height": 34
        },
        "outputId": "f6be0672-5422-46af-9b5e-4f715ec90d34"
      },
      "source": [
        "c, coph_dist = cophenet(Z, pdist(X))\n",
        "c # varía entre 0 y 1, y cuanto más se acerque a 1 mejor será la clusterización"
      ],
      "execution_count": 36,
      "outputs": [
        {
          "output_type": "execute_result",
          "data": {
            "text/plain": [
              "0.9783020750466113"
            ]
          },
          "metadata": {
            "tags": []
          },
          "execution_count": 36
        }
      ]
    },
    {
      "cell_type": "code",
      "metadata": {
        "id": "A_FEaQqE_3Va",
        "colab_type": "code",
        "colab": {
          "base_uri": "https://localhost:8080/",
          "height": 353
        },
        "outputId": "d6657a4a-73c1-465f-bf44-1591a87f83f5"
      },
      "source": [
        "Z[:20]"
      ],
      "execution_count": 43,
      "outputs": [
        {
          "output_type": "execute_result",
          "data": {
            "text/plain": [
              "array([[5.20000000e+01, 5.30000000e+01, 4.15105485e-02, 2.00000000e+00],\n",
              "       [1.40000000e+01, 7.90000000e+01, 5.91375926e-02, 2.00000000e+00],\n",
              "       [3.30000000e+01, 6.80000000e+01, 7.10677929e-02, 2.00000000e+00],\n",
              "       [1.70000000e+01, 7.30000000e+01, 7.13712071e-02, 2.00000000e+00],\n",
              "       [1.00000000e+00, 8.00000000e+00, 7.54313099e-02, 2.00000000e+00],\n",
              "       [8.50000000e+01, 9.50000000e+01, 1.09277896e-01, 2.00000000e+00],\n",
              "       [1.08000000e+02, 1.31000000e+02, 1.10071548e-01, 2.00000000e+00],\n",
              "       [9.00000000e+00, 6.60000000e+01, 1.13022407e-01, 2.00000000e+00],\n",
              "       [1.50000000e+01, 6.90000000e+01, 1.14289714e-01, 2.00000000e+00],\n",
              "       [6.30000000e+01, 9.80000000e+01, 1.21200766e-01, 2.00000000e+00],\n",
              "       [1.07000000e+02, 1.15000000e+02, 1.21671017e-01, 2.00000000e+00],\n",
              "       [6.50000000e+01, 7.40000000e+01, 1.24900190e-01, 2.00000000e+00],\n",
              "       [5.80000000e+01, 6.10000000e+01, 1.40277358e-01, 2.00000000e+00],\n",
              "       [6.20000000e+01, 1.52000000e+02, 1.72599535e-01, 3.00000000e+00],\n",
              "       [4.10000000e+01, 1.58000000e+02, 1.77901377e-01, 3.00000000e+00],\n",
              "       [1.00000000e+01, 8.30000000e+01, 1.86354938e-01, 2.00000000e+00],\n",
              "       [1.14000000e+02, 1.39000000e+02, 2.04186147e-01, 2.00000000e+00],\n",
              "       [3.90000000e+01, 8.80000000e+01, 2.06282849e-01, 2.00000000e+00],\n",
              "       [7.00000000e+01, 9.60000000e+01, 2.19312547e-01, 2.00000000e+00],\n",
              "       [4.60000000e+01, 5.00000000e+01, 2.20492804e-01, 2.00000000e+00]])"
            ]
          },
          "metadata": {
            "tags": []
          },
          "execution_count": 43
        }
      ]
    },
    {
      "cell_type": "code",
      "metadata": {
        "id": "8TBG4bSBAHsy",
        "colab_type": "code",
        "colab": {
          "base_uri": "https://localhost:8080/",
          "height": 34
        },
        "outputId": "8518c17b-b866-4420-b7e5-d79158ba2c6e"
      },
      "source": [
        "Z[152-len(X)]"
      ],
      "execution_count": 44,
      "outputs": [
        {
          "output_type": "execute_result",
          "data": {
            "text/plain": [
              "array([33.        , 68.        ,  0.07106779,  2.        ])"
            ]
          },
          "metadata": {
            "tags": []
          },
          "execution_count": 44
        }
      ]
    },
    {
      "cell_type": "code",
      "metadata": {
        "id": "H9P5NfaaAPpx",
        "colab_type": "code",
        "colab": {
          "base_uri": "https://localhost:8080/",
          "height": 67
        },
        "outputId": "1fca7822-f8a9-40a3-f007-4378a43085eb"
      },
      "source": [
        "X[[62,33,68]]"
      ],
      "execution_count": 46,
      "outputs": [
        {
          "output_type": "execute_result",
          "data": {
            "text/plain": [
              "array([[9.97792822, 0.43616798],\n",
              "       [9.83913054, 0.51270203],\n",
              "       [9.8934927 , 0.55847743]])"
            ]
          },
          "metadata": {
            "tags": []
          },
          "execution_count": 46
        }
      ]
    },
    {
      "cell_type": "code",
      "metadata": {
        "id": "hVCf3KxXAYMh",
        "colab_type": "code",
        "colab": {
          "base_uri": "https://localhost:8080/",
          "height": 283
        },
        "outputId": "7e7c5733-f62f-4a68-d149-87d107f94bd1"
      },
      "source": [
        "plt.scatter(X[:,0],X[:,1])\n",
        "plt.scatter(X[[62,33,68],[0]],X[[62,33,68],[1]], c = 'r')"
      ],
      "execution_count": 53,
      "outputs": [
        {
          "output_type": "execute_result",
          "data": {
            "text/plain": [
              "<matplotlib.collections.PathCollection at 0x7f613c950128>"
            ]
          },
          "metadata": {
            "tags": []
          },
          "execution_count": 53
        },
        {
          "output_type": "display_data",
          "data": {
            "image/png": "[encoded data removed]",
            "text/plain": [
              "<Figure size 432x288 with 1 Axes>"
            ]
          },
          "metadata": {
            "tags": [],
            "needs_background": "light"
          }
        }
      ]
    },
    {
      "cell_type": "code",
      "metadata": {
        "id": "-va2k5MbDLOJ",
        "colab_type": "code",
        "colab": {
          "base_uri": "https://localhost:8080/",
          "height": 34
        },
        "outputId": "3b59f56b-615a-45cb-8dfe-0c2ad4e4e78f"
      },
      "source": [
        "Z[158-len(X)]"
      ],
      "execution_count": 54,
      "outputs": [
        {
          "output_type": "execute_result",
          "data": {
            "text/plain": [
              "array([15.        , 69.        ,  0.11428971,  2.        ])"
            ]
          },
          "metadata": {
            "tags": []
          },
          "execution_count": 54
        }
      ]
    },
    {
      "cell_type": "code",
      "metadata": {
        "id": "EAsss9pDDOew",
        "colab_type": "code",
        "colab": {
          "base_uri": "https://localhost:8080/",
          "height": 67
        },
        "outputId": "d3264df1-a960-4066-ab2a-25b309ea3c00"
      },
      "source": [
        "X[[41,15,69]]"
      ],
      "execution_count": 55,
      "outputs": [
        {
          "output_type": "execute_result",
          "data": {
            "text/plain": [
              "array([[8.81582877, 0.43605975],\n",
              "       [8.72437412, 0.26898089],\n",
              "       [8.69529949, 0.37951054]])"
            ]
          },
          "metadata": {
            "tags": []
          },
          "execution_count": 55
        }
      ]
    },
    {
      "cell_type": "code",
      "metadata": {
        "id": "3TNnNF35DU54",
        "colab_type": "code",
        "colab": {
          "base_uri": "https://localhost:8080/",
          "height": 500
        },
        "outputId": "11ef7b70-04aa-4bd3-94c4-155648489e7c"
      },
      "source": [
        "plt.figure(figsize=(10,8))\n",
        "plt.scatter(X[:,0],X[:,1])\n",
        "plt.scatter(X[[62,33,68],[0]],X[[62,33,68],[1]], c = 'r')\n",
        "plt.scatter(X[[41,15,69],[0]],X[[41,15,69],[1]], c = 'y')"
      ],
      "execution_count": 58,
      "outputs": [
        {
          "output_type": "execute_result",
          "data": {
            "text/plain": [
              "<matplotlib.collections.PathCollection at 0x7f613f5c67b8>"
            ]
          },
          "metadata": {
            "tags": []
          },
          "execution_count": 58
        },
        {
          "output_type": "display_data",
          "data": {
            "image/png": "[encoded data removed]",
            "text/plain": [
              "<Figure size 720x576 with 1 Axes>"
            ]
          },
          "metadata": {
            "tags": [],
            "needs_background": "light"
          }
        }
      ]
    },
    {
      "cell_type": "markdown",
      "metadata": {
        "id": "0x0KhJbwEjM2",
        "colab_type": "text"
      },
      "source": [
        "### REPRESENTACIÓN GRÁFICA DE UN DENDROGRAMA"
      ]
    }
  ]
}
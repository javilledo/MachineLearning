{
  "nbformat": 4,
  "nbformat_minor": 0,
  "metadata": {
    "colab": {
      "name": "curso-machine-learning-juan-gabriel-gomila-salas.ipynb",
      "provenance": [],
      "collapsed_sections": [],
      "authorship_tag": "ABX9TyOOD+H5JU/OhBbweHlrGXeU",
      "include_colab_link": true
    },
    "kernelspec": {
      "name": "python3",
      "display_name": "Python 3"
    }
  },
  "cells": [
    {
      "cell_type": "markdown",
      "metadata": {
        "id": "view-in-github",
        "colab_type": "text"
      },
      "source": [
        "<a href=\"https://colab.research.google.com/github/javilledo/machine-learning/blob/master/notebooks/curso_machine_learning_juan_gabriel_gomila_salas.ipynb\" target=\"_parent\"><img src=\"https://colab.research.google.com/assets/colab-badge.svg\" alt=\"Open In Colab\"/></a>"
      ]
    },
    {
      "cell_type": "markdown",
      "metadata": {
        "id": "APi0M20oDgnZ",
        "colab_type": "text"
      },
      "source": [
        "**LIBRERÍAS**\n",
        "* pandas\n",
        "* numpy\n",
        "* matplotlib\n",
        "* ipython\n",
        "* scikit-learn\n",
        "\n",
        "comunidad pydata.org"
      ]
    },
    {
      "cell_type": "code",
      "metadata": {
        "id": "IJZioUweJBzq",
        "colab_type": "code",
        "colab": {}
      },
      "source": [
        "import pandas as pd\n",
        "import numpy as np\n",
        "import matplotlib.pyplot as plt\n",
        "import sklearn as sk"
      ],
      "execution_count": 10,
      "outputs": []
    }
  ]
}